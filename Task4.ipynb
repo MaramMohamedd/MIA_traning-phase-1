{
  "cells": [
    {
      "cell_type": "markdown",
      "metadata": {
        "id": "view-in-github",
        "colab_type": "text"
      },
      "source": [
        "<a href=\"https://colab.research.google.com/github/MaramMohamedd/MIA_traning-phase-1/blob/main/Task4.ipynb\" target=\"_parent\"><img src=\"https://colab.research.google.com/assets/colab-badge.svg\" alt=\"Open In Colab\"/></a>"
      ]
    },
    {
      "cell_type": "markdown",
      "id": "746234d1",
      "metadata": {
        "id": "746234d1"
      },
      "source": [
        "\n",
        "# Task: Build a Neural Network from Scratch\n",
        "\n",
        "### A Note Before You Begin: The Spirit of this Exercise\n",
        "\n",
        "Welcome! This notebook is designed as a **hands-on learning experience**. The primary goal is not just to get the code running, but to help you build a deep, intuitive understanding of how neural networks work from the inside out.\n",
        "\n",
        "To achieve this, please keep the following in mind:\n",
        "\n",
        "*   **Embrace the Simplicity:** You might notice that some of the provided code is intentionally simplified or \"trivial.\" This is done on purpose to isolate and highlight the core concept of each section.\n",
        "\n",
        "*   **The Value is in the Struggle:** The real learning happens when you tackle the `TODO` sections. We strongly encourage you to **try solving them on your own first**. Grappling with the problems, hitting walls, and working through the logic is the most effective way to make these concepts stick.\n",
        "\n",
        "*   **Try Not to Cheat Yourself:** It can be tempting to look ahead or search for a direct solution online. We ask that you treat this as a personal challenge. The journey of figuring it out is far more valuable than the final answer itself.\n",
        "\n",
        "Happy coding, and enjoy the process of building your own neural network!\n",
        "\n",
        "---\n",
        "You will be completing the code in sections marked with `TODO`.\n",
        "\n",
        "## Part 1: Understanding Derivatives\n",
        "\n",
        "Before we build a network, let's refresh our understanding of derivatives. The derivative of a function at a certain point tells us the rate of change or the slope of the function at that point. We can approximate it numerically.\n",
        "\n",
        "### 1.1 Univariate Function\n",
        "\n",
        "Let's start with a simple function `f(x) = 3x^2 - 4x + 5`."
      ]
    },
    {
      "cell_type": "code",
      "execution_count": 1,
      "id": "ab4382f1",
      "metadata": {
        "colab": {
          "base_uri": "https://localhost:8080/",
          "height": 452
        },
        "id": "ab4382f1",
        "outputId": "a9713b9f-35da-4c12-b2ea-1ca74f279eb1"
      },
      "outputs": [
        {
          "output_type": "display_data",
          "data": {
            "text/plain": [
              "<Figure size 640x480 with 1 Axes>"
            ],
            "image/png": "[encoded data removed]"
          },
          "metadata": {}
        }
      ],
      "source": [
        "import math\n",
        "import random\n",
        "import numpy as np\n",
        "import matplotlib.pyplot as plt\n",
        "%matplotlib inline\n",
        "\n",
        "def f(x):\n",
        "  return 3*x**2 - 4*x + 5\n",
        "\n",
        "# Let's see how the function looks\n",
        "xs = np.arange(-5, 5, 0.25)\n",
        "ys = f(xs)\n",
        "plt.plot(xs, ys)\n",
        "plt.title(\"f(x) = 3x^2 - 4x + 5\")\n",
        "plt.show()"
      ]
    },
    {
      "cell_type": "markdown",
      "id": "7c8cdd89",
      "metadata": {
        "id": "7c8cdd89"
      },
      "source": [
        "The derivative of `f(x)` with respect to `x` is `f'(x) = 6x - 4`. At `x = 3.0`, the derivative is `6*3.0 - 4 = 14.0`.\n",
        "\n",
        "We can approximate this by \"nudging\" `x` by a very small amount `h` and observing the change in `f(x)`."
      ]
    },
    {
      "cell_type": "code",
      "execution_count": 2,
      "id": "effd6dc4",
      "metadata": {
        "colab": {
          "base_uri": "https://localhost:8080/"
        },
        "id": "effd6dc4",
        "outputId": "45d0a080-fef5-436c-a523-48ffce877d40"
      },
      "outputs": [
        {
          "output_type": "stream",
          "name": "stdout",
          "text": [
            "The exact derivative at x=3.0 is 14.0\n",
            "The numerical derivative is: 1.00\n"
          ]
        }
      ],
      "source": [
        "# TASK 1.1: Find the derivative of f(x) w.r.t x at x=3.0 numerically.\n",
        "# The formula for the numerical derivative is (f(x+h) - f(x)) / h\n",
        "h = 0.0001\n",
        "x = 3.0\n",
        "\n",
        "# TODO: Calculate the value of the function at x\n",
        "def fun(x): # i guess making a function would make the code more clean\n",
        "  return 6*x - 4\n",
        "\n",
        "f_x =  fun(x)\n",
        "\n",
        "# TODO: Calculate the value of the function at x + h\n",
        "f_x_plus_h = f_x + h\n",
        "\n",
        "# TODO: Calculate the slope (the numerical derivative)\n",
        "slope = ((f_x_plus_h) - (f_x)) / h # i remember that h was like a step size in numerical\n",
        "\n",
        "# print(f\"The exact derivative at x=3.0 is 14.0\")\n",
        "print(f\"The exact derivative at x=3.0 is {f_x}\")\n",
        "print(f\"The numerical derivative is: {slope:.2f}\")"
      ]
    },
    {
      "cell_type": "markdown",
      "id": "4b4483a8",
      "metadata": {
        "id": "4b4483a8"
      },
      "source": [
        "### 1.2 Multivariate Function\n",
        "\n",
        "Now let's consider a function with multiple inputs, `d = a*b + c`. We can find the *partial derivative* with respect to each input. For example, how does `d` change when we nudge `a`?"
      ]
    },
    {
      "cell_type": "code",
      "execution_count": 3,
      "id": "797acc96",
      "metadata": {
        "colab": {
          "base_uri": "https://localhost:8080/"
        },
        "id": "797acc96",
        "outputId": "38fbbb54-44a8-4378-b128-3821581269a9"
      },
      "outputs": [
        {
          "output_type": "stream",
          "name": "stdout",
          "text": [
            "Partial derivative w.r.t 'a': -3.00, Expected: -3.0\n",
            "Partial derivative w.r.t 'b': 2.00, Expected: 2.0\n"
          ]
        }
      ],
      "source": [
        "# TASK 1.2: Find the partial derivative of d with respect to 'a' and 'b'.\n",
        "# The partial derivative of d with respect to 'a' is b.\n",
        "# The partial derivative of d with respect to 'b' is a.\n",
        "\n",
        "h = 0.0001\n",
        "a = 2.0\n",
        "b = -3.0\n",
        "c = 10.0\n",
        "\n",
        "# Initial expression\n",
        "d1 = a*b + c\n",
        "\n",
        "# --- Derivative w.r.t 'a' ---\n",
        "# TODO: Nudge 'a' by h and recalculate the expression for d2\n",
        "a_new = a + h\n",
        "d2_wrt_a = a_new * b + c\n",
        "slope_a = (d2_wrt_a - d1) / h\n",
        "print(f\"Partial derivative w.r.t 'a': {slope_a :.2f}, Expected: {b}\")\n",
        "\n",
        "# --- Derivative w.r.t 'b' ---\n",
        "# TODO: Nudge 'b' by h and recalculate the expression for d2\n",
        "b_new = b + h\n",
        "d2_wrt_b = a*b_new + c\n",
        "slope_b = (d2_wrt_b - d1) / h\n",
        "print(f\"Partial derivative w.r.t 'b': {slope_b:.2f}, Expected: {a}\")"
      ]
    },
    {
      "cell_type": "markdown",
      "id": "830979ed",
      "metadata": {
        "id": "830979ed"
      },
      "source": [
        "## Part 2: Creating an Automatic Differentiation Engine\n",
        "\n",
        "Manually calculating derivatives is tedious. Let's build a `Value` class that keeps track of these operations and can automatically compute gradients for us!\n",
        "\n",
        "### 2.1 The `Value` Object\n",
        "\n",
        "We'll create a `Value` class that holds a single scalar value. We will then overload operators like `+` and `*` to create a computation graph."
      ]
    },
    {
      "cell_type": "code",
      "execution_count": 4,
      "id": "b66c9e0a",
      "metadata": {
        "colab": {
          "base_uri": "https://localhost:8080/"
        },
        "id": "b66c9e0a",
        "outputId": "2f82a301-1c45-43ff-d38f-68139ad20f36"
      },
      "outputs": [
        {
          "output_type": "stream",
          "name": "stdout",
          "text": [
            "Value(data=4.0)\n",
            "{Value(data=-6.0), Value(data=10.0)}\n",
            "+\n"
          ]
        }
      ],
      "source": [
        "class Value:\n",
        "    \"\"\"\n",
        "    A class for a value that can be used in a computational graph.\n",
        "\n",
        "    Attributes:\n",
        "    -----------\n",
        "    data : float\n",
        "        The scalar data held by the Value instance.\n",
        "    _prev : set\n",
        "        A set of previous Value instances that are the parents of this Value.\n",
        "    _op : str\n",
        "        The operation that produced this Value instance (e.g., '+', '*').\n",
        "    label : str\n",
        "        A label for visualization purposes.\n",
        "    grad : float\n",
        "        The gradient of the final output with respect to this value.\n",
        "    \"\"\"\n",
        "\n",
        "    # TASK 2.1: Implement the functions below.\n",
        "    def __init__(self, data, _children=(), _op='', label=''):\n",
        "        # Initialize all the attributes\n",
        "        self.data = data\n",
        "        self.grad = 0.0\n",
        "        self._prev = set(_children)\n",
        "        self._op = _op\n",
        "        self.label = label\n",
        "        pass\n",
        "\n",
        "    def __repr__(self):\n",
        "        return f\"Value(data={self.data})\"\n",
        "\n",
        "    def __add__(self, other):\n",
        "        # TODO: Implement the addition operation.\n",
        "        # i want to return the sum of the two values self and other it reminds me by the copmare function in c++ it takes an obj and other\n",
        "        #but in a diff implementation and usage\n",
        "        out = Value(self.data+ other.data, (self , other), '+') # Replace with correct implementation\n",
        "        return out\n",
        "\n",
        "    def __mul__(self, other):\n",
        "        # TODO: Implement the multiplication operation.\n",
        "        #same as add but instead of the sum -> multiplication\n",
        "        out = Value(self.data * other.data, (self , other), '*') # Replace with correct implementation\n",
        "        return out\n",
        "\n",
        "\n",
        "# --- You can test your implementation here ---\n",
        "a = Value(2.0, label='a')\n",
        "b = Value(-3.0, label='b')\n",
        "c = Value(10.0, label='c')\n",
        "e = a * b; e.label = 'e'\n",
        "d = e + c; d.label = 'd'\n",
        "#actually this was funny but extra complicated i have implemented a neural network from scratch before using the matrix form method and it didn't take all this time\n",
        "\n",
        "\n",
        "print(d)        # Expected: Value(data=4.0)\n",
        "print(d._prev)  # Expected: {Value(data=10.0), Value(data=-6.0)}\n",
        "print(d._op)    # Expected: '+'"
      ]
    },
    {
      "cell_type": "markdown",
      "id": "3c08e44e",
      "metadata": {
        "id": "3c08e44e"
      },
      "source": [
        "### 2.2 Visualizing the Computation Graph\n",
        "\n",
        "If your `Value` class is implemented correctly, the following code will visualize the expression `L = d * f` as a graph.\n",
        "\n",
        "*(The visualization code is provided for you)*\n",
        "\n",
        "First you need to install the `graphviz` package if you haven't already:\n",
        "\n",
        "```bash\n",
        "sudo apt install graphviz\n",
        "pip install graphviz\n",
        "```\n",
        "Or for Windows users, you can install by downloading the installer from the [Graphviz website](https://graphviz.org/download/).\n",
        "\n",
        "then install the Python package:\n",
        "```bash\n",
        "pip install graphviz\n",
        "```\n"
      ]
    },
    {
      "cell_type": "code",
      "execution_count": 5,
      "id": "7b13cf13",
      "metadata": {
        "id": "7b13cf13"
      },
      "outputs": [],
      "source": [
        "from graphviz import Digraph\n",
        "\n",
        "def trace(root):\n",
        "  # builds a set of all nodes and edges in a graph\n",
        "  nodes, edges = set(), set()\n",
        "  def build(v):\n",
        "    if v not in nodes:\n",
        "      nodes.add(v)\n",
        "      for child in v._prev:\n",
        "        edges.add((child, v))\n",
        "        build(child)\n",
        "  build(root)\n",
        "  return nodes, edges\n",
        "\n",
        "def draw_dot(root):\n",
        "  dot = Digraph(format='svg', graph_attr={'rankdir': 'LR'}) # LR = left to right\n",
        "\n",
        "  nodes, edges = trace(root)\n",
        "  for n in nodes:\n",
        "    uid = str(id(n))\n",
        "    # for any value in the graph, create a rectangular ('record') node for it\n",
        "    dot.node(name = uid, label = \"{ %s | data %.4f | grad %.4f }\" % (n.label, n.data, n.grad), shape='record')\n",
        "    if n._op:\n",
        "      # if this value is a result of some operation, create an op node for it\n",
        "      dot.node(name = uid + n._op, label = n._op)\n",
        "      # and connect this node to it\n",
        "      dot.edge(uid + n._op, uid)\n",
        "\n",
        "  for n1, n2 in edges:\n",
        "    # connect n1 to the op node of n2\n",
        "    dot.edge(str(id(n1)), str(id(n2)) + n2._op)\n",
        "\n",
        "  return dot"
      ]
    },
    {
      "cell_type": "code",
      "execution_count": 6,
      "id": "39b4f7d6",
      "metadata": {
        "colab": {
          "base_uri": "https://localhost:8080/",
          "height": 212
        },
        "id": "39b4f7d6",
        "outputId": "e92392a9-ec36-4545-98e2-b3e6d3254388"
      },
      "outputs": [
        {
          "output_type": "execute_result",
          "data": {
            "image/svg+xml": "<?xml version=\"1.0\" encoding=\"UTF-8\" standalone=\"no\"?>\n<!DOCTYPE svg PUBLIC \"-//W3C//DTD SVG 1.1//EN\"\n \"http://www.w3.org/Graphics/SVG/1.1/DTD/svg11.dtd\">\n<!-- Generated by graphviz version 2.43.0 (0)\n -->\n<!-- Title: %3 Pages: 1 -->\n<svg width=\"1148pt\" height=\"128pt\"\n viewBox=\"0.00 0.00 1148.00 128.00\" xmlns=\"http://www.w3.org/2000/svg\" xmlns:xlink=\"http://www.w3.org/1999/xlink\">\n<g id=\"graph0\" class=\"graph\" transform=\"scale(1 1) rotate(0) translate(4 124)\">\n<title>%3</title>\n<polygon fill=\"white\" stroke=\"transparent\" points=\"-4,4 -4,-124 1144,-124 1144,4 -4,4\"/>\n<!-- 140671680208336 -->\n<g id=\"node1\" class=\"node\">\n<title>140671680208336</title>\n<polygon fill=\"none\" stroke=\"black\" points=\"316,-83.5 316,-119.5 508,-119.5 508,-83.5 316,-83.5\"/>\n<text text-anchor=\"middle\" x=\"327.5\" y=\"-97.8\" font-family=\"Times,serif\" font-size=\"14.00\">c</text>\n<polyline fill=\"none\" stroke=\"black\" points=\"339,-83.5 339,-119.5 \"/>\n<text text-anchor=\"middle\" x=\"382.5\" y=\"-97.8\" font-family=\"Times,serif\" font-size=\"14.00\">data 10.0000</text>\n<polyline fill=\"none\" stroke=\"black\" points=\"426,-83.5 426,-119.5 \"/>\n<text text-anchor=\"middle\" x=\"467\" y=\"-97.8\" font-family=\"Times,serif\" font-size=\"14.00\">grad 0.0000</text>\n</g>\n<!-- 140671680210192+ -->\n<g id=\"node8\" class=\"node\">\n<title>140671680210192+</title>\n<ellipse fill=\"none\" stroke=\"black\" cx=\"571\" cy=\"-73.5\" rx=\"27\" ry=\"18\"/>\n<text text-anchor=\"middle\" x=\"571\" y=\"-69.8\" font-family=\"Times,serif\" font-size=\"14.00\">+</text>\n</g>\n<!-- 140671680208336&#45;&gt;140671680210192+ -->\n<g id=\"edge9\" class=\"edge\">\n<title>140671680208336&#45;&gt;140671680210192+</title>\n<path fill=\"none\" stroke=\"black\" d=\"M508.4,-84.49C517.69,-82.83 526.64,-81.23 534.71,-79.79\"/>\n<polygon fill=\"black\" stroke=\"black\" points=\"535.53,-83.2 544.76,-78 534.31,-76.31 535.53,-83.2\"/>\n</g>\n<!-- 140671691412496 -->\n<g id=\"node2\" class=\"node\">\n<title>140671691412496</title>\n<polygon fill=\"none\" stroke=\"black\" points=\"0,-56.5 0,-92.5 190,-92.5 190,-56.5 0,-56.5\"/>\n<text text-anchor=\"middle\" x=\"11.5\" y=\"-70.8\" font-family=\"Times,serif\" font-size=\"14.00\">b</text>\n<polyline fill=\"none\" stroke=\"black\" points=\"23,-56.5 23,-92.5 \"/>\n<text text-anchor=\"middle\" x=\"65.5\" y=\"-70.8\" font-family=\"Times,serif\" font-size=\"14.00\">data &#45;3.0000</text>\n<polyline fill=\"none\" stroke=\"black\" points=\"108,-56.5 108,-92.5 \"/>\n<text text-anchor=\"middle\" x=\"149\" y=\"-70.8\" font-family=\"Times,serif\" font-size=\"14.00\">grad 0.0000</text>\n</g>\n<!-- 140671691844048* -->\n<g id=\"node10\" class=\"node\">\n<title>140671691844048*</title>\n<ellipse fill=\"none\" stroke=\"black\" cx=\"253\" cy=\"-46.5\" rx=\"27\" ry=\"18\"/>\n<text text-anchor=\"middle\" x=\"253\" y=\"-42.8\" font-family=\"Times,serif\" font-size=\"14.00\">*</text>\n</g>\n<!-- 140671691412496&#45;&gt;140671691844048* -->\n<g id=\"edge6\" class=\"edge\">\n<title>140671691412496&#45;&gt;140671691844048*</title>\n<path fill=\"none\" stroke=\"black\" d=\"M190.34,-57.57C199.62,-55.9 208.58,-54.29 216.66,-52.84\"/>\n<polygon fill=\"black\" stroke=\"black\" points=\"217.49,-56.25 226.72,-51.04 216.26,-49.36 217.49,-56.25\"/>\n</g>\n<!-- 140671680205968 -->\n<g id=\"node3\" class=\"node\">\n<title>140671680205968</title>\n<polygon fill=\"none\" stroke=\"black\" points=\"634,-0.5 634,-36.5 822,-36.5 822,-0.5 634,-0.5\"/>\n<text text-anchor=\"middle\" x=\"644.5\" y=\"-14.8\" font-family=\"Times,serif\" font-size=\"14.00\">f</text>\n<polyline fill=\"none\" stroke=\"black\" points=\"655,-0.5 655,-36.5 \"/>\n<text text-anchor=\"middle\" x=\"697.5\" y=\"-14.8\" font-family=\"Times,serif\" font-size=\"14.00\">data &#45;2.0000</text>\n<polyline fill=\"none\" stroke=\"black\" points=\"740,-0.5 740,-36.5 \"/>\n<text text-anchor=\"middle\" x=\"781\" y=\"-14.8\" font-family=\"Times,serif\" font-size=\"14.00\">grad 0.0000</text>\n</g>\n<!-- 140671691355856* -->\n<g id=\"node5\" class=\"node\">\n<title>140671691355856*</title>\n<ellipse fill=\"none\" stroke=\"black\" cx=\"885\" cy=\"-45.5\" rx=\"27\" ry=\"18\"/>\n<text text-anchor=\"middle\" x=\"885\" y=\"-41.8\" font-family=\"Times,serif\" font-size=\"14.00\">*</text>\n</g>\n<!-- 140671680205968&#45;&gt;140671691355856* -->\n<g id=\"edge5\" class=\"edge\">\n<title>140671680205968&#45;&gt;140671691355856*</title>\n<path fill=\"none\" stroke=\"black\" d=\"M822.29,-34.75C831.57,-36.37 840.52,-37.93 848.61,-39.33\"/>\n<polygon fill=\"black\" stroke=\"black\" points=\"848.22,-42.82 858.68,-41.09 849.42,-35.92 848.22,-42.82\"/>\n</g>\n<!-- 140671691355856 -->\n<g id=\"node4\" class=\"node\">\n<title>140671691355856</title>\n<polygon fill=\"none\" stroke=\"black\" points=\"948,-27.5 948,-63.5 1140,-63.5 1140,-27.5 948,-27.5\"/>\n<text text-anchor=\"middle\" x=\"960.5\" y=\"-41.8\" font-family=\"Times,serif\" font-size=\"14.00\">L</text>\n<polyline fill=\"none\" stroke=\"black\" points=\"973,-27.5 973,-63.5 \"/>\n<text text-anchor=\"middle\" x=\"1015.5\" y=\"-41.8\" font-family=\"Times,serif\" font-size=\"14.00\">data &#45;8.0000</text>\n<polyline fill=\"none\" stroke=\"black\" points=\"1058,-27.5 1058,-63.5 \"/>\n<text text-anchor=\"middle\" x=\"1099\" y=\"-41.8\" font-family=\"Times,serif\" font-size=\"14.00\">grad 0.0000</text>\n</g>\n<!-- 140671691355856*&#45;&gt;140671691355856 -->\n<g id=\"edge1\" class=\"edge\">\n<title>140671691355856*&#45;&gt;140671691355856</title>\n<path fill=\"none\" stroke=\"black\" d=\"M912.28,-45.5C919.78,-45.5 928.44,-45.5 937.67,-45.5\"/>\n<polygon fill=\"black\" stroke=\"black\" points=\"937.87,-49 947.87,-45.5 937.87,-42 937.87,-49\"/>\n</g>\n<!-- 140671691412688 -->\n<g id=\"node6\" class=\"node\">\n<title>140671691412688</title>\n<polygon fill=\"none\" stroke=\"black\" points=\"2.5,-1.5 2.5,-37.5 187.5,-37.5 187.5,-1.5 2.5,-1.5\"/>\n<text text-anchor=\"middle\" x=\"14\" y=\"-15.8\" font-family=\"Times,serif\" font-size=\"14.00\">a</text>\n<polyline fill=\"none\" stroke=\"black\" points=\"25.5,-1.5 25.5,-37.5 \"/>\n<text text-anchor=\"middle\" x=\"65.5\" y=\"-15.8\" font-family=\"Times,serif\" font-size=\"14.00\">data 2.0000</text>\n<polyline fill=\"none\" stroke=\"black\" points=\"105.5,-1.5 105.5,-37.5 \"/>\n<text text-anchor=\"middle\" x=\"146.5\" y=\"-15.8\" font-family=\"Times,serif\" font-size=\"14.00\">grad 0.0000</text>\n</g>\n<!-- 140671691412688&#45;&gt;140671691844048* -->\n<g id=\"edge7\" class=\"edge\">\n<title>140671691412688&#45;&gt;140671691844048*</title>\n<path fill=\"none\" stroke=\"black\" d=\"M187.65,-35.36C197.94,-37.14 207.91,-38.87 216.81,-40.41\"/>\n<polygon fill=\"black\" stroke=\"black\" points=\"216.26,-43.87 226.71,-42.12 217.45,-36.97 216.26,-43.87\"/>\n</g>\n<!-- 140671680210192 -->\n<g id=\"node7\" class=\"node\">\n<title>140671680210192</title>\n<polygon fill=\"none\" stroke=\"black\" points=\"635.5,-55.5 635.5,-91.5 820.5,-91.5 820.5,-55.5 635.5,-55.5\"/>\n<text text-anchor=\"middle\" x=\"647\" y=\"-69.8\" font-family=\"Times,serif\" font-size=\"14.00\">d</text>\n<polyline fill=\"none\" stroke=\"black\" points=\"658.5,-55.5 658.5,-91.5 \"/>\n<text text-anchor=\"middle\" x=\"698.5\" y=\"-69.8\" font-family=\"Times,serif\" font-size=\"14.00\">data 4.0000</text>\n<polyline fill=\"none\" stroke=\"black\" points=\"738.5,-55.5 738.5,-91.5 \"/>\n<text text-anchor=\"middle\" x=\"779.5\" y=\"-69.8\" font-family=\"Times,serif\" font-size=\"14.00\">grad 0.0000</text>\n</g>\n<!-- 140671680210192&#45;&gt;140671691355856* -->\n<g id=\"edge4\" class=\"edge\">\n<title>140671680210192&#45;&gt;140671691355856*</title>\n<path fill=\"none\" stroke=\"black\" d=\"M820.51,-56.97C830.48,-55.17 840.13,-53.42 848.77,-51.86\"/>\n<polygon fill=\"black\" stroke=\"black\" points=\"849.55,-55.28 858.77,-50.06 848.3,-48.39 849.55,-55.28\"/>\n</g>\n<!-- 140671680210192+&#45;&gt;140671680210192 -->\n<g id=\"edge2\" class=\"edge\">\n<title>140671680210192+&#45;&gt;140671680210192</title>\n<path fill=\"none\" stroke=\"black\" d=\"M598.29,-73.5C606.26,-73.5 615.54,-73.5 625.39,-73.5\"/>\n<polygon fill=\"black\" stroke=\"black\" points=\"625.41,-77 635.41,-73.5 625.41,-70 625.41,-77\"/>\n</g>\n<!-- 140671691844048 -->\n<g id=\"node9\" class=\"node\">\n<title>140671691844048</title>\n<polygon fill=\"none\" stroke=\"black\" points=\"317,-28.5 317,-64.5 507,-64.5 507,-28.5 317,-28.5\"/>\n<text text-anchor=\"middle\" x=\"328.5\" y=\"-42.8\" font-family=\"Times,serif\" font-size=\"14.00\">e</text>\n<polyline fill=\"none\" stroke=\"black\" points=\"340,-28.5 340,-64.5 \"/>\n<text text-anchor=\"middle\" x=\"382.5\" y=\"-42.8\" font-family=\"Times,serif\" font-size=\"14.00\">data &#45;6.0000</text>\n<polyline fill=\"none\" stroke=\"black\" points=\"425,-28.5 425,-64.5 \"/>\n<text text-anchor=\"middle\" x=\"466\" y=\"-42.8\" font-family=\"Times,serif\" font-size=\"14.00\">grad 0.0000</text>\n</g>\n<!-- 140671691844048&#45;&gt;140671680210192+ -->\n<g id=\"edge8\" class=\"edge\">\n<title>140671691844048&#45;&gt;140671680210192+</title>\n<path fill=\"none\" stroke=\"black\" d=\"M507.05,-62.67C516.78,-64.35 526.18,-65.96 534.62,-67.42\"/>\n<polygon fill=\"black\" stroke=\"black\" points=\"534.3,-70.91 544.75,-69.16 535.49,-64.01 534.3,-70.91\"/>\n</g>\n<!-- 140671691844048*&#45;&gt;140671691844048 -->\n<g id=\"edge3\" class=\"edge\">\n<title>140671691844048*&#45;&gt;140671691844048</title>\n<path fill=\"none\" stroke=\"black\" d=\"M280.28,-46.5C288.05,-46.5 297.08,-46.5 306.68,-46.5\"/>\n<polygon fill=\"black\" stroke=\"black\" points=\"306.88,-50 316.88,-46.5 306.88,-43 306.88,-50\"/>\n</g>\n</g>\n</svg>\n",
            "text/plain": [
              "<graphviz.graphs.Digraph at 0x7ff0ad874dd0>"
            ]
          },
          "metadata": {},
          "execution_count": 6
        }
      ],
      "source": [
        "# --- Create and visualize the graph ---\n",
        "a = Value(2.0, label='a')\n",
        "b = Value(-3.0, label='b')\n",
        "c = Value(10.0, label='c')\n",
        "e = a * b; e.label = 'e'\n",
        "d = e + c; d.label = 'd'\n",
        "f = Value(-2.0, label='f')\n",
        "L = d * f; L.label = 'L'\n",
        "\n",
        "draw_dot(L)"
      ]
    },
    {
      "cell_type": "markdown",
      "id": "24fbdb98",
      "metadata": {
        "id": "24fbdb98"
      },
      "source": [
        "### 2.3 Manual Backpropagation\n",
        "\n",
        "Backpropagation is the process of applying the chain rule to compute the gradient of the final output (e.g., `L`) with respect to every node in the graph. Let's do it manually first.\n",
        "\n",
        "**Expression:** `L = d * f`\n",
        "\n",
        "The derivative of `L` with respect to itself is 1.\n",
        "`L.grad = 1.0`\n",
        "\n",
        "Using the multiplication rule, `dL/dd = f` and `dL/df = d`."
      ]
    },
    {
      "cell_type": "code",
      "execution_count": 7,
      "id": "dffb6893",
      "metadata": {
        "colab": {
          "base_uri": "https://localhost:8080/"
        },
        "id": "dffb6893",
        "outputId": "161774a3-1c70-4491-c374-ed8e8601d3c4"
      },
      "outputs": [
        {
          "output_type": "stream",
          "name": "stdout",
          "text": [
            "here is dl/dd : -2.0\n",
            "here is dl/df : 4.0\n"
          ]
        }
      ],
      "source": [
        "# TASK 2.3: Manually calculate and set the gradients for each node.\n",
        "L.grad = 1.0 # l is the loss\n",
        "\n",
        "# TODO: Calculate the gradient for d and f\n",
        "d.grad = f.data # as f is an obj not a numerical value\n",
        "f.grad = d.data\n",
        "\n",
        "print(f'here is dl/dd : {d.grad}')\n",
        "print(f'here is dl/df : {f.grad}')"
      ]
    },
    {
      "cell_type": "markdown",
      "id": "ecb6f97a",
      "metadata": {
        "id": "ecb6f97a"
      },
      "source": [
        "Now we \"backpropagate\" further.\n",
        "\n",
        "**Expression:** `d = e + c`\n",
        "\n",
        "The gradient \"flows\" through the `+` node. Using the chain rule, `dL/dc = (dL/dd) * (dd/dc)`.\n",
        "Since `dd/dc = 1.0` and `dd/de = 1.0`:\n",
        "`dL/dc = d.grad * 1.0`\n",
        "`dL/de = d.grad * 1.0`"
      ]
    },
    {
      "cell_type": "code",
      "execution_count": 8,
      "id": "5d011428",
      "metadata": {
        "colab": {
          "base_uri": "https://localhost:8080/"
        },
        "id": "5d011428",
        "outputId": "b78a03a9-3969-418a-94a0-20d64db150c8"
      },
      "outputs": [
        {
          "output_type": "stream",
          "name": "stdout",
          "text": [
            "here is dl/dc : -2.0\n",
            "here is dl/de : -2.0\n"
          ]
        }
      ],
      "source": [
        "# TODO: Calculate the gradient for c and e\n",
        "c.grad = d.grad * 1.0\n",
        "e.grad = d.grad * 1.0\n",
        "\n",
        "print(f'here is dl/dc : {c.grad}')\n",
        "print(f'here is dl/de : {e.grad}')"
      ]
    },
    {
      "cell_type": "markdown",
      "id": "6bfda158",
      "metadata": {
        "id": "6bfda158"
      },
      "source": [
        "And one last step.\n",
        "\n",
        "**Expression:** `e = a * b`\n",
        "\n",
        "Using the chain rule again, `dL/da = (dL/de) * (de/da)`.\n",
        "Since `de/da = b` and `de/db = a`:\n",
        "`dL/da = e.grad * b.data`\n",
        "`dL/db = e.grad * a.data`"
      ]
    },
    {
      "cell_type": "code",
      "execution_count": 9,
      "id": "f426e530",
      "metadata": {
        "colab": {
          "base_uri": "https://localhost:8080/",
          "height": 212
        },
        "id": "f426e530",
        "outputId": "e5bbc9e6-c38c-4a74-f223-c31d458d3fa2"
      },
      "outputs": [
        {
          "output_type": "execute_result",
          "data": {
            "image/svg+xml": "<?xml version=\"1.0\" encoding=\"UTF-8\" standalone=\"no\"?>\n<!DOCTYPE svg PUBLIC \"-//W3C//DTD SVG 1.1//EN\"\n \"http://www.w3.org/Graphics/SVG/1.1/DTD/svg11.dtd\">\n<!-- Generated by graphviz version 2.43.0 (0)\n -->\n<!-- Title: %3 Pages: 1 -->\n<svg width=\"1159pt\" height=\"128pt\"\n viewBox=\"0.00 0.00 1159.00 128.00\" xmlns=\"http://www.w3.org/2000/svg\" xmlns:xlink=\"http://www.w3.org/1999/xlink\">\n<g id=\"graph0\" class=\"graph\" transform=\"scale(1 1) rotate(0) translate(4 124)\">\n<title>%3</title>\n<polygon fill=\"white\" stroke=\"transparent\" points=\"-4,4 -4,-124 1155,-124 1155,4 -4,4\"/>\n<!-- 140671680208336 -->\n<g id=\"node1\" class=\"node\">\n<title>140671680208336</title>\n<polygon fill=\"none\" stroke=\"black\" points=\"322,-83.5 322,-119.5 518,-119.5 518,-83.5 322,-83.5\"/>\n<text text-anchor=\"middle\" x=\"333.5\" y=\"-97.8\" font-family=\"Times,serif\" font-size=\"14.00\">c</text>\n<polyline fill=\"none\" stroke=\"black\" points=\"345,-83.5 345,-119.5 \"/>\n<text text-anchor=\"middle\" x=\"388.5\" y=\"-97.8\" font-family=\"Times,serif\" font-size=\"14.00\">data 10.0000</text>\n<polyline fill=\"none\" stroke=\"black\" points=\"432,-83.5 432,-119.5 \"/>\n<text text-anchor=\"middle\" x=\"475\" y=\"-97.8\" font-family=\"Times,serif\" font-size=\"14.00\">grad &#45;2.0000</text>\n</g>\n<!-- 140671680210192+ -->\n<g id=\"node8\" class=\"node\">\n<title>140671680210192+</title>\n<ellipse fill=\"none\" stroke=\"black\" cx=\"581\" cy=\"-73.5\" rx=\"27\" ry=\"18\"/>\n<text text-anchor=\"middle\" x=\"581\" y=\"-69.8\" font-family=\"Times,serif\" font-size=\"14.00\">+</text>\n</g>\n<!-- 140671680208336&#45;&gt;140671680210192+ -->\n<g id=\"edge9\" class=\"edge\">\n<title>140671680208336&#45;&gt;140671680210192+</title>\n<path fill=\"none\" stroke=\"black\" d=\"M518.07,-84.41C527.42,-82.76 536.43,-81.17 544.55,-79.74\"/>\n<polygon fill=\"black\" stroke=\"black\" points=\"545.41,-83.15 554.65,-77.96 544.2,-76.25 545.41,-83.15\"/>\n</g>\n<!-- 140671691412496 -->\n<g id=\"node2\" class=\"node\">\n<title>140671691412496</title>\n<polygon fill=\"none\" stroke=\"black\" points=\"3,-56.5 3,-92.5 193,-92.5 193,-56.5 3,-56.5\"/>\n<text text-anchor=\"middle\" x=\"14.5\" y=\"-70.8\" font-family=\"Times,serif\" font-size=\"14.00\">b</text>\n<polyline fill=\"none\" stroke=\"black\" points=\"26,-56.5 26,-92.5 \"/>\n<text text-anchor=\"middle\" x=\"68.5\" y=\"-70.8\" font-family=\"Times,serif\" font-size=\"14.00\">data &#45;3.0000</text>\n<polyline fill=\"none\" stroke=\"black\" points=\"111,-56.5 111,-92.5 \"/>\n<text text-anchor=\"middle\" x=\"152\" y=\"-70.8\" font-family=\"Times,serif\" font-size=\"14.00\">grad 8.0000</text>\n</g>\n<!-- 140671691844048* -->\n<g id=\"node10\" class=\"node\">\n<title>140671691844048*</title>\n<ellipse fill=\"none\" stroke=\"black\" cx=\"259\" cy=\"-46.5\" rx=\"27\" ry=\"18\"/>\n<text text-anchor=\"middle\" x=\"259\" y=\"-42.8\" font-family=\"Times,serif\" font-size=\"14.00\">*</text>\n</g>\n<!-- 140671691412496&#45;&gt;140671691844048* -->\n<g id=\"edge6\" class=\"edge\">\n<title>140671691412496&#45;&gt;140671691844048*</title>\n<path fill=\"none\" stroke=\"black\" d=\"M193.33,-57.89C203.71,-56.06 213.74,-54.29 222.68,-52.72\"/>\n<polygon fill=\"black\" stroke=\"black\" points=\"223.39,-56.15 232.63,-50.97 222.17,-49.26 223.39,-56.15\"/>\n</g>\n<!-- 140671680205968 -->\n<g id=\"node3\" class=\"node\">\n<title>140671680205968</title>\n<polygon fill=\"none\" stroke=\"black\" points=\"644.5,-0.5 644.5,-36.5 832.5,-36.5 832.5,-0.5 644.5,-0.5\"/>\n<text text-anchor=\"middle\" x=\"655\" y=\"-14.8\" font-family=\"Times,serif\" font-size=\"14.00\">f</text>\n<polyline fill=\"none\" stroke=\"black\" points=\"665.5,-0.5 665.5,-36.5 \"/>\n<text text-anchor=\"middle\" x=\"708\" y=\"-14.8\" font-family=\"Times,serif\" font-size=\"14.00\">data &#45;2.0000</text>\n<polyline fill=\"none\" stroke=\"black\" points=\"750.5,-0.5 750.5,-36.5 \"/>\n<text text-anchor=\"middle\" x=\"791.5\" y=\"-14.8\" font-family=\"Times,serif\" font-size=\"14.00\">grad 4.0000</text>\n</g>\n<!-- 140671691355856* -->\n<g id=\"node5\" class=\"node\">\n<title>140671691355856*</title>\n<ellipse fill=\"none\" stroke=\"black\" cx=\"896\" cy=\"-45.5\" rx=\"27\" ry=\"18\"/>\n<text text-anchor=\"middle\" x=\"896\" y=\"-41.8\" font-family=\"Times,serif\" font-size=\"14.00\">*</text>\n</g>\n<!-- 140671680205968&#45;&gt;140671691355856* -->\n<g id=\"edge5\" class=\"edge\">\n<title>140671680205968&#45;&gt;140671691355856*</title>\n<path fill=\"none\" stroke=\"black\" d=\"M832.65,-34.67C842.2,-36.33 851.43,-37.93 859.72,-39.37\"/>\n<polygon fill=\"black\" stroke=\"black\" points=\"859.24,-42.84 869.69,-41.11 860.44,-35.95 859.24,-42.84\"/>\n</g>\n<!-- 140671691355856 -->\n<g id=\"node4\" class=\"node\">\n<title>140671691355856</title>\n<polygon fill=\"none\" stroke=\"black\" points=\"959,-27.5 959,-63.5 1151,-63.5 1151,-27.5 959,-27.5\"/>\n<text text-anchor=\"middle\" x=\"971.5\" y=\"-41.8\" font-family=\"Times,serif\" font-size=\"14.00\">L</text>\n<polyline fill=\"none\" stroke=\"black\" points=\"984,-27.5 984,-63.5 \"/>\n<text text-anchor=\"middle\" x=\"1026.5\" y=\"-41.8\" font-family=\"Times,serif\" font-size=\"14.00\">data &#45;8.0000</text>\n<polyline fill=\"none\" stroke=\"black\" points=\"1069,-27.5 1069,-63.5 \"/>\n<text text-anchor=\"middle\" x=\"1110\" y=\"-41.8\" font-family=\"Times,serif\" font-size=\"14.00\">grad 1.0000</text>\n</g>\n<!-- 140671691355856*&#45;&gt;140671691355856 -->\n<g id=\"edge1\" class=\"edge\">\n<title>140671691355856*&#45;&gt;140671691355856</title>\n<path fill=\"none\" stroke=\"black\" d=\"M923.28,-45.5C930.78,-45.5 939.44,-45.5 948.67,-45.5\"/>\n<polygon fill=\"black\" stroke=\"black\" points=\"948.87,-49 958.87,-45.5 948.87,-42 948.87,-49\"/>\n</g>\n<!-- 140671691412688 -->\n<g id=\"node6\" class=\"node\">\n<title>140671691412688</title>\n<polygon fill=\"none\" stroke=\"black\" points=\"0,-1.5 0,-37.5 196,-37.5 196,-1.5 0,-1.5\"/>\n<text text-anchor=\"middle\" x=\"11.5\" y=\"-15.8\" font-family=\"Times,serif\" font-size=\"14.00\">a</text>\n<polyline fill=\"none\" stroke=\"black\" points=\"23,-1.5 23,-37.5 \"/>\n<text text-anchor=\"middle\" x=\"63\" y=\"-15.8\" font-family=\"Times,serif\" font-size=\"14.00\">data 2.0000</text>\n<polyline fill=\"none\" stroke=\"black\" points=\"103,-1.5 103,-37.5 \"/>\n<text text-anchor=\"middle\" x=\"149.5\" y=\"-15.8\" font-family=\"Times,serif\" font-size=\"14.00\">grad &#45;12.0000</text>\n</g>\n<!-- 140671691412688&#45;&gt;140671691844048* -->\n<g id=\"edge7\" class=\"edge\">\n<title>140671691412688&#45;&gt;140671691844048*</title>\n<path fill=\"none\" stroke=\"black\" d=\"M196.07,-35.98C205.42,-37.57 214.43,-39.1 222.55,-40.48\"/>\n<polygon fill=\"black\" stroke=\"black\" points=\"222.21,-43.97 232.65,-42.2 223.38,-37.07 222.21,-43.97\"/>\n</g>\n<!-- 140671680210192 -->\n<g id=\"node7\" class=\"node\">\n<title>140671680210192</title>\n<polygon fill=\"none\" stroke=\"black\" points=\"644,-55.5 644,-91.5 833,-91.5 833,-55.5 644,-55.5\"/>\n<text text-anchor=\"middle\" x=\"655.5\" y=\"-69.8\" font-family=\"Times,serif\" font-size=\"14.00\">d</text>\n<polyline fill=\"none\" stroke=\"black\" points=\"667,-55.5 667,-91.5 \"/>\n<text text-anchor=\"middle\" x=\"707\" y=\"-69.8\" font-family=\"Times,serif\" font-size=\"14.00\">data 4.0000</text>\n<polyline fill=\"none\" stroke=\"black\" points=\"747,-55.5 747,-91.5 \"/>\n<text text-anchor=\"middle\" x=\"790\" y=\"-69.8\" font-family=\"Times,serif\" font-size=\"14.00\">grad &#45;2.0000</text>\n</g>\n<!-- 140671680210192&#45;&gt;140671691355856* -->\n<g id=\"edge4\" class=\"edge\">\n<title>140671680210192&#45;&gt;140671691355856*</title>\n<path fill=\"none\" stroke=\"black\" d=\"M833.1,-56.65C842.4,-54.97 851.38,-53.35 859.49,-51.89\"/>\n<polygon fill=\"black\" stroke=\"black\" points=\"860.37,-55.29 869.59,-50.07 859.13,-48.4 860.37,-55.29\"/>\n</g>\n<!-- 140671680210192+&#45;&gt;140671680210192 -->\n<g id=\"edge2\" class=\"edge\">\n<title>140671680210192+&#45;&gt;140671680210192</title>\n<path fill=\"none\" stroke=\"black\" d=\"M608.03,-73.5C615.66,-73.5 624.52,-73.5 633.94,-73.5\"/>\n<polygon fill=\"black\" stroke=\"black\" points=\"633.94,-77 643.94,-73.5 633.94,-70 633.94,-77\"/>\n</g>\n<!-- 140671691844048 -->\n<g id=\"node9\" class=\"node\">\n<title>140671691844048</title>\n<polygon fill=\"none\" stroke=\"black\" points=\"323,-28.5 323,-64.5 517,-64.5 517,-28.5 323,-28.5\"/>\n<text text-anchor=\"middle\" x=\"334.5\" y=\"-42.8\" font-family=\"Times,serif\" font-size=\"14.00\">e</text>\n<polyline fill=\"none\" stroke=\"black\" points=\"346,-28.5 346,-64.5 \"/>\n<text text-anchor=\"middle\" x=\"388.5\" y=\"-42.8\" font-family=\"Times,serif\" font-size=\"14.00\">data &#45;6.0000</text>\n<polyline fill=\"none\" stroke=\"black\" points=\"431,-28.5 431,-64.5 \"/>\n<text text-anchor=\"middle\" x=\"474\" y=\"-42.8\" font-family=\"Times,serif\" font-size=\"14.00\">grad &#45;2.0000</text>\n</g>\n<!-- 140671691844048&#45;&gt;140671680210192+ -->\n<g id=\"edge8\" class=\"edge\">\n<title>140671691844048&#45;&gt;140671680210192+</title>\n<path fill=\"none\" stroke=\"black\" d=\"M517.16,-62.83C526.82,-64.47 536.13,-66.05 544.49,-67.47\"/>\n<polygon fill=\"black\" stroke=\"black\" points=\"544.09,-70.95 554.54,-69.18 545.26,-64.05 544.09,-70.95\"/>\n</g>\n<!-- 140671691844048*&#45;&gt;140671691844048 -->\n<g id=\"edge3\" class=\"edge\">\n<title>140671691844048*&#45;&gt;140671691844048</title>\n<path fill=\"none\" stroke=\"black\" d=\"M286.26,-46.5C294.05,-46.5 303.1,-46.5 312.75,-46.5\"/>\n<polygon fill=\"black\" stroke=\"black\" points=\"312.99,-50 322.99,-46.5 312.99,-43 312.99,-50\"/>\n</g>\n</g>\n</svg>\n",
            "text/plain": [
              "<graphviz.graphs.Digraph at 0x7ff0ad876410>"
            ]
          },
          "metadata": {},
          "execution_count": 9
        }
      ],
      "source": [
        "# TODO: Calculate the gradient for a and b\n",
        "# b and a is an obj not a numerical values actually this trick raised an errorrr\n",
        "a.grad = d.grad * e.grad * b.data\n",
        "b.grad = d.grad * e.grad * a.data\n",
        "\n",
        "# After all gradients are set, you can visualize the graph again to see them!\n",
        "draw_dot(L)\n",
        "# i noticed that the grad has been updated"
      ]
    },
    {
      "cell_type": "markdown",
      "id": "bda8eb58",
      "metadata": {
        "id": "bda8eb58"
      },
      "source": [
        "### 2.4 Automating Backpropagation\n",
        "\n",
        "Doing this manually is not scalable. Let's automate it! We will add a `_backward` function to each operation and a main `backward()` method to orchestrate the process.\n",
        "\n",
        "Let's start with a new `Value` class, this time with a place for our backward functions."
      ]
    },
    {
      "cell_type": "code",
      "execution_count": 10,
      "id": "8fb8aead",
      "metadata": {
        "id": "8fb8aead"
      },
      "outputs": [],
      "source": [
        "class Value:\n",
        "    def __init__(self, data, _children=(), _op='', label=''):\n",
        "        self.data = data\n",
        "        self.grad = 0.0\n",
        "        self._backward = lambda: None # This will store the function to run during backprop\n",
        "        self._prev = set(_children)\n",
        "        self._op = _op\n",
        "        self.label = label\n",
        "\n",
        "    def __repr__(self):\n",
        "        return f\"Value(data={self.data})\"\n",
        "\n",
        "    def __add__(self, other):\n",
        "        other = other if isinstance(other, Value) else Value(other) # Support op with constants\n",
        "        out = Value(self.data + other.data, (self, other), '+')\n",
        "\n",
        "        # TASK 2.4.1: Implement the _backward function for addition.\n",
        "        def _backward():\n",
        "            # The gradient of the output (out) should be propagated to the inputs (self, other).\n",
        "            # The local derivative for '+' is 1.0.\n",
        "            # Use the chain rule: self.grad += local_derivative * out.grad\n",
        "            self.grad += out.grad * 1.0\n",
        "            other.grad += out.grad * 1.0  # the out like d = a + b so the out is d and if i want to get the driv of a\n",
        "            #it will = 1 and for b is the same but in the chain rule we need the driv of d and d is the out so i need out.grad\n",
        "\n",
        "           # TODO: Replace with your implementation\n",
        "        out._backward = _backward\n",
        "        return out\n",
        "\n",
        "\n",
        "    def __mul__(self, other):\n",
        "        other = other if isinstance(other, Value) else Value(other) # Support op with constants\n",
        "        out = Value(self.data * other.data, (self, other), '*')\n",
        "\n",
        "        # TASK 2.4.2: Implement the _backward function for multiplication.\n",
        "        def _backward():\n",
        "            # The local derivative for '*' is the other value.\n",
        "            # Use the chain rule\n",
        "             self.grad += out.grad * other.data\n",
        "             other.grad += out.grad * self.data\n",
        "             # TODO: Replace with your implementation\n",
        "        out._backward = _backward\n",
        "        return out\n",
        "\n",
        "    def tanh(self):\n",
        "        x = self.data\n",
        "        t = (math.exp(2*x) - 1)/(math.exp(2*x) + 1)\n",
        "        out = Value(t, (self, ), 'tanh')\n",
        "\n",
        "        # TASK 2.4.3: Implement the _backward function for tanh.\n",
        "        def _backward(): # the drivative of tanh = sech^2 and tanh^2 + sech^2 =1 so that the local drivative = 1- tanh^2\n",
        "\n",
        "             # the out = tanh so instead of calling the function tanh twice i will make the out**2\n",
        "             self.grad += out.grad * (1- out.grad**2)\n",
        "             # TODO: Replace with your implementation\n",
        "        out._backward = _backward\n",
        "        return out\n",
        "\n",
        "    def backward(self):\n",
        "        # This function orchestrates the backward pass.\n",
        "        # It needs to call _backward() on all nodes in the graph in the correct order.\n",
        "\n",
        "        # TASK 2.4.4: Implement the main backward method.\n",
        "        # 1. (Already implemented) Create a topological sort of the graph to ensure we process nodes in the correct order.\n",
        "        topo = []\n",
        "        visited = set()\n",
        "        def build_topo(v):\n",
        "            if v not in visited:\n",
        "                visited.add(v)\n",
        "                for child in v._prev:\n",
        "                    build_topo(child)\n",
        "                topo.append(v)\n",
        "        build_topo(self)\n",
        "\n",
        "        # 2. Set the gradient of the final output node to 1.0.\n",
        "        # self.grad = 1.0\n",
        "\n",
        "        # 3. Iterate through the nodes in reverse topological order and call their _backward() function.\n",
        "        for node in reversed(topo):\n",
        "            node._backward()\n",
        "\n",
        "\n",
        "\n",
        "\n",
        "\n",
        "#WHAT I'VE LEARNED\n",
        "#what i've inderstood from this phase is to make an automated back prop and there is a drivative for the add\n",
        "#and another one for the multiplication so there is a backward for the add and another w mul and log and so on"
      ]
    },
    {
      "cell_type": "markdown",
      "id": "755745c2",
      "metadata": {
        "id": "755745c2"
      },
      "source": [
        "**Let's test your automated backpropagation on a neuron.**"
      ]
    },
    {
      "cell_type": "code",
      "execution_count": 11,
      "id": "c3837595",
      "metadata": {
        "colab": {
          "base_uri": "https://localhost:8080/",
          "height": 321
        },
        "id": "c3837595",
        "outputId": "2562a1b2-8e89-496a-8e41-0f0747404c4e"
      },
      "outputs": [
        {
          "output_type": "execute_result",
          "data": {
            "image/svg+xml": "<?xml version=\"1.0\" encoding=\"UTF-8\" standalone=\"no\"?>\n<!DOCTYPE svg PUBLIC \"-//W3C//DTD SVG 1.1//EN\"\n \"http://www.w3.org/Graphics/SVG/1.1/DTD/svg11.dtd\">\n<!-- Generated by graphviz version 2.43.0 (0)\n -->\n<!-- Title: %3 Pages: 1 -->\n<svg width=\"1575pt\" height=\"210pt\"\n viewBox=\"0.00 0.00 1575.00 210.00\" xmlns=\"http://www.w3.org/2000/svg\" xmlns:xlink=\"http://www.w3.org/1999/xlink\">\n<g id=\"graph0\" class=\"graph\" transform=\"scale(1 1) rotate(0) translate(4 206)\">\n<title>%3</title>\n<polygon fill=\"white\" stroke=\"transparent\" points=\"-4,4 -4,-206 1571,-206 1571,4 -4,4\"/>\n<!-- 140671680258000 -->\n<g id=\"node1\" class=\"node\">\n<title>140671680258000</title>\n<polygon fill=\"none\" stroke=\"black\" points=\"672,-82.5 672,-118.5 945,-118.5 945,-82.5 672,-82.5\"/>\n<text text-anchor=\"middle\" x=\"725\" y=\"-96.8\" font-family=\"Times,serif\" font-size=\"14.00\">x1*w1 + x2*w2</text>\n<polyline fill=\"none\" stroke=\"black\" points=\"778,-82.5 778,-118.5 \"/>\n<text text-anchor=\"middle\" x=\"820.5\" y=\"-96.8\" font-family=\"Times,serif\" font-size=\"14.00\">data &#45;6.0000</text>\n<polyline fill=\"none\" stroke=\"black\" points=\"863,-82.5 863,-118.5 \"/>\n<text text-anchor=\"middle\" x=\"904\" y=\"-96.8\" font-family=\"Times,serif\" font-size=\"14.00\">grad 0.0000</text>\n</g>\n<!-- 140671680257936+ -->\n<g id=\"node14\" class=\"node\">\n<title>140671680257936+</title>\n<ellipse fill=\"none\" stroke=\"black\" cx=\"1008\" cy=\"-127.5\" rx=\"27\" ry=\"18\"/>\n<text text-anchor=\"middle\" x=\"1008\" y=\"-123.8\" font-family=\"Times,serif\" font-size=\"14.00\">+</text>\n</g>\n<!-- 140671680258000&#45;&gt;140671680257936+ -->\n<g id=\"edge6\" class=\"edge\">\n<title>140671680258000&#45;&gt;140671680257936+</title>\n<path fill=\"none\" stroke=\"black\" d=\"M941.24,-118.51C952.12,-120 962.4,-121.4 971.45,-122.64\"/>\n<polygon fill=\"black\" stroke=\"black\" points=\"971.11,-126.13 981.49,-124.01 972.05,-119.19 971.11,-126.13\"/>\n</g>\n<!-- 140671680258000+ -->\n<g id=\"node2\" class=\"node\">\n<title>140671680258000+</title>\n<ellipse fill=\"none\" stroke=\"black\" cx=\"609\" cy=\"-100.5\" rx=\"27\" ry=\"18\"/>\n<text text-anchor=\"middle\" x=\"609\" y=\"-96.8\" font-family=\"Times,serif\" font-size=\"14.00\">+</text>\n</g>\n<!-- 140671680258000+&#45;&gt;140671680258000 -->\n<g id=\"edge1\" class=\"edge\">\n<title>140671680258000+&#45;&gt;140671680258000</title>\n<path fill=\"none\" stroke=\"black\" d=\"M636.23,-100.5C643.7,-100.5 652.41,-100.5 661.87,-100.5\"/>\n<polygon fill=\"black\" stroke=\"black\" points=\"661.98,-104 671.98,-100.5 661.98,-97 661.98,-104\"/>\n</g>\n<!-- 140671680258640 -->\n<g id=\"node3\" class=\"node\">\n<title>140671680258640</title>\n<polygon fill=\"none\" stroke=\"black\" points=\"1382,-109.5 1382,-145.5 1567,-145.5 1567,-109.5 1382,-109.5\"/>\n<text text-anchor=\"middle\" x=\"1393.5\" y=\"-123.8\" font-family=\"Times,serif\" font-size=\"14.00\">o</text>\n<polyline fill=\"none\" stroke=\"black\" points=\"1405,-109.5 1405,-145.5 \"/>\n<text text-anchor=\"middle\" x=\"1445\" y=\"-123.8\" font-family=\"Times,serif\" font-size=\"14.00\">data 0.7071</text>\n<polyline fill=\"none\" stroke=\"black\" points=\"1485,-109.5 1485,-145.5 \"/>\n<text text-anchor=\"middle\" x=\"1526\" y=\"-123.8\" font-family=\"Times,serif\" font-size=\"14.00\">grad 0.0000</text>\n</g>\n<!-- 140671680258640tanh -->\n<g id=\"node4\" class=\"node\">\n<title>140671680258640tanh</title>\n<ellipse fill=\"none\" stroke=\"black\" cx=\"1319\" cy=\"-127.5\" rx=\"27\" ry=\"18\"/>\n<text text-anchor=\"middle\" x=\"1319\" y=\"-123.8\" font-family=\"Times,serif\" font-size=\"14.00\">tanh</text>\n</g>\n<!-- 140671680258640tanh&#45;&gt;140671680258640 -->\n<g id=\"edge2\" class=\"edge\">\n<title>140671680258640tanh&#45;&gt;140671680258640</title>\n<path fill=\"none\" stroke=\"black\" d=\"M1346.04,-127.5C1353.58,-127.5 1362.3,-127.5 1371.57,-127.5\"/>\n<polygon fill=\"black\" stroke=\"black\" points=\"1371.81,-131 1381.81,-127.5 1371.81,-124 1371.81,-131\"/>\n</g>\n<!-- 140671680257616 -->\n<g id=\"node5\" class=\"node\">\n<title>140671680257616</title>\n<polygon fill=\"none\" stroke=\"black\" points=\"326,-110.5 326,-146.5 546,-146.5 546,-110.5 326,-110.5\"/>\n<text text-anchor=\"middle\" x=\"352.5\" y=\"-124.8\" font-family=\"Times,serif\" font-size=\"14.00\">x1*w1</text>\n<polyline fill=\"none\" stroke=\"black\" points=\"379,-110.5 379,-146.5 \"/>\n<text text-anchor=\"middle\" x=\"421.5\" y=\"-124.8\" font-family=\"Times,serif\" font-size=\"14.00\">data &#45;6.0000</text>\n<polyline fill=\"none\" stroke=\"black\" points=\"464,-110.5 464,-146.5 \"/>\n<text text-anchor=\"middle\" x=\"505\" y=\"-124.8\" font-family=\"Times,serif\" font-size=\"14.00\">grad 0.0000</text>\n</g>\n<!-- 140671680257616&#45;&gt;140671680258000+ -->\n<g id=\"edge14\" class=\"edge\">\n<title>140671680257616&#45;&gt;140671680258000+</title>\n<path fill=\"none\" stroke=\"black\" d=\"M546.27,-110.61C555.64,-109.07 564.6,-107.61 572.65,-106.29\"/>\n<polygon fill=\"black\" stroke=\"black\" points=\"573.35,-109.72 582.65,-104.65 572.22,-102.81 573.35,-109.72\"/>\n</g>\n<!-- 140671680257616* -->\n<g id=\"node6\" class=\"node\">\n<title>140671680257616*</title>\n<ellipse fill=\"none\" stroke=\"black\" cx=\"263\" cy=\"-128.5\" rx=\"27\" ry=\"18\"/>\n<text text-anchor=\"middle\" x=\"263\" y=\"-124.8\" font-family=\"Times,serif\" font-size=\"14.00\">*</text>\n</g>\n<!-- 140671680257616*&#45;&gt;140671680257616 -->\n<g id=\"edge3\" class=\"edge\">\n<title>140671680257616*&#45;&gt;140671680257616</title>\n<path fill=\"none\" stroke=\"black\" d=\"M290.34,-128.5C297.77,-128.5 306.37,-128.5 315.6,-128.5\"/>\n<polygon fill=\"black\" stroke=\"black\" points=\"315.84,-132 325.84,-128.5 315.84,-125 315.84,-132\"/>\n</g>\n<!-- 140671680206992 -->\n<g id=\"node7\" class=\"node\">\n<title>140671680206992</title>\n<polygon fill=\"none\" stroke=\"black\" points=\"0,-165.5 0,-201.5 200,-201.5 200,-165.5 0,-165.5\"/>\n<text text-anchor=\"middle\" x=\"16.5\" y=\"-179.8\" font-family=\"Times,serif\" font-size=\"14.00\">w1</text>\n<polyline fill=\"none\" stroke=\"black\" points=\"33,-165.5 33,-201.5 \"/>\n<text text-anchor=\"middle\" x=\"75.5\" y=\"-179.8\" font-family=\"Times,serif\" font-size=\"14.00\">data &#45;3.0000</text>\n<polyline fill=\"none\" stroke=\"black\" points=\"118,-165.5 118,-201.5 \"/>\n<text text-anchor=\"middle\" x=\"159\" y=\"-179.8\" font-family=\"Times,serif\" font-size=\"14.00\">grad 0.0000</text>\n</g>\n<!-- 140671680206992&#45;&gt;140671680257616* -->\n<g id=\"edge7\" class=\"edge\">\n<title>140671680206992&#45;&gt;140671680257616*</title>\n<path fill=\"none\" stroke=\"black\" d=\"M172.53,-165.44C181.84,-162.67 191.2,-159.67 200,-156.5 210.53,-152.71 221.75,-147.9 231.72,-143.33\"/>\n<polygon fill=\"black\" stroke=\"black\" points=\"233.25,-146.48 240.82,-139.07 230.28,-140.14 233.25,-146.48\"/>\n</g>\n<!-- 140671680212176 -->\n<g id=\"node8\" class=\"node\">\n<title>140671680212176</title>\n<polygon fill=\"none\" stroke=\"black\" points=\"2.5,-55.5 2.5,-91.5 197.5,-91.5 197.5,-55.5 2.5,-55.5\"/>\n<text text-anchor=\"middle\" x=\"19\" y=\"-69.8\" font-family=\"Times,serif\" font-size=\"14.00\">w2</text>\n<polyline fill=\"none\" stroke=\"black\" points=\"35.5,-55.5 35.5,-91.5 \"/>\n<text text-anchor=\"middle\" x=\"75.5\" y=\"-69.8\" font-family=\"Times,serif\" font-size=\"14.00\">data 1.0000</text>\n<polyline fill=\"none\" stroke=\"black\" points=\"115.5,-55.5 115.5,-91.5 \"/>\n<text text-anchor=\"middle\" x=\"156.5\" y=\"-69.8\" font-family=\"Times,serif\" font-size=\"14.00\">grad 0.0000</text>\n</g>\n<!-- 140671680252688* -->\n<g id=\"node11\" class=\"node\">\n<title>140671680252688*</title>\n<ellipse fill=\"none\" stroke=\"black\" cx=\"263\" cy=\"-73.5\" rx=\"27\" ry=\"18\"/>\n<text text-anchor=\"middle\" x=\"263\" y=\"-69.8\" font-family=\"Times,serif\" font-size=\"14.00\">*</text>\n</g>\n<!-- 140671680212176&#45;&gt;140671680252688* -->\n<g id=\"edge10\" class=\"edge\">\n<title>140671680212176&#45;&gt;140671680252688*</title>\n<path fill=\"none\" stroke=\"black\" d=\"M197.91,-73.5C207.65,-73.5 217.05,-73.5 225.52,-73.5\"/>\n<polygon fill=\"black\" stroke=\"black\" points=\"225.7,-77 235.7,-73.5 225.7,-70 225.7,-77\"/>\n</g>\n<!-- 140671680208080 -->\n<g id=\"node9\" class=\"node\">\n<title>140671680208080</title>\n<polygon fill=\"none\" stroke=\"black\" points=\"4,-110.5 4,-146.5 196,-146.5 196,-110.5 4,-110.5\"/>\n<text text-anchor=\"middle\" x=\"19\" y=\"-124.8\" font-family=\"Times,serif\" font-size=\"14.00\">x1</text>\n<polyline fill=\"none\" stroke=\"black\" points=\"34,-110.5 34,-146.5 \"/>\n<text text-anchor=\"middle\" x=\"74\" y=\"-124.8\" font-family=\"Times,serif\" font-size=\"14.00\">data 2.0000</text>\n<polyline fill=\"none\" stroke=\"black\" points=\"114,-110.5 114,-146.5 \"/>\n<text text-anchor=\"middle\" x=\"155\" y=\"-124.8\" font-family=\"Times,serif\" font-size=\"14.00\">grad 0.0000</text>\n</g>\n<!-- 140671680208080&#45;&gt;140671680257616* -->\n<g id=\"edge12\" class=\"edge\">\n<title>140671680208080&#45;&gt;140671680257616*</title>\n<path fill=\"none\" stroke=\"black\" d=\"M196.05,-128.5C206.52,-128.5 216.65,-128.5 225.71,-128.5\"/>\n<polygon fill=\"black\" stroke=\"black\" points=\"225.79,-132 235.79,-128.5 225.79,-125 225.79,-132\"/>\n</g>\n<!-- 140671680252688 -->\n<g id=\"node10\" class=\"node\">\n<title>140671680252688</title>\n<polygon fill=\"none\" stroke=\"black\" points=\"328.5,-55.5 328.5,-91.5 543.5,-91.5 543.5,-55.5 328.5,-55.5\"/>\n<text text-anchor=\"middle\" x=\"355\" y=\"-69.8\" font-family=\"Times,serif\" font-size=\"14.00\">x2*w2</text>\n<polyline fill=\"none\" stroke=\"black\" points=\"381.5,-55.5 381.5,-91.5 \"/>\n<text text-anchor=\"middle\" x=\"421.5\" y=\"-69.8\" font-family=\"Times,serif\" font-size=\"14.00\">data 0.0000</text>\n<polyline fill=\"none\" stroke=\"black\" points=\"461.5,-55.5 461.5,-91.5 \"/>\n<text text-anchor=\"middle\" x=\"502.5\" y=\"-69.8\" font-family=\"Times,serif\" font-size=\"14.00\">grad 0.0000</text>\n</g>\n<!-- 140671680252688&#45;&gt;140671680258000+ -->\n<g id=\"edge13\" class=\"edge\">\n<title>140671680252688&#45;&gt;140671680258000+</title>\n<path fill=\"none\" stroke=\"black\" d=\"M543.84,-90.37C554.01,-91.98 563.76,-93.51 572.44,-94.89\"/>\n<polygon fill=\"black\" stroke=\"black\" points=\"572.05,-98.37 582.47,-96.47 573.14,-91.45 572.05,-98.37\"/>\n</g>\n<!-- 140671680252688*&#45;&gt;140671680252688 -->\n<g id=\"edge4\" class=\"edge\">\n<title>140671680252688*&#45;&gt;140671680252688</title>\n<path fill=\"none\" stroke=\"black\" d=\"M290.34,-73.5C298.51,-73.5 308.08,-73.5 318.36,-73.5\"/>\n<polygon fill=\"black\" stroke=\"black\" points=\"318.39,-77 328.39,-73.5 318.39,-70 318.39,-77\"/>\n</g>\n<!-- 140671680210704 -->\n<g id=\"node12\" class=\"node\">\n<title>140671680210704</title>\n<polygon fill=\"none\" stroke=\"black\" points=\"4,-0.5 4,-36.5 196,-36.5 196,-0.5 4,-0.5\"/>\n<text text-anchor=\"middle\" x=\"19\" y=\"-14.8\" font-family=\"Times,serif\" font-size=\"14.00\">x2</text>\n<polyline fill=\"none\" stroke=\"black\" points=\"34,-0.5 34,-36.5 \"/>\n<text text-anchor=\"middle\" x=\"74\" y=\"-14.8\" font-family=\"Times,serif\" font-size=\"14.00\">data 0.0000</text>\n<polyline fill=\"none\" stroke=\"black\" points=\"114,-0.5 114,-36.5 \"/>\n<text text-anchor=\"middle\" x=\"155\" y=\"-14.8\" font-family=\"Times,serif\" font-size=\"14.00\">grad 0.0000</text>\n</g>\n<!-- 140671680210704&#45;&gt;140671680252688* -->\n<g id=\"edge11\" class=\"edge\">\n<title>140671680210704&#45;&gt;140671680252688*</title>\n<path fill=\"none\" stroke=\"black\" d=\"M169.28,-36.5C179.65,-39.61 190.16,-42.98 200,-46.5 210.28,-50.17 221.28,-54.74 231.11,-59.07\"/>\n<polygon fill=\"black\" stroke=\"black\" points=\"229.93,-62.37 240.48,-63.27 232.79,-55.99 229.93,-62.37\"/>\n</g>\n<!-- 140671680257936 -->\n<g id=\"node13\" class=\"node\">\n<title>140671680257936</title>\n<polygon fill=\"none\" stroke=\"black\" points=\"1071,-109.5 1071,-145.5 1256,-145.5 1256,-109.5 1071,-109.5\"/>\n<text text-anchor=\"middle\" x=\"1082.5\" y=\"-123.8\" font-family=\"Times,serif\" font-size=\"14.00\">n</text>\n<polyline fill=\"none\" stroke=\"black\" points=\"1094,-109.5 1094,-145.5 \"/>\n<text text-anchor=\"middle\" x=\"1134\" y=\"-123.8\" font-family=\"Times,serif\" font-size=\"14.00\">data 0.8814</text>\n<polyline fill=\"none\" stroke=\"black\" points=\"1174,-109.5 1174,-145.5 \"/>\n<text text-anchor=\"middle\" x=\"1215\" y=\"-123.8\" font-family=\"Times,serif\" font-size=\"14.00\">grad 0.0000</text>\n</g>\n<!-- 140671680257936&#45;&gt;140671680258640tanh -->\n<g id=\"edge8\" class=\"edge\">\n<title>140671680257936&#45;&gt;140671680258640tanh</title>\n<path fill=\"none\" stroke=\"black\" d=\"M1256.01,-127.5C1265.01,-127.5 1273.74,-127.5 1281.66,-127.5\"/>\n<polygon fill=\"black\" stroke=\"black\" points=\"1281.91,-131 1291.91,-127.5 1281.91,-124 1281.91,-131\"/>\n</g>\n<!-- 140671680257936+&#45;&gt;140671680257936 -->\n<g id=\"edge5\" class=\"edge\">\n<title>140671680257936+&#45;&gt;140671680257936</title>\n<path fill=\"none\" stroke=\"black\" d=\"M1035.04,-127.5C1042.58,-127.5 1051.3,-127.5 1060.57,-127.5\"/>\n<polygon fill=\"black\" stroke=\"black\" points=\"1060.81,-131 1070.81,-127.5 1060.81,-124 1060.81,-131\"/>\n</g>\n<!-- 140671680208848 -->\n<g id=\"node15\" class=\"node\">\n<title>140671680208848</title>\n<polygon fill=\"none\" stroke=\"black\" points=\"716,-137.5 716,-173.5 901,-173.5 901,-137.5 716,-137.5\"/>\n<text text-anchor=\"middle\" x=\"727.5\" y=\"-151.8\" font-family=\"Times,serif\" font-size=\"14.00\">b</text>\n<polyline fill=\"none\" stroke=\"black\" points=\"739,-137.5 739,-173.5 \"/>\n<text text-anchor=\"middle\" x=\"779\" y=\"-151.8\" font-family=\"Times,serif\" font-size=\"14.00\">data 6.8814</text>\n<polyline fill=\"none\" stroke=\"black\" points=\"819,-137.5 819,-173.5 \"/>\n<text text-anchor=\"middle\" x=\"860\" y=\"-151.8\" font-family=\"Times,serif\" font-size=\"14.00\">grad 0.0000</text>\n</g>\n<!-- 140671680208848&#45;&gt;140671680257936+ -->\n<g id=\"edge9\" class=\"edge\">\n<title>140671680208848&#45;&gt;140671680257936+</title>\n<path fill=\"none\" stroke=\"black\" d=\"M901.02,-142.52C926,-138.98 951.59,-135.36 971.37,-132.55\"/>\n<polygon fill=\"black\" stroke=\"black\" points=\"972.03,-135.99 981.43,-131.12 971.04,-129.06 972.03,-135.99\"/>\n</g>\n</g>\n</svg>\n",
            "text/plain": [
              "<graphviz.graphs.Digraph at 0x7ff0ad881e90>"
            ]
          },
          "metadata": {},
          "execution_count": 11
        }
      ],
      "source": [
        "# inputs x1,x2\n",
        "x1 = Value(2.0, label='x1')\n",
        "x2 = Value(0.0, label='x2')\n",
        "# weights w1,w2\n",
        "w1 = Value(-3.0, label='w1')\n",
        "w2 = Value(1.0, label='w2')\n",
        "# bias of the neuron\n",
        "b = Value(6.8813735870195432, label='b')\n",
        "# x1*w1 + x2*w2 + b\n",
        "x1w1 = x1*w1; x1w1.label = 'x1*w1'\n",
        "x2w2 = x2*w2; x2w2.label = 'x2*w2'\n",
        "x1w1x2w2 = x1w1 + x2w2; x1w1x2w2.label = 'x1*w1 + x2*w2'\n",
        "n = x1w1x2w2 + b; n.label = 'n'\n",
        "o = n.tanh(); o.label = 'o'\n",
        "\n",
        "# Run the backward pass\n",
        "o.backward()\n",
        "\n",
        "# Visualize the result - you should see all the gradients now!\n",
        "# Calculate the gradients manually to verify your implementation\n",
        "draw_dot(o)"
      ]
    },
    {
      "cell_type": "markdown",
      "id": "2eceb69e",
      "metadata": {
        "id": "2eceb69e"
      },
      "source": [
        "## Part 3: Building a Neural Network\n",
        "\n",
        "Now that we have our `Value` object with automatic differentiation, we can build neural network components.\n",
        "\n",
        "We will create three classes: `Neuron`, `Layer`, and `MLP` (Multi-Layer Perceptron).\n",
        "\n",
        "*(A `Module` class is provided to help with managing parameters).*"
      ]
    },
    {
      "cell_type": "code",
      "execution_count": 12,
      "id": "2c890748",
      "metadata": {
        "id": "2c890748"
      },
      "outputs": [],
      "source": [
        "class Module:\n",
        "    def zero_grad(self):\n",
        "        for p in self.parameters():\n",
        "            p.grad = 0\n",
        "\n",
        "    def parameters(self):\n",
        "        return []\n",
        "\n",
        "class Neuron(Module):\n",
        "  # TASK 3.1: Complete the Neuron class.\n",
        "  def __init__(self, nin):\n",
        "    # A neuron has 'nin' weights (w) and one bias (b).\n",
        "    # Initialize weights randomly between -1 and 1.\n",
        "    self.w = [Value(random.uniform(-1,1)) for _ in range(nin)]\n",
        "    self.b = Value(random.uniform(-1,1)) # as the bias is just one value\n",
        "\n",
        "\n",
        "  def __call__(self, x):\n",
        "    # firstly i tried to make it like this act = np.dot(self.w , x)+self.b but then i discovered that it is a value objects not numpy array\n",
        "    act = sum((wi*xi for  wi , xi in zip(self.w , x)) , self.b)\n",
        "    return act.tanh()\n",
        "\n",
        "\n",
        "  def parameters(self):\n",
        "    return self.w + [self.b]\n",
        "\n",
        "class Layer(Module):\n",
        "  # TASK 3.2: Complete the Layer class.\n",
        "  def __init__(self, nin, nout):\n",
        "    # A layer is a list of neurons.\n",
        "    self.neurons = [Neuron(nin) for _ in range(nout)] #creating a number of neurons based on the number of outputs and each takes nin\n",
        "\n",
        "\n",
        "  def __call__(self, x):\n",
        "    # When you call a layer, you call each neuron with the input x.\n",
        "    #i want to get the output from each neuron -> tanh output after input x\n",
        "    outs = [n(x) for n in self.neurons]\n",
        "    return outs[0] if len(outs) == 1 else outs\n",
        "\n",
        "\n",
        "  def parameters(self):\n",
        "    # A layer's parameters are all the parameters from all its neurons.\n",
        "    return [p for neuron in self.neurons for p in neuron.parameters()]\n",
        "\n",
        "class MLP(Module):\n",
        "  # TASK 3.3: Complete the MLP class.\n",
        "  def __init__(self, nin, nouts):\n",
        "    # 'nouts' is a list of layer sizes.\n",
        "    # e.g., MLP(3, [4, 4, 1]) is a network with 3 inputs, two hidden layers of 4 neurons, and one output neuron.\n",
        "    sz = [nin] + nouts # the + as the concatitaion for the list of the inputs and the list of layer sizes\n",
        "    self.layers = [Layer(sz[i], sz[i+1]) for i in range(len(nouts))]\n",
        "\n",
        "\n",
        "  def __call__(self, x):\n",
        "    # Pass the input 'x' through all the layers sequentially.\n",
        "    # TODO: Implement the forward pass through all layers.\n",
        "    for layer in self.layers :\n",
        "      x  = layer(x)\n",
        "    return x\n",
        "\n",
        "\n",
        "  def parameters(self):\n",
        "    return [p for layer in self.layers for p in layer.parameters()]\n",
        "\n",
        "\n",
        "#actually the implementation is not easy but what i know that we made the code atomic each step in a function and class to make the code more cleaner\n",
        "#so the neuron is a subset from the layer and\n",
        "#the layer is a subset from the MLP and so on and the uniform distribution like the xaivier weight intialization"
      ]
    },
    {
      "cell_type": "code",
      "execution_count": 13,
      "id": "ee99d51f",
      "metadata": {
        "colab": {
          "base_uri": "https://localhost:8080/",
          "height": 1000
        },
        "id": "ee99d51f",
        "outputId": "ffcd3bfc-147d-4033-eba3-fe6519b881e4"
      },
      "outputs": [
        {
          "output_type": "stream",
          "name": "stdout",
          "text": [
            "Value(data=-0.13309023295900635)\n"
          ]
        },
        {
          "output_type": "execute_result",
          "data": {
            "image/svg+xml": "<?xml version=\"1.0\" encoding=\"UTF-8\" standalone=\"no\"?>\n<!DOCTYPE svg PUBLIC \"-//W3C//DTD SVG 1.1//EN\"\n \"http://www.w3.org/Graphics/SVG/1.1/DTD/svg11.dtd\">\n<!-- Generated by graphviz version 2.43.0 (0)\n -->\n<!-- Title: %3 Pages: 1 -->\n<svg width=\"5644pt\" height=\"1062pt\"\n viewBox=\"0.00 0.00 5644.00 1062.00\" xmlns=\"http://www.w3.org/2000/svg\" xmlns:xlink=\"http://www.w3.org/1999/xlink\">\n<g id=\"graph0\" class=\"graph\" transform=\"scale(1 1) rotate(0) translate(4 1058)\">\n<title>%3</title>\n<polygon fill=\"white\" stroke=\"transparent\" points=\"-4,4 -4,-1058 5640,-1058 5640,4 -4,4\"/>\n<!-- 140671681290256 -->\n<g id=\"node1\" class=\"node\">\n<title>140671681290256</title>\n<polygon fill=\"none\" stroke=\"black\" points=\"2186,-275.5 2186,-311.5 2373,-311.5 2373,-275.5 2186,-275.5\"/>\n<text text-anchor=\"middle\" x=\"2196\" y=\"-289.8\" font-family=\"Times,serif\" font-size=\"14.00\"> </text>\n<polyline fill=\"none\" stroke=\"black\" points=\"2206,-275.5 2206,-311.5 \"/>\n<text text-anchor=\"middle\" x=\"2248.5\" y=\"-289.8\" font-family=\"Times,serif\" font-size=\"14.00\">data &#45;0.9030</text>\n<polyline fill=\"none\" stroke=\"black\" points=\"2291,-275.5 2291,-311.5 \"/>\n<text text-anchor=\"middle\" x=\"2332\" y=\"-289.8\" font-family=\"Times,serif\" font-size=\"14.00\">grad 0.0000</text>\n</g>\n<!-- 140671681289424tanh -->\n<g id=\"node168\" class=\"node\">\n<title>140671681289424tanh</title>\n<ellipse fill=\"none\" stroke=\"black\" cx=\"2436\" cy=\"-308.5\" rx=\"27\" ry=\"18\"/>\n<text text-anchor=\"middle\" x=\"2436\" y=\"-304.8\" font-family=\"Times,serif\" font-size=\"14.00\">tanh</text>\n</g>\n<!-- 140671681290256&#45;&gt;140671681289424tanh -->\n<g id=\"edge203\" class=\"edge\">\n<title>140671681290256&#45;&gt;140671681289424tanh</title>\n<path fill=\"none\" stroke=\"black\" d=\"M2373.05,-302.49C2382.25,-303.38 2391.16,-304.24 2399.21,-305.02\"/>\n<polygon fill=\"black\" stroke=\"black\" points=\"2398.96,-308.52 2409.25,-306 2399.64,-301.55 2398.96,-308.52\"/>\n</g>\n<!-- 140671681290256+ -->\n<g id=\"node2\" class=\"node\">\n<title>140671681290256+</title>\n<ellipse fill=\"none\" stroke=\"black\" cx=\"2123\" cy=\"-224.5\" rx=\"27\" ry=\"18\"/>\n<text text-anchor=\"middle\" x=\"2123\" y=\"-220.8\" font-family=\"Times,serif\" font-size=\"14.00\">+</text>\n</g>\n<!-- 140671681290256+&#45;&gt;140671681290256 -->\n<g id=\"edge1\" class=\"edge\">\n<title>140671681290256+&#45;&gt;140671681290256</title>\n<path fill=\"none\" stroke=\"black\" d=\"M2145.81,-234.24C2167.26,-243.82 2200.76,-258.78 2228.73,-271.27\"/>\n<polygon fill=\"black\" stroke=\"black\" points=\"2227.42,-274.52 2237.98,-275.4 2230.27,-268.13 2227.42,-274.52\"/>\n</g>\n<!-- 140671680913424 -->\n<g id=\"node3\" class=\"node\">\n<title>140671680913424</title>\n<polygon fill=\"none\" stroke=\"black\" points=\"3440.5,-331.5 3440.5,-367.5 3622.5,-367.5 3622.5,-331.5 3440.5,-331.5\"/>\n<text text-anchor=\"middle\" x=\"3450.5\" y=\"-345.8\" font-family=\"Times,serif\" font-size=\"14.00\"> </text>\n<polyline fill=\"none\" stroke=\"black\" points=\"3460.5,-331.5 3460.5,-367.5 \"/>\n<text text-anchor=\"middle\" x=\"3500.5\" y=\"-345.8\" font-family=\"Times,serif\" font-size=\"14.00\">data 0.6442</text>\n<polyline fill=\"none\" stroke=\"black\" points=\"3540.5,-331.5 3540.5,-367.5 \"/>\n<text text-anchor=\"middle\" x=\"3581.5\" y=\"-345.8\" font-family=\"Times,serif\" font-size=\"14.00\">grad 0.0000</text>\n</g>\n<!-- 140671679995600* -->\n<g id=\"node189\" class=\"node\">\n<title>140671679995600*</title>\n<ellipse fill=\"none\" stroke=\"black\" cx=\"3688\" cy=\"-349.5\" rx=\"27\" ry=\"18\"/>\n<text text-anchor=\"middle\" x=\"3688\" y=\"-345.8\" font-family=\"Times,serif\" font-size=\"14.00\">*</text>\n</g>\n<!-- 140671680913424&#45;&gt;140671679995600* -->\n<g id=\"edge149\" class=\"edge\">\n<title>140671680913424&#45;&gt;140671679995600*</title>\n<path fill=\"none\" stroke=\"black\" d=\"M3622.82,-349.5C3632.57,-349.5 3642.04,-349.5 3650.57,-349.5\"/>\n<polygon fill=\"black\" stroke=\"black\" points=\"3650.83,-353 3660.83,-349.5 3650.83,-346 3650.83,-353\"/>\n</g>\n<!-- 140671680913552 -->\n<g id=\"node4\" class=\"node\">\n<title>140671680913552</title>\n<polygon fill=\"none\" stroke=\"black\" points=\"3440.5,-441.5 3440.5,-477.5 3622.5,-477.5 3622.5,-441.5 3440.5,-441.5\"/>\n<text text-anchor=\"middle\" x=\"3450.5\" y=\"-455.8\" font-family=\"Times,serif\" font-size=\"14.00\"> </text>\n<polyline fill=\"none\" stroke=\"black\" points=\"3460.5,-441.5 3460.5,-477.5 \"/>\n<text text-anchor=\"middle\" x=\"3500.5\" y=\"-455.8\" font-family=\"Times,serif\" font-size=\"14.00\">data 0.4232</text>\n<polyline fill=\"none\" stroke=\"black\" points=\"3540.5,-441.5 3540.5,-477.5 \"/>\n<text text-anchor=\"middle\" x=\"3581.5\" y=\"-455.8\" font-family=\"Times,serif\" font-size=\"14.00\">grad 0.0000</text>\n</g>\n<!-- 140671681234000* -->\n<g id=\"node14\" class=\"node\">\n<title>140671681234000*</title>\n<ellipse fill=\"none\" stroke=\"black\" cx=\"3688\" cy=\"-459.5\" rx=\"27\" ry=\"18\"/>\n<text text-anchor=\"middle\" x=\"3688\" y=\"-455.8\" font-family=\"Times,serif\" font-size=\"14.00\">*</text>\n</g>\n<!-- 140671680913552&#45;&gt;140671681234000* -->\n<g id=\"edge198\" class=\"edge\">\n<title>140671680913552&#45;&gt;140671681234000*</title>\n<path fill=\"none\" stroke=\"black\" d=\"M3622.82,-459.5C3632.57,-459.5 3642.04,-459.5 3650.57,-459.5\"/>\n<polygon fill=\"black\" stroke=\"black\" points=\"3650.83,-463 3660.83,-459.5 3650.83,-456 3650.83,-463\"/>\n</g>\n<!-- 140671680160208 -->\n<g id=\"node5\" class=\"node\">\n<title>140671680160208</title>\n<polygon fill=\"none\" stroke=\"black\" points=\"3440.5,-551.5 3440.5,-587.5 3622.5,-587.5 3622.5,-551.5 3440.5,-551.5\"/>\n<text text-anchor=\"middle\" x=\"3450.5\" y=\"-565.8\" font-family=\"Times,serif\" font-size=\"14.00\"> </text>\n<polyline fill=\"none\" stroke=\"black\" points=\"3460.5,-551.5 3460.5,-587.5 \"/>\n<text text-anchor=\"middle\" x=\"3500.5\" y=\"-565.8\" font-family=\"Times,serif\" font-size=\"14.00\">data 0.3138</text>\n<polyline fill=\"none\" stroke=\"black\" points=\"3540.5,-551.5 3540.5,-587.5 \"/>\n<text text-anchor=\"middle\" x=\"3581.5\" y=\"-565.8\" font-family=\"Times,serif\" font-size=\"14.00\">grad 0.0000</text>\n</g>\n<!-- 140671681245584* -->\n<g id=\"node99\" class=\"node\">\n<title>140671681245584*</title>\n<ellipse fill=\"none\" stroke=\"black\" cx=\"3688\" cy=\"-514.5\" rx=\"27\" ry=\"18\"/>\n<text text-anchor=\"middle\" x=\"3688\" y=\"-510.8\" font-family=\"Times,serif\" font-size=\"14.00\">*</text>\n</g>\n<!-- 140671680160208&#45;&gt;140671681245584* -->\n<g id=\"edge118\" class=\"edge\">\n<title>140671680160208&#45;&gt;140671681245584*</title>\n<path fill=\"none\" stroke=\"black\" d=\"M3598.56,-551.45C3607.51,-548.64 3616.53,-545.63 3625,-542.5 3635.49,-538.62 3646.71,-533.78 3656.68,-529.22\"/>\n<polygon fill=\"black\" stroke=\"black\" points=\"3658.2,-532.37 3665.79,-524.97 3655.25,-526.02 3658.2,-532.37\"/>\n</g>\n<!-- 140671680160208tanh -->\n<g id=\"node6\" class=\"node\">\n<title>140671680160208tanh</title>\n<ellipse fill=\"none\" stroke=\"black\" cx=\"3375\" cy=\"-569.5\" rx=\"27\" ry=\"18\"/>\n<text text-anchor=\"middle\" x=\"3375\" y=\"-565.8\" font-family=\"Times,serif\" font-size=\"14.00\">tanh</text>\n</g>\n<!-- 140671680160208tanh&#45;&gt;140671680160208 -->\n<g id=\"edge2\" class=\"edge\">\n<title>140671680160208tanh&#45;&gt;140671680160208</title>\n<path fill=\"none\" stroke=\"black\" d=\"M3402.21,-569.5C3410.34,-569.5 3419.85,-569.5 3429.94,-569.5\"/>\n<polygon fill=\"black\" stroke=\"black\" points=\"3430.19,-573 3440.19,-569.5 3430.19,-566 3430.19,-573\"/>\n</g>\n<!-- 140671680913936 -->\n<g id=\"node7\" class=\"node\">\n<title>140671680913936</title>\n<polygon fill=\"none\" stroke=\"black\" points=\"2501.5,-414.5 2501.5,-450.5 2683.5,-450.5 2683.5,-414.5 2501.5,-414.5\"/>\n<text text-anchor=\"middle\" x=\"2511.5\" y=\"-428.8\" font-family=\"Times,serif\" font-size=\"14.00\"> </text>\n<polyline fill=\"none\" stroke=\"black\" points=\"2521.5,-414.5 2521.5,-450.5 \"/>\n<text text-anchor=\"middle\" x=\"2561.5\" y=\"-428.8\" font-family=\"Times,serif\" font-size=\"14.00\">data 0.5129</text>\n<polyline fill=\"none\" stroke=\"black\" points=\"2601.5,-414.5 2601.5,-450.5 \"/>\n<text text-anchor=\"middle\" x=\"2642.5\" y=\"-428.8\" font-family=\"Times,serif\" font-size=\"14.00\">grad 0.0000</text>\n</g>\n<!-- 140671680159248* -->\n<g id=\"node178\" class=\"node\">\n<title>140671680159248*</title>\n<ellipse fill=\"none\" stroke=\"black\" cx=\"2749\" cy=\"-432.5\" rx=\"27\" ry=\"18\"/>\n<text text-anchor=\"middle\" x=\"2749\" y=\"-428.8\" font-family=\"Times,serif\" font-size=\"14.00\">*</text>\n</g>\n<!-- 140671680913936&#45;&gt;140671680159248* -->\n<g id=\"edge182\" class=\"edge\">\n<title>140671680913936&#45;&gt;140671680159248*</title>\n<path fill=\"none\" stroke=\"black\" d=\"M2683.82,-432.5C2693.57,-432.5 2703.04,-432.5 2711.57,-432.5\"/>\n<polygon fill=\"black\" stroke=\"black\" points=\"2711.83,-436 2721.83,-432.5 2711.83,-429 2711.83,-436\"/>\n</g>\n<!-- 140671680914256 -->\n<g id=\"node8\" class=\"node\">\n<title>140671680914256</title>\n<polygon fill=\"none\" stroke=\"black\" points=\"934,-440.5 934,-476.5 1121,-476.5 1121,-440.5 934,-440.5\"/>\n<text text-anchor=\"middle\" x=\"944\" y=\"-454.8\" font-family=\"Times,serif\" font-size=\"14.00\"> </text>\n<polyline fill=\"none\" stroke=\"black\" points=\"954,-440.5 954,-476.5 \"/>\n<text text-anchor=\"middle\" x=\"996.5\" y=\"-454.8\" font-family=\"Times,serif\" font-size=\"14.00\">data &#45;0.1021</text>\n<polyline fill=\"none\" stroke=\"black\" points=\"1039,-440.5 1039,-476.5 \"/>\n<text text-anchor=\"middle\" x=\"1080\" y=\"-454.8\" font-family=\"Times,serif\" font-size=\"14.00\">grad 0.0000</text>\n</g>\n<!-- 140671680915984+ -->\n<g id=\"node49\" class=\"node\">\n<title>140671680915984+</title>\n<ellipse fill=\"none\" stroke=\"black\" cx=\"1184\" cy=\"-430.5\" rx=\"27\" ry=\"18\"/>\n<text text-anchor=\"middle\" x=\"1184\" y=\"-426.8\" font-family=\"Times,serif\" font-size=\"14.00\">+</text>\n</g>\n<!-- 140671680914256&#45;&gt;140671680915984+ -->\n<g id=\"edge125\" class=\"edge\">\n<title>140671680914256&#45;&gt;140671680915984+</title>\n<path fill=\"none\" stroke=\"black\" d=\"M1121.05,-441.73C1130.54,-440.01 1139.71,-438.35 1147.95,-436.85\"/>\n<polygon fill=\"black\" stroke=\"black\" points=\"1148.64,-440.28 1157.85,-435.06 1147.39,-433.4 1148.64,-440.28\"/>\n</g>\n<!-- 140671680914256* -->\n<g id=\"node9\" class=\"node\">\n<title>140671680914256*</title>\n<ellipse fill=\"none\" stroke=\"black\" cx=\"871\" cy=\"-458.5\" rx=\"27\" ry=\"18\"/>\n<text text-anchor=\"middle\" x=\"871\" y=\"-454.8\" font-family=\"Times,serif\" font-size=\"14.00\">*</text>\n</g>\n<!-- 140671680914256*&#45;&gt;140671680914256 -->\n<g id=\"edge3\" class=\"edge\">\n<title>140671680914256*&#45;&gt;140671680914256</title>\n<path fill=\"none\" stroke=\"black\" d=\"M898.21,-458.5C905.73,-458.5 914.43,-458.5 923.67,-458.5\"/>\n<polygon fill=\"black\" stroke=\"black\" points=\"923.89,-462 933.89,-458.5 923.89,-455 923.89,-462\"/>\n</g>\n<!-- 140671681282960 -->\n<g id=\"node10\" class=\"node\">\n<title>140671681282960</title>\n<polygon fill=\"none\" stroke=\"black\" points=\"1875.5,-907.5 1875.5,-943.5 2057.5,-943.5 2057.5,-907.5 1875.5,-907.5\"/>\n<text text-anchor=\"middle\" x=\"1885.5\" y=\"-921.8\" font-family=\"Times,serif\" font-size=\"14.00\"> </text>\n<polyline fill=\"none\" stroke=\"black\" points=\"1895.5,-907.5 1895.5,-943.5 \"/>\n<text text-anchor=\"middle\" x=\"1935.5\" y=\"-921.8\" font-family=\"Times,serif\" font-size=\"14.00\">data 1.0063</text>\n<polyline fill=\"none\" stroke=\"black\" points=\"1975.5,-907.5 1975.5,-943.5 \"/>\n<text text-anchor=\"middle\" x=\"2016.5\" y=\"-921.8\" font-family=\"Times,serif\" font-size=\"14.00\">grad 0.0000</text>\n</g>\n<!-- 140671681283664tanh -->\n<g id=\"node30\" class=\"node\">\n<title>140671681283664tanh</title>\n<ellipse fill=\"none\" stroke=\"black\" cx=\"2123\" cy=\"-897.5\" rx=\"27\" ry=\"18\"/>\n<text text-anchor=\"middle\" x=\"2123\" y=\"-893.8\" font-family=\"Times,serif\" font-size=\"14.00\">tanh</text>\n</g>\n<!-- 140671681282960&#45;&gt;140671681283664tanh -->\n<g id=\"edge78\" class=\"edge\">\n<title>140671681282960&#45;&gt;140671681283664tanh</title>\n<path fill=\"none\" stroke=\"black\" d=\"M2057.82,-909.13C2068.07,-907.27 2078.01,-905.47 2086.88,-903.87\"/>\n<polygon fill=\"black\" stroke=\"black\" points=\"2087.54,-907.3 2096.75,-902.08 2086.29,-900.42 2087.54,-907.3\"/>\n</g>\n<!-- 140671681282960+ -->\n<g id=\"node11\" class=\"node\">\n<title>140671681282960+</title>\n<ellipse fill=\"none\" stroke=\"black\" cx=\"1810\" cy=\"-925.5\" rx=\"27\" ry=\"18\"/>\n<text text-anchor=\"middle\" x=\"1810\" y=\"-921.8\" font-family=\"Times,serif\" font-size=\"14.00\">+</text>\n</g>\n<!-- 140671681282960+&#45;&gt;140671681282960 -->\n<g id=\"edge4\" class=\"edge\">\n<title>140671681282960+&#45;&gt;140671681282960</title>\n<path fill=\"none\" stroke=\"black\" d=\"M1837.21,-925.5C1845.34,-925.5 1854.85,-925.5 1864.94,-925.5\"/>\n<polygon fill=\"black\" stroke=\"black\" points=\"1865.19,-929 1875.19,-925.5 1865.19,-922 1865.19,-929\"/>\n</g>\n<!-- 140671680914320 -->\n<g id=\"node12\" class=\"node\">\n<title>140671680914320</title>\n<polygon fill=\"none\" stroke=\"black\" points=\"1875.5,-742.5 1875.5,-778.5 2057.5,-778.5 2057.5,-742.5 1875.5,-742.5\"/>\n<text text-anchor=\"middle\" x=\"1885.5\" y=\"-756.8\" font-family=\"Times,serif\" font-size=\"14.00\"> </text>\n<polyline fill=\"none\" stroke=\"black\" points=\"1895.5,-742.5 1895.5,-778.5 \"/>\n<text text-anchor=\"middle\" x=\"1935.5\" y=\"-756.8\" font-family=\"Times,serif\" font-size=\"14.00\">data 0.3387</text>\n<polyline fill=\"none\" stroke=\"black\" points=\"1975.5,-742.5 1975.5,-778.5 \"/>\n<text text-anchor=\"middle\" x=\"2016.5\" y=\"-756.8\" font-family=\"Times,serif\" font-size=\"14.00\">grad 0.0000</text>\n</g>\n<!-- 140671680160848+ -->\n<g id=\"node16\" class=\"node\">\n<title>140671680160848+</title>\n<ellipse fill=\"none\" stroke=\"black\" cx=\"2123\" cy=\"-650.5\" rx=\"27\" ry=\"18\"/>\n<text text-anchor=\"middle\" x=\"2123\" y=\"-646.8\" font-family=\"Times,serif\" font-size=\"14.00\">+</text>\n</g>\n<!-- 140671680914320&#45;&gt;140671680160848+ -->\n<g id=\"edge90\" class=\"edge\">\n<title>140671680914320&#45;&gt;140671680160848+</title>\n<path fill=\"none\" stroke=\"black\" d=\"M2045.23,-742.44C2050.44,-739.85 2055.43,-736.89 2060,-733.5 2083.47,-716.11 2078,-701.51 2096,-678.5 2097.4,-676.72 2098.88,-674.91 2100.41,-673.12\"/>\n<polygon fill=\"black\" stroke=\"black\" points=\"2103.17,-675.28 2107.21,-665.49 2097.94,-670.63 2103.17,-675.28\"/>\n</g>\n<!-- 140671681234000 -->\n<g id=\"node13\" class=\"node\">\n<title>140671681234000</title>\n<polygon fill=\"none\" stroke=\"black\" points=\"3974,-441.5 3974,-477.5 4161,-477.5 4161,-441.5 3974,-441.5\"/>\n<text text-anchor=\"middle\" x=\"3984\" y=\"-455.8\" font-family=\"Times,serif\" font-size=\"14.00\"> </text>\n<polyline fill=\"none\" stroke=\"black\" points=\"3994,-441.5 3994,-477.5 \"/>\n<text text-anchor=\"middle\" x=\"4036.5\" y=\"-455.8\" font-family=\"Times,serif\" font-size=\"14.00\">data &#45;0.0475</text>\n<polyline fill=\"none\" stroke=\"black\" points=\"4079,-441.5 4079,-477.5 \"/>\n<text text-anchor=\"middle\" x=\"4120\" y=\"-455.8\" font-family=\"Times,serif\" font-size=\"14.00\">grad 0.0000</text>\n</g>\n<!-- 140671681235088+ -->\n<g id=\"node38\" class=\"node\">\n<title>140671681235088+</title>\n<ellipse fill=\"none\" stroke=\"black\" cx=\"4447\" cy=\"-496.5\" rx=\"27\" ry=\"18\"/>\n<text text-anchor=\"middle\" x=\"4447\" y=\"-492.8\" font-family=\"Times,serif\" font-size=\"14.00\">+</text>\n</g>\n<!-- 140671681234000&#45;&gt;140671681235088+ -->\n<g id=\"edge196\" class=\"edge\">\n<title>140671681234000&#45;&gt;140671681235088+</title>\n<path fill=\"none\" stroke=\"black\" d=\"M4161.24,-464.86C4224.22,-469.06 4309.33,-475.82 4384,-485.5 4392.81,-486.64 4402.26,-488.17 4411.08,-489.72\"/>\n<polygon fill=\"black\" stroke=\"black\" points=\"4410.58,-493.18 4421.04,-491.52 4411.83,-486.29 4410.58,-493.18\"/>\n</g>\n<!-- 140671681234000*&#45;&gt;140671681234000 -->\n<g id=\"edge5\" class=\"edge\">\n<title>140671681234000*&#45;&gt;140671681234000</title>\n<path fill=\"none\" stroke=\"black\" d=\"M3715.25,-459.5C3765.86,-459.5 3879.4,-459.5 3963.77,-459.5\"/>\n<polygon fill=\"black\" stroke=\"black\" points=\"3963.9,-463 3973.9,-459.5 3963.9,-456 3963.9,-463\"/>\n</g>\n<!-- 140671680160848 -->\n<g id=\"node15\" class=\"node\">\n<title>140671680160848</title>\n<polygon fill=\"none\" stroke=\"black\" points=\"2188.5,-632.5 2188.5,-668.5 2370.5,-668.5 2370.5,-632.5 2188.5,-632.5\"/>\n<text text-anchor=\"middle\" x=\"2198.5\" y=\"-646.8\" font-family=\"Times,serif\" font-size=\"14.00\"> </text>\n<polyline fill=\"none\" stroke=\"black\" points=\"2208.5,-632.5 2208.5,-668.5 \"/>\n<text text-anchor=\"middle\" x=\"2248.5\" y=\"-646.8\" font-family=\"Times,serif\" font-size=\"14.00\">data 1.2685</text>\n<polyline fill=\"none\" stroke=\"black\" points=\"2288.5,-632.5 2288.5,-668.5 \"/>\n<text text-anchor=\"middle\" x=\"2329.5\" y=\"-646.8\" font-family=\"Times,serif\" font-size=\"14.00\">grad 0.0000</text>\n</g>\n<!-- 140671680164752+ -->\n<g id=\"node109\" class=\"node\">\n<title>140671680164752+</title>\n<ellipse fill=\"none\" stroke=\"black\" cx=\"2436\" cy=\"-733.5\" rx=\"27\" ry=\"18\"/>\n<text text-anchor=\"middle\" x=\"2436\" y=\"-729.8\" font-family=\"Times,serif\" font-size=\"14.00\">+</text>\n</g>\n<!-- 140671680160848&#45;&gt;140671680164752+ -->\n<g id=\"edge139\" class=\"edge\">\n<title>140671680160848&#45;&gt;140671680164752+</title>\n<path fill=\"none\" stroke=\"black\" d=\"M2351.51,-668.51C2358.96,-671.42 2366.26,-674.73 2373,-678.5 2388.1,-686.94 2402.7,-699.59 2413.93,-710.63\"/>\n<polygon fill=\"black\" stroke=\"black\" points=\"2411.62,-713.27 2421.13,-717.94 2416.61,-708.36 2411.62,-713.27\"/>\n</g>\n<!-- 140671680160848+&#45;&gt;140671680160848 -->\n<g id=\"edge6\" class=\"edge\">\n<title>140671680160848+&#45;&gt;140671680160848</title>\n<path fill=\"none\" stroke=\"black\" d=\"M2150.21,-650.5C2158.34,-650.5 2167.85,-650.5 2177.94,-650.5\"/>\n<polygon fill=\"black\" stroke=\"black\" points=\"2178.19,-654 2188.19,-650.5 2178.19,-647 2178.19,-654\"/>\n</g>\n<!-- 140671680906384 -->\n<g id=\"node17\" class=\"node\">\n<title>140671680906384</title>\n<polygon fill=\"none\" stroke=\"black\" points=\"3438,-496.5 3438,-532.5 3625,-532.5 3625,-496.5 3438,-496.5\"/>\n<text text-anchor=\"middle\" x=\"3448\" y=\"-510.8\" font-family=\"Times,serif\" font-size=\"14.00\"> </text>\n<polyline fill=\"none\" stroke=\"black\" points=\"3458,-496.5 3458,-532.5 \"/>\n<text text-anchor=\"middle\" x=\"3500.5\" y=\"-510.8\" font-family=\"Times,serif\" font-size=\"14.00\">data &#45;0.6077</text>\n<polyline fill=\"none\" stroke=\"black\" points=\"3543,-496.5 3543,-532.5 \"/>\n<text text-anchor=\"middle\" x=\"3584\" y=\"-510.8\" font-family=\"Times,serif\" font-size=\"14.00\">grad 0.0000</text>\n</g>\n<!-- 140671680906384&#45;&gt;140671681245584* -->\n<g id=\"edge137\" class=\"edge\">\n<title>140671680906384&#45;&gt;140671681245584*</title>\n<path fill=\"none\" stroke=\"black\" d=\"M3625.05,-514.5C3634.06,-514.5 3642.79,-514.5 3650.7,-514.5\"/>\n<polygon fill=\"black\" stroke=\"black\" points=\"3650.95,-518 3660.95,-514.5 3650.95,-511 3650.95,-518\"/>\n</g>\n<!-- 140671681242256 -->\n<g id=\"node18\" class=\"node\">\n<title>140671681242256</title>\n<polygon fill=\"none\" stroke=\"black\" points=\"3127.5,-276.5 3127.5,-312.5 3309.5,-312.5 3309.5,-276.5 3127.5,-276.5\"/>\n<text text-anchor=\"middle\" x=\"3137.5\" y=\"-290.8\" font-family=\"Times,serif\" font-size=\"14.00\"> </text>\n<polyline fill=\"none\" stroke=\"black\" points=\"3147.5,-276.5 3147.5,-312.5 \"/>\n<text text-anchor=\"middle\" x=\"3187.5\" y=\"-290.8\" font-family=\"Times,serif\" font-size=\"14.00\">data 1.4204</text>\n<polyline fill=\"none\" stroke=\"black\" points=\"3227.5,-276.5 3227.5,-312.5 \"/>\n<text text-anchor=\"middle\" x=\"3268.5\" y=\"-290.8\" font-family=\"Times,serif\" font-size=\"14.00\">grad 0.0000</text>\n</g>\n<!-- 140671681242448tanh -->\n<g id=\"node25\" class=\"node\">\n<title>140671681242448tanh</title>\n<ellipse fill=\"none\" stroke=\"black\" cx=\"3375\" cy=\"-294.5\" rx=\"27\" ry=\"18\"/>\n<text text-anchor=\"middle\" x=\"3375\" y=\"-290.8\" font-family=\"Times,serif\" font-size=\"14.00\">tanh</text>\n</g>\n<!-- 140671681242256&#45;&gt;140671681242448tanh -->\n<g id=\"edge186\" class=\"edge\">\n<title>140671681242256&#45;&gt;140671681242448tanh</title>\n<path fill=\"none\" stroke=\"black\" d=\"M3309.82,-294.5C3319.57,-294.5 3329.04,-294.5 3337.57,-294.5\"/>\n<polygon fill=\"black\" stroke=\"black\" points=\"3337.83,-298 3347.83,-294.5 3337.83,-291 3337.83,-298\"/>\n</g>\n<!-- 140671681242256+ -->\n<g id=\"node19\" class=\"node\">\n<title>140671681242256+</title>\n<ellipse fill=\"none\" stroke=\"black\" cx=\"3062\" cy=\"-294.5\" rx=\"27\" ry=\"18\"/>\n<text text-anchor=\"middle\" x=\"3062\" y=\"-290.8\" font-family=\"Times,serif\" font-size=\"14.00\">+</text>\n</g>\n<!-- 140671681242256+&#45;&gt;140671681242256 -->\n<g id=\"edge7\" class=\"edge\">\n<title>140671681242256+&#45;&gt;140671681242256</title>\n<path fill=\"none\" stroke=\"black\" d=\"M3089.21,-294.5C3097.34,-294.5 3106.85,-294.5 3116.94,-294.5\"/>\n<polygon fill=\"black\" stroke=\"black\" points=\"3117.19,-298 3127.19,-294.5 3117.19,-291 3117.19,-298\"/>\n</g>\n<!-- 140671681283280 -->\n<g id=\"node20\" class=\"node\">\n<title>140671681283280</title>\n<polygon fill=\"none\" stroke=\"black\" points=\"1560,-247.5 1560,-283.5 1747,-283.5 1747,-247.5 1560,-247.5\"/>\n<text text-anchor=\"middle\" x=\"1570\" y=\"-261.8\" font-family=\"Times,serif\" font-size=\"14.00\"> </text>\n<polyline fill=\"none\" stroke=\"black\" points=\"1580,-247.5 1580,-283.5 \"/>\n<text text-anchor=\"middle\" x=\"1622.5\" y=\"-261.8\" font-family=\"Times,serif\" font-size=\"14.00\">data &#45;1.0000</text>\n<polyline fill=\"none\" stroke=\"black\" points=\"1665,-247.5 1665,-283.5 \"/>\n<text text-anchor=\"middle\" x=\"1706\" y=\"-261.8\" font-family=\"Times,serif\" font-size=\"14.00\">grad 0.0000</text>\n</g>\n<!-- 140671681288464* -->\n<g id=\"node142\" class=\"node\">\n<title>140671681288464*</title>\n<ellipse fill=\"none\" stroke=\"black\" cx=\"1810\" cy=\"-210.5\" rx=\"27\" ry=\"18\"/>\n<text text-anchor=\"middle\" x=\"1810\" y=\"-206.8\" font-family=\"Times,serif\" font-size=\"14.00\">*</text>\n</g>\n<!-- 140671681283280&#45;&gt;140671681288464* -->\n<g id=\"edge99\" class=\"edge\">\n<title>140671681283280&#45;&gt;140671681288464*</title>\n<path fill=\"none\" stroke=\"black\" d=\"M1720.56,-247.45C1729.51,-244.64 1738.53,-241.63 1747,-238.5 1757.49,-234.62 1768.71,-229.78 1778.68,-225.22\"/>\n<polygon fill=\"black\" stroke=\"black\" points=\"1780.2,-228.37 1787.79,-220.97 1777.25,-222.02 1780.2,-228.37\"/>\n</g>\n<!-- 140671680914640 -->\n<g id=\"node21\" class=\"node\">\n<title>140671680914640</title>\n<polygon fill=\"none\" stroke=\"black\" points=\"2188.5,-577.5 2188.5,-613.5 2370.5,-613.5 2370.5,-577.5 2188.5,-577.5\"/>\n<text text-anchor=\"middle\" x=\"2198.5\" y=\"-591.8\" font-family=\"Times,serif\" font-size=\"14.00\"> </text>\n<polyline fill=\"none\" stroke=\"black\" points=\"2208.5,-577.5 2208.5,-613.5 \"/>\n<text text-anchor=\"middle\" x=\"2248.5\" y=\"-591.8\" font-family=\"Times,serif\" font-size=\"14.00\">data 0.2447</text>\n<polyline fill=\"none\" stroke=\"black\" points=\"2288.5,-577.5 2288.5,-613.5 \"/>\n<text text-anchor=\"middle\" x=\"2329.5\" y=\"-591.8\" font-family=\"Times,serif\" font-size=\"14.00\">grad 0.0000</text>\n</g>\n<!-- 140671681237136* -->\n<g id=\"node91\" class=\"node\">\n<title>140671681237136*</title>\n<ellipse fill=\"none\" stroke=\"black\" cx=\"2436\" cy=\"-652.5\" rx=\"27\" ry=\"18\"/>\n<text text-anchor=\"middle\" x=\"2436\" y=\"-648.8\" font-family=\"Times,serif\" font-size=\"14.00\">*</text>\n</g>\n<!-- 140671680914640&#45;&gt;140671681237136* -->\n<g id=\"edge132\" class=\"edge\">\n<title>140671680914640&#45;&gt;140671681237136*</title>\n<path fill=\"none\" stroke=\"black\" d=\"M2344.6,-613.59C2354.19,-616.68 2363.91,-620.02 2373,-623.5 2383.6,-627.56 2394.91,-632.62 2404.94,-637.38\"/>\n<polygon fill=\"black\" stroke=\"black\" points=\"2403.56,-640.6 2414.09,-641.8 2406.61,-634.3 2403.56,-640.6\"/>\n</g>\n<!-- 140671681332496 -->\n<g id=\"node22\" class=\"node\">\n<title>140671681332496</title>\n<polygon fill=\"none\" stroke=\"black\" points=\"0,-413.5 0,-449.5 182,-449.5 182,-413.5 0,-413.5\"/>\n<text text-anchor=\"middle\" x=\"10\" y=\"-427.8\" font-family=\"Times,serif\" font-size=\"14.00\"> </text>\n<polyline fill=\"none\" stroke=\"black\" points=\"20,-413.5 20,-449.5 \"/>\n<text text-anchor=\"middle\" x=\"60\" y=\"-427.8\" font-family=\"Times,serif\" font-size=\"14.00\">data 0.6135</text>\n<polyline fill=\"none\" stroke=\"black\" points=\"100,-413.5 100,-449.5 \"/>\n<text text-anchor=\"middle\" x=\"141\" y=\"-427.8\" font-family=\"Times,serif\" font-size=\"14.00\">grad 0.0000</text>\n</g>\n<!-- 140671680912144* -->\n<g id=\"node156\" class=\"node\">\n<title>140671680912144*</title>\n<ellipse fill=\"none\" stroke=\"black\" cx=\"245\" cy=\"-403.5\" rx=\"27\" ry=\"18\"/>\n<text text-anchor=\"middle\" x=\"245\" y=\"-399.8\" font-family=\"Times,serif\" font-size=\"14.00\">*</text>\n</g>\n<!-- 140671681332496&#45;&gt;140671680912144* -->\n<g id=\"edge126\" class=\"edge\">\n<title>140671681332496&#45;&gt;140671680912144*</title>\n<path fill=\"none\" stroke=\"black\" d=\"M182.18,-414.89C191.61,-413.15 200.75,-411.47 208.98,-409.95\"/>\n<polygon fill=\"black\" stroke=\"black\" points=\"209.66,-413.39 218.86,-408.13 208.39,-406.5 209.66,-413.39\"/>\n</g>\n<!-- 140671680914704 -->\n<g id=\"node23\" class=\"node\">\n<title>140671680914704</title>\n<polygon fill=\"none\" stroke=\"black\" points=\"1562.5,-577.5 1562.5,-613.5 1744.5,-613.5 1744.5,-577.5 1562.5,-577.5\"/>\n<text text-anchor=\"middle\" x=\"1572.5\" y=\"-591.8\" font-family=\"Times,serif\" font-size=\"14.00\"> </text>\n<polyline fill=\"none\" stroke=\"black\" points=\"1582.5,-577.5 1582.5,-613.5 \"/>\n<text text-anchor=\"middle\" x=\"1622.5\" y=\"-591.8\" font-family=\"Times,serif\" font-size=\"14.00\">data 0.9368</text>\n<polyline fill=\"none\" stroke=\"black\" points=\"1662.5,-577.5 1662.5,-613.5 \"/>\n<text text-anchor=\"middle\" x=\"1703.5\" y=\"-591.8\" font-family=\"Times,serif\" font-size=\"14.00\">grad 0.0000</text>\n</g>\n<!-- 140671680154384* -->\n<g id=\"node59\" class=\"node\">\n<title>140671680154384*</title>\n<ellipse fill=\"none\" stroke=\"black\" cx=\"1810\" cy=\"-595.5\" rx=\"27\" ry=\"18\"/>\n<text text-anchor=\"middle\" x=\"1810\" y=\"-591.8\" font-family=\"Times,serif\" font-size=\"14.00\">*</text>\n</g>\n<!-- 140671680914704&#45;&gt;140671680154384* -->\n<g id=\"edge143\" class=\"edge\">\n<title>140671680914704&#45;&gt;140671680154384*</title>\n<path fill=\"none\" stroke=\"black\" d=\"M1744.82,-595.5C1754.57,-595.5 1764.04,-595.5 1772.57,-595.5\"/>\n<polygon fill=\"black\" stroke=\"black\" points=\"1772.83,-599 1782.83,-595.5 1772.83,-592 1772.83,-599\"/>\n</g>\n<!-- 140671681242448 -->\n<g id=\"node24\" class=\"node\">\n<title>140671681242448</title>\n<polygon fill=\"none\" stroke=\"black\" points=\"3440.5,-276.5 3440.5,-312.5 3622.5,-312.5 3622.5,-276.5 3440.5,-276.5\"/>\n<text text-anchor=\"middle\" x=\"3450.5\" y=\"-290.8\" font-family=\"Times,serif\" font-size=\"14.00\"> </text>\n<polyline fill=\"none\" stroke=\"black\" points=\"3460.5,-276.5 3460.5,-312.5 \"/>\n<text text-anchor=\"middle\" x=\"3500.5\" y=\"-290.8\" font-family=\"Times,serif\" font-size=\"14.00\">data 0.8897</text>\n<polyline fill=\"none\" stroke=\"black\" points=\"3540.5,-276.5 3540.5,-312.5 \"/>\n<text text-anchor=\"middle\" x=\"3581.5\" y=\"-290.8\" font-family=\"Times,serif\" font-size=\"14.00\">grad 0.0000</text>\n</g>\n<!-- 140671681242448&#45;&gt;140671679995600* -->\n<g id=\"edge173\" class=\"edge\">\n<title>140671681242448&#45;&gt;140671679995600*</title>\n<path fill=\"none\" stroke=\"black\" d=\"M3596.02,-312.65C3605.79,-315.76 3615.71,-319.08 3625,-322.5 3635.25,-326.27 3646.23,-330.86 3656.07,-335.18\"/>\n<polygon fill=\"black\" stroke=\"black\" points=\"3654.89,-338.49 3665.45,-339.37 3657.74,-332.1 3654.89,-338.49\"/>\n</g>\n<!-- 140671681242448tanh&#45;&gt;140671681242448 -->\n<g id=\"edge8\" class=\"edge\">\n<title>140671681242448tanh&#45;&gt;140671681242448</title>\n<path fill=\"none\" stroke=\"black\" d=\"M3402.21,-294.5C3410.34,-294.5 3419.85,-294.5 3429.94,-294.5\"/>\n<polygon fill=\"black\" stroke=\"black\" points=\"3430.19,-298 3440.19,-294.5 3430.19,-291 3430.19,-298\"/>\n</g>\n<!-- 140671680914768 -->\n<g id=\"node26\" class=\"node\">\n<title>140671680914768</title>\n<polygon fill=\"none\" stroke=\"black\" points=\"1875.5,-412.5 1875.5,-448.5 2057.5,-448.5 2057.5,-412.5 1875.5,-412.5\"/>\n<text text-anchor=\"middle\" x=\"1885.5\" y=\"-426.8\" font-family=\"Times,serif\" font-size=\"14.00\"> </text>\n<polyline fill=\"none\" stroke=\"black\" points=\"1895.5,-412.5 1895.5,-448.5 \"/>\n<text text-anchor=\"middle\" x=\"1935.5\" y=\"-426.8\" font-family=\"Times,serif\" font-size=\"14.00\">data 0.3605</text>\n<polyline fill=\"none\" stroke=\"black\" points=\"1975.5,-412.5 1975.5,-448.5 \"/>\n<text text-anchor=\"middle\" x=\"2016.5\" y=\"-426.8\" font-family=\"Times,serif\" font-size=\"14.00\">grad 0.0000</text>\n</g>\n<!-- 140671680159440* -->\n<g id=\"node194\" class=\"node\">\n<title>140671680159440*</title>\n<ellipse fill=\"none\" stroke=\"black\" cx=\"2123\" cy=\"-430.5\" rx=\"27\" ry=\"18\"/>\n<text text-anchor=\"middle\" x=\"2123\" y=\"-426.8\" font-family=\"Times,serif\" font-size=\"14.00\">*</text>\n</g>\n<!-- 140671680914768&#45;&gt;140671680159440* -->\n<g id=\"edge197\" class=\"edge\">\n<title>140671680914768&#45;&gt;140671680159440*</title>\n<path fill=\"none\" stroke=\"black\" d=\"M2057.82,-430.5C2067.57,-430.5 2077.04,-430.5 2085.57,-430.5\"/>\n<polygon fill=\"black\" stroke=\"black\" points=\"2085.83,-434 2095.83,-430.5 2085.83,-427 2085.83,-434\"/>\n</g>\n<!-- 140671681291792 -->\n<g id=\"node27\" class=\"node\">\n<title>140671681291792</title>\n<polygon fill=\"none\" stroke=\"black\" points=\"2814.5,-359.5 2814.5,-395.5 2996.5,-395.5 2996.5,-359.5 2814.5,-359.5\"/>\n<text text-anchor=\"middle\" x=\"2824.5\" y=\"-373.8\" font-family=\"Times,serif\" font-size=\"14.00\"> </text>\n<polyline fill=\"none\" stroke=\"black\" points=\"2834.5,-359.5 2834.5,-395.5 \"/>\n<text text-anchor=\"middle\" x=\"2874.5\" y=\"-373.8\" font-family=\"Times,serif\" font-size=\"14.00\">data 0.5270</text>\n<polyline fill=\"none\" stroke=\"black\" points=\"2914.5,-359.5 2914.5,-395.5 \"/>\n<text text-anchor=\"middle\" x=\"2955.5\" y=\"-373.8\" font-family=\"Times,serif\" font-size=\"14.00\">grad 0.0000</text>\n</g>\n<!-- 140671680157456+ -->\n<g id=\"node127\" class=\"node\">\n<title>140671680157456+</title>\n<ellipse fill=\"none\" stroke=\"black\" cx=\"3062\" cy=\"-569.5\" rx=\"27\" ry=\"18\"/>\n<text text-anchor=\"middle\" x=\"3062\" y=\"-565.8\" font-family=\"Times,serif\" font-size=\"14.00\">+</text>\n</g>\n<!-- 140671681291792&#45;&gt;140671680157456+ -->\n<g id=\"edge204\" class=\"edge\">\n<title>140671681291792&#45;&gt;140671680157456+</title>\n<path fill=\"none\" stroke=\"black\" d=\"M2985.58,-395.62C2990.42,-398.45 2994.95,-401.72 2999,-405.5 3037.86,-441.82 3052.56,-504.97 3057.97,-541.4\"/>\n<polygon fill=\"black\" stroke=\"black\" points=\"3054.51,-541.92 3059.32,-551.36 3061.45,-540.98 3054.51,-541.92\"/>\n</g>\n<!-- 140671681291792* -->\n<g id=\"node28\" class=\"node\">\n<title>140671681291792*</title>\n<ellipse fill=\"none\" stroke=\"black\" cx=\"2749\" cy=\"-377.5\" rx=\"27\" ry=\"18\"/>\n<text text-anchor=\"middle\" x=\"2749\" y=\"-373.8\" font-family=\"Times,serif\" font-size=\"14.00\">*</text>\n</g>\n<!-- 140671681291792*&#45;&gt;140671681291792 -->\n<g id=\"edge9\" class=\"edge\">\n<title>140671681291792*&#45;&gt;140671681291792</title>\n<path fill=\"none\" stroke=\"black\" d=\"M2776.21,-377.5C2784.34,-377.5 2793.85,-377.5 2803.94,-377.5\"/>\n<polygon fill=\"black\" stroke=\"black\" points=\"2804.19,-381 2814.19,-377.5 2804.19,-374 2804.19,-381\"/>\n</g>\n<!-- 140671681283664 -->\n<g id=\"node29\" class=\"node\">\n<title>140671681283664</title>\n<polygon fill=\"none\" stroke=\"black\" points=\"2188.5,-852.5 2188.5,-888.5 2370.5,-888.5 2370.5,-852.5 2188.5,-852.5\"/>\n<text text-anchor=\"middle\" x=\"2198.5\" y=\"-866.8\" font-family=\"Times,serif\" font-size=\"14.00\"> </text>\n<polyline fill=\"none\" stroke=\"black\" points=\"2208.5,-852.5 2208.5,-888.5 \"/>\n<text text-anchor=\"middle\" x=\"2248.5\" y=\"-866.8\" font-family=\"Times,serif\" font-size=\"14.00\">data 0.7642</text>\n<polyline fill=\"none\" stroke=\"black\" points=\"2288.5,-852.5 2288.5,-888.5 \"/>\n<text text-anchor=\"middle\" x=\"2329.5\" y=\"-866.8\" font-family=\"Times,serif\" font-size=\"14.00\">grad 0.0000</text>\n</g>\n<!-- 140671680162448* -->\n<g id=\"node55\" class=\"node\">\n<title>140671680162448*</title>\n<ellipse fill=\"none\" stroke=\"black\" cx=\"2436\" cy=\"-815.5\" rx=\"27\" ry=\"18\"/>\n<text text-anchor=\"middle\" x=\"2436\" y=\"-811.8\" font-family=\"Times,serif\" font-size=\"14.00\">*</text>\n</g>\n<!-- 140671681283664&#45;&gt;140671680162448* -->\n<g id=\"edge188\" class=\"edge\">\n<title>140671681283664&#45;&gt;140671680162448*</title>\n<path fill=\"none\" stroke=\"black\" d=\"M2346.56,-852.45C2355.51,-849.64 2364.53,-846.63 2373,-843.5 2383.49,-839.62 2394.71,-834.78 2404.68,-830.22\"/>\n<polygon fill=\"black\" stroke=\"black\" points=\"2406.2,-833.37 2413.79,-825.97 2403.25,-827.02 2406.2,-833.37\"/>\n</g>\n<!-- 140671681283664&#45;&gt;140671681237136* -->\n<g id=\"edge120\" class=\"edge\">\n<title>140671681283664&#45;&gt;140671681237136*</title>\n<path fill=\"none\" stroke=\"black\" d=\"M2362.15,-852.39C2366.07,-849.8 2369.73,-846.86 2373,-843.5 2416.91,-798.39 2387.24,-765.58 2409,-706.5 2412.43,-697.18 2416.92,-687.3 2421.2,-678.58\"/>\n<polygon fill=\"black\" stroke=\"black\" points=\"2424.33,-680.15 2425.7,-669.64 2418.08,-677 2424.33,-680.15\"/>\n</g>\n<!-- 140671680164048* -->\n<g id=\"node94\" class=\"node\">\n<title>140671680164048*</title>\n<ellipse fill=\"none\" stroke=\"black\" cx=\"2436\" cy=\"-923.5\" rx=\"27\" ry=\"18\"/>\n<text text-anchor=\"middle\" x=\"2436\" y=\"-919.8\" font-family=\"Times,serif\" font-size=\"14.00\">*</text>\n</g>\n<!-- 140671681283664&#45;&gt;140671680164048* -->\n<g id=\"edge101\" class=\"edge\">\n<title>140671681283664&#45;&gt;140671680164048*</title>\n<path fill=\"none\" stroke=\"black\" d=\"M2342.94,-888.57C2353.04,-891.73 2363.35,-895.1 2373,-898.5 2383.02,-902.03 2393.79,-906.23 2403.51,-910.17\"/>\n<polygon fill=\"black\" stroke=\"black\" points=\"2402.22,-913.42 2412.8,-913.99 2404.88,-906.95 2402.22,-913.42\"/>\n</g>\n<!-- 140671681287952* -->\n<g id=\"node129\" class=\"node\">\n<title>140671681287952*</title>\n<ellipse fill=\"none\" stroke=\"black\" cx=\"2436\" cy=\"-869.5\" rx=\"27\" ry=\"18\"/>\n<text text-anchor=\"middle\" x=\"2436\" y=\"-865.8\" font-family=\"Times,serif\" font-size=\"14.00\">*</text>\n</g>\n<!-- 140671681283664&#45;&gt;140671681287952* -->\n<g id=\"edge185\" class=\"edge\">\n<title>140671681283664&#45;&gt;140671681287952*</title>\n<path fill=\"none\" stroke=\"black\" d=\"M2370.82,-869.92C2380.57,-869.85 2390.04,-869.79 2398.57,-869.74\"/>\n<polygon fill=\"black\" stroke=\"black\" points=\"2398.85,-873.23 2408.83,-869.67 2398.81,-866.23 2398.85,-873.23\"/>\n</g>\n<!-- 140671681283664tanh&#45;&gt;140671681283664 -->\n<g id=\"edge10\" class=\"edge\">\n<title>140671681283664tanh&#45;&gt;140671681283664</title>\n<path fill=\"none\" stroke=\"black\" d=\"M2149.51,-893.04C2157.83,-891.59 2167.62,-889.88 2178.03,-888.06\"/>\n<polygon fill=\"black\" stroke=\"black\" points=\"2178.93,-891.45 2188.18,-886.28 2177.73,-884.56 2178.93,-891.45\"/>\n</g>\n<!-- 140671680153168 -->\n<g id=\"node31\" class=\"node\">\n<title>140671680153168</title>\n<polygon fill=\"none\" stroke=\"black\" points=\"3127.5,-606.5 3127.5,-642.5 3309.5,-642.5 3309.5,-606.5 3127.5,-606.5\"/>\n<text text-anchor=\"middle\" x=\"3137.5\" y=\"-620.8\" font-family=\"Times,serif\" font-size=\"14.00\"> </text>\n<polyline fill=\"none\" stroke=\"black\" points=\"3147.5,-606.5 3147.5,-642.5 \"/>\n<text text-anchor=\"middle\" x=\"3187.5\" y=\"-620.8\" font-family=\"Times,serif\" font-size=\"14.00\">data 1.7393</text>\n<polyline fill=\"none\" stroke=\"black\" points=\"3227.5,-606.5 3227.5,-642.5 \"/>\n<text text-anchor=\"middle\" x=\"3268.5\" y=\"-620.8\" font-family=\"Times,serif\" font-size=\"14.00\">grad 0.0000</text>\n</g>\n<!-- 140671680164560tanh -->\n<g id=\"node105\" class=\"node\">\n<title>140671680164560tanh</title>\n<ellipse fill=\"none\" stroke=\"black\" cx=\"3375\" cy=\"-624.5\" rx=\"27\" ry=\"18\"/>\n<text text-anchor=\"middle\" x=\"3375\" y=\"-620.8\" font-family=\"Times,serif\" font-size=\"14.00\">tanh</text>\n</g>\n<!-- 140671680153168&#45;&gt;140671680164560tanh -->\n<g id=\"edge111\" class=\"edge\">\n<title>140671680153168&#45;&gt;140671680164560tanh</title>\n<path fill=\"none\" stroke=\"black\" d=\"M3309.82,-624.5C3319.57,-624.5 3329.04,-624.5 3337.57,-624.5\"/>\n<polygon fill=\"black\" stroke=\"black\" points=\"3337.83,-628 3347.83,-624.5 3337.83,-621 3337.83,-628\"/>\n</g>\n<!-- 140671680153168+ -->\n<g id=\"node32\" class=\"node\">\n<title>140671680153168+</title>\n<ellipse fill=\"none\" stroke=\"black\" cx=\"3062\" cy=\"-624.5\" rx=\"27\" ry=\"18\"/>\n<text text-anchor=\"middle\" x=\"3062\" y=\"-620.8\" font-family=\"Times,serif\" font-size=\"14.00\">+</text>\n</g>\n<!-- 140671680153168+&#45;&gt;140671680153168 -->\n<g id=\"edge11\" class=\"edge\">\n<title>140671680153168+&#45;&gt;140671680153168</title>\n<path fill=\"none\" stroke=\"black\" d=\"M3089.21,-624.5C3097.34,-624.5 3106.85,-624.5 3116.94,-624.5\"/>\n<polygon fill=\"black\" stroke=\"black\" points=\"3117.19,-628 3127.19,-624.5 3117.19,-621 3117.19,-628\"/>\n</g>\n<!-- 140671680915280 -->\n<g id=\"node33\" class=\"node\">\n<title>140671680915280</title>\n<polygon fill=\"none\" stroke=\"black\" points=\"3751,-551.5 3751,-587.5 3938,-587.5 3938,-551.5 3751,-551.5\"/>\n<text text-anchor=\"middle\" x=\"3761\" y=\"-565.8\" font-family=\"Times,serif\" font-size=\"14.00\"> </text>\n<polyline fill=\"none\" stroke=\"black\" points=\"3771,-551.5 3771,-587.5 \"/>\n<text text-anchor=\"middle\" x=\"3813.5\" y=\"-565.8\" font-family=\"Times,serif\" font-size=\"14.00\">data &#45;0.4773</text>\n<polyline fill=\"none\" stroke=\"black\" points=\"3856,-551.5 3856,-587.5 \"/>\n<text text-anchor=\"middle\" x=\"3897\" y=\"-565.8\" font-family=\"Times,serif\" font-size=\"14.00\">grad 0.0000</text>\n</g>\n<!-- 140671681247056+ -->\n<g id=\"node131\" class=\"node\">\n<title>140671681247056+</title>\n<ellipse fill=\"none\" stroke=\"black\" cx=\"4067.5\" cy=\"-514.5\" rx=\"27\" ry=\"18\"/>\n<text text-anchor=\"middle\" x=\"4067.5\" y=\"-510.8\" font-family=\"Times,serif\" font-size=\"14.00\">+</text>\n</g>\n<!-- 140671680915280&#45;&gt;140671681247056+ -->\n<g id=\"edge179\" class=\"edge\">\n<title>140671680915280&#45;&gt;140671681247056+</title>\n<path fill=\"none\" stroke=\"black\" d=\"M3917.86,-551.49C3956.32,-541.92 4001.79,-530.6 4032.23,-523.03\"/>\n<polygon fill=\"black\" stroke=\"black\" points=\"4033.08,-526.42 4041.94,-520.61 4031.39,-519.63 4033.08,-526.42\"/>\n</g>\n<!-- 140671680915408 -->\n<g id=\"node34\" class=\"node\">\n<title>140671680915408</title>\n<polygon fill=\"none\" stroke=\"black\" points=\"623.5,-385.5 623.5,-421.5 805.5,-421.5 805.5,-385.5 623.5,-385.5\"/>\n<text text-anchor=\"middle\" x=\"633.5\" y=\"-399.8\" font-family=\"Times,serif\" font-size=\"14.00\"> </text>\n<polyline fill=\"none\" stroke=\"black\" points=\"643.5,-385.5 643.5,-421.5 \"/>\n<text text-anchor=\"middle\" x=\"683.5\" y=\"-399.8\" font-family=\"Times,serif\" font-size=\"14.00\">data 0.7869</text>\n<polyline fill=\"none\" stroke=\"black\" points=\"723.5,-385.5 723.5,-421.5 \"/>\n<text text-anchor=\"middle\" x=\"764.5\" y=\"-399.8\" font-family=\"Times,serif\" font-size=\"14.00\">grad 0.0000</text>\n</g>\n<!-- 140671680913168+ -->\n<g id=\"node192\" class=\"node\">\n<title>140671680913168+</title>\n<ellipse fill=\"none\" stroke=\"black\" cx=\"871\" cy=\"-403.5\" rx=\"27\" ry=\"18\"/>\n<text text-anchor=\"middle\" x=\"871\" y=\"-399.8\" font-family=\"Times,serif\" font-size=\"14.00\">+</text>\n</g>\n<!-- 140671680915408&#45;&gt;140671680913168+ -->\n<g id=\"edge98\" class=\"edge\">\n<title>140671680915408&#45;&gt;140671680913168+</title>\n<path fill=\"none\" stroke=\"black\" d=\"M805.82,-403.5C815.57,-403.5 825.04,-403.5 833.57,-403.5\"/>\n<polygon fill=\"black\" stroke=\"black\" points=\"833.83,-407 843.83,-403.5 833.83,-400 833.83,-407\"/>\n</g>\n<!-- 140671680915408+ -->\n<g id=\"node35\" class=\"node\">\n<title>140671680915408+</title>\n<ellipse fill=\"none\" stroke=\"black\" cx=\"558\" cy=\"-403.5\" rx=\"27\" ry=\"18\"/>\n<text text-anchor=\"middle\" x=\"558\" y=\"-399.8\" font-family=\"Times,serif\" font-size=\"14.00\">+</text>\n</g>\n<!-- 140671680915408+&#45;&gt;140671680915408 -->\n<g id=\"edge12\" class=\"edge\">\n<title>140671680915408+&#45;&gt;140671680915408</title>\n<path fill=\"none\" stroke=\"black\" d=\"M585.21,-403.5C593.34,-403.5 602.85,-403.5 612.94,-403.5\"/>\n<polygon fill=\"black\" stroke=\"black\" points=\"613.19,-407 623.19,-403.5 613.19,-400 613.19,-407\"/>\n</g>\n<!-- 140671691237392 -->\n<g id=\"node36\" class=\"node\">\n<title>140671691237392</title>\n<polygon fill=\"none\" stroke=\"black\" points=\"1875.5,-577.5 1875.5,-613.5 2057.5,-613.5 2057.5,-577.5 1875.5,-577.5\"/>\n<text text-anchor=\"middle\" x=\"1885.5\" y=\"-591.8\" font-family=\"Times,serif\" font-size=\"14.00\"> </text>\n<polyline fill=\"none\" stroke=\"black\" points=\"1895.5,-577.5 1895.5,-613.5 \"/>\n<text text-anchor=\"middle\" x=\"1935.5\" y=\"-591.8\" font-family=\"Times,serif\" font-size=\"14.00\">data 0.2724</text>\n<polyline fill=\"none\" stroke=\"black\" points=\"1975.5,-577.5 1975.5,-613.5 \"/>\n<text text-anchor=\"middle\" x=\"2016.5\" y=\"-591.8\" font-family=\"Times,serif\" font-size=\"14.00\">grad 0.0000</text>\n</g>\n<!-- 140671680166800* -->\n<g id=\"node161\" class=\"node\">\n<title>140671680166800*</title>\n<ellipse fill=\"none\" stroke=\"black\" cx=\"2123\" cy=\"-595.5\" rx=\"27\" ry=\"18\"/>\n<text text-anchor=\"middle\" x=\"2123\" y=\"-591.8\" font-family=\"Times,serif\" font-size=\"14.00\">*</text>\n</g>\n<!-- 140671691237392&#45;&gt;140671680166800* -->\n<g id=\"edge133\" class=\"edge\">\n<title>140671691237392&#45;&gt;140671680166800*</title>\n<path fill=\"none\" stroke=\"black\" d=\"M2057.82,-595.5C2067.57,-595.5 2077.04,-595.5 2085.57,-595.5\"/>\n<polygon fill=\"black\" stroke=\"black\" points=\"2085.83,-599 2095.83,-595.5 2085.83,-592 2085.83,-599\"/>\n</g>\n<!-- 140671681235088 -->\n<g id=\"node37\" class=\"node\">\n<title>140671681235088</title>\n<polygon fill=\"none\" stroke=\"black\" points=\"4510,-478.5 4510,-514.5 4697,-514.5 4697,-478.5 4510,-478.5\"/>\n<text text-anchor=\"middle\" x=\"4520\" y=\"-492.8\" font-family=\"Times,serif\" font-size=\"14.00\"> </text>\n<polyline fill=\"none\" stroke=\"black\" points=\"4530,-478.5 4530,-514.5 \"/>\n<text text-anchor=\"middle\" x=\"4572.5\" y=\"-492.8\" font-family=\"Times,serif\" font-size=\"14.00\">data &#45;0.7155</text>\n<polyline fill=\"none\" stroke=\"black\" points=\"4615,-478.5 4615,-514.5 \"/>\n<text text-anchor=\"middle\" x=\"4656\" y=\"-492.8\" font-family=\"Times,serif\" font-size=\"14.00\">grad 0.0000</text>\n</g>\n<!-- 140671681243536+ -->\n<g id=\"node44\" class=\"node\">\n<title>140671681243536+</title>\n<ellipse fill=\"none\" stroke=\"black\" cx=\"4760\" cy=\"-496.5\" rx=\"27\" ry=\"18\"/>\n<text text-anchor=\"middle\" x=\"4760\" y=\"-492.8\" font-family=\"Times,serif\" font-size=\"14.00\">+</text>\n</g>\n<!-- 140671681235088&#45;&gt;140671681243536+ -->\n<g id=\"edge194\" class=\"edge\">\n<title>140671681235088&#45;&gt;140671681243536+</title>\n<path fill=\"none\" stroke=\"black\" d=\"M4697.05,-496.5C4706.06,-496.5 4714.79,-496.5 4722.7,-496.5\"/>\n<polygon fill=\"black\" stroke=\"black\" points=\"4722.95,-500 4732.95,-496.5 4722.95,-493 4722.95,-500\"/>\n</g>\n<!-- 140671681235088+&#45;&gt;140671681235088 -->\n<g id=\"edge13\" class=\"edge\">\n<title>140671681235088+&#45;&gt;140671681235088</title>\n<path fill=\"none\" stroke=\"black\" d=\"M4474.21,-496.5C4481.73,-496.5 4490.43,-496.5 4499.67,-496.5\"/>\n<polygon fill=\"black\" stroke=\"black\" points=\"4499.89,-500 4509.89,-496.5 4499.89,-493 4499.89,-500\"/>\n</g>\n<!-- 140671681284240 -->\n<g id=\"node39\" class=\"node\">\n<title>140671681284240</title>\n<polygon fill=\"none\" stroke=\"black\" points=\"1562.5,-137.5 1562.5,-173.5 1744.5,-173.5 1744.5,-137.5 1562.5,-137.5\"/>\n<text text-anchor=\"middle\" x=\"1572.5\" y=\"-151.8\" font-family=\"Times,serif\" font-size=\"14.00\"> </text>\n<polyline fill=\"none\" stroke=\"black\" points=\"1582.5,-137.5 1582.5,-173.5 \"/>\n<text text-anchor=\"middle\" x=\"1622.5\" y=\"-151.8\" font-family=\"Times,serif\" font-size=\"14.00\">data 0.2673</text>\n<polyline fill=\"none\" stroke=\"black\" points=\"1662.5,-137.5 1662.5,-173.5 \"/>\n<text text-anchor=\"middle\" x=\"1703.5\" y=\"-151.8\" font-family=\"Times,serif\" font-size=\"14.00\">grad 0.0000</text>\n</g>\n<!-- 140671681285008+ -->\n<g id=\"node61\" class=\"node\">\n<title>140671681285008+</title>\n<ellipse fill=\"none\" stroke=\"black\" cx=\"1810\" cy=\"-155.5\" rx=\"27\" ry=\"18\"/>\n<text text-anchor=\"middle\" x=\"1810\" y=\"-151.8\" font-family=\"Times,serif\" font-size=\"14.00\">+</text>\n</g>\n<!-- 140671681284240&#45;&gt;140671681285008+ -->\n<g id=\"edge79\" class=\"edge\">\n<title>140671681284240&#45;&gt;140671681285008+</title>\n<path fill=\"none\" stroke=\"black\" d=\"M1744.82,-155.5C1754.57,-155.5 1764.04,-155.5 1772.57,-155.5\"/>\n<polygon fill=\"black\" stroke=\"black\" points=\"1772.83,-159 1782.83,-155.5 1772.83,-152 1772.83,-159\"/>\n</g>\n<!-- 140671681284240* -->\n<g id=\"node40\" class=\"node\">\n<title>140671681284240*</title>\n<ellipse fill=\"none\" stroke=\"black\" cx=\"1497\" cy=\"-155.5\" rx=\"27\" ry=\"18\"/>\n<text text-anchor=\"middle\" x=\"1497\" y=\"-151.8\" font-family=\"Times,serif\" font-size=\"14.00\">*</text>\n</g>\n<!-- 140671681284240*&#45;&gt;140671681284240 -->\n<g id=\"edge14\" class=\"edge\">\n<title>140671681284240*&#45;&gt;140671681284240</title>\n<path fill=\"none\" stroke=\"black\" d=\"M1524.21,-155.5C1532.34,-155.5 1541.85,-155.5 1551.94,-155.5\"/>\n<polygon fill=\"black\" stroke=\"black\" points=\"1552.19,-159 1562.19,-155.5 1552.19,-152 1552.19,-159\"/>\n</g>\n<!-- 140671680915728 -->\n<g id=\"node41\" class=\"node\">\n<title>140671680915728</title>\n<polygon fill=\"none\" stroke=\"black\" points=\"1873,-852.5 1873,-888.5 2060,-888.5 2060,-852.5 1873,-852.5\"/>\n<text text-anchor=\"middle\" x=\"1883\" y=\"-866.8\" font-family=\"Times,serif\" font-size=\"14.00\"> </text>\n<polyline fill=\"none\" stroke=\"black\" points=\"1893,-852.5 1893,-888.5 \"/>\n<text text-anchor=\"middle\" x=\"1935.5\" y=\"-866.8\" font-family=\"Times,serif\" font-size=\"14.00\">data &#45;0.6543</text>\n<polyline fill=\"none\" stroke=\"black\" points=\"1978,-852.5 1978,-888.5 \"/>\n<text text-anchor=\"middle\" x=\"2019\" y=\"-866.8\" font-family=\"Times,serif\" font-size=\"14.00\">grad 0.0000</text>\n</g>\n<!-- 140671680163216* -->\n<g id=\"node75\" class=\"node\">\n<title>140671680163216*</title>\n<ellipse fill=\"none\" stroke=\"black\" cx=\"2123\" cy=\"-760.5\" rx=\"27\" ry=\"18\"/>\n<text text-anchor=\"middle\" x=\"2123\" y=\"-756.8\" font-family=\"Times,serif\" font-size=\"14.00\">*</text>\n</g>\n<!-- 140671680915728&#45;&gt;140671680163216* -->\n<g id=\"edge175\" class=\"edge\">\n<title>140671680915728&#45;&gt;140671680163216*</title>\n<path fill=\"none\" stroke=\"black\" d=\"M2044.53,-852.34C2049.97,-849.77 2055.19,-846.84 2060,-843.5 2081.11,-828.85 2097.97,-804.7 2108.74,-786.22\"/>\n<polygon fill=\"black\" stroke=\"black\" points=\"2111.85,-787.85 2113.68,-777.41 2105.74,-784.43 2111.85,-787.85\"/>\n</g>\n<!-- 140671680915792 -->\n<g id=\"node42\" class=\"node\">\n<title>140671680915792</title>\n<polygon fill=\"none\" stroke=\"black\" points=\"621,-495.5 621,-531.5 808,-531.5 808,-495.5 621,-495.5\"/>\n<text text-anchor=\"middle\" x=\"631\" y=\"-509.8\" font-family=\"Times,serif\" font-size=\"14.00\"> </text>\n<polyline fill=\"none\" stroke=\"black\" points=\"641,-495.5 641,-531.5 \"/>\n<text text-anchor=\"middle\" x=\"683.5\" y=\"-509.8\" font-family=\"Times,serif\" font-size=\"14.00\">data &#45;1.0000</text>\n<polyline fill=\"none\" stroke=\"black\" points=\"726,-495.5 726,-531.5 \"/>\n<text text-anchor=\"middle\" x=\"767\" y=\"-509.8\" font-family=\"Times,serif\" font-size=\"14.00\">grad 0.0000</text>\n</g>\n<!-- 140671680915792&#45;&gt;140671680914256* -->\n<g id=\"edge153\" class=\"edge\">\n<title>140671680915792&#45;&gt;140671680914256*</title>\n<path fill=\"none\" stroke=\"black\" d=\"M781.56,-495.45C790.51,-492.64 799.53,-489.63 808,-486.5 818.49,-482.62 829.71,-477.78 839.68,-473.22\"/>\n<polygon fill=\"black\" stroke=\"black\" points=\"841.2,-476.37 848.79,-468.97 838.25,-470.02 841.2,-476.37\"/>\n</g>\n<!-- 140671681243536 -->\n<g id=\"node43\" class=\"node\">\n<title>140671681243536</title>\n<polygon fill=\"none\" stroke=\"black\" points=\"4823,-463.5 4823,-499.5 5010,-499.5 5010,-463.5 4823,-463.5\"/>\n<text text-anchor=\"middle\" x=\"4833\" y=\"-477.8\" font-family=\"Times,serif\" font-size=\"14.00\"> </text>\n<polyline fill=\"none\" stroke=\"black\" points=\"4843,-463.5 4843,-499.5 \"/>\n<text text-anchor=\"middle\" x=\"4885.5\" y=\"-477.8\" font-family=\"Times,serif\" font-size=\"14.00\">data &#45;0.7071</text>\n<polyline fill=\"none\" stroke=\"black\" points=\"4928,-463.5 4928,-499.5 \"/>\n<text text-anchor=\"middle\" x=\"4969\" y=\"-477.8\" font-family=\"Times,serif\" font-size=\"14.00\">grad 0.0000</text>\n</g>\n<!-- 140671692338640+ -->\n<g id=\"node115\" class=\"node\">\n<title>140671692338640+</title>\n<ellipse fill=\"none\" stroke=\"black\" cx=\"5073\" cy=\"-438.5\" rx=\"27\" ry=\"18\"/>\n<text text-anchor=\"middle\" x=\"5073\" y=\"-434.8\" font-family=\"Times,serif\" font-size=\"14.00\">+</text>\n</g>\n<!-- 140671681243536&#45;&gt;140671692338640+ -->\n<g id=\"edge170\" class=\"edge\">\n<title>140671681243536&#45;&gt;140671692338640+</title>\n<path fill=\"none\" stroke=\"black\" d=\"M4982.57,-463.39C5001.52,-458.12 5021.46,-452.57 5037.69,-448.05\"/>\n<polygon fill=\"black\" stroke=\"black\" points=\"5039.08,-451.29 5047.78,-445.24 5037.21,-444.55 5039.08,-451.29\"/>\n</g>\n<!-- 140671681243536+&#45;&gt;140671681243536 -->\n<g id=\"edge15\" class=\"edge\">\n<title>140671681243536+&#45;&gt;140671681243536</title>\n<path fill=\"none\" stroke=\"black\" d=\"M4786.86,-493.99C4794.51,-493.25 4803.39,-492.38 4812.84,-491.47\"/>\n<polygon fill=\"black\" stroke=\"black\" points=\"4813.26,-494.94 4822.87,-490.49 4812.58,-487.98 4813.26,-494.94\"/>\n</g>\n<!-- 140671680915856 -->\n<g id=\"node45\" class=\"node\">\n<title>140671680915856</title>\n<polygon fill=\"none\" stroke=\"black\" points=\"623.5,-687.5 623.5,-723.5 805.5,-723.5 805.5,-687.5 623.5,-687.5\"/>\n<text text-anchor=\"middle\" x=\"633.5\" y=\"-701.8\" font-family=\"Times,serif\" font-size=\"14.00\"> </text>\n<polyline fill=\"none\" stroke=\"black\" points=\"643.5,-687.5 643.5,-723.5 \"/>\n<text text-anchor=\"middle\" x=\"683.5\" y=\"-701.8\" font-family=\"Times,serif\" font-size=\"14.00\">data 3.0000</text>\n<polyline fill=\"none\" stroke=\"black\" points=\"723.5,-687.5 723.5,-723.5 \"/>\n<text text-anchor=\"middle\" x=\"764.5\" y=\"-701.8\" font-family=\"Times,serif\" font-size=\"14.00\">grad 0.0000</text>\n</g>\n<!-- 140671680912016* -->\n<g id=\"node153\" class=\"node\">\n<title>140671680912016*</title>\n<ellipse fill=\"none\" stroke=\"black\" cx=\"871\" cy=\"-705.5\" rx=\"27\" ry=\"18\"/>\n<text text-anchor=\"middle\" x=\"871\" y=\"-701.8\" font-family=\"Times,serif\" font-size=\"14.00\">*</text>\n</g>\n<!-- 140671680915856&#45;&gt;140671680912016* -->\n<g id=\"edge156\" class=\"edge\">\n<title>140671680915856&#45;&gt;140671680912016*</title>\n<path fill=\"none\" stroke=\"black\" d=\"M805.82,-705.5C815.57,-705.5 825.04,-705.5 833.57,-705.5\"/>\n<polygon fill=\"black\" stroke=\"black\" points=\"833.83,-709 843.83,-705.5 833.83,-702 833.83,-709\"/>\n</g>\n<!-- 140671680162256 -->\n<g id=\"node46\" class=\"node\">\n<title>140671680162256</title>\n<polygon fill=\"none\" stroke=\"black\" points=\"2501.5,-469.5 2501.5,-505.5 2683.5,-505.5 2683.5,-469.5 2501.5,-469.5\"/>\n<text text-anchor=\"middle\" x=\"2511.5\" y=\"-483.8\" font-family=\"Times,serif\" font-size=\"14.00\"> </text>\n<polyline fill=\"none\" stroke=\"black\" points=\"2521.5,-469.5 2521.5,-505.5 \"/>\n<text text-anchor=\"middle\" x=\"2561.5\" y=\"-483.8\" font-family=\"Times,serif\" font-size=\"14.00\">data 1.4787</text>\n<polyline fill=\"none\" stroke=\"black\" points=\"2601.5,-469.5 2601.5,-505.5 \"/>\n<text text-anchor=\"middle\" x=\"2642.5\" y=\"-483.8\" font-family=\"Times,serif\" font-size=\"14.00\">grad 0.0000</text>\n</g>\n<!-- 140671681249232+ -->\n<g id=\"node199\" class=\"node\">\n<title>140671681249232+</title>\n<ellipse fill=\"none\" stroke=\"black\" cx=\"2749\" cy=\"-487.5\" rx=\"27\" ry=\"18\"/>\n<text text-anchor=\"middle\" x=\"2749\" y=\"-483.8\" font-family=\"Times,serif\" font-size=\"14.00\">+</text>\n</g>\n<!-- 140671680162256&#45;&gt;140671681249232+ -->\n<g id=\"edge154\" class=\"edge\">\n<title>140671680162256&#45;&gt;140671681249232+</title>\n<path fill=\"none\" stroke=\"black\" d=\"M2683.82,-487.5C2693.57,-487.5 2703.04,-487.5 2711.57,-487.5\"/>\n<polygon fill=\"black\" stroke=\"black\" points=\"2711.83,-491 2721.83,-487.5 2711.83,-484 2711.83,-491\"/>\n</g>\n<!-- 140671680162256+ -->\n<g id=\"node47\" class=\"node\">\n<title>140671680162256+</title>\n<ellipse fill=\"none\" stroke=\"black\" cx=\"2436\" cy=\"-430.5\" rx=\"27\" ry=\"18\"/>\n<text text-anchor=\"middle\" x=\"2436\" y=\"-426.8\" font-family=\"Times,serif\" font-size=\"14.00\">+</text>\n</g>\n<!-- 140671680162256+&#45;&gt;140671680162256 -->\n<g id=\"edge16\" class=\"edge\">\n<title>140671680162256+&#45;&gt;140671680162256</title>\n<path fill=\"none\" stroke=\"black\" d=\"M2457.57,-441.52C2469.46,-447.62 2484.83,-455.05 2499,-460.5 2504.17,-462.49 2509.55,-464.42 2515.01,-466.26\"/>\n<polygon fill=\"black\" stroke=\"black\" points=\"2514.27,-469.71 2524.86,-469.5 2516.45,-463.06 2514.27,-469.71\"/>\n</g>\n<!-- 140671680915984 -->\n<g id=\"node48\" class=\"node\">\n<title>140671680915984</title>\n<polygon fill=\"none\" stroke=\"black\" points=\"1249.5,-412.5 1249.5,-448.5 1431.5,-448.5 1431.5,-412.5 1249.5,-412.5\"/>\n<text text-anchor=\"middle\" x=\"1259.5\" y=\"-426.8\" font-family=\"Times,serif\" font-size=\"14.00\"> </text>\n<polyline fill=\"none\" stroke=\"black\" points=\"1269.5,-412.5 1269.5,-448.5 \"/>\n<text text-anchor=\"middle\" x=\"1309.5\" y=\"-426.8\" font-family=\"Times,serif\" font-size=\"14.00\">data 2.7933</text>\n<polyline fill=\"none\" stroke=\"black\" points=\"1349.5,-412.5 1349.5,-448.5 \"/>\n<text text-anchor=\"middle\" x=\"1390.5\" y=\"-426.8\" font-family=\"Times,serif\" font-size=\"14.00\">grad 0.0000</text>\n</g>\n<!-- 140671691984912tanh -->\n<g id=\"node84\" class=\"node\">\n<title>140671691984912tanh</title>\n<ellipse fill=\"none\" stroke=\"black\" cx=\"1497\" cy=\"-430.5\" rx=\"27\" ry=\"18\"/>\n<text text-anchor=\"middle\" x=\"1497\" y=\"-426.8\" font-family=\"Times,serif\" font-size=\"14.00\">tanh</text>\n</g>\n<!-- 140671680915984&#45;&gt;140671691984912tanh -->\n<g id=\"edge136\" class=\"edge\">\n<title>140671680915984&#45;&gt;140671691984912tanh</title>\n<path fill=\"none\" stroke=\"black\" d=\"M1431.82,-430.5C1441.57,-430.5 1451.04,-430.5 1459.57,-430.5\"/>\n<polygon fill=\"black\" stroke=\"black\" points=\"1459.83,-434 1469.83,-430.5 1459.83,-427 1459.83,-434\"/>\n</g>\n<!-- 140671680915984+&#45;&gt;140671680915984 -->\n<g id=\"edge17\" class=\"edge\">\n<title>140671680915984+&#45;&gt;140671680915984</title>\n<path fill=\"none\" stroke=\"black\" d=\"M1211.21,-430.5C1219.34,-430.5 1228.85,-430.5 1238.94,-430.5\"/>\n<polygon fill=\"black\" stroke=\"black\" points=\"1239.19,-434 1249.19,-430.5 1239.19,-427 1239.19,-434\"/>\n</g>\n<!-- 140671681333776 -->\n<g id=\"node50\" class=\"node\">\n<title>140671681333776</title>\n<polygon fill=\"none\" stroke=\"black\" points=\"0,-358.5 0,-394.5 182,-394.5 182,-358.5 0,-358.5\"/>\n<text text-anchor=\"middle\" x=\"10\" y=\"-372.8\" font-family=\"Times,serif\" font-size=\"14.00\"> </text>\n<polyline fill=\"none\" stroke=\"black\" points=\"20,-358.5 20,-394.5 \"/>\n<text text-anchor=\"middle\" x=\"60\" y=\"-372.8\" font-family=\"Times,serif\" font-size=\"14.00\">data 2.0000</text>\n<polyline fill=\"none\" stroke=\"black\" points=\"100,-358.5 100,-394.5 \"/>\n<text text-anchor=\"middle\" x=\"141\" y=\"-372.8\" font-family=\"Times,serif\" font-size=\"14.00\">grad 0.0000</text>\n</g>\n<!-- 140671681333776&#45;&gt;140671680912144* -->\n<g id=\"edge82\" class=\"edge\">\n<title>140671681333776&#45;&gt;140671680912144*</title>\n<path fill=\"none\" stroke=\"black\" d=\"M182.18,-392.52C191.42,-394.16 200.38,-395.75 208.47,-397.19\"/>\n<polygon fill=\"black\" stroke=\"black\" points=\"208.1,-400.68 218.56,-398.98 209.32,-393.79 208.1,-400.68\"/>\n</g>\n<!-- 140671681284688 -->\n<g id=\"node51\" class=\"node\">\n<title>140671681284688</title>\n<polygon fill=\"none\" stroke=\"black\" points=\"1247,-27.5 1247,-63.5 1434,-63.5 1434,-27.5 1247,-27.5\"/>\n<text text-anchor=\"middle\" x=\"1257\" y=\"-41.8\" font-family=\"Times,serif\" font-size=\"14.00\"> </text>\n<polyline fill=\"none\" stroke=\"black\" points=\"1267,-27.5 1267,-63.5 \"/>\n<text text-anchor=\"middle\" x=\"1309.5\" y=\"-41.8\" font-family=\"Times,serif\" font-size=\"14.00\">data &#45;0.9786</text>\n<polyline fill=\"none\" stroke=\"black\" points=\"1352,-27.5 1352,-63.5 \"/>\n<text text-anchor=\"middle\" x=\"1393\" y=\"-41.8\" font-family=\"Times,serif\" font-size=\"14.00\">grad 0.0000</text>\n</g>\n<!-- 140671681286288+ -->\n<g id=\"node89\" class=\"node\">\n<title>140671681286288+</title>\n<ellipse fill=\"none\" stroke=\"black\" cx=\"1497\" cy=\"-100.5\" rx=\"27\" ry=\"18\"/>\n<text text-anchor=\"middle\" x=\"1497\" y=\"-96.8\" font-family=\"Times,serif\" font-size=\"14.00\">+</text>\n</g>\n<!-- 140671681284688&#45;&gt;140671681286288+ -->\n<g id=\"edge81\" class=\"edge\">\n<title>140671681284688&#45;&gt;140671681286288+</title>\n<path fill=\"none\" stroke=\"black\" d=\"M1407.56,-63.55C1416.51,-66.36 1425.53,-69.37 1434,-72.5 1444.49,-76.38 1455.71,-81.22 1465.68,-85.78\"/>\n<polygon fill=\"black\" stroke=\"black\" points=\"1464.25,-88.98 1474.79,-90.03 1467.2,-82.63 1464.25,-88.98\"/>\n</g>\n<!-- 140671681284688* -->\n<g id=\"node52\" class=\"node\">\n<title>140671681284688*</title>\n<ellipse fill=\"none\" stroke=\"black\" cx=\"1184\" cy=\"-45.5\" rx=\"27\" ry=\"18\"/>\n<text text-anchor=\"middle\" x=\"1184\" y=\"-41.8\" font-family=\"Times,serif\" font-size=\"14.00\">*</text>\n</g>\n<!-- 140671681284688*&#45;&gt;140671681284688 -->\n<g id=\"edge18\" class=\"edge\">\n<title>140671681284688*&#45;&gt;140671681284688</title>\n<path fill=\"none\" stroke=\"black\" d=\"M1211.21,-45.5C1218.73,-45.5 1227.43,-45.5 1236.67,-45.5\"/>\n<polygon fill=\"black\" stroke=\"black\" points=\"1236.89,-49 1246.89,-45.5 1236.89,-42 1236.89,-49\"/>\n</g>\n<!-- 140671680916048 -->\n<g id=\"node53\" class=\"node\">\n<title>140671680916048</title>\n<polygon fill=\"none\" stroke=\"black\" points=\"3440.5,-661.5 3440.5,-697.5 3622.5,-697.5 3622.5,-661.5 3440.5,-661.5\"/>\n<text text-anchor=\"middle\" x=\"3450.5\" y=\"-675.8\" font-family=\"Times,serif\" font-size=\"14.00\"> </text>\n<polyline fill=\"none\" stroke=\"black\" points=\"3460.5,-661.5 3460.5,-697.5 \"/>\n<text text-anchor=\"middle\" x=\"3500.5\" y=\"-675.8\" font-family=\"Times,serif\" font-size=\"14.00\">data 0.0089</text>\n<polyline fill=\"none\" stroke=\"black\" points=\"3540.5,-661.5 3540.5,-697.5 \"/>\n<text text-anchor=\"middle\" x=\"3581.5\" y=\"-675.8\" font-family=\"Times,serif\" font-size=\"14.00\">grad 0.0000</text>\n</g>\n<!-- 140671681247312* -->\n<g id=\"node138\" class=\"node\">\n<title>140671681247312*</title>\n<ellipse fill=\"none\" stroke=\"black\" cx=\"3688\" cy=\"-624.5\" rx=\"27\" ry=\"18\"/>\n<text text-anchor=\"middle\" x=\"3688\" y=\"-620.8\" font-family=\"Times,serif\" font-size=\"14.00\">*</text>\n</g>\n<!-- 140671680916048&#45;&gt;140671681247312* -->\n<g id=\"edge112\" class=\"edge\">\n<title>140671680916048&#45;&gt;140671681247312*</title>\n<path fill=\"none\" stroke=\"black\" d=\"M3598.56,-661.45C3607.51,-658.64 3616.53,-655.63 3625,-652.5 3635.49,-648.62 3646.71,-643.78 3656.68,-639.22\"/>\n<polygon fill=\"black\" stroke=\"black\" points=\"3658.2,-642.37 3665.79,-634.97 3655.25,-636.02 3658.2,-642.37\"/>\n</g>\n<!-- 140671680162448 -->\n<g id=\"node54\" class=\"node\">\n<title>140671680162448</title>\n<polygon fill=\"none\" stroke=\"black\" points=\"2499,-783.5 2499,-819.5 2686,-819.5 2686,-783.5 2499,-783.5\"/>\n<text text-anchor=\"middle\" x=\"2509\" y=\"-797.8\" font-family=\"Times,serif\" font-size=\"14.00\"> </text>\n<polyline fill=\"none\" stroke=\"black\" points=\"2519,-783.5 2519,-819.5 \"/>\n<text text-anchor=\"middle\" x=\"2561.5\" y=\"-797.8\" font-family=\"Times,serif\" font-size=\"14.00\">data &#45;0.7297</text>\n<polyline fill=\"none\" stroke=\"black\" points=\"2604,-783.5 2604,-819.5 \"/>\n<text text-anchor=\"middle\" x=\"2645\" y=\"-797.8\" font-family=\"Times,serif\" font-size=\"14.00\">grad 0.0000</text>\n</g>\n<!-- 140671680154576+ -->\n<g id=\"node63\" class=\"node\">\n<title>140671680154576+</title>\n<ellipse fill=\"none\" stroke=\"black\" cx=\"2749\" cy=\"-542.5\" rx=\"27\" ry=\"18\"/>\n<text text-anchor=\"middle\" x=\"2749\" y=\"-538.8\" font-family=\"Times,serif\" font-size=\"14.00\">+</text>\n</g>\n<!-- 140671680162448&#45;&gt;140671680154576+ -->\n<g id=\"edge177\" class=\"edge\">\n<title>140671680162448&#45;&gt;140671680154576+</title>\n<path fill=\"none\" stroke=\"black\" d=\"M2658.34,-783.26C2668.85,-777.76 2678.68,-770.66 2686,-761.5 2739.95,-694.03 2683.08,-647.62 2722,-570.5 2723.02,-568.48 2724.23,-566.5 2725.56,-564.59\"/>\n<polygon fill=\"black\" stroke=\"black\" points=\"2728.38,-566.67 2731.96,-556.7 2722.94,-562.26 2728.38,-566.67\"/>\n</g>\n<!-- 140671680162448*&#45;&gt;140671680162448 -->\n<g id=\"edge19\" class=\"edge\">\n<title>140671680162448*&#45;&gt;140671680162448</title>\n<path fill=\"none\" stroke=\"black\" d=\"M2462.86,-813.16C2470.51,-812.46 2479.39,-811.66 2488.84,-810.8\"/>\n<polygon fill=\"black\" stroke=\"black\" points=\"2489.23,-814.28 2498.87,-809.89 2488.6,-807.31 2489.23,-814.28\"/>\n</g>\n<!-- 140671680916176 -->\n<g id=\"node56\" class=\"node\">\n<title>140671680916176</title>\n<polygon fill=\"none\" stroke=\"black\" points=\"623.5,-330.5 623.5,-366.5 805.5,-366.5 805.5,-330.5 623.5,-330.5\"/>\n<text text-anchor=\"middle\" x=\"633.5\" y=\"-344.8\" font-family=\"Times,serif\" font-size=\"14.00\"> </text>\n<polyline fill=\"none\" stroke=\"black\" points=\"643.5,-330.5 643.5,-366.5 \"/>\n<text text-anchor=\"middle\" x=\"683.5\" y=\"-344.8\" font-family=\"Times,serif\" font-size=\"14.00\">data 2.1086</text>\n<polyline fill=\"none\" stroke=\"black\" points=\"723.5,-330.5 723.5,-366.5 \"/>\n<text text-anchor=\"middle\" x=\"764.5\" y=\"-344.8\" font-family=\"Times,serif\" font-size=\"14.00\">grad 0.0000</text>\n</g>\n<!-- 140671680916176&#45;&gt;140671680913168+ -->\n<g id=\"edge201\" class=\"edge\">\n<title>140671680916176&#45;&gt;140671680913168+</title>\n<path fill=\"none\" stroke=\"black\" d=\"M779.02,-366.65C788.79,-369.76 798.71,-373.08 808,-376.5 818.25,-380.27 829.23,-384.86 839.07,-389.18\"/>\n<polygon fill=\"black\" stroke=\"black\" points=\"837.89,-392.49 848.45,-393.37 840.74,-386.1 837.89,-392.49\"/>\n</g>\n<!-- 140671680916176* -->\n<g id=\"node57\" class=\"node\">\n<title>140671680916176*</title>\n<ellipse fill=\"none\" stroke=\"black\" cx=\"558\" cy=\"-348.5\" rx=\"27\" ry=\"18\"/>\n<text text-anchor=\"middle\" x=\"558\" y=\"-344.8\" font-family=\"Times,serif\" font-size=\"14.00\">*</text>\n</g>\n<!-- 140671680916176*&#45;&gt;140671680916176 -->\n<g id=\"edge20\" class=\"edge\">\n<title>140671680916176*&#45;&gt;140671680916176</title>\n<path fill=\"none\" stroke=\"black\" d=\"M585.21,-348.5C593.34,-348.5 602.85,-348.5 612.94,-348.5\"/>\n<polygon fill=\"black\" stroke=\"black\" points=\"613.19,-352 623.19,-348.5 613.19,-345 613.19,-352\"/>\n</g>\n<!-- 140671680154384 -->\n<g id=\"node58\" class=\"node\">\n<title>140671680154384</title>\n<polygon fill=\"none\" stroke=\"black\" points=\"1875.5,-632.5 1875.5,-668.5 2057.5,-668.5 2057.5,-632.5 1875.5,-632.5\"/>\n<text text-anchor=\"middle\" x=\"1885.5\" y=\"-646.8\" font-family=\"Times,serif\" font-size=\"14.00\"> </text>\n<polyline fill=\"none\" stroke=\"black\" points=\"1895.5,-632.5 1895.5,-668.5 \"/>\n<text text-anchor=\"middle\" x=\"1935.5\" y=\"-646.8\" font-family=\"Times,serif\" font-size=\"14.00\">data 0.9298</text>\n<polyline fill=\"none\" stroke=\"black\" points=\"1975.5,-632.5 1975.5,-668.5 \"/>\n<text text-anchor=\"middle\" x=\"2016.5\" y=\"-646.8\" font-family=\"Times,serif\" font-size=\"14.00\">grad 0.0000</text>\n</g>\n<!-- 140671680154384&#45;&gt;140671680160848+ -->\n<g id=\"edge160\" class=\"edge\">\n<title>140671680154384&#45;&gt;140671680160848+</title>\n<path fill=\"none\" stroke=\"black\" d=\"M2057.82,-650.5C2067.57,-650.5 2077.04,-650.5 2085.57,-650.5\"/>\n<polygon fill=\"black\" stroke=\"black\" points=\"2085.83,-654 2095.83,-650.5 2085.83,-647 2085.83,-654\"/>\n</g>\n<!-- 140671680154384*&#45;&gt;140671680154384 -->\n<g id=\"edge21\" class=\"edge\">\n<title>140671680154384*&#45;&gt;140671680154384</title>\n<path fill=\"none\" stroke=\"black\" d=\"M1832.21,-605.97C1844.05,-611.59 1859.15,-618.38 1873,-623.5 1878.43,-625.51 1884.08,-627.46 1889.79,-629.35\"/>\n<polygon fill=\"black\" stroke=\"black\" points=\"1888.85,-632.72 1899.44,-632.45 1890.99,-626.06 1888.85,-632.72\"/>\n</g>\n<!-- 140671681285008 -->\n<g id=\"node60\" class=\"node\">\n<title>140671681285008</title>\n<polygon fill=\"none\" stroke=\"black\" points=\"1873,-137.5 1873,-173.5 2060,-173.5 2060,-137.5 1873,-137.5\"/>\n<text text-anchor=\"middle\" x=\"1883\" y=\"-151.8\" font-family=\"Times,serif\" font-size=\"14.00\"> </text>\n<polyline fill=\"none\" stroke=\"black\" points=\"1893,-137.5 1893,-173.5 \"/>\n<text text-anchor=\"middle\" x=\"1935.5\" y=\"-151.8\" font-family=\"Times,serif\" font-size=\"14.00\">data &#45;0.8113</text>\n<polyline fill=\"none\" stroke=\"black\" points=\"1978,-137.5 1978,-173.5 \"/>\n<text text-anchor=\"middle\" x=\"2019\" y=\"-151.8\" font-family=\"Times,serif\" font-size=\"14.00\">grad 0.0000</text>\n</g>\n<!-- 140671681285008&#45;&gt;140671681290256+ -->\n<g id=\"edge172\" class=\"edge\">\n<title>140671681285008&#45;&gt;140671681290256+</title>\n<path fill=\"none\" stroke=\"black\" d=\"M2038.06,-173.59C2045.59,-176.25 2053.04,-179.22 2060,-182.5 2072.81,-188.53 2085.94,-197.02 2096.8,-204.8\"/>\n<polygon fill=\"black\" stroke=\"black\" points=\"2094.85,-207.71 2104.97,-210.82 2099,-202.07 2094.85,-207.71\"/>\n</g>\n<!-- 140671681285008+&#45;&gt;140671681285008 -->\n<g id=\"edge22\" class=\"edge\">\n<title>140671681285008+&#45;&gt;140671681285008</title>\n<path fill=\"none\" stroke=\"black\" d=\"M1837.21,-155.5C1844.73,-155.5 1853.43,-155.5 1862.67,-155.5\"/>\n<polygon fill=\"black\" stroke=\"black\" points=\"1862.89,-159 1872.89,-155.5 1862.89,-152 1862.89,-159\"/>\n</g>\n<!-- 140671680154576 -->\n<g id=\"node62\" class=\"node\">\n<title>140671680154576</title>\n<polygon fill=\"none\" stroke=\"black\" points=\"2814.5,-524.5 2814.5,-560.5 2996.5,-560.5 2996.5,-524.5 2814.5,-524.5\"/>\n<text text-anchor=\"middle\" x=\"2824.5\" y=\"-538.8\" font-family=\"Times,serif\" font-size=\"14.00\"> </text>\n<polyline fill=\"none\" stroke=\"black\" points=\"2834.5,-524.5 2834.5,-560.5 \"/>\n<text text-anchor=\"middle\" x=\"2874.5\" y=\"-538.8\" font-family=\"Times,serif\" font-size=\"14.00\">data 0.4158</text>\n<polyline fill=\"none\" stroke=\"black\" points=\"2914.5,-524.5 2914.5,-560.5 \"/>\n<text text-anchor=\"middle\" x=\"2955.5\" y=\"-538.8\" font-family=\"Times,serif\" font-size=\"14.00\">grad 0.0000</text>\n</g>\n<!-- 140671680155088+ -->\n<g id=\"node77\" class=\"node\">\n<title>140671680155088+</title>\n<ellipse fill=\"none\" stroke=\"black\" cx=\"3062\" cy=\"-404.5\" rx=\"27\" ry=\"18\"/>\n<text text-anchor=\"middle\" x=\"3062\" y=\"-400.8\" font-family=\"Times,serif\" font-size=\"14.00\">+</text>\n</g>\n<!-- 140671680154576&#45;&gt;140671680155088+ -->\n<g id=\"edge180\" class=\"edge\">\n<title>140671680154576&#45;&gt;140671680155088+</title>\n<path fill=\"none\" stroke=\"black\" d=\"M2985.41,-524.32C2990.23,-521.76 2994.81,-518.84 2999,-515.5 3026.01,-493.98 3043.16,-457.31 3052.42,-432.04\"/>\n<polygon fill=\"black\" stroke=\"black\" points=\"3055.82,-432.91 3055.8,-422.32 3049.21,-430.61 3055.82,-432.91\"/>\n</g>\n<!-- 140671680154576+&#45;&gt;140671680154576 -->\n<g id=\"edge23\" class=\"edge\">\n<title>140671680154576+&#45;&gt;140671680154576</title>\n<path fill=\"none\" stroke=\"black\" d=\"M2776.21,-542.5C2784.34,-542.5 2793.85,-542.5 2803.94,-542.5\"/>\n<polygon fill=\"black\" stroke=\"black\" points=\"2804.19,-546 2814.19,-542.5 2804.19,-539 2804.19,-546\"/>\n</g>\n<!-- 140671680916560 -->\n<g id=\"node64\" class=\"node\">\n<title>140671680916560</title>\n<polygon fill=\"none\" stroke=\"black\" points=\"2501.5,-194.5 2501.5,-230.5 2683.5,-230.5 2683.5,-194.5 2501.5,-194.5\"/>\n<text text-anchor=\"middle\" x=\"2511.5\" y=\"-208.8\" font-family=\"Times,serif\" font-size=\"14.00\"> </text>\n<polyline fill=\"none\" stroke=\"black\" points=\"2521.5,-194.5 2521.5,-230.5 \"/>\n<text text-anchor=\"middle\" x=\"2561.5\" y=\"-208.8\" font-family=\"Times,serif\" font-size=\"14.00\">data 0.3417</text>\n<polyline fill=\"none\" stroke=\"black\" points=\"2601.5,-194.5 2601.5,-230.5 \"/>\n<text text-anchor=\"middle\" x=\"2642.5\" y=\"-208.8\" font-family=\"Times,serif\" font-size=\"14.00\">grad 0.0000</text>\n</g>\n<!-- 140671681249104* -->\n<g id=\"node196\" class=\"node\">\n<title>140671681249104*</title>\n<ellipse fill=\"none\" stroke=\"black\" cx=\"2749\" cy=\"-267.5\" rx=\"27\" ry=\"18\"/>\n<text text-anchor=\"middle\" x=\"2749\" y=\"-263.8\" font-family=\"Times,serif\" font-size=\"14.00\">*</text>\n</g>\n<!-- 140671680916560&#45;&gt;140671681249104* -->\n<g id=\"edge135\" class=\"edge\">\n<title>140671680916560&#45;&gt;140671681249104*</title>\n<path fill=\"none\" stroke=\"black\" d=\"M2657.02,-230.65C2666.79,-233.76 2676.71,-237.08 2686,-240.5 2696.25,-244.27 2707.23,-248.86 2717.07,-253.18\"/>\n<polygon fill=\"black\" stroke=\"black\" points=\"2715.89,-256.49 2726.45,-257.37 2718.74,-250.1 2715.89,-256.49\"/>\n</g>\n<!-- 140671680916624 -->\n<g id=\"node65\" class=\"node\">\n<title>140671680916624</title>\n<polygon fill=\"none\" stroke=\"black\" points=\"936.5,-742.5 936.5,-778.5 1118.5,-778.5 1118.5,-742.5 936.5,-742.5\"/>\n<text text-anchor=\"middle\" x=\"946.5\" y=\"-756.8\" font-family=\"Times,serif\" font-size=\"14.00\"> </text>\n<polyline fill=\"none\" stroke=\"black\" points=\"956.5,-742.5 956.5,-778.5 \"/>\n<text text-anchor=\"middle\" x=\"996.5\" y=\"-756.8\" font-family=\"Times,serif\" font-size=\"14.00\">data 0.5881</text>\n<polyline fill=\"none\" stroke=\"black\" points=\"1036.5,-742.5 1036.5,-778.5 \"/>\n<text text-anchor=\"middle\" x=\"1077.5\" y=\"-756.8\" font-family=\"Times,serif\" font-size=\"14.00\">grad 0.0000</text>\n</g>\n<!-- 140671680916944+ -->\n<g id=\"node79\" class=\"node\">\n<title>140671680916944+</title>\n<ellipse fill=\"none\" stroke=\"black\" cx=\"1184\" cy=\"-705.5\" rx=\"27\" ry=\"18\"/>\n<text text-anchor=\"middle\" x=\"1184\" y=\"-701.8\" font-family=\"Times,serif\" font-size=\"14.00\">+</text>\n</g>\n<!-- 140671680916624&#45;&gt;140671680916944+ -->\n<g id=\"edge166\" class=\"edge\">\n<title>140671680916624&#45;&gt;140671680916944+</title>\n<path fill=\"none\" stroke=\"black\" d=\"M1094.56,-742.45C1103.51,-739.64 1112.53,-736.63 1121,-733.5 1131.49,-729.62 1142.71,-724.78 1152.68,-720.22\"/>\n<polygon fill=\"black\" stroke=\"black\" points=\"1154.2,-723.37 1161.79,-715.97 1151.25,-717.02 1154.2,-723.37\"/>\n</g>\n<!-- 140671680916624+ -->\n<g id=\"node66\" class=\"node\">\n<title>140671680916624+</title>\n<ellipse fill=\"none\" stroke=\"black\" cx=\"871\" cy=\"-760.5\" rx=\"27\" ry=\"18\"/>\n<text text-anchor=\"middle\" x=\"871\" y=\"-756.8\" font-family=\"Times,serif\" font-size=\"14.00\">+</text>\n</g>\n<!-- 140671680916624+&#45;&gt;140671680916624 -->\n<g id=\"edge24\" class=\"edge\">\n<title>140671680916624+&#45;&gt;140671680916624</title>\n<path fill=\"none\" stroke=\"black\" d=\"M898.21,-760.5C906.34,-760.5 915.85,-760.5 925.94,-760.5\"/>\n<polygon fill=\"black\" stroke=\"black\" points=\"926.19,-764 936.19,-760.5 926.19,-757 926.19,-764\"/>\n</g>\n<!-- 140671680916688 -->\n<g id=\"node67\" class=\"node\">\n<title>140671680916688</title>\n<polygon fill=\"none\" stroke=\"black\" points=\"1249.5,-632.5 1249.5,-668.5 1431.5,-668.5 1431.5,-632.5 1249.5,-632.5\"/>\n<text text-anchor=\"middle\" x=\"1259.5\" y=\"-646.8\" font-family=\"Times,serif\" font-size=\"14.00\"> </text>\n<polyline fill=\"none\" stroke=\"black\" points=\"1269.5,-632.5 1269.5,-668.5 \"/>\n<text text-anchor=\"middle\" x=\"1309.5\" y=\"-646.8\" font-family=\"Times,serif\" font-size=\"14.00\">data 0.0214</text>\n<polyline fill=\"none\" stroke=\"black\" points=\"1349.5,-632.5 1349.5,-668.5 \"/>\n<text text-anchor=\"middle\" x=\"1390.5\" y=\"-646.8\" font-family=\"Times,serif\" font-size=\"14.00\">grad 0.0000</text>\n</g>\n<!-- 140671680916816+ -->\n<g id=\"node73\" class=\"node\">\n<title>140671680916816+</title>\n<ellipse fill=\"none\" stroke=\"black\" cx=\"1497\" cy=\"-705.5\" rx=\"27\" ry=\"18\"/>\n<text text-anchor=\"middle\" x=\"1497\" y=\"-701.8\" font-family=\"Times,serif\" font-size=\"14.00\">+</text>\n</g>\n<!-- 140671680916688&#45;&gt;140671680916816+ -->\n<g id=\"edge97\" class=\"edge\">\n<title>140671680916688&#45;&gt;140671680916816+</title>\n<path fill=\"none\" stroke=\"black\" d=\"M1405.02,-668.65C1414.79,-671.76 1424.71,-675.08 1434,-678.5 1444.25,-682.27 1455.23,-686.86 1465.07,-691.18\"/>\n<polygon fill=\"black\" stroke=\"black\" points=\"1463.89,-694.49 1474.45,-695.37 1466.74,-688.1 1463.89,-694.49\"/>\n</g>\n<!-- 140671680916688* -->\n<g id=\"node68\" class=\"node\">\n<title>140671680916688*</title>\n<ellipse fill=\"none\" stroke=\"black\" cx=\"1184\" cy=\"-650.5\" rx=\"27\" ry=\"18\"/>\n<text text-anchor=\"middle\" x=\"1184\" y=\"-646.8\" font-family=\"Times,serif\" font-size=\"14.00\">*</text>\n</g>\n<!-- 140671680916688*&#45;&gt;140671680916688 -->\n<g id=\"edge25\" class=\"edge\">\n<title>140671680916688*&#45;&gt;140671680916688</title>\n<path fill=\"none\" stroke=\"black\" d=\"M1211.21,-650.5C1219.34,-650.5 1228.85,-650.5 1238.94,-650.5\"/>\n<polygon fill=\"black\" stroke=\"black\" points=\"1239.19,-654 1249.19,-650.5 1239.19,-647 1239.19,-654\"/>\n</g>\n<!-- 140671680916752 -->\n<g id=\"node69\" class=\"node\">\n<title>140671680916752</title>\n<polygon fill=\"none\" stroke=\"black\" points=\"1873,-687.5 1873,-723.5 2060,-723.5 2060,-687.5 1873,-687.5\"/>\n<text text-anchor=\"middle\" x=\"1883\" y=\"-701.8\" font-family=\"Times,serif\" font-size=\"14.00\"> </text>\n<polyline fill=\"none\" stroke=\"black\" points=\"1893,-687.5 1893,-723.5 \"/>\n<text text-anchor=\"middle\" x=\"1935.5\" y=\"-701.8\" font-family=\"Times,serif\" font-size=\"14.00\">data &#45;0.9613</text>\n<polyline fill=\"none\" stroke=\"black\" points=\"1978,-687.5 1978,-723.5 \"/>\n<text text-anchor=\"middle\" x=\"2019\" y=\"-701.8\" font-family=\"Times,serif\" font-size=\"14.00\">grad 0.0000</text>\n</g>\n<!-- 140671680916752&#45;&gt;140671680163216* -->\n<g id=\"edge205\" class=\"edge\">\n<title>140671680916752&#45;&gt;140671680163216*</title>\n<path fill=\"none\" stroke=\"black\" d=\"M2031.02,-723.65C2040.79,-726.76 2050.71,-730.08 2060,-733.5 2070.25,-737.27 2081.23,-741.86 2091.07,-746.18\"/>\n<polygon fill=\"black\" stroke=\"black\" points=\"2089.89,-749.49 2100.45,-750.37 2092.74,-743.1 2089.89,-749.49\"/>\n</g>\n<!-- 140671680916752&#45;&gt;140671680166800* -->\n<g id=\"edge92\" class=\"edge\">\n<title>140671680916752&#45;&gt;140671680166800*</title>\n<path fill=\"none\" stroke=\"black\" d=\"M2045.23,-687.44C2050.44,-684.85 2055.43,-681.89 2060,-678.5 2083.47,-661.11 2078,-646.51 2096,-623.5 2097.4,-621.72 2098.88,-619.91 2100.41,-618.12\"/>\n<polygon fill=\"black\" stroke=\"black\" points=\"2103.17,-620.28 2107.21,-610.49 2097.94,-615.63 2103.17,-620.28\"/>\n</g>\n<!-- 140671681289296* -->\n<g id=\"node165\" class=\"node\">\n<title>140671681289296*</title>\n<ellipse fill=\"none\" stroke=\"black\" cx=\"2123\" cy=\"-705.5\" rx=\"27\" ry=\"18\"/>\n<text text-anchor=\"middle\" x=\"2123\" y=\"-701.8\" font-family=\"Times,serif\" font-size=\"14.00\">*</text>\n</g>\n<!-- 140671680916752&#45;&gt;140671681289296* -->\n<g id=\"edge110\" class=\"edge\">\n<title>140671680916752&#45;&gt;140671681289296*</title>\n<path fill=\"none\" stroke=\"black\" d=\"M2060.05,-705.5C2069.06,-705.5 2077.79,-705.5 2085.7,-705.5\"/>\n<polygon fill=\"black\" stroke=\"black\" points=\"2085.95,-709 2095.95,-705.5 2085.95,-702 2085.95,-709\"/>\n</g>\n<!-- 140671680916752&#45;&gt;140671680159440* -->\n<g id=\"edge117\" class=\"edge\">\n<title>140671680916752&#45;&gt;140671680159440*</title>\n<path fill=\"none\" stroke=\"black\" d=\"M2049.94,-687.46C2053.62,-684.85 2057.01,-681.88 2060,-678.5 2125.66,-604.31 2052.43,-547.49 2096,-458.5 2097,-456.47 2098.19,-454.48 2099.51,-452.56\"/>\n<polygon fill=\"black\" stroke=\"black\" points=\"2102.33,-454.64 2105.88,-444.66 2096.88,-450.24 2102.33,-454.64\"/>\n</g>\n<!-- 140671680916752tanh -->\n<g id=\"node70\" class=\"node\">\n<title>140671680916752tanh</title>\n<ellipse fill=\"none\" stroke=\"black\" cx=\"1810\" cy=\"-705.5\" rx=\"27\" ry=\"18\"/>\n<text text-anchor=\"middle\" x=\"1810\" y=\"-701.8\" font-family=\"Times,serif\" font-size=\"14.00\">tanh</text>\n</g>\n<!-- 140671680916752tanh&#45;&gt;140671680916752 -->\n<g id=\"edge26\" class=\"edge\">\n<title>140671680916752tanh&#45;&gt;140671680916752</title>\n<path fill=\"none\" stroke=\"black\" d=\"M1837.21,-705.5C1844.73,-705.5 1853.43,-705.5 1862.67,-705.5\"/>\n<polygon fill=\"black\" stroke=\"black\" points=\"1862.89,-709 1872.89,-705.5 1862.89,-702 1862.89,-709\"/>\n</g>\n<!-- 140671681285456 -->\n<g id=\"node71\" class=\"node\">\n<title>140671681285456</title>\n<polygon fill=\"none\" stroke=\"black\" points=\"1249.5,-137.5 1249.5,-173.5 1431.5,-173.5 1431.5,-137.5 1249.5,-137.5\"/>\n<text text-anchor=\"middle\" x=\"1259.5\" y=\"-151.8\" font-family=\"Times,serif\" font-size=\"14.00\"> </text>\n<polyline fill=\"none\" stroke=\"black\" points=\"1269.5,-137.5 1269.5,-173.5 \"/>\n<text text-anchor=\"middle\" x=\"1309.5\" y=\"-151.8\" font-family=\"Times,serif\" font-size=\"14.00\">data 3.0000</text>\n<polyline fill=\"none\" stroke=\"black\" points=\"1349.5,-137.5 1349.5,-173.5 \"/>\n<text text-anchor=\"middle\" x=\"1390.5\" y=\"-151.8\" font-family=\"Times,serif\" font-size=\"14.00\">grad 0.0000</text>\n</g>\n<!-- 140671681285456&#45;&gt;140671681284240* -->\n<g id=\"edge157\" class=\"edge\">\n<title>140671681285456&#45;&gt;140671681284240*</title>\n<path fill=\"none\" stroke=\"black\" d=\"M1431.82,-155.5C1441.57,-155.5 1451.04,-155.5 1459.57,-155.5\"/>\n<polygon fill=\"black\" stroke=\"black\" points=\"1459.83,-159 1469.83,-155.5 1459.83,-152 1459.83,-159\"/>\n</g>\n<!-- 140671680916816 -->\n<g id=\"node72\" class=\"node\">\n<title>140671680916816</title>\n<polygon fill=\"none\" stroke=\"black\" points=\"1560,-687.5 1560,-723.5 1747,-723.5 1747,-687.5 1560,-687.5\"/>\n<text text-anchor=\"middle\" x=\"1570\" y=\"-701.8\" font-family=\"Times,serif\" font-size=\"14.00\"> </text>\n<polyline fill=\"none\" stroke=\"black\" points=\"1580,-687.5 1580,-723.5 \"/>\n<text text-anchor=\"middle\" x=\"1622.5\" y=\"-701.8\" font-family=\"Times,serif\" font-size=\"14.00\">data &#45;1.9627</text>\n<polyline fill=\"none\" stroke=\"black\" points=\"1665,-687.5 1665,-723.5 \"/>\n<text text-anchor=\"middle\" x=\"1706\" y=\"-701.8\" font-family=\"Times,serif\" font-size=\"14.00\">grad 0.0000</text>\n</g>\n<!-- 140671680916816&#45;&gt;140671680916752tanh -->\n<g id=\"edge145\" class=\"edge\">\n<title>140671680916816&#45;&gt;140671680916752tanh</title>\n<path fill=\"none\" stroke=\"black\" d=\"M1747.05,-705.5C1756.06,-705.5 1764.79,-705.5 1772.7,-705.5\"/>\n<polygon fill=\"black\" stroke=\"black\" points=\"1772.95,-709 1782.95,-705.5 1772.95,-702 1772.95,-709\"/>\n</g>\n<!-- 140671680916816+&#45;&gt;140671680916816 -->\n<g id=\"edge27\" class=\"edge\">\n<title>140671680916816+&#45;&gt;140671680916816</title>\n<path fill=\"none\" stroke=\"black\" d=\"M1524.21,-705.5C1531.73,-705.5 1540.43,-705.5 1549.67,-705.5\"/>\n<polygon fill=\"black\" stroke=\"black\" points=\"1549.89,-709 1559.89,-705.5 1549.89,-702 1549.89,-709\"/>\n</g>\n<!-- 140671680163216 -->\n<g id=\"node74\" class=\"node\">\n<title>140671680163216</title>\n<polygon fill=\"none\" stroke=\"black\" points=\"2188.5,-742.5 2188.5,-778.5 2370.5,-778.5 2370.5,-742.5 2188.5,-742.5\"/>\n<text text-anchor=\"middle\" x=\"2198.5\" y=\"-756.8\" font-family=\"Times,serif\" font-size=\"14.00\"> </text>\n<polyline fill=\"none\" stroke=\"black\" points=\"2208.5,-742.5 2208.5,-778.5 \"/>\n<text text-anchor=\"middle\" x=\"2248.5\" y=\"-756.8\" font-family=\"Times,serif\" font-size=\"14.00\">data 0.6290</text>\n<polyline fill=\"none\" stroke=\"black\" points=\"2288.5,-742.5 2288.5,-778.5 \"/>\n<text text-anchor=\"middle\" x=\"2329.5\" y=\"-756.8\" font-family=\"Times,serif\" font-size=\"14.00\">grad 0.0000</text>\n</g>\n<!-- 140671680163216&#45;&gt;140671680164752+ -->\n<g id=\"edge134\" class=\"edge\">\n<title>140671680163216&#45;&gt;140671680164752+</title>\n<path fill=\"none\" stroke=\"black\" d=\"M2370.82,-744.72C2381.07,-742.92 2391.01,-741.19 2399.88,-739.64\"/>\n<polygon fill=\"black\" stroke=\"black\" points=\"2400.5,-743.08 2409.75,-737.91 2399.3,-736.19 2400.5,-743.08\"/>\n</g>\n<!-- 140671680163216*&#45;&gt;140671680163216 -->\n<g id=\"edge28\" class=\"edge\">\n<title>140671680163216*&#45;&gt;140671680163216</title>\n<path fill=\"none\" stroke=\"black\" d=\"M2150.21,-760.5C2158.34,-760.5 2167.85,-760.5 2177.94,-760.5\"/>\n<polygon fill=\"black\" stroke=\"black\" points=\"2178.19,-764 2188.19,-760.5 2178.19,-757 2178.19,-764\"/>\n</g>\n<!-- 140671680155088 -->\n<g id=\"node76\" class=\"node\">\n<title>140671680155088</title>\n<polygon fill=\"none\" stroke=\"black\" points=\"3125,-386.5 3125,-422.5 3312,-422.5 3312,-386.5 3125,-386.5\"/>\n<text text-anchor=\"middle\" x=\"3135\" y=\"-400.8\" font-family=\"Times,serif\" font-size=\"14.00\"> </text>\n<polyline fill=\"none\" stroke=\"black\" points=\"3145,-386.5 3145,-422.5 \"/>\n<text text-anchor=\"middle\" x=\"3187.5\" y=\"-400.8\" font-family=\"Times,serif\" font-size=\"14.00\">data &#45;0.1126</text>\n<polyline fill=\"none\" stroke=\"black\" points=\"3230,-386.5 3230,-422.5 \"/>\n<text text-anchor=\"middle\" x=\"3271\" y=\"-400.8\" font-family=\"Times,serif\" font-size=\"14.00\">grad 0.0000</text>\n</g>\n<!-- 140671680158608tanh -->\n<g id=\"node158\" class=\"node\">\n<title>140671680158608tanh</title>\n<ellipse fill=\"none\" stroke=\"black\" cx=\"3375\" cy=\"-404.5\" rx=\"27\" ry=\"18\"/>\n<text text-anchor=\"middle\" x=\"3375\" y=\"-400.8\" font-family=\"Times,serif\" font-size=\"14.00\">tanh</text>\n</g>\n<!-- 140671680155088&#45;&gt;140671680158608tanh -->\n<g id=\"edge124\" class=\"edge\">\n<title>140671680155088&#45;&gt;140671680158608tanh</title>\n<path fill=\"none\" stroke=\"black\" d=\"M3312.05,-404.5C3321.06,-404.5 3329.79,-404.5 3337.7,-404.5\"/>\n<polygon fill=\"black\" stroke=\"black\" points=\"3337.95,-408 3347.95,-404.5 3337.95,-401 3337.95,-408\"/>\n</g>\n<!-- 140671680155088+&#45;&gt;140671680155088 -->\n<g id=\"edge29\" class=\"edge\">\n<title>140671680155088+&#45;&gt;140671680155088</title>\n<path fill=\"none\" stroke=\"black\" d=\"M3089.21,-404.5C3096.73,-404.5 3105.43,-404.5 3114.67,-404.5\"/>\n<polygon fill=\"black\" stroke=\"black\" points=\"3114.89,-408 3124.89,-404.5 3114.89,-401 3114.89,-408\"/>\n</g>\n<!-- 140671680916944 -->\n<g id=\"node78\" class=\"node\">\n<title>140671680916944</title>\n<polygon fill=\"none\" stroke=\"black\" points=\"1247,-687.5 1247,-723.5 1434,-723.5 1434,-687.5 1247,-687.5\"/>\n<text text-anchor=\"middle\" x=\"1257\" y=\"-701.8\" font-family=\"Times,serif\" font-size=\"14.00\"> </text>\n<polyline fill=\"none\" stroke=\"black\" points=\"1267,-687.5 1267,-723.5 \"/>\n<text text-anchor=\"middle\" x=\"1309.5\" y=\"-701.8\" font-family=\"Times,serif\" font-size=\"14.00\">data &#45;1.9842</text>\n<polyline fill=\"none\" stroke=\"black\" points=\"1352,-687.5 1352,-723.5 \"/>\n<text text-anchor=\"middle\" x=\"1393\" y=\"-701.8\" font-family=\"Times,serif\" font-size=\"14.00\">grad 0.0000</text>\n</g>\n<!-- 140671680916944&#45;&gt;140671680916816+ -->\n<g id=\"edge144\" class=\"edge\">\n<title>140671680916944&#45;&gt;140671680916816+</title>\n<path fill=\"none\" stroke=\"black\" d=\"M1434.05,-705.5C1443.06,-705.5 1451.79,-705.5 1459.7,-705.5\"/>\n<polygon fill=\"black\" stroke=\"black\" points=\"1459.95,-709 1469.95,-705.5 1459.95,-702 1459.95,-709\"/>\n</g>\n<!-- 140671680916944+&#45;&gt;140671680916944 -->\n<g id=\"edge30\" class=\"edge\">\n<title>140671680916944+&#45;&gt;140671680916944</title>\n<path fill=\"none\" stroke=\"black\" d=\"M1211.21,-705.5C1218.73,-705.5 1227.43,-705.5 1236.67,-705.5\"/>\n<polygon fill=\"black\" stroke=\"black\" points=\"1236.89,-709 1246.89,-705.5 1236.89,-702 1236.89,-709\"/>\n</g>\n<!-- 140671681334800 -->\n<g id=\"node80\" class=\"node\">\n<title>140671681334800</title>\n<polygon fill=\"none\" stroke=\"black\" points=\"623.5,-440.5 623.5,-476.5 805.5,-476.5 805.5,-440.5 623.5,-440.5\"/>\n<text text-anchor=\"middle\" x=\"633.5\" y=\"-454.8\" font-family=\"Times,serif\" font-size=\"14.00\"> </text>\n<polyline fill=\"none\" stroke=\"black\" points=\"643.5,-440.5 643.5,-476.5 \"/>\n<text text-anchor=\"middle\" x=\"683.5\" y=\"-454.8\" font-family=\"Times,serif\" font-size=\"14.00\">data 0.1021</text>\n<polyline fill=\"none\" stroke=\"black\" points=\"723.5,-440.5 723.5,-476.5 \"/>\n<text text-anchor=\"middle\" x=\"764.5\" y=\"-454.8\" font-family=\"Times,serif\" font-size=\"14.00\">grad 0.0000</text>\n</g>\n<!-- 140671681334800&#45;&gt;140671680914256* -->\n<g id=\"edge199\" class=\"edge\">\n<title>140671681334800&#45;&gt;140671680914256*</title>\n<path fill=\"none\" stroke=\"black\" d=\"M805.82,-458.5C815.57,-458.5 825.04,-458.5 833.57,-458.5\"/>\n<polygon fill=\"black\" stroke=\"black\" points=\"833.83,-462 843.83,-458.5 833.83,-455 833.83,-462\"/>\n</g>\n<!-- 140671681293904 -->\n<g id=\"node81\" class=\"node\">\n<title>140671681293904</title>\n<polygon fill=\"none\" stroke=\"black\" points=\"936.5,-55.5 936.5,-91.5 1118.5,-91.5 1118.5,-55.5 936.5,-55.5\"/>\n<text text-anchor=\"middle\" x=\"946.5\" y=\"-69.8\" font-family=\"Times,serif\" font-size=\"14.00\"> </text>\n<polyline fill=\"none\" stroke=\"black\" points=\"956.5,-55.5 956.5,-91.5 \"/>\n<text text-anchor=\"middle\" x=\"996.5\" y=\"-69.8\" font-family=\"Times,serif\" font-size=\"14.00\">data 2.0000</text>\n<polyline fill=\"none\" stroke=\"black\" points=\"1036.5,-55.5 1036.5,-91.5 \"/>\n<text text-anchor=\"middle\" x=\"1077.5\" y=\"-69.8\" font-family=\"Times,serif\" font-size=\"14.00\">grad 0.0000</text>\n</g>\n<!-- 140671681293904&#45;&gt;140671681284688* -->\n<g id=\"edge151\" class=\"edge\">\n<title>140671681293904&#45;&gt;140671681284688*</title>\n<path fill=\"none\" stroke=\"black\" d=\"M1118.82,-57.13C1129.07,-55.27 1139.01,-53.47 1147.88,-51.87\"/>\n<polygon fill=\"black\" stroke=\"black\" points=\"1148.54,-55.3 1157.75,-50.08 1147.29,-48.42 1148.54,-55.3\"/>\n</g>\n<!-- 140671681335056 -->\n<g id=\"node82\" class=\"node\">\n<title>140671681335056</title>\n<polygon fill=\"none\" stroke=\"black\" points=\"308,-440.5 308,-476.5 495,-476.5 495,-440.5 308,-440.5\"/>\n<text text-anchor=\"middle\" x=\"318\" y=\"-454.8\" font-family=\"Times,serif\" font-size=\"14.00\"> </text>\n<polyline fill=\"none\" stroke=\"black\" points=\"328,-440.5 328,-476.5 \"/>\n<text text-anchor=\"middle\" x=\"370.5\" y=\"-454.8\" font-family=\"Times,serif\" font-size=\"14.00\">data &#45;0.4402</text>\n<polyline fill=\"none\" stroke=\"black\" points=\"413,-440.5 413,-476.5 \"/>\n<text text-anchor=\"middle\" x=\"454\" y=\"-454.8\" font-family=\"Times,serif\" font-size=\"14.00\">grad 0.0000</text>\n</g>\n<!-- 140671681335056&#45;&gt;140671680915408+ -->\n<g id=\"edge104\" class=\"edge\">\n<title>140671681335056&#45;&gt;140671680915408+</title>\n<path fill=\"none\" stroke=\"black\" d=\"M468.56,-440.45C477.51,-437.64 486.53,-434.63 495,-431.5 505.49,-427.62 516.71,-422.78 526.68,-418.22\"/>\n<polygon fill=\"black\" stroke=\"black\" points=\"528.2,-421.37 535.79,-413.97 525.25,-415.02 528.2,-421.37\"/>\n</g>\n<!-- 140671691984912 -->\n<g id=\"node83\" class=\"node\">\n<title>140671691984912</title>\n<polygon fill=\"none\" stroke=\"black\" points=\"1562.5,-412.5 1562.5,-448.5 1744.5,-448.5 1744.5,-412.5 1562.5,-412.5\"/>\n<text text-anchor=\"middle\" x=\"1572.5\" y=\"-426.8\" font-family=\"Times,serif\" font-size=\"14.00\"> </text>\n<polyline fill=\"none\" stroke=\"black\" points=\"1582.5,-412.5 1582.5,-448.5 \"/>\n<text text-anchor=\"middle\" x=\"1622.5\" y=\"-426.8\" font-family=\"Times,serif\" font-size=\"14.00\">data 0.9925</text>\n<polyline fill=\"none\" stroke=\"black\" points=\"1662.5,-412.5 1662.5,-448.5 \"/>\n<text text-anchor=\"middle\" x=\"1703.5\" y=\"-426.8\" font-family=\"Times,serif\" font-size=\"14.00\">grad 0.0000</text>\n</g>\n<!-- 140671691984912&#45;&gt;140671680154384* -->\n<g id=\"edge161\" class=\"edge\">\n<title>140671691984912&#45;&gt;140671680154384*</title>\n<path fill=\"none\" stroke=\"black\" d=\"M1732.86,-448.66C1737.93,-451.48 1742.71,-454.74 1747,-458.5 1764.29,-473.66 1787.13,-532.8 1799.71,-568.23\"/>\n<polygon fill=\"black\" stroke=\"black\" points=\"1796.51,-569.69 1803.11,-577.97 1803.11,-567.37 1796.51,-569.69\"/>\n</g>\n<!-- 140671680165328* -->\n<g id=\"node117\" class=\"node\">\n<title>140671680165328*</title>\n<ellipse fill=\"none\" stroke=\"black\" cx=\"1810\" cy=\"-375.5\" rx=\"27\" ry=\"18\"/>\n<text text-anchor=\"middle\" x=\"1810\" y=\"-371.8\" font-family=\"Times,serif\" font-size=\"14.00\">*</text>\n</g>\n<!-- 140671691984912&#45;&gt;140671680165328* -->\n<g id=\"edge155\" class=\"edge\">\n<title>140671691984912&#45;&gt;140671680165328*</title>\n<path fill=\"none\" stroke=\"black\" d=\"M1720.56,-412.45C1729.51,-409.64 1738.53,-406.63 1747,-403.5 1757.49,-399.62 1768.71,-394.78 1778.68,-390.22\"/>\n<polygon fill=\"black\" stroke=\"black\" points=\"1780.2,-393.37 1787.79,-385.97 1777.25,-387.02 1780.2,-393.37\"/>\n</g>\n<!-- 140671680157136* -->\n<g id=\"node119\" class=\"node\">\n<title>140671680157136*</title>\n<ellipse fill=\"none\" stroke=\"black\" cx=\"1810\" cy=\"-320.5\" rx=\"27\" ry=\"18\"/>\n<text text-anchor=\"middle\" x=\"1810\" y=\"-316.8\" font-family=\"Times,serif\" font-size=\"14.00\">*</text>\n</g>\n<!-- 140671691984912&#45;&gt;140671680157136* -->\n<g id=\"edge150\" class=\"edge\">\n<title>140671691984912&#45;&gt;140671680157136*</title>\n<path fill=\"none\" stroke=\"black\" d=\"M1732.23,-412.44C1737.44,-409.85 1742.43,-406.89 1747,-403.5 1770.47,-386.11 1765,-371.51 1783,-348.5 1784.4,-346.72 1785.88,-344.91 1787.41,-343.12\"/>\n<polygon fill=\"black\" stroke=\"black\" points=\"1790.17,-345.28 1794.21,-335.49 1784.94,-340.63 1790.17,-345.28\"/>\n</g>\n<!-- 140671681288720* -->\n<g id=\"node148\" class=\"node\">\n<title>140671681288720*</title>\n<ellipse fill=\"none\" stroke=\"black\" cx=\"1810\" cy=\"-485.5\" rx=\"27\" ry=\"18\"/>\n<text text-anchor=\"middle\" x=\"1810\" y=\"-481.8\" font-family=\"Times,serif\" font-size=\"14.00\">*</text>\n</g>\n<!-- 140671691984912&#45;&gt;140671681288720* -->\n<g id=\"edge94\" class=\"edge\">\n<title>140671691984912&#45;&gt;140671681288720*</title>\n<path fill=\"none\" stroke=\"black\" d=\"M1718.02,-448.65C1727.79,-451.76 1737.71,-455.08 1747,-458.5 1757.25,-462.27 1768.23,-466.86 1778.07,-471.18\"/>\n<polygon fill=\"black\" stroke=\"black\" points=\"1776.89,-474.49 1787.45,-475.37 1779.74,-468.1 1776.89,-474.49\"/>\n</g>\n<!-- 140671691984912tanh&#45;&gt;140671691984912 -->\n<g id=\"edge31\" class=\"edge\">\n<title>140671691984912tanh&#45;&gt;140671691984912</title>\n<path fill=\"none\" stroke=\"black\" d=\"M1524.21,-430.5C1532.34,-430.5 1541.85,-430.5 1551.94,-430.5\"/>\n<polygon fill=\"black\" stroke=\"black\" points=\"1552.19,-434 1562.19,-430.5 1552.19,-427 1552.19,-434\"/>\n</g>\n<!-- 140671681294416 -->\n<g id=\"node85\" class=\"node\">\n<title>140671681294416</title>\n<polygon fill=\"none\" stroke=\"black\" points=\"1562.5,-907.5 1562.5,-943.5 1744.5,-943.5 1744.5,-907.5 1562.5,-907.5\"/>\n<text text-anchor=\"middle\" x=\"1572.5\" y=\"-921.8\" font-family=\"Times,serif\" font-size=\"14.00\"> </text>\n<polyline fill=\"none\" stroke=\"black\" points=\"1582.5,-907.5 1582.5,-943.5 \"/>\n<text text-anchor=\"middle\" x=\"1622.5\" y=\"-921.8\" font-family=\"Times,serif\" font-size=\"14.00\">data 1.9893</text>\n<polyline fill=\"none\" stroke=\"black\" points=\"1662.5,-907.5 1662.5,-943.5 \"/>\n<text text-anchor=\"middle\" x=\"1703.5\" y=\"-921.8\" font-family=\"Times,serif\" font-size=\"14.00\">grad 0.0000</text>\n</g>\n<!-- 140671681294416&#45;&gt;140671681282960+ -->\n<g id=\"edge85\" class=\"edge\">\n<title>140671681294416&#45;&gt;140671681282960+</title>\n<path fill=\"none\" stroke=\"black\" d=\"M1744.82,-925.5C1754.57,-925.5 1764.04,-925.5 1772.57,-925.5\"/>\n<polygon fill=\"black\" stroke=\"black\" points=\"1772.83,-929 1782.83,-925.5 1772.83,-922 1772.83,-929\"/>\n</g>\n<!-- 140671681294416+ -->\n<g id=\"node86\" class=\"node\">\n<title>140671681294416+</title>\n<ellipse fill=\"none\" stroke=\"black\" cx=\"1497\" cy=\"-925.5\" rx=\"27\" ry=\"18\"/>\n<text text-anchor=\"middle\" x=\"1497\" y=\"-921.8\" font-family=\"Times,serif\" font-size=\"14.00\">+</text>\n</g>\n<!-- 140671681294416+&#45;&gt;140671681294416 -->\n<g id=\"edge32\" class=\"edge\">\n<title>140671681294416+&#45;&gt;140671681294416</title>\n<path fill=\"none\" stroke=\"black\" d=\"M1524.21,-925.5C1532.34,-925.5 1541.85,-925.5 1551.94,-925.5\"/>\n<polygon fill=\"black\" stroke=\"black\" points=\"1552.19,-929 1562.19,-925.5 1552.19,-922 1552.19,-929\"/>\n</g>\n<!-- 140671923671184 -->\n<g id=\"node87\" class=\"node\">\n<title>140671923671184</title>\n<polygon fill=\"none\" stroke=\"black\" points=\"2501.5,-249.5 2501.5,-285.5 2683.5,-285.5 2683.5,-249.5 2501.5,-249.5\"/>\n<text text-anchor=\"middle\" x=\"2511.5\" y=\"-263.8\" font-family=\"Times,serif\" font-size=\"14.00\"> </text>\n<polyline fill=\"none\" stroke=\"black\" points=\"2521.5,-249.5 2521.5,-285.5 \"/>\n<text text-anchor=\"middle\" x=\"2561.5\" y=\"-263.8\" font-family=\"Times,serif\" font-size=\"14.00\">data 0.7363</text>\n<polyline fill=\"none\" stroke=\"black\" points=\"2601.5,-249.5 2601.5,-285.5 \"/>\n<text text-anchor=\"middle\" x=\"2642.5\" y=\"-263.8\" font-family=\"Times,serif\" font-size=\"14.00\">grad 0.0000</text>\n</g>\n<!-- 140671680159632* -->\n<g id=\"node103\" class=\"node\">\n<title>140671680159632*</title>\n<ellipse fill=\"none\" stroke=\"black\" cx=\"2749\" cy=\"-322.5\" rx=\"27\" ry=\"18\"/>\n<text text-anchor=\"middle\" x=\"2749\" y=\"-318.8\" font-family=\"Times,serif\" font-size=\"14.00\">*</text>\n</g>\n<!-- 140671923671184&#45;&gt;140671680159632* -->\n<g id=\"edge108\" class=\"edge\">\n<title>140671923671184&#45;&gt;140671680159632*</title>\n<path fill=\"none\" stroke=\"black\" d=\"M2657.02,-285.65C2666.79,-288.76 2676.71,-292.08 2686,-295.5 2696.25,-299.27 2707.23,-303.86 2717.07,-308.18\"/>\n<polygon fill=\"black\" stroke=\"black\" points=\"2715.89,-311.49 2726.45,-312.37 2718.74,-305.1 2715.89,-311.49\"/>\n</g>\n<!-- 140671681286288 -->\n<g id=\"node88\" class=\"node\">\n<title>140671681286288</title>\n<polygon fill=\"none\" stroke=\"black\" points=\"1560,-82.5 1560,-118.5 1747,-118.5 1747,-82.5 1560,-82.5\"/>\n<text text-anchor=\"middle\" x=\"1570\" y=\"-96.8\" font-family=\"Times,serif\" font-size=\"14.00\"> </text>\n<polyline fill=\"none\" stroke=\"black\" points=\"1580,-82.5 1580,-118.5 \"/>\n<text text-anchor=\"middle\" x=\"1622.5\" y=\"-96.8\" font-family=\"Times,serif\" font-size=\"14.00\">data &#45;1.0786</text>\n<polyline fill=\"none\" stroke=\"black\" points=\"1665,-82.5 1665,-118.5 \"/>\n<text text-anchor=\"middle\" x=\"1706\" y=\"-96.8\" font-family=\"Times,serif\" font-size=\"14.00\">grad 0.0000</text>\n</g>\n<!-- 140671681286288&#45;&gt;140671681285008+ -->\n<g id=\"edge75\" class=\"edge\">\n<title>140671681286288&#45;&gt;140671681285008+</title>\n<path fill=\"none\" stroke=\"black\" d=\"M1720.56,-118.55C1729.51,-121.36 1738.53,-124.37 1747,-127.5 1757.49,-131.38 1768.71,-136.22 1778.68,-140.78\"/>\n<polygon fill=\"black\" stroke=\"black\" points=\"1777.25,-143.98 1787.79,-145.03 1780.2,-137.63 1777.25,-143.98\"/>\n</g>\n<!-- 140671681286288+&#45;&gt;140671681286288 -->\n<g id=\"edge33\" class=\"edge\">\n<title>140671681286288+&#45;&gt;140671681286288</title>\n<path fill=\"none\" stroke=\"black\" d=\"M1524.21,-100.5C1531.73,-100.5 1540.43,-100.5 1549.67,-100.5\"/>\n<polygon fill=\"black\" stroke=\"black\" points=\"1549.89,-104 1559.89,-100.5 1549.89,-97 1549.89,-104\"/>\n</g>\n<!-- 140671681237136 -->\n<g id=\"node90\" class=\"node\">\n<title>140671681237136</title>\n<polygon fill=\"none\" stroke=\"black\" points=\"2501.5,-634.5 2501.5,-670.5 2683.5,-670.5 2683.5,-634.5 2501.5,-634.5\"/>\n<text text-anchor=\"middle\" x=\"2511.5\" y=\"-648.8\" font-family=\"Times,serif\" font-size=\"14.00\"> </text>\n<polyline fill=\"none\" stroke=\"black\" points=\"2521.5,-634.5 2521.5,-670.5 \"/>\n<text text-anchor=\"middle\" x=\"2561.5\" y=\"-648.8\" font-family=\"Times,serif\" font-size=\"14.00\">data 0.1870</text>\n<polyline fill=\"none\" stroke=\"black\" points=\"2601.5,-634.5 2601.5,-670.5 \"/>\n<text text-anchor=\"middle\" x=\"2642.5\" y=\"-648.8\" font-family=\"Times,serif\" font-size=\"14.00\">grad 0.0000</text>\n</g>\n<!-- 140671681237136&#45;&gt;140671681249232+ -->\n<g id=\"edge102\" class=\"edge\">\n<title>140671681237136&#45;&gt;140671681249232+</title>\n<path fill=\"none\" stroke=\"black\" d=\"M2674.49,-634.42C2678.63,-631.83 2682.51,-628.87 2686,-625.5 2722.96,-589.72 2695.89,-559.82 2722,-515.5 2723.15,-513.55 2724.45,-511.62 2725.85,-509.74\"/>\n<polygon fill=\"black\" stroke=\"black\" points=\"2728.66,-511.85 2732.39,-501.93 2723.29,-507.35 2728.66,-511.85\"/>\n</g>\n<!-- 140671681237136*&#45;&gt;140671681237136 -->\n<g id=\"edge34\" class=\"edge\">\n<title>140671681237136*&#45;&gt;140671681237136</title>\n<path fill=\"none\" stroke=\"black\" d=\"M2463.21,-652.5C2471.34,-652.5 2480.85,-652.5 2490.94,-652.5\"/>\n<polygon fill=\"black\" stroke=\"black\" points=\"2491.19,-656 2501.19,-652.5 2491.19,-649 2491.19,-656\"/>\n</g>\n<!-- 140671691239632 -->\n<g id=\"node92\" class=\"node\">\n<title>140671691239632</title>\n<polygon fill=\"none\" stroke=\"black\" points=\"2186,-797.5 2186,-833.5 2373,-833.5 2373,-797.5 2186,-797.5\"/>\n<text text-anchor=\"middle\" x=\"2196\" y=\"-811.8\" font-family=\"Times,serif\" font-size=\"14.00\"> </text>\n<polyline fill=\"none\" stroke=\"black\" points=\"2206,-797.5 2206,-833.5 \"/>\n<text text-anchor=\"middle\" x=\"2248.5\" y=\"-811.8\" font-family=\"Times,serif\" font-size=\"14.00\">data &#45;0.9548</text>\n<polyline fill=\"none\" stroke=\"black\" points=\"2291,-797.5 2291,-833.5 \"/>\n<text text-anchor=\"middle\" x=\"2332\" y=\"-811.8\" font-family=\"Times,serif\" font-size=\"14.00\">grad 0.0000</text>\n</g>\n<!-- 140671691239632&#45;&gt;140671680162448* -->\n<g id=\"edge84\" class=\"edge\">\n<title>140671691239632&#45;&gt;140671680162448*</title>\n<path fill=\"none\" stroke=\"black\" d=\"M2373.05,-815.5C2382.06,-815.5 2390.79,-815.5 2398.7,-815.5\"/>\n<polygon fill=\"black\" stroke=\"black\" points=\"2398.95,-819 2408.95,-815.5 2398.95,-812 2398.95,-819\"/>\n</g>\n<!-- 140671680164048 -->\n<g id=\"node93\" class=\"node\">\n<title>140671680164048</title>\n<polygon fill=\"none\" stroke=\"black\" points=\"2501.5,-903.5 2501.5,-939.5 2683.5,-939.5 2683.5,-903.5 2501.5,-903.5\"/>\n<text text-anchor=\"middle\" x=\"2511.5\" y=\"-917.8\" font-family=\"Times,serif\" font-size=\"14.00\"> </text>\n<polyline fill=\"none\" stroke=\"black\" points=\"2521.5,-903.5 2521.5,-939.5 \"/>\n<text text-anchor=\"middle\" x=\"2561.5\" y=\"-917.8\" font-family=\"Times,serif\" font-size=\"14.00\">data 0.2099</text>\n<polyline fill=\"none\" stroke=\"black\" points=\"2601.5,-903.5 2601.5,-939.5 \"/>\n<text text-anchor=\"middle\" x=\"2642.5\" y=\"-917.8\" font-family=\"Times,serif\" font-size=\"14.00\">grad 0.0000</text>\n</g>\n<!-- 140671680166160+ -->\n<g id=\"node144\" class=\"node\">\n<title>140671680166160+</title>\n<ellipse fill=\"none\" stroke=\"black\" cx=\"2749\" cy=\"-733.5\" rx=\"27\" ry=\"18\"/>\n<text text-anchor=\"middle\" x=\"2749\" y=\"-729.8\" font-family=\"Times,serif\" font-size=\"14.00\">+</text>\n</g>\n<!-- 140671680164048&#45;&gt;140671680166160+ -->\n<g id=\"edge83\" class=\"edge\">\n<title>140671680164048&#45;&gt;140671680166160+</title>\n<path fill=\"none\" stroke=\"black\" d=\"M2669.43,-903.35C2675.44,-900.04 2681.08,-896.13 2686,-891.5 2723.14,-856.54 2738.4,-796.62 2744.39,-761.48\"/>\n<polygon fill=\"black\" stroke=\"black\" points=\"2747.87,-761.85 2745.96,-751.42 2740.96,-760.76 2747.87,-761.85\"/>\n</g>\n<!-- 140671680164048*&#45;&gt;140671680164048 -->\n<g id=\"edge35\" class=\"edge\">\n<title>140671680164048*&#45;&gt;140671680164048</title>\n<path fill=\"none\" stroke=\"black\" d=\"M2463.21,-923.16C2471.34,-923.06 2480.85,-922.93 2490.94,-922.8\"/>\n<polygon fill=\"black\" stroke=\"black\" points=\"2491.24,-926.3 2501.19,-922.67 2491.15,-919.3 2491.24,-926.3\"/>\n</g>\n<!-- 140671680921552 -->\n<g id=\"node95\" class=\"node\">\n<title>140671680921552</title>\n<polygon fill=\"none\" stroke=\"black\" points=\"1875.5,-82.5 1875.5,-118.5 2057.5,-118.5 2057.5,-82.5 1875.5,-82.5\"/>\n<text text-anchor=\"middle\" x=\"1885.5\" y=\"-96.8\" font-family=\"Times,serif\" font-size=\"14.00\"> </text>\n<polyline fill=\"none\" stroke=\"black\" points=\"1895.5,-82.5 1895.5,-118.5 \"/>\n<text text-anchor=\"middle\" x=\"1935.5\" y=\"-96.8\" font-family=\"Times,serif\" font-size=\"14.00\">data 0.9454</text>\n<polyline fill=\"none\" stroke=\"black\" points=\"1975.5,-82.5 1975.5,-118.5 \"/>\n<text text-anchor=\"middle\" x=\"2016.5\" y=\"-96.8\" font-family=\"Times,serif\" font-size=\"14.00\">grad 0.0000</text>\n</g>\n<!-- 140671680159312+ -->\n<g id=\"node181\" class=\"node\">\n<title>140671680159312+</title>\n<ellipse fill=\"none\" stroke=\"black\" cx=\"2123\" cy=\"-170.5\" rx=\"27\" ry=\"18\"/>\n<text text-anchor=\"middle\" x=\"2123\" y=\"-166.8\" font-family=\"Times,serif\" font-size=\"14.00\">+</text>\n</g>\n<!-- 140671680921552&#45;&gt;140671680159312+ -->\n<g id=\"edge162\" class=\"edge\">\n<title>140671680921552&#45;&gt;140671680159312+</title>\n<path fill=\"none\" stroke=\"black\" d=\"M2038.09,-118.51C2045.62,-121.19 2053.05,-124.19 2060,-127.5 2072.97,-133.69 2086.2,-142.47 2097.1,-150.48\"/>\n<polygon fill=\"black\" stroke=\"black\" points=\"2095.2,-153.43 2105.28,-156.68 2099.42,-147.85 2095.2,-153.43\"/>\n</g>\n<!-- 140671680917904 -->\n<g id=\"node96\" class=\"node\">\n<title>140671680917904</title>\n<polygon fill=\"none\" stroke=\"black\" points=\"623.5,-797.5 623.5,-833.5 805.5,-833.5 805.5,-797.5 623.5,-797.5\"/>\n<text text-anchor=\"middle\" x=\"633.5\" y=\"-811.8\" font-family=\"Times,serif\" font-size=\"14.00\"> </text>\n<polyline fill=\"none\" stroke=\"black\" points=\"643.5,-797.5 643.5,-833.5 \"/>\n<text text-anchor=\"middle\" x=\"683.5\" y=\"-811.8\" font-family=\"Times,serif\" font-size=\"14.00\">data 1.2342</text>\n<polyline fill=\"none\" stroke=\"black\" points=\"723.5,-797.5 723.5,-833.5 \"/>\n<text text-anchor=\"middle\" x=\"764.5\" y=\"-811.8\" font-family=\"Times,serif\" font-size=\"14.00\">grad 0.0000</text>\n</g>\n<!-- 140671680917904&#45;&gt;140671680916624+ -->\n<g id=\"edge207\" class=\"edge\">\n<title>140671680917904&#45;&gt;140671680916624+</title>\n<path fill=\"none\" stroke=\"black\" d=\"M781.56,-797.45C790.51,-794.64 799.53,-791.63 808,-788.5 818.49,-784.62 829.71,-779.78 839.68,-775.22\"/>\n<polygon fill=\"black\" stroke=\"black\" points=\"841.2,-778.37 848.79,-770.97 838.25,-772.02 841.2,-778.37\"/>\n</g>\n<!-- 140671680917904* -->\n<g id=\"node97\" class=\"node\">\n<title>140671680917904*</title>\n<ellipse fill=\"none\" stroke=\"black\" cx=\"558\" cy=\"-815.5\" rx=\"27\" ry=\"18\"/>\n<text text-anchor=\"middle\" x=\"558\" y=\"-811.8\" font-family=\"Times,serif\" font-size=\"14.00\">*</text>\n</g>\n<!-- 140671680917904*&#45;&gt;140671680917904 -->\n<g id=\"edge36\" class=\"edge\">\n<title>140671680917904*&#45;&gt;140671680917904</title>\n<path fill=\"none\" stroke=\"black\" d=\"M585.21,-815.5C593.34,-815.5 602.85,-815.5 612.94,-815.5\"/>\n<polygon fill=\"black\" stroke=\"black\" points=\"613.19,-819 623.19,-815.5 613.19,-812 613.19,-819\"/>\n</g>\n<!-- 140671681245584 -->\n<g id=\"node98\" class=\"node\">\n<title>140671681245584</title>\n<polygon fill=\"none\" stroke=\"black\" points=\"3751,-496.5 3751,-532.5 3938,-532.5 3938,-496.5 3751,-496.5\"/>\n<text text-anchor=\"middle\" x=\"3761\" y=\"-510.8\" font-family=\"Times,serif\" font-size=\"14.00\"> </text>\n<polyline fill=\"none\" stroke=\"black\" points=\"3771,-496.5 3771,-532.5 \"/>\n<text text-anchor=\"middle\" x=\"3813.5\" y=\"-510.8\" font-family=\"Times,serif\" font-size=\"14.00\">data &#45;0.1907</text>\n<polyline fill=\"none\" stroke=\"black\" points=\"3856,-496.5 3856,-532.5 \"/>\n<text text-anchor=\"middle\" x=\"3897\" y=\"-510.8\" font-family=\"Times,serif\" font-size=\"14.00\">grad 0.0000</text>\n</g>\n<!-- 140671681245584&#45;&gt;140671681247056+ -->\n<g id=\"edge91\" class=\"edge\">\n<title>140671681245584&#45;&gt;140671681247056+</title>\n<path fill=\"none\" stroke=\"black\" d=\"M3938.26,-514.5C3970.72,-514.5 4005.27,-514.5 4030.32,-514.5\"/>\n<polygon fill=\"black\" stroke=\"black\" points=\"4030.44,-518 4040.44,-514.5 4030.44,-511 4030.44,-518\"/>\n</g>\n<!-- 140671681245584*&#45;&gt;140671681245584 -->\n<g id=\"edge37\" class=\"edge\">\n<title>140671681245584*&#45;&gt;140671681245584</title>\n<path fill=\"none\" stroke=\"black\" d=\"M3715.21,-514.5C3722.73,-514.5 3731.43,-514.5 3740.67,-514.5\"/>\n<polygon fill=\"black\" stroke=\"black\" points=\"3740.89,-518 3750.89,-514.5 3740.89,-511 3740.89,-518\"/>\n</g>\n<!-- 140671681344144 -->\n<g id=\"node100\" class=\"node\">\n<title>140671681344144</title>\n<polygon fill=\"none\" stroke=\"black\" points=\"310.5,-330.5 310.5,-366.5 492.5,-366.5 492.5,-330.5 310.5,-330.5\"/>\n<text text-anchor=\"middle\" x=\"320.5\" y=\"-344.8\" font-family=\"Times,serif\" font-size=\"14.00\"> </text>\n<polyline fill=\"none\" stroke=\"black\" points=\"330.5,-330.5 330.5,-366.5 \"/>\n<text text-anchor=\"middle\" x=\"370.5\" y=\"-344.8\" font-family=\"Times,serif\" font-size=\"14.00\">data 0.7029</text>\n<polyline fill=\"none\" stroke=\"black\" points=\"410.5,-330.5 410.5,-366.5 \"/>\n<text text-anchor=\"middle\" x=\"451.5\" y=\"-344.8\" font-family=\"Times,serif\" font-size=\"14.00\">grad 0.0000</text>\n</g>\n<!-- 140671681344144&#45;&gt;140671680916176* -->\n<g id=\"edge107\" class=\"edge\">\n<title>140671681344144&#45;&gt;140671680916176*</title>\n<path fill=\"none\" stroke=\"black\" d=\"M492.82,-348.5C502.57,-348.5 512.04,-348.5 520.57,-348.5\"/>\n<polygon fill=\"black\" stroke=\"black\" points=\"520.83,-352 530.83,-348.5 520.83,-345 520.83,-352\"/>\n</g>\n<!-- 140671681344208 -->\n<g id=\"node101\" class=\"node\">\n<title>140671681344208</title>\n<polygon fill=\"none\" stroke=\"black\" points=\"310.5,-825.5 310.5,-861.5 492.5,-861.5 492.5,-825.5 310.5,-825.5\"/>\n<text text-anchor=\"middle\" x=\"320.5\" y=\"-839.8\" font-family=\"Times,serif\" font-size=\"14.00\"> </text>\n<polyline fill=\"none\" stroke=\"black\" points=\"330.5,-825.5 330.5,-861.5 \"/>\n<text text-anchor=\"middle\" x=\"370.5\" y=\"-839.8\" font-family=\"Times,serif\" font-size=\"14.00\">data 0.6171</text>\n<polyline fill=\"none\" stroke=\"black\" points=\"410.5,-825.5 410.5,-861.5 \"/>\n<text text-anchor=\"middle\" x=\"451.5\" y=\"-839.8\" font-family=\"Times,serif\" font-size=\"14.00\">grad 0.0000</text>\n</g>\n<!-- 140671681344208&#45;&gt;140671680917904* -->\n<g id=\"edge168\" class=\"edge\">\n<title>140671681344208&#45;&gt;140671680917904*</title>\n<path fill=\"none\" stroke=\"black\" d=\"M492.82,-827.13C503.07,-825.27 513.01,-823.47 521.88,-821.87\"/>\n<polygon fill=\"black\" stroke=\"black\" points=\"522.54,-825.3 531.75,-820.08 521.29,-818.42 522.54,-825.3\"/>\n</g>\n<!-- 140671680159632 -->\n<g id=\"node102\" class=\"node\">\n<title>140671680159632</title>\n<polygon fill=\"none\" stroke=\"black\" points=\"2812,-304.5 2812,-340.5 2999,-340.5 2999,-304.5 2812,-304.5\"/>\n<text text-anchor=\"middle\" x=\"2822\" y=\"-318.8\" font-family=\"Times,serif\" font-size=\"14.00\"> </text>\n<polyline fill=\"none\" stroke=\"black\" points=\"2832,-304.5 2832,-340.5 \"/>\n<text text-anchor=\"middle\" x=\"2874.5\" y=\"-318.8\" font-family=\"Times,serif\" font-size=\"14.00\">data &#45;0.5285</text>\n<polyline fill=\"none\" stroke=\"black\" points=\"2917,-304.5 2917,-340.5 \"/>\n<text text-anchor=\"middle\" x=\"2958\" y=\"-318.8\" font-family=\"Times,serif\" font-size=\"14.00\">grad 0.0000</text>\n</g>\n<!-- 140671680159632&#45;&gt;140671680155088+ -->\n<g id=\"edge95\" class=\"edge\">\n<title>140671680159632&#45;&gt;140671680155088+</title>\n<path fill=\"none\" stroke=\"black\" d=\"M2977.48,-340.57C2984.93,-343.47 2992.25,-346.76 2999,-350.5 3014.02,-358.81 3028.61,-371.23 3039.86,-382.06\"/>\n<polygon fill=\"black\" stroke=\"black\" points=\"3037.52,-384.67 3047.08,-389.24 3042.45,-379.7 3037.52,-384.67\"/>\n</g>\n<!-- 140671680159632*&#45;&gt;140671680159632 -->\n<g id=\"edge38\" class=\"edge\">\n<title>140671680159632*&#45;&gt;140671680159632</title>\n<path fill=\"none\" stroke=\"black\" d=\"M2776.21,-322.5C2783.73,-322.5 2792.43,-322.5 2801.67,-322.5\"/>\n<polygon fill=\"black\" stroke=\"black\" points=\"2801.89,-326 2811.89,-322.5 2801.89,-319 2801.89,-326\"/>\n</g>\n<!-- 140671680164560 -->\n<g id=\"node104\" class=\"node\">\n<title>140671680164560</title>\n<polygon fill=\"none\" stroke=\"black\" points=\"3440.5,-606.5 3440.5,-642.5 3622.5,-642.5 3622.5,-606.5 3440.5,-606.5\"/>\n<text text-anchor=\"middle\" x=\"3450.5\" y=\"-620.8\" font-family=\"Times,serif\" font-size=\"14.00\"> </text>\n<polyline fill=\"none\" stroke=\"black\" points=\"3460.5,-606.5 3460.5,-642.5 \"/>\n<text text-anchor=\"middle\" x=\"3500.5\" y=\"-620.8\" font-family=\"Times,serif\" font-size=\"14.00\">data 0.9401</text>\n<polyline fill=\"none\" stroke=\"black\" points=\"3540.5,-606.5 3540.5,-642.5 \"/>\n<text text-anchor=\"middle\" x=\"3581.5\" y=\"-620.8\" font-family=\"Times,serif\" font-size=\"14.00\">grad 0.0000</text>\n</g>\n<!-- 140671680164560&#45;&gt;140671681247312* -->\n<g id=\"edge146\" class=\"edge\">\n<title>140671680164560&#45;&gt;140671681247312*</title>\n<path fill=\"none\" stroke=\"black\" d=\"M3622.82,-624.5C3632.57,-624.5 3642.04,-624.5 3650.57,-624.5\"/>\n<polygon fill=\"black\" stroke=\"black\" points=\"3650.83,-628 3660.83,-624.5 3650.83,-621 3650.83,-628\"/>\n</g>\n<!-- 140671680164560tanh&#45;&gt;140671680164560 -->\n<g id=\"edge39\" class=\"edge\">\n<title>140671680164560tanh&#45;&gt;140671680164560</title>\n<path fill=\"none\" stroke=\"black\" d=\"M3402.21,-624.5C3410.34,-624.5 3419.85,-624.5 3429.94,-624.5\"/>\n<polygon fill=\"black\" stroke=\"black\" points=\"3430.19,-628 3440.19,-624.5 3430.19,-621 3430.19,-628\"/>\n</g>\n<!-- 140671681295184 -->\n<g id=\"node106\" class=\"node\">\n<title>140671681295184</title>\n<polygon fill=\"none\" stroke=\"black\" points=\"2499,-579.5 2499,-615.5 2686,-615.5 2686,-579.5 2499,-579.5\"/>\n<text text-anchor=\"middle\" x=\"2509\" y=\"-593.8\" font-family=\"Times,serif\" font-size=\"14.00\"> </text>\n<polyline fill=\"none\" stroke=\"black\" points=\"2519,-579.5 2519,-615.5 \"/>\n<text text-anchor=\"middle\" x=\"2561.5\" y=\"-593.8\" font-family=\"Times,serif\" font-size=\"14.00\">data &#45;0.0355</text>\n<polyline fill=\"none\" stroke=\"black\" points=\"2604,-579.5 2604,-615.5 \"/>\n<text text-anchor=\"middle\" x=\"2645\" y=\"-593.8\" font-family=\"Times,serif\" font-size=\"14.00\">grad 0.0000</text>\n</g>\n<!-- 140671681289680+ -->\n<g id=\"node175\" class=\"node\">\n<title>140671681289680+</title>\n<ellipse fill=\"none\" stroke=\"black\" cx=\"2749\" cy=\"-597.5\" rx=\"27\" ry=\"18\"/>\n<text text-anchor=\"middle\" x=\"2749\" y=\"-593.8\" font-family=\"Times,serif\" font-size=\"14.00\">+</text>\n</g>\n<!-- 140671681295184&#45;&gt;140671681289680+ -->\n<g id=\"edge164\" class=\"edge\">\n<title>140671681295184&#45;&gt;140671681289680+</title>\n<path fill=\"none\" stroke=\"black\" d=\"M2686.05,-597.5C2695.06,-597.5 2703.79,-597.5 2711.7,-597.5\"/>\n<polygon fill=\"black\" stroke=\"black\" points=\"2711.95,-601 2721.95,-597.5 2711.95,-594 2711.95,-601\"/>\n</g>\n<!-- 140671681295184+ -->\n<g id=\"node107\" class=\"node\">\n<title>140671681295184+</title>\n<ellipse fill=\"none\" stroke=\"black\" cx=\"2436\" cy=\"-597.5\" rx=\"27\" ry=\"18\"/>\n<text text-anchor=\"middle\" x=\"2436\" y=\"-593.8\" font-family=\"Times,serif\" font-size=\"14.00\">+</text>\n</g>\n<!-- 140671681295184+&#45;&gt;140671681295184 -->\n<g id=\"edge40\" class=\"edge\">\n<title>140671681295184+&#45;&gt;140671681295184</title>\n<path fill=\"none\" stroke=\"black\" d=\"M2463.21,-597.5C2470.73,-597.5 2479.43,-597.5 2488.67,-597.5\"/>\n<polygon fill=\"black\" stroke=\"black\" points=\"2488.89,-601 2498.89,-597.5 2488.89,-594 2488.89,-601\"/>\n</g>\n<!-- 140671680164752 -->\n<g id=\"node108\" class=\"node\">\n<title>140671680164752</title>\n<polygon fill=\"none\" stroke=\"black\" points=\"2501.5,-715.5 2501.5,-751.5 2683.5,-751.5 2683.5,-715.5 2501.5,-715.5\"/>\n<text text-anchor=\"middle\" x=\"2511.5\" y=\"-729.8\" font-family=\"Times,serif\" font-size=\"14.00\"> </text>\n<polyline fill=\"none\" stroke=\"black\" points=\"2521.5,-715.5 2521.5,-751.5 \"/>\n<text text-anchor=\"middle\" x=\"2561.5\" y=\"-729.8\" font-family=\"Times,serif\" font-size=\"14.00\">data 1.8975</text>\n<polyline fill=\"none\" stroke=\"black\" points=\"2601.5,-715.5 2601.5,-751.5 \"/>\n<text text-anchor=\"middle\" x=\"2642.5\" y=\"-729.8\" font-family=\"Times,serif\" font-size=\"14.00\">grad 0.0000</text>\n</g>\n<!-- 140671680164752&#45;&gt;140671680166160+ -->\n<g id=\"edge187\" class=\"edge\">\n<title>140671680164752&#45;&gt;140671680166160+</title>\n<path fill=\"none\" stroke=\"black\" d=\"M2683.82,-733.5C2693.57,-733.5 2703.04,-733.5 2711.57,-733.5\"/>\n<polygon fill=\"black\" stroke=\"black\" points=\"2711.83,-737 2721.83,-733.5 2711.83,-730 2711.83,-737\"/>\n</g>\n<!-- 140671680164752+&#45;&gt;140671680164752 -->\n<g id=\"edge41\" class=\"edge\">\n<title>140671680164752+&#45;&gt;140671680164752</title>\n<path fill=\"none\" stroke=\"black\" d=\"M2463.21,-733.5C2471.34,-733.5 2480.85,-733.5 2490.94,-733.5\"/>\n<polygon fill=\"black\" stroke=\"black\" points=\"2491.19,-737 2501.19,-733.5 2491.19,-730 2491.19,-737\"/>\n</g>\n<!-- 140671681344528 -->\n<g id=\"node110\" class=\"node\">\n<title>140671681344528</title>\n<polygon fill=\"none\" stroke=\"black\" points=\"1562.5,-357.5 1562.5,-393.5 1744.5,-393.5 1744.5,-357.5 1562.5,-357.5\"/>\n<text text-anchor=\"middle\" x=\"1572.5\" y=\"-371.8\" font-family=\"Times,serif\" font-size=\"14.00\"> </text>\n<polyline fill=\"none\" stroke=\"black\" points=\"1582.5,-357.5 1582.5,-393.5 \"/>\n<text text-anchor=\"middle\" x=\"1622.5\" y=\"-371.8\" font-family=\"Times,serif\" font-size=\"14.00\">data 0.6224</text>\n<polyline fill=\"none\" stroke=\"black\" points=\"1662.5,-357.5 1662.5,-393.5 \"/>\n<text text-anchor=\"middle\" x=\"1703.5\" y=\"-371.8\" font-family=\"Times,serif\" font-size=\"14.00\">grad 0.0000</text>\n</g>\n<!-- 140671681344528&#45;&gt;140671680165328* -->\n<g id=\"edge141\" class=\"edge\">\n<title>140671681344528&#45;&gt;140671680165328*</title>\n<path fill=\"none\" stroke=\"black\" d=\"M1744.82,-375.5C1754.57,-375.5 1764.04,-375.5 1772.57,-375.5\"/>\n<polygon fill=\"black\" stroke=\"black\" points=\"1772.83,-379 1782.83,-375.5 1772.83,-372 1772.83,-379\"/>\n</g>\n<!-- 140671680918608 -->\n<g id=\"node111\" class=\"node\">\n<title>140671680918608</title>\n<polygon fill=\"none\" stroke=\"black\" points=\"934,-962.5 934,-998.5 1121,-998.5 1121,-962.5 934,-962.5\"/>\n<text text-anchor=\"middle\" x=\"944\" y=\"-976.8\" font-family=\"Times,serif\" font-size=\"14.00\"> </text>\n<polyline fill=\"none\" stroke=\"black\" points=\"954,-962.5 954,-998.5 \"/>\n<text text-anchor=\"middle\" x=\"996.5\" y=\"-976.8\" font-family=\"Times,serif\" font-size=\"14.00\">data &#45;1.0895</text>\n<polyline fill=\"none\" stroke=\"black\" points=\"1039,-962.5 1039,-998.5 \"/>\n<text text-anchor=\"middle\" x=\"1080\" y=\"-976.8\" font-family=\"Times,serif\" font-size=\"14.00\">grad 0.0000</text>\n</g>\n<!-- 140671680921040+ -->\n<g id=\"node173\" class=\"node\">\n<title>140671680921040+</title>\n<ellipse fill=\"none\" stroke=\"black\" cx=\"1184\" cy=\"-925.5\" rx=\"27\" ry=\"18\"/>\n<text text-anchor=\"middle\" x=\"1184\" y=\"-921.8\" font-family=\"Times,serif\" font-size=\"14.00\">+</text>\n</g>\n<!-- 140671680918608&#45;&gt;140671680921040+ -->\n<g id=\"edge184\" class=\"edge\">\n<title>140671680918608&#45;&gt;140671680921040+</title>\n<path fill=\"none\" stroke=\"black\" d=\"M1094.56,-962.45C1103.51,-959.64 1112.53,-956.63 1121,-953.5 1131.49,-949.62 1142.71,-944.78 1152.68,-940.22\"/>\n<polygon fill=\"black\" stroke=\"black\" points=\"1154.2,-943.37 1161.79,-935.97 1151.25,-937.02 1154.2,-943.37\"/>\n</g>\n<!-- 140671680918608* -->\n<g id=\"node112\" class=\"node\">\n<title>140671680918608*</title>\n<ellipse fill=\"none\" stroke=\"black\" cx=\"871\" cy=\"-980.5\" rx=\"27\" ry=\"18\"/>\n<text text-anchor=\"middle\" x=\"871\" y=\"-976.8\" font-family=\"Times,serif\" font-size=\"14.00\">*</text>\n</g>\n<!-- 140671680918608*&#45;&gt;140671680918608 -->\n<g id=\"edge42\" class=\"edge\">\n<title>140671680918608*&#45;&gt;140671680918608</title>\n<path fill=\"none\" stroke=\"black\" d=\"M898.21,-980.5C905.73,-980.5 914.43,-980.5 923.67,-980.5\"/>\n<polygon fill=\"black\" stroke=\"black\" points=\"923.89,-984 933.89,-980.5 923.89,-977 923.89,-984\"/>\n</g>\n<!-- 140671681344912 -->\n<g id=\"node113\" class=\"node\">\n<title>140671681344912</title>\n<polygon fill=\"none\" stroke=\"black\" points=\"1249.5,-962.5 1249.5,-998.5 1431.5,-998.5 1431.5,-962.5 1249.5,-962.5\"/>\n<text text-anchor=\"middle\" x=\"1259.5\" y=\"-976.8\" font-family=\"Times,serif\" font-size=\"14.00\"> </text>\n<polyline fill=\"none\" stroke=\"black\" points=\"1269.5,-962.5 1269.5,-998.5 \"/>\n<text text-anchor=\"middle\" x=\"1309.5\" y=\"-976.8\" font-family=\"Times,serif\" font-size=\"14.00\">data 0.9830</text>\n<polyline fill=\"none\" stroke=\"black\" points=\"1349.5,-962.5 1349.5,-998.5 \"/>\n<text text-anchor=\"middle\" x=\"1390.5\" y=\"-976.8\" font-family=\"Times,serif\" font-size=\"14.00\">grad 0.0000</text>\n</g>\n<!-- 140671681298128* -->\n<g id=\"node187\" class=\"node\">\n<title>140671681298128*</title>\n<ellipse fill=\"none\" stroke=\"black\" cx=\"1497\" cy=\"-980.5\" rx=\"27\" ry=\"18\"/>\n<text text-anchor=\"middle\" x=\"1497\" y=\"-976.8\" font-family=\"Times,serif\" font-size=\"14.00\">*</text>\n</g>\n<!-- 140671681344912&#45;&gt;140671681298128* -->\n<g id=\"edge93\" class=\"edge\">\n<title>140671681344912&#45;&gt;140671681298128*</title>\n<path fill=\"none\" stroke=\"black\" d=\"M1431.82,-980.5C1441.57,-980.5 1451.04,-980.5 1459.57,-980.5\"/>\n<polygon fill=\"black\" stroke=\"black\" points=\"1459.83,-984 1469.83,-980.5 1459.83,-977 1459.83,-984\"/>\n</g>\n<!-- 140671692338640 -->\n<g id=\"node114\" class=\"node\">\n<title>140671692338640</title>\n<polygon fill=\"none\" stroke=\"black\" points=\"5136,-420.5 5136,-456.5 5323,-456.5 5323,-420.5 5136,-420.5\"/>\n<text text-anchor=\"middle\" x=\"5146\" y=\"-434.8\" font-family=\"Times,serif\" font-size=\"14.00\"> </text>\n<polyline fill=\"none\" stroke=\"black\" points=\"5156,-420.5 5156,-456.5 \"/>\n<text text-anchor=\"middle\" x=\"5198.5\" y=\"-434.8\" font-family=\"Times,serif\" font-size=\"14.00\">data &#45;0.1339</text>\n<polyline fill=\"none\" stroke=\"black\" points=\"5241,-420.5 5241,-456.5 \"/>\n<text text-anchor=\"middle\" x=\"5282\" y=\"-434.8\" font-family=\"Times,serif\" font-size=\"14.00\">grad 0.0000</text>\n</g>\n<!-- 140671692338896tanh -->\n<g id=\"node123\" class=\"node\">\n<title>140671692338896tanh</title>\n<ellipse fill=\"none\" stroke=\"black\" cx=\"5386\" cy=\"-438.5\" rx=\"27\" ry=\"18\"/>\n<text text-anchor=\"middle\" x=\"5386\" y=\"-434.8\" font-family=\"Times,serif\" font-size=\"14.00\">tanh</text>\n</g>\n<!-- 140671692338640&#45;&gt;140671692338896tanh -->\n<g id=\"edge147\" class=\"edge\">\n<title>140671692338640&#45;&gt;140671692338896tanh</title>\n<path fill=\"none\" stroke=\"black\" d=\"M5323.05,-438.5C5332.06,-438.5 5340.79,-438.5 5348.7,-438.5\"/>\n<polygon fill=\"black\" stroke=\"black\" points=\"5348.95,-442 5358.95,-438.5 5348.95,-435 5348.95,-442\"/>\n</g>\n<!-- 140671692338640+&#45;&gt;140671692338640 -->\n<g id=\"edge43\" class=\"edge\">\n<title>140671692338640+&#45;&gt;140671692338640</title>\n<path fill=\"none\" stroke=\"black\" d=\"M5100.21,-438.5C5107.73,-438.5 5116.43,-438.5 5125.67,-438.5\"/>\n<polygon fill=\"black\" stroke=\"black\" points=\"5125.89,-442 5135.89,-438.5 5125.89,-435 5125.89,-442\"/>\n</g>\n<!-- 140671680165328 -->\n<g id=\"node116\" class=\"node\">\n<title>140671680165328</title>\n<polygon fill=\"none\" stroke=\"black\" points=\"1875.5,-357.5 1875.5,-393.5 2057.5,-393.5 2057.5,-357.5 1875.5,-357.5\"/>\n<text text-anchor=\"middle\" x=\"1885.5\" y=\"-371.8\" font-family=\"Times,serif\" font-size=\"14.00\"> </text>\n<polyline fill=\"none\" stroke=\"black\" points=\"1895.5,-357.5 1895.5,-393.5 \"/>\n<text text-anchor=\"middle\" x=\"1935.5\" y=\"-371.8\" font-family=\"Times,serif\" font-size=\"14.00\">data 0.6178</text>\n<polyline fill=\"none\" stroke=\"black\" points=\"1975.5,-357.5 1975.5,-393.5 \"/>\n<text text-anchor=\"middle\" x=\"2016.5\" y=\"-371.8\" font-family=\"Times,serif\" font-size=\"14.00\">grad 0.0000</text>\n</g>\n<!-- 140671680166480+ -->\n<g id=\"node150\" class=\"node\">\n<title>140671680166480+</title>\n<ellipse fill=\"none\" stroke=\"black\" cx=\"2123\" cy=\"-375.5\" rx=\"27\" ry=\"18\"/>\n<text text-anchor=\"middle\" x=\"2123\" y=\"-371.8\" font-family=\"Times,serif\" font-size=\"14.00\">+</text>\n</g>\n<!-- 140671680165328&#45;&gt;140671680166480+ -->\n<g id=\"edge87\" class=\"edge\">\n<title>140671680165328&#45;&gt;140671680166480+</title>\n<path fill=\"none\" stroke=\"black\" d=\"M2057.82,-375.5C2067.57,-375.5 2077.04,-375.5 2085.57,-375.5\"/>\n<polygon fill=\"black\" stroke=\"black\" points=\"2085.83,-379 2095.83,-375.5 2085.83,-372 2085.83,-379\"/>\n</g>\n<!-- 140671680165328*&#45;&gt;140671680165328 -->\n<g id=\"edge44\" class=\"edge\">\n<title>140671680165328*&#45;&gt;140671680165328</title>\n<path fill=\"none\" stroke=\"black\" d=\"M1837.21,-375.5C1845.34,-375.5 1854.85,-375.5 1864.94,-375.5\"/>\n<polygon fill=\"black\" stroke=\"black\" points=\"1865.19,-379 1875.19,-375.5 1865.19,-372 1865.19,-379\"/>\n</g>\n<!-- 140671680157136 -->\n<g id=\"node118\" class=\"node\">\n<title>140671680157136</title>\n<polygon fill=\"none\" stroke=\"black\" points=\"1875.5,-247.5 1875.5,-283.5 2057.5,-283.5 2057.5,-247.5 1875.5,-247.5\"/>\n<text text-anchor=\"middle\" x=\"1885.5\" y=\"-261.8\" font-family=\"Times,serif\" font-size=\"14.00\"> </text>\n<polyline fill=\"none\" stroke=\"black\" points=\"1895.5,-247.5 1895.5,-283.5 \"/>\n<text text-anchor=\"middle\" x=\"1935.5\" y=\"-261.8\" font-family=\"Times,serif\" font-size=\"14.00\">data 0.8798</text>\n<polyline fill=\"none\" stroke=\"black\" points=\"1975.5,-247.5 1975.5,-283.5 \"/>\n<text text-anchor=\"middle\" x=\"2016.5\" y=\"-261.8\" font-family=\"Times,serif\" font-size=\"14.00\">grad 0.0000</text>\n</g>\n<!-- 140671680157136&#45;&gt;140671680159312+ -->\n<g id=\"edge138\" class=\"edge\">\n<title>140671680157136&#45;&gt;140671680159312+</title>\n<path fill=\"none\" stroke=\"black\" d=\"M2043.3,-247.33C2049.14,-244.75 2054.78,-241.83 2060,-238.5 2080.45,-225.47 2079.59,-215.35 2096,-197.5 2097.35,-196.03 2098.76,-194.52 2100.18,-193\"/>\n<polygon fill=\"black\" stroke=\"black\" points=\"2102.94,-195.18 2107.3,-185.52 2097.87,-190.35 2102.94,-195.18\"/>\n</g>\n<!-- 140671680157136*&#45;&gt;140671680157136 -->\n<g id=\"edge45\" class=\"edge\">\n<title>140671680157136*&#45;&gt;140671680157136</title>\n<path fill=\"none\" stroke=\"black\" d=\"M1832.55,-310.37C1844.36,-305.02 1859.34,-298.52 1873,-293.5 1879.24,-291.2 1885.77,-288.95 1892.34,-286.78\"/>\n<polygon fill=\"black\" stroke=\"black\" points=\"1893.55,-290.07 1901.98,-283.65 1891.39,-283.41 1893.55,-290.07\"/>\n</g>\n<!-- 140671680910864 -->\n<g id=\"node120\" class=\"node\">\n<title>140671680910864</title>\n<polygon fill=\"none\" stroke=\"black\" points=\"1875.5,-302.5 1875.5,-338.5 2057.5,-338.5 2057.5,-302.5 1875.5,-302.5\"/>\n<text text-anchor=\"middle\" x=\"1885.5\" y=\"-316.8\" font-family=\"Times,serif\" font-size=\"14.00\"> </text>\n<polyline fill=\"none\" stroke=\"black\" points=\"1895.5,-302.5 1895.5,-338.5 \"/>\n<text text-anchor=\"middle\" x=\"1935.5\" y=\"-316.8\" font-family=\"Times,serif\" font-size=\"14.00\">data 0.7896</text>\n<polyline fill=\"none\" stroke=\"black\" points=\"1975.5,-302.5 1975.5,-338.5 \"/>\n<text text-anchor=\"middle\" x=\"2016.5\" y=\"-316.8\" font-family=\"Times,serif\" font-size=\"14.00\">grad 0.0000</text>\n</g>\n<!-- 140671680910864&#45;&gt;140671680166480+ -->\n<g id=\"edge152\" class=\"edge\">\n<title>140671680910864&#45;&gt;140671680166480+</title>\n<path fill=\"none\" stroke=\"black\" d=\"M2031.02,-338.65C2040.79,-341.76 2050.71,-345.08 2060,-348.5 2070.25,-352.27 2081.23,-356.86 2091.07,-361.18\"/>\n<polygon fill=\"black\" stroke=\"black\" points=\"2089.89,-364.49 2100.45,-365.37 2092.74,-358.1 2089.89,-364.49\"/>\n</g>\n<!-- 140671680919120 -->\n<g id=\"node121\" class=\"node\">\n<title>140671680919120</title>\n<polygon fill=\"none\" stroke=\"black\" points=\"310.5,-770.5 310.5,-806.5 492.5,-806.5 492.5,-770.5 310.5,-770.5\"/>\n<text text-anchor=\"middle\" x=\"320.5\" y=\"-784.8\" font-family=\"Times,serif\" font-size=\"14.00\"> </text>\n<polyline fill=\"none\" stroke=\"black\" points=\"330.5,-770.5 330.5,-806.5 \"/>\n<text text-anchor=\"middle\" x=\"370.5\" y=\"-784.8\" font-family=\"Times,serif\" font-size=\"14.00\">data 2.0000</text>\n<polyline fill=\"none\" stroke=\"black\" points=\"410.5,-770.5 410.5,-806.5 \"/>\n<text text-anchor=\"middle\" x=\"451.5\" y=\"-784.8\" font-family=\"Times,serif\" font-size=\"14.00\">grad 0.0000</text>\n</g>\n<!-- 140671680919120&#45;&gt;140671680917904* -->\n<g id=\"edge142\" class=\"edge\">\n<title>140671680919120&#45;&gt;140671680917904*</title>\n<path fill=\"none\" stroke=\"black\" d=\"M492.82,-804.28C503.07,-806.08 513.01,-807.81 521.88,-809.36\"/>\n<polygon fill=\"black\" stroke=\"black\" points=\"521.3,-812.81 531.75,-811.09 522.5,-805.92 521.3,-812.81\"/>\n</g>\n<!-- 140671692338896 -->\n<g id=\"node122\" class=\"node\">\n<title>140671692338896</title>\n<polygon fill=\"none\" stroke=\"black\" points=\"5449,-420.5 5449,-456.5 5636,-456.5 5636,-420.5 5449,-420.5\"/>\n<text text-anchor=\"middle\" x=\"5459\" y=\"-434.8\" font-family=\"Times,serif\" font-size=\"14.00\"> </text>\n<polyline fill=\"none\" stroke=\"black\" points=\"5469,-420.5 5469,-456.5 \"/>\n<text text-anchor=\"middle\" x=\"5511.5\" y=\"-434.8\" font-family=\"Times,serif\" font-size=\"14.00\">data &#45;0.1331</text>\n<polyline fill=\"none\" stroke=\"black\" points=\"5554,-420.5 5554,-456.5 \"/>\n<text text-anchor=\"middle\" x=\"5595\" y=\"-434.8\" font-family=\"Times,serif\" font-size=\"14.00\">grad 0.0000</text>\n</g>\n<!-- 140671692338896tanh&#45;&gt;140671692338896 -->\n<g id=\"edge46\" class=\"edge\">\n<title>140671692338896tanh&#45;&gt;140671692338896</title>\n<path fill=\"none\" stroke=\"black\" d=\"M5413.21,-438.5C5420.73,-438.5 5429.43,-438.5 5438.67,-438.5\"/>\n<polygon fill=\"black\" stroke=\"black\" points=\"5438.89,-442 5448.89,-438.5 5438.89,-435 5438.89,-442\"/>\n</g>\n<!-- 140671680165648 -->\n<g id=\"node124\" class=\"node\">\n<title>140671680165648</title>\n<polygon fill=\"none\" stroke=\"black\" points=\"2501.5,-524.5 2501.5,-560.5 2683.5,-560.5 2683.5,-524.5 2501.5,-524.5\"/>\n<text text-anchor=\"middle\" x=\"2511.5\" y=\"-538.8\" font-family=\"Times,serif\" font-size=\"14.00\"> </text>\n<polyline fill=\"none\" stroke=\"black\" points=\"2521.5,-524.5 2521.5,-560.5 \"/>\n<text text-anchor=\"middle\" x=\"2561.5\" y=\"-538.8\" font-family=\"Times,serif\" font-size=\"14.00\">data 1.1455</text>\n<polyline fill=\"none\" stroke=\"black\" points=\"2601.5,-524.5 2601.5,-560.5 \"/>\n<text text-anchor=\"middle\" x=\"2642.5\" y=\"-538.8\" font-family=\"Times,serif\" font-size=\"14.00\">grad 0.0000</text>\n</g>\n<!-- 140671680165648&#45;&gt;140671680154576+ -->\n<g id=\"edge74\" class=\"edge\">\n<title>140671680165648&#45;&gt;140671680154576+</title>\n<path fill=\"none\" stroke=\"black\" d=\"M2683.82,-542.5C2693.57,-542.5 2703.04,-542.5 2711.57,-542.5\"/>\n<polygon fill=\"black\" stroke=\"black\" points=\"2711.83,-546 2721.83,-542.5 2711.83,-539 2711.83,-546\"/>\n</g>\n<!-- 140671680165648+ -->\n<g id=\"node125\" class=\"node\">\n<title>140671680165648+</title>\n<ellipse fill=\"none\" stroke=\"black\" cx=\"2436\" cy=\"-540.5\" rx=\"27\" ry=\"18\"/>\n<text text-anchor=\"middle\" x=\"2436\" y=\"-536.8\" font-family=\"Times,serif\" font-size=\"14.00\">+</text>\n</g>\n<!-- 140671680165648+&#45;&gt;140671680165648 -->\n<g id=\"edge47\" class=\"edge\">\n<title>140671680165648+&#45;&gt;140671680165648</title>\n<path fill=\"none\" stroke=\"black\" d=\"M2463.21,-540.84C2471.34,-540.94 2480.85,-541.07 2490.94,-541.2\"/>\n<polygon fill=\"black\" stroke=\"black\" points=\"2491.15,-544.7 2501.19,-541.33 2491.24,-537.7 2491.15,-544.7\"/>\n</g>\n<!-- 140671680157456 -->\n<g id=\"node126\" class=\"node\">\n<title>140671680157456</title>\n<polygon fill=\"none\" stroke=\"black\" points=\"3127.5,-551.5 3127.5,-587.5 3309.5,-587.5 3309.5,-551.5 3127.5,-551.5\"/>\n<text text-anchor=\"middle\" x=\"3137.5\" y=\"-565.8\" font-family=\"Times,serif\" font-size=\"14.00\"> </text>\n<polyline fill=\"none\" stroke=\"black\" points=\"3147.5,-551.5 3147.5,-587.5 \"/>\n<text text-anchor=\"middle\" x=\"3187.5\" y=\"-565.8\" font-family=\"Times,serif\" font-size=\"14.00\">data 0.3248</text>\n<polyline fill=\"none\" stroke=\"black\" points=\"3227.5,-551.5 3227.5,-587.5 \"/>\n<text text-anchor=\"middle\" x=\"3268.5\" y=\"-565.8\" font-family=\"Times,serif\" font-size=\"14.00\">grad 0.0000</text>\n</g>\n<!-- 140671680157456&#45;&gt;140671680160208tanh -->\n<g id=\"edge123\" class=\"edge\">\n<title>140671680157456&#45;&gt;140671680160208tanh</title>\n<path fill=\"none\" stroke=\"black\" d=\"M3309.82,-569.5C3319.57,-569.5 3329.04,-569.5 3337.57,-569.5\"/>\n<polygon fill=\"black\" stroke=\"black\" points=\"3337.83,-573 3347.83,-569.5 3337.83,-566 3337.83,-573\"/>\n</g>\n<!-- 140671680157456+&#45;&gt;140671680157456 -->\n<g id=\"edge48\" class=\"edge\">\n<title>140671680157456+&#45;&gt;140671680157456</title>\n<path fill=\"none\" stroke=\"black\" d=\"M3089.21,-569.5C3097.34,-569.5 3106.85,-569.5 3116.94,-569.5\"/>\n<polygon fill=\"black\" stroke=\"black\" points=\"3117.19,-573 3127.19,-569.5 3117.19,-566 3117.19,-573\"/>\n</g>\n<!-- 140671681287952 -->\n<g id=\"node128\" class=\"node\">\n<title>140671681287952</title>\n<polygon fill=\"none\" stroke=\"black\" points=\"2499,-845.5 2499,-881.5 2686,-881.5 2686,-845.5 2499,-845.5\"/>\n<text text-anchor=\"middle\" x=\"2509\" y=\"-859.8\" font-family=\"Times,serif\" font-size=\"14.00\"> </text>\n<polyline fill=\"none\" stroke=\"black\" points=\"2519,-845.5 2519,-881.5 \"/>\n<text text-anchor=\"middle\" x=\"2561.5\" y=\"-859.8\" font-family=\"Times,serif\" font-size=\"14.00\">data &#45;0.1668</text>\n<polyline fill=\"none\" stroke=\"black\" points=\"2604,-845.5 2604,-881.5 \"/>\n<text text-anchor=\"middle\" x=\"2645\" y=\"-859.8\" font-family=\"Times,serif\" font-size=\"14.00\">grad 0.0000</text>\n</g>\n<!-- 140671681287952&#45;&gt;140671681289680+ -->\n<g id=\"edge109\" class=\"edge\">\n<title>140671681287952&#45;&gt;140671681289680+</title>\n<path fill=\"none\" stroke=\"black\" d=\"M2665.13,-845.41C2672.91,-841.17 2680.12,-835.94 2686,-829.5 2693.01,-821.82 2726.75,-685.19 2741.3,-625.27\"/>\n<polygon fill=\"black\" stroke=\"black\" points=\"2744.75,-625.9 2743.7,-615.36 2737.95,-624.25 2744.75,-625.9\"/>\n</g>\n<!-- 140671681287952*&#45;&gt;140671681287952 -->\n<g id=\"edge49\" class=\"edge\">\n<title>140671681287952*&#45;&gt;140671681287952</title>\n<path fill=\"none\" stroke=\"black\" d=\"M2463.21,-868.48C2470.73,-868.19 2479.43,-867.85 2488.67,-867.49\"/>\n<polygon fill=\"black\" stroke=\"black\" points=\"2489.03,-870.98 2498.89,-867.1 2488.76,-863.99 2489.03,-870.98\"/>\n</g>\n<!-- 140671681247056 -->\n<g id=\"node130\" class=\"node\">\n<title>140671681247056</title>\n<polygon fill=\"none\" stroke=\"black\" points=\"4197,-494.5 4197,-530.5 4384,-530.5 4384,-494.5 4197,-494.5\"/>\n<text text-anchor=\"middle\" x=\"4207\" y=\"-508.8\" font-family=\"Times,serif\" font-size=\"14.00\"> </text>\n<polyline fill=\"none\" stroke=\"black\" points=\"4217,-494.5 4217,-530.5 \"/>\n<text text-anchor=\"middle\" x=\"4259.5\" y=\"-508.8\" font-family=\"Times,serif\" font-size=\"14.00\">data &#45;0.6680</text>\n<polyline fill=\"none\" stroke=\"black\" points=\"4302,-494.5 4302,-530.5 \"/>\n<text text-anchor=\"middle\" x=\"4343\" y=\"-508.8\" font-family=\"Times,serif\" font-size=\"14.00\">grad 0.0000</text>\n</g>\n<!-- 140671681247056&#45;&gt;140671681235088+ -->\n<g id=\"edge103\" class=\"edge\">\n<title>140671681247056&#45;&gt;140671681235088+</title>\n<path fill=\"none\" stroke=\"black\" d=\"M4384.05,-502.92C4393.25,-501.96 4402.16,-501.04 4410.21,-500.21\"/>\n<polygon fill=\"black\" stroke=\"black\" points=\"4410.67,-503.68 4420.25,-499.17 4409.94,-496.72 4410.67,-503.68\"/>\n</g>\n<!-- 140671681247056+&#45;&gt;140671681247056 -->\n<g id=\"edge50\" class=\"edge\">\n<title>140671681247056+&#45;&gt;140671681247056</title>\n<path fill=\"none\" stroke=\"black\" d=\"M4094.72,-514.26C4117.72,-514.05 4152.71,-513.74 4186.72,-513.43\"/>\n<polygon fill=\"black\" stroke=\"black\" points=\"4186.78,-516.93 4196.75,-513.34 4186.72,-509.93 4186.78,-516.93\"/>\n</g>\n<!-- 140671681345424 -->\n<g id=\"node132\" class=\"node\">\n<title>140671681345424</title>\n<polygon fill=\"none\" stroke=\"black\" points=\"936.5,-907.5 936.5,-943.5 1118.5,-943.5 1118.5,-907.5 936.5,-907.5\"/>\n<text text-anchor=\"middle\" x=\"946.5\" y=\"-921.8\" font-family=\"Times,serif\" font-size=\"14.00\"> </text>\n<polyline fill=\"none\" stroke=\"black\" points=\"956.5,-907.5 956.5,-943.5 \"/>\n<text text-anchor=\"middle\" x=\"996.5\" y=\"-921.8\" font-family=\"Times,serif\" font-size=\"14.00\">data 0.3306</text>\n<polyline fill=\"none\" stroke=\"black\" points=\"1036.5,-907.5 1036.5,-943.5 \"/>\n<text text-anchor=\"middle\" x=\"1077.5\" y=\"-921.8\" font-family=\"Times,serif\" font-size=\"14.00\">grad 0.0000</text>\n</g>\n<!-- 140671681345424&#45;&gt;140671680921040+ -->\n<g id=\"edge178\" class=\"edge\">\n<title>140671681345424&#45;&gt;140671680921040+</title>\n<path fill=\"none\" stroke=\"black\" d=\"M1118.82,-925.5C1128.57,-925.5 1138.04,-925.5 1146.57,-925.5\"/>\n<polygon fill=\"black\" stroke=\"black\" points=\"1146.83,-929 1156.83,-925.5 1146.83,-922 1146.83,-929\"/>\n</g>\n<!-- 140671681345552 -->\n<g id=\"node133\" class=\"node\">\n<title>140671681345552</title>\n<polygon fill=\"none\" stroke=\"black\" points=\"621,-632.5 621,-668.5 808,-668.5 808,-632.5 621,-632.5\"/>\n<text text-anchor=\"middle\" x=\"631\" y=\"-646.8\" font-family=\"Times,serif\" font-size=\"14.00\"> </text>\n<polyline fill=\"none\" stroke=\"black\" points=\"641,-632.5 641,-668.5 \"/>\n<text text-anchor=\"middle\" x=\"683.5\" y=\"-646.8\" font-family=\"Times,serif\" font-size=\"14.00\">data &#45;0.8574</text>\n<polyline fill=\"none\" stroke=\"black\" points=\"726,-632.5 726,-668.5 \"/>\n<text text-anchor=\"middle\" x=\"767\" y=\"-646.8\" font-family=\"Times,serif\" font-size=\"14.00\">grad 0.0000</text>\n</g>\n<!-- 140671681345552&#45;&gt;140671680912016* -->\n<g id=\"edge113\" class=\"edge\">\n<title>140671681345552&#45;&gt;140671680912016*</title>\n<path fill=\"none\" stroke=\"black\" d=\"M779.02,-668.65C788.79,-671.76 798.71,-675.08 808,-678.5 818.25,-682.27 829.23,-686.86 839.07,-691.18\"/>\n<polygon fill=\"black\" stroke=\"black\" points=\"837.89,-694.49 848.45,-695.37 840.74,-688.1 837.89,-694.49\"/>\n</g>\n<!-- 140671681345616 -->\n<g id=\"node134\" class=\"node\">\n<title>140671681345616</title>\n<polygon fill=\"none\" stroke=\"black\" points=\"621,-742.5 621,-778.5 808,-778.5 808,-742.5 621,-742.5\"/>\n<text text-anchor=\"middle\" x=\"631\" y=\"-756.8\" font-family=\"Times,serif\" font-size=\"14.00\"> </text>\n<polyline fill=\"none\" stroke=\"black\" points=\"641,-742.5 641,-778.5 \"/>\n<text text-anchor=\"middle\" x=\"683.5\" y=\"-756.8\" font-family=\"Times,serif\" font-size=\"14.00\">data &#45;0.6461</text>\n<polyline fill=\"none\" stroke=\"black\" points=\"726,-742.5 726,-778.5 \"/>\n<text text-anchor=\"middle\" x=\"767\" y=\"-756.8\" font-family=\"Times,serif\" font-size=\"14.00\">grad 0.0000</text>\n</g>\n<!-- 140671681345616&#45;&gt;140671680916624+ -->\n<g id=\"edge208\" class=\"edge\">\n<title>140671681345616&#45;&gt;140671680916624+</title>\n<path fill=\"none\" stroke=\"black\" d=\"M808.05,-760.5C817.06,-760.5 825.79,-760.5 833.7,-760.5\"/>\n<polygon fill=\"black\" stroke=\"black\" points=\"833.95,-764 843.95,-760.5 833.95,-757 833.95,-764\"/>\n</g>\n<!-- 140671681288272 -->\n<g id=\"node135\" class=\"node\">\n<title>140671681288272</title>\n<polygon fill=\"none\" stroke=\"black\" points=\"2186,-467.5 2186,-503.5 2373,-503.5 2373,-467.5 2186,-467.5\"/>\n<text text-anchor=\"middle\" x=\"2196\" y=\"-481.8\" font-family=\"Times,serif\" font-size=\"14.00\"> </text>\n<polyline fill=\"none\" stroke=\"black\" points=\"2206,-467.5 2206,-503.5 \"/>\n<text text-anchor=\"middle\" x=\"2248.5\" y=\"-481.8\" font-family=\"Times,serif\" font-size=\"14.00\">data &#45;0.7188</text>\n<polyline fill=\"none\" stroke=\"black\" points=\"2291,-467.5 2291,-503.5 \"/>\n<text text-anchor=\"middle\" x=\"2332\" y=\"-481.8\" font-family=\"Times,serif\" font-size=\"14.00\">grad 0.0000</text>\n</g>\n<!-- 140671681288272&#45;&gt;140671681295184+ -->\n<g id=\"edge121\" class=\"edge\">\n<title>140671681288272&#45;&gt;140671681295184+</title>\n<path fill=\"none\" stroke=\"black\" d=\"M2356.35,-503.57C2362.24,-506.41 2367.88,-509.7 2373,-513.5 2396.16,-530.69 2391.52,-544.56 2409,-567.5 2410.76,-569.81 2412.65,-572.18 2414.57,-574.52\"/>\n<polygon fill=\"black\" stroke=\"black\" points=\"2411.99,-576.88 2421.12,-582.24 2417.33,-572.35 2411.99,-576.88\"/>\n</g>\n<!-- 140671681288272+ -->\n<g id=\"node136\" class=\"node\">\n<title>140671681288272+</title>\n<ellipse fill=\"none\" stroke=\"black\" cx=\"2123\" cy=\"-485.5\" rx=\"27\" ry=\"18\"/>\n<text text-anchor=\"middle\" x=\"2123\" y=\"-481.8\" font-family=\"Times,serif\" font-size=\"14.00\">+</text>\n</g>\n<!-- 140671681288272+&#45;&gt;140671681288272 -->\n<g id=\"edge51\" class=\"edge\">\n<title>140671681288272+&#45;&gt;140671681288272</title>\n<path fill=\"none\" stroke=\"black\" d=\"M2150.21,-485.5C2157.73,-485.5 2166.43,-485.5 2175.67,-485.5\"/>\n<polygon fill=\"black\" stroke=\"black\" points=\"2175.89,-489 2185.89,-485.5 2175.89,-482 2175.89,-489\"/>\n</g>\n<!-- 140671681247312 -->\n<g id=\"node137\" class=\"node\">\n<title>140671681247312</title>\n<polygon fill=\"none\" stroke=\"black\" points=\"4199.5,-578.5 4199.5,-614.5 4381.5,-614.5 4381.5,-578.5 4199.5,-578.5\"/>\n<text text-anchor=\"middle\" x=\"4209.5\" y=\"-592.8\" font-family=\"Times,serif\" font-size=\"14.00\"> </text>\n<polyline fill=\"none\" stroke=\"black\" points=\"4219.5,-578.5 4219.5,-614.5 \"/>\n<text text-anchor=\"middle\" x=\"4259.5\" y=\"-592.8\" font-family=\"Times,serif\" font-size=\"14.00\">data 0.0084</text>\n<polyline fill=\"none\" stroke=\"black\" points=\"4299.5,-578.5 4299.5,-614.5 \"/>\n<text text-anchor=\"middle\" x=\"4340.5\" y=\"-592.8\" font-family=\"Times,serif\" font-size=\"14.00\">grad 0.0000</text>\n</g>\n<!-- 140671681247312&#45;&gt;140671681243536+ -->\n<g id=\"edge96\" class=\"edge\">\n<title>140671681247312&#45;&gt;140671681243536+</title>\n<path fill=\"none\" stroke=\"black\" d=\"M4381.61,-587.01C4464.8,-576.73 4591.12,-557.25 4697,-524.5 4707.77,-521.17 4719.14,-516.43 4729.15,-511.79\"/>\n<polygon fill=\"black\" stroke=\"black\" points=\"4730.76,-514.9 4738.27,-507.43 4727.74,-508.58 4730.76,-514.9\"/>\n</g>\n<!-- 140671681247312*&#45;&gt;140671681247312 -->\n<g id=\"edge52\" class=\"edge\">\n<title>140671681247312*&#45;&gt;140671681247312</title>\n<path fill=\"none\" stroke=\"black\" d=\"M3715.19,-623.28C3796.48,-619.49 4047.52,-607.78 4189.32,-601.17\"/>\n<polygon fill=\"black\" stroke=\"black\" points=\"4189.51,-604.67 4199.33,-600.7 4189.18,-597.67 4189.51,-604.67\"/>\n</g>\n<!-- 140671680919696 -->\n<g id=\"node139\" class=\"node\">\n<title>140671680919696</title>\n<polygon fill=\"none\" stroke=\"black\" points=\"1249.5,-852.5 1249.5,-888.5 1431.5,-888.5 1431.5,-852.5 1249.5,-852.5\"/>\n<text text-anchor=\"middle\" x=\"1259.5\" y=\"-866.8\" font-family=\"Times,serif\" font-size=\"14.00\"> </text>\n<polyline fill=\"none\" stroke=\"black\" points=\"1269.5,-852.5 1269.5,-888.5 \"/>\n<text text-anchor=\"middle\" x=\"1309.5\" y=\"-866.8\" font-family=\"Times,serif\" font-size=\"14.00\">data 2.7483</text>\n<polyline fill=\"none\" stroke=\"black\" points=\"1349.5,-852.5 1349.5,-888.5 \"/>\n<text text-anchor=\"middle\" x=\"1390.5\" y=\"-866.8\" font-family=\"Times,serif\" font-size=\"14.00\">grad 0.0000</text>\n</g>\n<!-- 140671680919696&#45;&gt;140671681294416+ -->\n<g id=\"edge158\" class=\"edge\">\n<title>140671680919696&#45;&gt;140671681294416+</title>\n<path fill=\"none\" stroke=\"black\" d=\"M1405.02,-888.65C1414.79,-891.76 1424.71,-895.08 1434,-898.5 1444.25,-902.27 1455.23,-906.86 1465.07,-911.18\"/>\n<polygon fill=\"black\" stroke=\"black\" points=\"1463.89,-914.49 1474.45,-915.37 1466.74,-908.1 1463.89,-914.49\"/>\n</g>\n<!-- 140671680919696* -->\n<g id=\"node140\" class=\"node\">\n<title>140671680919696*</title>\n<ellipse fill=\"none\" stroke=\"black\" cx=\"1184\" cy=\"-870.5\" rx=\"27\" ry=\"18\"/>\n<text text-anchor=\"middle\" x=\"1184\" y=\"-866.8\" font-family=\"Times,serif\" font-size=\"14.00\">*</text>\n</g>\n<!-- 140671680919696*&#45;&gt;140671680919696 -->\n<g id=\"edge53\" class=\"edge\">\n<title>140671680919696*&#45;&gt;140671680919696</title>\n<path fill=\"none\" stroke=\"black\" d=\"M1211.21,-870.5C1219.34,-870.5 1228.85,-870.5 1238.94,-870.5\"/>\n<polygon fill=\"black\" stroke=\"black\" points=\"1239.19,-874 1249.19,-870.5 1239.19,-867 1239.19,-874\"/>\n</g>\n<!-- 140671681288464 -->\n<g id=\"node141\" class=\"node\">\n<title>140671681288464</title>\n<polygon fill=\"none\" stroke=\"black\" points=\"1873,-192.5 1873,-228.5 2060,-228.5 2060,-192.5 1873,-192.5\"/>\n<text text-anchor=\"middle\" x=\"1883\" y=\"-206.8\" font-family=\"Times,serif\" font-size=\"14.00\"> </text>\n<polyline fill=\"none\" stroke=\"black\" points=\"1893,-192.5 1893,-228.5 \"/>\n<text text-anchor=\"middle\" x=\"1935.5\" y=\"-206.8\" font-family=\"Times,serif\" font-size=\"14.00\">data &#45;0.0917</text>\n<polyline fill=\"none\" stroke=\"black\" points=\"1978,-192.5 1978,-228.5 \"/>\n<text text-anchor=\"middle\" x=\"2019\" y=\"-206.8\" font-family=\"Times,serif\" font-size=\"14.00\">grad 0.0000</text>\n</g>\n<!-- 140671681288464&#45;&gt;140671681290256+ -->\n<g id=\"edge171\" class=\"edge\">\n<title>140671681288464&#45;&gt;140671681290256+</title>\n<path fill=\"none\" stroke=\"black\" d=\"M2060.05,-218.89C2069.16,-219.71 2077.98,-220.51 2085.97,-221.24\"/>\n<polygon fill=\"black\" stroke=\"black\" points=\"2085.67,-224.72 2095.95,-222.14 2086.31,-217.75 2085.67,-224.72\"/>\n</g>\n<!-- 140671681288464*&#45;&gt;140671681288464 -->\n<g id=\"edge54\" class=\"edge\">\n<title>140671681288464*&#45;&gt;140671681288464</title>\n<path fill=\"none\" stroke=\"black\" d=\"M1837.21,-210.5C1844.73,-210.5 1853.43,-210.5 1862.67,-210.5\"/>\n<polygon fill=\"black\" stroke=\"black\" points=\"1862.89,-214 1872.89,-210.5 1862.89,-207 1862.89,-214\"/>\n</g>\n<!-- 140671680166160 -->\n<g id=\"node143\" class=\"node\">\n<title>140671680166160</title>\n<polygon fill=\"none\" stroke=\"black\" points=\"2814.5,-675.5 2814.5,-711.5 2996.5,-711.5 2996.5,-675.5 2814.5,-675.5\"/>\n<text text-anchor=\"middle\" x=\"2824.5\" y=\"-689.8\" font-family=\"Times,serif\" font-size=\"14.00\"> </text>\n<polyline fill=\"none\" stroke=\"black\" points=\"2834.5,-675.5 2834.5,-711.5 \"/>\n<text text-anchor=\"middle\" x=\"2874.5\" y=\"-689.8\" font-family=\"Times,serif\" font-size=\"14.00\">data 2.1074</text>\n<polyline fill=\"none\" stroke=\"black\" points=\"2914.5,-675.5 2914.5,-711.5 \"/>\n<text text-anchor=\"middle\" x=\"2955.5\" y=\"-689.8\" font-family=\"Times,serif\" font-size=\"14.00\">grad 0.0000</text>\n</g>\n<!-- 140671680166160&#45;&gt;140671680153168+ -->\n<g id=\"edge159\" class=\"edge\">\n<title>140671680166160&#45;&gt;140671680153168+</title>\n<path fill=\"none\" stroke=\"black\" d=\"M2947.09,-675.37C2973.02,-663.79 3006.13,-649.01 3029.96,-638.36\"/>\n<polygon fill=\"black\" stroke=\"black\" points=\"3031.53,-641.49 3039.24,-634.22 3028.68,-635.1 3031.53,-641.49\"/>\n</g>\n<!-- 140671680166160+&#45;&gt;140671680166160 -->\n<g id=\"edge55\" class=\"edge\">\n<title>140671680166160+&#45;&gt;140671680166160</title>\n<path fill=\"none\" stroke=\"black\" d=\"M2774.48,-727.16C2788.33,-723.58 2806.51,-718.87 2824.87,-714.12\"/>\n<polygon fill=\"black\" stroke=\"black\" points=\"2825.96,-717.45 2834.76,-711.55 2824.21,-710.67 2825.96,-717.45\"/>\n</g>\n<!-- 140671681345872 -->\n<g id=\"node145\" class=\"node\">\n<title>140671681345872</title>\n<polygon fill=\"none\" stroke=\"black\" points=\"936.5,-852.5 936.5,-888.5 1118.5,-888.5 1118.5,-852.5 936.5,-852.5\"/>\n<text text-anchor=\"middle\" x=\"946.5\" y=\"-866.8\" font-family=\"Times,serif\" font-size=\"14.00\"> </text>\n<polyline fill=\"none\" stroke=\"black\" points=\"956.5,-852.5 956.5,-888.5 \"/>\n<text text-anchor=\"middle\" x=\"996.5\" y=\"-866.8\" font-family=\"Times,serif\" font-size=\"14.00\">data 0.9161</text>\n<polyline fill=\"none\" stroke=\"black\" points=\"1036.5,-852.5 1036.5,-888.5 \"/>\n<text text-anchor=\"middle\" x=\"1077.5\" y=\"-866.8\" font-family=\"Times,serif\" font-size=\"14.00\">grad 0.0000</text>\n</g>\n<!-- 140671681345872&#45;&gt;140671680919696* -->\n<g id=\"edge209\" class=\"edge\">\n<title>140671681345872&#45;&gt;140671680919696*</title>\n<path fill=\"none\" stroke=\"black\" d=\"M1118.82,-870.5C1128.57,-870.5 1138.04,-870.5 1146.57,-870.5\"/>\n<polygon fill=\"black\" stroke=\"black\" points=\"1146.83,-874 1156.83,-870.5 1146.83,-867 1146.83,-874\"/>\n</g>\n<!-- 140671680919888 -->\n<g id=\"node146\" class=\"node\">\n<title>140671680919888</title>\n<polygon fill=\"none\" stroke=\"black\" points=\"936.5,-797.5 936.5,-833.5 1118.5,-833.5 1118.5,-797.5 936.5,-797.5\"/>\n<text text-anchor=\"middle\" x=\"946.5\" y=\"-811.8\" font-family=\"Times,serif\" font-size=\"14.00\"> </text>\n<polyline fill=\"none\" stroke=\"black\" points=\"956.5,-797.5 956.5,-833.5 \"/>\n<text text-anchor=\"middle\" x=\"996.5\" y=\"-811.8\" font-family=\"Times,serif\" font-size=\"14.00\">data 3.0000</text>\n<polyline fill=\"none\" stroke=\"black\" points=\"1036.5,-797.5 1036.5,-833.5 \"/>\n<text text-anchor=\"middle\" x=\"1077.5\" y=\"-811.8\" font-family=\"Times,serif\" font-size=\"14.00\">grad 0.0000</text>\n</g>\n<!-- 140671680919888&#45;&gt;140671680919696* -->\n<g id=\"edge129\" class=\"edge\">\n<title>140671680919888&#45;&gt;140671680919696*</title>\n<path fill=\"none\" stroke=\"black\" d=\"M1092.02,-833.65C1101.79,-836.76 1111.71,-840.08 1121,-843.5 1131.25,-847.27 1142.23,-851.86 1152.07,-856.18\"/>\n<polygon fill=\"black\" stroke=\"black\" points=\"1150.89,-859.49 1161.45,-860.37 1153.74,-853.1 1150.89,-859.49\"/>\n</g>\n<!-- 140671681288720 -->\n<g id=\"node147\" class=\"node\">\n<title>140671681288720</title>\n<polygon fill=\"none\" stroke=\"black\" points=\"1873,-467.5 1873,-503.5 2060,-503.5 2060,-467.5 1873,-467.5\"/>\n<text text-anchor=\"middle\" x=\"1883\" y=\"-481.8\" font-family=\"Times,serif\" font-size=\"14.00\"> </text>\n<polyline fill=\"none\" stroke=\"black\" points=\"1893,-467.5 1893,-503.5 \"/>\n<text text-anchor=\"middle\" x=\"1935.5\" y=\"-481.8\" font-family=\"Times,serif\" font-size=\"14.00\">data &#45;0.0663</text>\n<polyline fill=\"none\" stroke=\"black\" points=\"1978,-467.5 1978,-503.5 \"/>\n<text text-anchor=\"middle\" x=\"2019\" y=\"-481.8\" font-family=\"Times,serif\" font-size=\"14.00\">grad 0.0000</text>\n</g>\n<!-- 140671681288720&#45;&gt;140671681288272+ -->\n<g id=\"edge115\" class=\"edge\">\n<title>140671681288720&#45;&gt;140671681288272+</title>\n<path fill=\"none\" stroke=\"black\" d=\"M2060.05,-485.5C2069.06,-485.5 2077.79,-485.5 2085.7,-485.5\"/>\n<polygon fill=\"black\" stroke=\"black\" points=\"2085.95,-489 2095.95,-485.5 2085.95,-482 2085.95,-489\"/>\n</g>\n<!-- 140671681288720*&#45;&gt;140671681288720 -->\n<g id=\"edge56\" class=\"edge\">\n<title>140671681288720*&#45;&gt;140671681288720</title>\n<path fill=\"none\" stroke=\"black\" d=\"M1837.21,-485.5C1844.73,-485.5 1853.43,-485.5 1862.67,-485.5\"/>\n<polygon fill=\"black\" stroke=\"black\" points=\"1862.89,-489 1872.89,-485.5 1862.89,-482 1862.89,-489\"/>\n</g>\n<!-- 140671680166480 -->\n<g id=\"node149\" class=\"node\">\n<title>140671680166480</title>\n<polygon fill=\"none\" stroke=\"black\" points=\"2188.5,-357.5 2188.5,-393.5 2370.5,-393.5 2370.5,-357.5 2188.5,-357.5\"/>\n<text text-anchor=\"middle\" x=\"2198.5\" y=\"-371.8\" font-family=\"Times,serif\" font-size=\"14.00\"> </text>\n<polyline fill=\"none\" stroke=\"black\" points=\"2208.5,-357.5 2208.5,-393.5 \"/>\n<text text-anchor=\"middle\" x=\"2248.5\" y=\"-371.8\" font-family=\"Times,serif\" font-size=\"14.00\">data 1.4074</text>\n<polyline fill=\"none\" stroke=\"black\" points=\"2288.5,-357.5 2288.5,-393.5 \"/>\n<text text-anchor=\"middle\" x=\"2329.5\" y=\"-371.8\" font-family=\"Times,serif\" font-size=\"14.00\">grad 0.0000</text>\n</g>\n<!-- 140671680166480&#45;&gt;140671680165648+ -->\n<g id=\"edge165\" class=\"edge\">\n<title>140671680166480&#45;&gt;140671680165648+</title>\n<path fill=\"none\" stroke=\"black\" d=\"M2358.86,-393.66C2363.93,-396.48 2368.71,-399.74 2373,-403.5 2390.29,-418.66 2413.13,-477.8 2425.71,-513.23\"/>\n<polygon fill=\"black\" stroke=\"black\" points=\"2422.51,-514.69 2429.11,-522.97 2429.11,-512.37 2422.51,-514.69\"/>\n</g>\n<!-- 140671680166480+&#45;&gt;140671680166480 -->\n<g id=\"edge57\" class=\"edge\">\n<title>140671680166480+&#45;&gt;140671680166480</title>\n<path fill=\"none\" stroke=\"black\" d=\"M2150.21,-375.5C2158.34,-375.5 2167.85,-375.5 2177.94,-375.5\"/>\n<polygon fill=\"black\" stroke=\"black\" points=\"2178.19,-379 2188.19,-375.5 2178.19,-372 2178.19,-379\"/>\n</g>\n<!-- 140671680920144 -->\n<g id=\"node151\" class=\"node\">\n<title>140671680920144</title>\n<polygon fill=\"none\" stroke=\"black\" points=\"1562.5,-302.5 1562.5,-338.5 1744.5,-338.5 1744.5,-302.5 1562.5,-302.5\"/>\n<text text-anchor=\"middle\" x=\"1572.5\" y=\"-316.8\" font-family=\"Times,serif\" font-size=\"14.00\"> </text>\n<polyline fill=\"none\" stroke=\"black\" points=\"1582.5,-302.5 1582.5,-338.5 \"/>\n<text text-anchor=\"middle\" x=\"1622.5\" y=\"-316.8\" font-family=\"Times,serif\" font-size=\"14.00\">data 0.8864</text>\n<polyline fill=\"none\" stroke=\"black\" points=\"1662.5,-302.5 1662.5,-338.5 \"/>\n<text text-anchor=\"middle\" x=\"1703.5\" y=\"-316.8\" font-family=\"Times,serif\" font-size=\"14.00\">grad 0.0000</text>\n</g>\n<!-- 140671680920144&#45;&gt;140671680157136* -->\n<g id=\"edge181\" class=\"edge\">\n<title>140671680920144&#45;&gt;140671680157136*</title>\n<path fill=\"none\" stroke=\"black\" d=\"M1744.82,-320.5C1754.57,-320.5 1764.04,-320.5 1772.57,-320.5\"/>\n<polygon fill=\"black\" stroke=\"black\" points=\"1772.83,-324 1782.83,-320.5 1772.83,-317 1772.83,-324\"/>\n</g>\n<!-- 140671680912016 -->\n<g id=\"node152\" class=\"node\">\n<title>140671680912016</title>\n<polygon fill=\"none\" stroke=\"black\" points=\"934,-687.5 934,-723.5 1121,-723.5 1121,-687.5 934,-687.5\"/>\n<text text-anchor=\"middle\" x=\"944\" y=\"-701.8\" font-family=\"Times,serif\" font-size=\"14.00\"> </text>\n<polyline fill=\"none\" stroke=\"black\" points=\"954,-687.5 954,-723.5 \"/>\n<text text-anchor=\"middle\" x=\"996.5\" y=\"-701.8\" font-family=\"Times,serif\" font-size=\"14.00\">data &#45;2.5723</text>\n<polyline fill=\"none\" stroke=\"black\" points=\"1039,-687.5 1039,-723.5 \"/>\n<text text-anchor=\"middle\" x=\"1080\" y=\"-701.8\" font-family=\"Times,serif\" font-size=\"14.00\">grad 0.0000</text>\n</g>\n<!-- 140671680912016&#45;&gt;140671680916944+ -->\n<g id=\"edge127\" class=\"edge\">\n<title>140671680912016&#45;&gt;140671680916944+</title>\n<path fill=\"none\" stroke=\"black\" d=\"M1121.05,-705.5C1130.06,-705.5 1138.79,-705.5 1146.7,-705.5\"/>\n<polygon fill=\"black\" stroke=\"black\" points=\"1146.95,-709 1156.95,-705.5 1146.95,-702 1146.95,-709\"/>\n</g>\n<!-- 140671680912016*&#45;&gt;140671680912016 -->\n<g id=\"edge58\" class=\"edge\">\n<title>140671680912016*&#45;&gt;140671680912016</title>\n<path fill=\"none\" stroke=\"black\" d=\"M898.21,-705.5C905.73,-705.5 914.43,-705.5 923.67,-705.5\"/>\n<polygon fill=\"black\" stroke=\"black\" points=\"923.89,-709 933.89,-705.5 923.89,-702 923.89,-709\"/>\n</g>\n<!-- 140671681346256 -->\n<g id=\"node154\" class=\"node\">\n<title>140671681346256</title>\n<polygon fill=\"none\" stroke=\"black\" points=\"621,-990.5 621,-1026.5 808,-1026.5 808,-990.5 621,-990.5\"/>\n<text text-anchor=\"middle\" x=\"631\" y=\"-1004.8\" font-family=\"Times,serif\" font-size=\"14.00\"> </text>\n<polyline fill=\"none\" stroke=\"black\" points=\"641,-990.5 641,-1026.5 \"/>\n<text text-anchor=\"middle\" x=\"683.5\" y=\"-1004.8\" font-family=\"Times,serif\" font-size=\"14.00\">data &#45;0.5448</text>\n<polyline fill=\"none\" stroke=\"black\" points=\"726,-990.5 726,-1026.5 \"/>\n<text text-anchor=\"middle\" x=\"767\" y=\"-1004.8\" font-family=\"Times,serif\" font-size=\"14.00\">grad 0.0000</text>\n</g>\n<!-- 140671681346256&#45;&gt;140671680918608* -->\n<g id=\"edge183\" class=\"edge\">\n<title>140671681346256&#45;&gt;140671680918608*</title>\n<path fill=\"none\" stroke=\"black\" d=\"M808.05,-991.73C817.54,-990.01 826.71,-988.35 834.95,-986.85\"/>\n<polygon fill=\"black\" stroke=\"black\" points=\"835.64,-990.28 844.85,-985.06 834.39,-983.4 835.64,-990.28\"/>\n</g>\n<!-- 140671680912144 -->\n<g id=\"node155\" class=\"node\">\n<title>140671680912144</title>\n<polygon fill=\"none\" stroke=\"black\" points=\"310.5,-385.5 310.5,-421.5 492.5,-421.5 492.5,-385.5 310.5,-385.5\"/>\n<text text-anchor=\"middle\" x=\"320.5\" y=\"-399.8\" font-family=\"Times,serif\" font-size=\"14.00\"> </text>\n<polyline fill=\"none\" stroke=\"black\" points=\"330.5,-385.5 330.5,-421.5 \"/>\n<text text-anchor=\"middle\" x=\"370.5\" y=\"-399.8\" font-family=\"Times,serif\" font-size=\"14.00\">data 1.2271</text>\n<polyline fill=\"none\" stroke=\"black\" points=\"410.5,-385.5 410.5,-421.5 \"/>\n<text text-anchor=\"middle\" x=\"451.5\" y=\"-399.8\" font-family=\"Times,serif\" font-size=\"14.00\">grad 0.0000</text>\n</g>\n<!-- 140671680912144&#45;&gt;140671680915408+ -->\n<g id=\"edge88\" class=\"edge\">\n<title>140671680912144&#45;&gt;140671680915408+</title>\n<path fill=\"none\" stroke=\"black\" d=\"M492.82,-403.5C502.57,-403.5 512.04,-403.5 520.57,-403.5\"/>\n<polygon fill=\"black\" stroke=\"black\" points=\"520.83,-407 530.83,-403.5 520.83,-400 520.83,-407\"/>\n</g>\n<!-- 140671680912144*&#45;&gt;140671680912144 -->\n<g id=\"edge59\" class=\"edge\">\n<title>140671680912144*&#45;&gt;140671680912144</title>\n<path fill=\"none\" stroke=\"black\" d=\"M272.21,-403.5C280.34,-403.5 289.85,-403.5 299.94,-403.5\"/>\n<polygon fill=\"black\" stroke=\"black\" points=\"300.19,-407 310.19,-403.5 300.19,-400 300.19,-407\"/>\n</g>\n<!-- 140671680158608 -->\n<g id=\"node157\" class=\"node\">\n<title>140671680158608</title>\n<polygon fill=\"none\" stroke=\"black\" points=\"3438,-386.5 3438,-422.5 3625,-422.5 3625,-386.5 3438,-386.5\"/>\n<text text-anchor=\"middle\" x=\"3448\" y=\"-400.8\" font-family=\"Times,serif\" font-size=\"14.00\"> </text>\n<polyline fill=\"none\" stroke=\"black\" points=\"3458,-386.5 3458,-422.5 \"/>\n<text text-anchor=\"middle\" x=\"3500.5\" y=\"-400.8\" font-family=\"Times,serif\" font-size=\"14.00\">data &#45;0.1122</text>\n<polyline fill=\"none\" stroke=\"black\" points=\"3543,-386.5 3543,-422.5 \"/>\n<text text-anchor=\"middle\" x=\"3584\" y=\"-400.8\" font-family=\"Times,serif\" font-size=\"14.00\">grad 0.0000</text>\n</g>\n<!-- 140671680158608&#45;&gt;140671681234000* -->\n<g id=\"edge210\" class=\"edge\">\n<title>140671680158608&#45;&gt;140671681234000*</title>\n<path fill=\"none\" stroke=\"black\" d=\"M3596.02,-422.65C3605.79,-425.76 3615.71,-429.08 3625,-432.5 3635.25,-436.27 3646.23,-440.86 3656.07,-445.18\"/>\n<polygon fill=\"black\" stroke=\"black\" points=\"3654.89,-448.49 3665.45,-449.37 3657.74,-442.1 3654.89,-448.49\"/>\n</g>\n<!-- 140671680158608tanh&#45;&gt;140671680158608 -->\n<g id=\"edge60\" class=\"edge\">\n<title>140671680158608tanh&#45;&gt;140671680158608</title>\n<path fill=\"none\" stroke=\"black\" d=\"M3402.21,-404.5C3409.73,-404.5 3418.43,-404.5 3427.67,-404.5\"/>\n<polygon fill=\"black\" stroke=\"black\" points=\"3427.89,-408 3437.89,-404.5 3427.89,-401 3427.89,-408\"/>\n</g>\n<!-- 140671681346448 -->\n<g id=\"node159\" class=\"node\">\n<title>140671681346448</title>\n<polygon fill=\"none\" stroke=\"black\" points=\"1562.5,-192.5 1562.5,-228.5 1744.5,-228.5 1744.5,-192.5 1562.5,-192.5\"/>\n<text text-anchor=\"middle\" x=\"1572.5\" y=\"-206.8\" font-family=\"Times,serif\" font-size=\"14.00\"> </text>\n<polyline fill=\"none\" stroke=\"black\" points=\"1582.5,-192.5 1582.5,-228.5 \"/>\n<text text-anchor=\"middle\" x=\"1622.5\" y=\"-206.8\" font-family=\"Times,serif\" font-size=\"14.00\">data 0.0917</text>\n<polyline fill=\"none\" stroke=\"black\" points=\"1662.5,-192.5 1662.5,-228.5 \"/>\n<text text-anchor=\"middle\" x=\"1703.5\" y=\"-206.8\" font-family=\"Times,serif\" font-size=\"14.00\">grad 0.0000</text>\n</g>\n<!-- 140671681346448&#45;&gt;140671681288464* -->\n<g id=\"edge105\" class=\"edge\">\n<title>140671681346448&#45;&gt;140671681288464*</title>\n<path fill=\"none\" stroke=\"black\" d=\"M1744.82,-210.5C1754.57,-210.5 1764.04,-210.5 1772.57,-210.5\"/>\n<polygon fill=\"black\" stroke=\"black\" points=\"1772.83,-214 1782.83,-210.5 1772.83,-207 1772.83,-214\"/>\n</g>\n<!-- 140671680166800 -->\n<g id=\"node160\" class=\"node\">\n<title>140671680166800</title>\n<polygon fill=\"none\" stroke=\"black\" points=\"2186,-522.5 2186,-558.5 2373,-558.5 2373,-522.5 2186,-522.5\"/>\n<text text-anchor=\"middle\" x=\"2196\" y=\"-536.8\" font-family=\"Times,serif\" font-size=\"14.00\"> </text>\n<polyline fill=\"none\" stroke=\"black\" points=\"2206,-522.5 2206,-558.5 \"/>\n<text text-anchor=\"middle\" x=\"2248.5\" y=\"-536.8\" font-family=\"Times,serif\" font-size=\"14.00\">data &#45;0.2619</text>\n<polyline fill=\"none\" stroke=\"black\" points=\"2291,-522.5 2291,-558.5 \"/>\n<text text-anchor=\"middle\" x=\"2332\" y=\"-536.8\" font-family=\"Times,serif\" font-size=\"14.00\">grad 0.0000</text>\n</g>\n<!-- 140671680166800&#45;&gt;140671680165648+ -->\n<g id=\"edge195\" class=\"edge\">\n<title>140671680166800&#45;&gt;140671680165648+</title>\n<path fill=\"none\" stroke=\"black\" d=\"M2373.05,-540.5C2382.06,-540.5 2390.79,-540.5 2398.7,-540.5\"/>\n<polygon fill=\"black\" stroke=\"black\" points=\"2398.95,-544 2408.95,-540.5 2398.95,-537 2398.95,-544\"/>\n</g>\n<!-- 140671680166800*&#45;&gt;140671680166800 -->\n<g id=\"edge61\" class=\"edge\">\n<title>140671680166800*&#45;&gt;140671680166800</title>\n<path fill=\"none\" stroke=\"black\" d=\"M2145.55,-585.37C2157.36,-580.02 2172.34,-573.52 2186,-568.5 2192.24,-566.2 2198.77,-563.95 2205.34,-561.78\"/>\n<polygon fill=\"black\" stroke=\"black\" points=\"2206.55,-565.07 2214.98,-558.65 2204.39,-558.41 2206.55,-565.07\"/>\n</g>\n<!-- 140671680920464 -->\n<g id=\"node162\" class=\"node\">\n<title>140671680920464</title>\n<polygon fill=\"none\" stroke=\"black\" points=\"623.5,-935.5 623.5,-971.5 805.5,-971.5 805.5,-935.5 623.5,-935.5\"/>\n<text text-anchor=\"middle\" x=\"633.5\" y=\"-949.8\" font-family=\"Times,serif\" font-size=\"14.00\"> </text>\n<polyline fill=\"none\" stroke=\"black\" points=\"643.5,-935.5 643.5,-971.5 \"/>\n<text text-anchor=\"middle\" x=\"683.5\" y=\"-949.8\" font-family=\"Times,serif\" font-size=\"14.00\">data 2.0000</text>\n<polyline fill=\"none\" stroke=\"black\" points=\"723.5,-935.5 723.5,-971.5 \"/>\n<text text-anchor=\"middle\" x=\"764.5\" y=\"-949.8\" font-family=\"Times,serif\" font-size=\"14.00\">grad 0.0000</text>\n</g>\n<!-- 140671680920464&#45;&gt;140671680918608* -->\n<g id=\"edge190\" class=\"edge\">\n<title>140671680920464&#45;&gt;140671680918608*</title>\n<path fill=\"none\" stroke=\"black\" d=\"M805.82,-969.28C816.07,-971.08 826.01,-972.81 834.88,-974.36\"/>\n<polygon fill=\"black\" stroke=\"black\" points=\"834.3,-977.81 844.75,-976.09 835.5,-970.92 834.3,-977.81\"/>\n</g>\n<!-- 140671681346640 -->\n<g id=\"node163\" class=\"node\">\n<title>140671681346640</title>\n<polygon fill=\"none\" stroke=\"black\" points=\"1247,-82.5 1247,-118.5 1434,-118.5 1434,-82.5 1247,-82.5\"/>\n<text text-anchor=\"middle\" x=\"1257\" y=\"-96.8\" font-family=\"Times,serif\" font-size=\"14.00\"> </text>\n<polyline fill=\"none\" stroke=\"black\" points=\"1267,-82.5 1267,-118.5 \"/>\n<text text-anchor=\"middle\" x=\"1309.5\" y=\"-96.8\" font-family=\"Times,serif\" font-size=\"14.00\">data &#45;0.1000</text>\n<polyline fill=\"none\" stroke=\"black\" points=\"1352,-82.5 1352,-118.5 \"/>\n<text text-anchor=\"middle\" x=\"1393\" y=\"-96.8\" font-family=\"Times,serif\" font-size=\"14.00\">grad 0.0000</text>\n</g>\n<!-- 140671681346640&#45;&gt;140671681286288+ -->\n<g id=\"edge140\" class=\"edge\">\n<title>140671681346640&#45;&gt;140671681286288+</title>\n<path fill=\"none\" stroke=\"black\" d=\"M1434.05,-100.5C1443.06,-100.5 1451.79,-100.5 1459.7,-100.5\"/>\n<polygon fill=\"black\" stroke=\"black\" points=\"1459.95,-104 1469.95,-100.5 1459.95,-97 1459.95,-104\"/>\n</g>\n<!-- 140671681289296 -->\n<g id=\"node164\" class=\"node\">\n<title>140671681289296</title>\n<polygon fill=\"none\" stroke=\"black\" points=\"2188.5,-687.5 2188.5,-723.5 2370.5,-723.5 2370.5,-687.5 2188.5,-687.5\"/>\n<text text-anchor=\"middle\" x=\"2198.5\" y=\"-701.8\" font-family=\"Times,serif\" font-size=\"14.00\"> </text>\n<polyline fill=\"none\" stroke=\"black\" points=\"2208.5,-687.5 2208.5,-723.5 \"/>\n<text text-anchor=\"middle\" x=\"2248.5\" y=\"-701.8\" font-family=\"Times,serif\" font-size=\"14.00\">data 0.6833</text>\n<polyline fill=\"none\" stroke=\"black\" points=\"2288.5,-687.5 2288.5,-723.5 \"/>\n<text text-anchor=\"middle\" x=\"2329.5\" y=\"-701.8\" font-family=\"Times,serif\" font-size=\"14.00\">grad 0.0000</text>\n</g>\n<!-- 140671681289296&#45;&gt;140671681295184+ -->\n<g id=\"edge114\" class=\"edge\">\n<title>140671681289296&#45;&gt;140671681295184+</title>\n<path fill=\"none\" stroke=\"black\" d=\"M2358.16,-687.35C2363.39,-684.78 2368.4,-681.85 2373,-678.5 2396.02,-661.75 2391.26,-647.78 2409,-625.5 2410.41,-623.73 2411.91,-621.93 2413.44,-620.15\"/>\n<polygon fill=\"black\" stroke=\"black\" points=\"2416.2,-622.32 2420.26,-612.53 2410.98,-617.65 2416.2,-622.32\"/>\n</g>\n<!-- 140671681289296*&#45;&gt;140671681289296 -->\n<g id=\"edge62\" class=\"edge\">\n<title>140671681289296*&#45;&gt;140671681289296</title>\n<path fill=\"none\" stroke=\"black\" d=\"M2150.21,-705.5C2158.34,-705.5 2167.85,-705.5 2177.94,-705.5\"/>\n<polygon fill=\"black\" stroke=\"black\" points=\"2178.19,-709 2188.19,-705.5 2178.19,-702 2178.19,-709\"/>\n</g>\n<!-- 140671681346704 -->\n<g id=\"node166\" class=\"node\">\n<title>140671681346704</title>\n<polygon fill=\"none\" stroke=\"black\" points=\"1560,-467.5 1560,-503.5 1747,-503.5 1747,-467.5 1560,-467.5\"/>\n<text text-anchor=\"middle\" x=\"1570\" y=\"-481.8\" font-family=\"Times,serif\" font-size=\"14.00\"> </text>\n<polyline fill=\"none\" stroke=\"black\" points=\"1580,-467.5 1580,-503.5 \"/>\n<text text-anchor=\"middle\" x=\"1622.5\" y=\"-481.8\" font-family=\"Times,serif\" font-size=\"14.00\">data &#45;0.0668</text>\n<polyline fill=\"none\" stroke=\"black\" points=\"1665,-467.5 1665,-503.5 \"/>\n<text text-anchor=\"middle\" x=\"1706\" y=\"-481.8\" font-family=\"Times,serif\" font-size=\"14.00\">grad 0.0000</text>\n</g>\n<!-- 140671681346704&#45;&gt;140671681288720* -->\n<g id=\"edge191\" class=\"edge\">\n<title>140671681346704&#45;&gt;140671681288720*</title>\n<path fill=\"none\" stroke=\"black\" d=\"M1747.05,-485.5C1756.06,-485.5 1764.79,-485.5 1772.7,-485.5\"/>\n<polygon fill=\"black\" stroke=\"black\" points=\"1772.95,-489 1782.95,-485.5 1772.95,-482 1772.95,-489\"/>\n</g>\n<!-- 140671681289424 -->\n<g id=\"node167\" class=\"node\">\n<title>140671681289424</title>\n<polygon fill=\"none\" stroke=\"black\" points=\"2499,-304.5 2499,-340.5 2686,-340.5 2686,-304.5 2499,-304.5\"/>\n<text text-anchor=\"middle\" x=\"2509\" y=\"-318.8\" font-family=\"Times,serif\" font-size=\"14.00\"> </text>\n<polyline fill=\"none\" stroke=\"black\" points=\"2519,-304.5 2519,-340.5 \"/>\n<text text-anchor=\"middle\" x=\"2561.5\" y=\"-318.8\" font-family=\"Times,serif\" font-size=\"14.00\">data &#45;0.7178</text>\n<polyline fill=\"none\" stroke=\"black\" points=\"2604,-304.5 2604,-340.5 \"/>\n<text text-anchor=\"middle\" x=\"2645\" y=\"-318.8\" font-family=\"Times,serif\" font-size=\"14.00\">grad 0.0000</text>\n</g>\n<!-- 140671681289424&#45;&gt;140671681291792* -->\n<g id=\"edge176\" class=\"edge\">\n<title>140671681289424&#45;&gt;140671681291792*</title>\n<path fill=\"none\" stroke=\"black\" d=\"M2657.02,-340.65C2666.79,-343.76 2676.71,-347.08 2686,-350.5 2696.25,-354.27 2707.23,-358.86 2717.07,-363.18\"/>\n<polygon fill=\"black\" stroke=\"black\" points=\"2715.89,-366.49 2726.45,-367.37 2718.74,-360.1 2715.89,-366.49\"/>\n</g>\n<!-- 140671681289424&#45;&gt;140671680159632* -->\n<g id=\"edge189\" class=\"edge\">\n<title>140671681289424&#45;&gt;140671680159632*</title>\n<path fill=\"none\" stroke=\"black\" d=\"M2686.05,-322.5C2695.06,-322.5 2703.79,-322.5 2711.7,-322.5\"/>\n<polygon fill=\"black\" stroke=\"black\" points=\"2711.95,-326 2721.95,-322.5 2711.95,-319 2711.95,-326\"/>\n</g>\n<!-- 140671681289424&#45;&gt;140671680159248* -->\n<g id=\"edge119\" class=\"edge\">\n<title>140671681289424&#45;&gt;140671680159248*</title>\n<path fill=\"none\" stroke=\"black\" d=\"M2669.35,-340.57C2675.24,-343.41 2680.88,-346.7 2686,-350.5 2709.16,-367.69 2704.13,-381.86 2722,-404.5 2723.4,-406.28 2724.89,-408.08 2726.42,-409.86\"/>\n<polygon fill=\"black\" stroke=\"black\" points=\"2723.96,-412.36 2733.24,-417.49 2729.18,-407.7 2723.96,-412.36\"/>\n</g>\n<!-- 140671681289424&#45;&gt;140671681249104* -->\n<g id=\"edge192\" class=\"edge\">\n<title>140671681289424&#45;&gt;140671681249104*</title>\n<path fill=\"none\" stroke=\"black\" d=\"M2659.56,-304.45C2668.51,-301.64 2677.53,-298.63 2686,-295.5 2696.49,-291.62 2707.71,-286.78 2717.68,-282.22\"/>\n<polygon fill=\"black\" stroke=\"black\" points=\"2719.2,-285.37 2726.79,-277.97 2716.25,-279.02 2719.2,-285.37\"/>\n</g>\n<!-- 140671681289424tanh&#45;&gt;140671681289424 -->\n<g id=\"edge63\" class=\"edge\">\n<title>140671681289424tanh&#45;&gt;140671681289424</title>\n<path fill=\"none\" stroke=\"black\" d=\"M2462.86,-310.84C2470.51,-311.54 2479.39,-312.34 2488.84,-313.2\"/>\n<polygon fill=\"black\" stroke=\"black\" points=\"2488.6,-316.69 2498.87,-314.11 2489.23,-309.72 2488.6,-316.69\"/>\n</g>\n<!-- 140671681346832 -->\n<g id=\"node169\" class=\"node\">\n<title>140671681346832</title>\n<polygon fill=\"none\" stroke=\"black\" points=\"1873,-797.5 1873,-833.5 2060,-833.5 2060,-797.5 1873,-797.5\"/>\n<text text-anchor=\"middle\" x=\"1883\" y=\"-811.8\" font-family=\"Times,serif\" font-size=\"14.00\"> </text>\n<polyline fill=\"none\" stroke=\"black\" points=\"1893,-797.5 1893,-833.5 \"/>\n<text text-anchor=\"middle\" x=\"1935.5\" y=\"-811.8\" font-family=\"Times,serif\" font-size=\"14.00\">data &#45;0.7108</text>\n<polyline fill=\"none\" stroke=\"black\" points=\"1978,-797.5 1978,-833.5 \"/>\n<text text-anchor=\"middle\" x=\"2019\" y=\"-811.8\" font-family=\"Times,serif\" font-size=\"14.00\">grad 0.0000</text>\n</g>\n<!-- 140671681346832&#45;&gt;140671681289296* -->\n<g id=\"edge174\" class=\"edge\">\n<title>140671681346832&#45;&gt;140671681289296*</title>\n<path fill=\"none\" stroke=\"black\" d=\"M2045.23,-797.44C2050.44,-794.85 2055.43,-791.89 2060,-788.5 2083.47,-771.11 2078,-756.51 2096,-733.5 2097.4,-731.72 2098.88,-729.91 2100.41,-728.12\"/>\n<polygon fill=\"black\" stroke=\"black\" points=\"2103.17,-730.28 2107.21,-720.49 2097.94,-725.63 2103.17,-730.28\"/>\n</g>\n<!-- 140671681346896 -->\n<g id=\"node170\" class=\"node\">\n<title>140671681346896</title>\n<polygon fill=\"none\" stroke=\"black\" points=\"2186,-907.5 2186,-943.5 2373,-943.5 2373,-907.5 2186,-907.5\"/>\n<text text-anchor=\"middle\" x=\"2196\" y=\"-921.8\" font-family=\"Times,serif\" font-size=\"14.00\"> </text>\n<polyline fill=\"none\" stroke=\"black\" points=\"2206,-907.5 2206,-943.5 \"/>\n<text text-anchor=\"middle\" x=\"2248.5\" y=\"-921.8\" font-family=\"Times,serif\" font-size=\"14.00\">data &#45;0.2182</text>\n<polyline fill=\"none\" stroke=\"black\" points=\"2291,-907.5 2291,-943.5 \"/>\n<text text-anchor=\"middle\" x=\"2332\" y=\"-921.8\" font-family=\"Times,serif\" font-size=\"14.00\">grad 0.0000</text>\n</g>\n<!-- 140671681346896&#45;&gt;140671681287952* -->\n<g id=\"edge131\" class=\"edge\">\n<title>140671681346896&#45;&gt;140671681287952*</title>\n<path fill=\"none\" stroke=\"black\" d=\"M2347.1,-907.4C2355.88,-904.62 2364.7,-901.63 2373,-898.5 2383.62,-894.49 2394.94,-889.44 2404.96,-884.68\"/>\n<polygon fill=\"black\" stroke=\"black\" points=\"2406.64,-887.76 2414.11,-880.25 2403.59,-881.46 2406.64,-887.76\"/>\n</g>\n<!-- 140671681297808 -->\n<g id=\"node171\" class=\"node\">\n<title>140671681297808</title>\n<polygon fill=\"none\" stroke=\"black\" points=\"1247,-1017.5 1247,-1053.5 1434,-1053.5 1434,-1017.5 1247,-1017.5\"/>\n<text text-anchor=\"middle\" x=\"1257\" y=\"-1031.8\" font-family=\"Times,serif\" font-size=\"14.00\"> </text>\n<polyline fill=\"none\" stroke=\"black\" points=\"1267,-1017.5 1267,-1053.5 \"/>\n<text text-anchor=\"middle\" x=\"1309.5\" y=\"-1031.8\" font-family=\"Times,serif\" font-size=\"14.00\">data &#45;1.0000</text>\n<polyline fill=\"none\" stroke=\"black\" points=\"1352,-1017.5 1352,-1053.5 \"/>\n<text text-anchor=\"middle\" x=\"1393\" y=\"-1031.8\" font-family=\"Times,serif\" font-size=\"14.00\">grad 0.0000</text>\n</g>\n<!-- 140671681297808&#45;&gt;140671681298128* -->\n<g id=\"edge76\" class=\"edge\">\n<title>140671681297808&#45;&gt;140671681298128*</title>\n<path fill=\"none\" stroke=\"black\" d=\"M1407.56,-1017.45C1416.51,-1014.64 1425.53,-1011.63 1434,-1008.5 1444.49,-1004.62 1455.71,-999.78 1465.68,-995.22\"/>\n<polygon fill=\"black\" stroke=\"black\" points=\"1467.2,-998.37 1474.79,-990.97 1464.25,-992.02 1467.2,-998.37\"/>\n</g>\n<!-- 140671680921040 -->\n<g id=\"node172\" class=\"node\">\n<title>140671680921040</title>\n<polygon fill=\"none\" stroke=\"black\" points=\"1247,-907.5 1247,-943.5 1434,-943.5 1434,-907.5 1247,-907.5\"/>\n<text text-anchor=\"middle\" x=\"1257\" y=\"-921.8\" font-family=\"Times,serif\" font-size=\"14.00\"> </text>\n<polyline fill=\"none\" stroke=\"black\" points=\"1267,-907.5 1267,-943.5 \"/>\n<text text-anchor=\"middle\" x=\"1309.5\" y=\"-921.8\" font-family=\"Times,serif\" font-size=\"14.00\">data &#45;0.7590</text>\n<polyline fill=\"none\" stroke=\"black\" points=\"1352,-907.5 1352,-943.5 \"/>\n<text text-anchor=\"middle\" x=\"1393\" y=\"-921.8\" font-family=\"Times,serif\" font-size=\"14.00\">grad 0.0000</text>\n</g>\n<!-- 140671680921040&#45;&gt;140671681294416+ -->\n<g id=\"edge86\" class=\"edge\">\n<title>140671680921040&#45;&gt;140671681294416+</title>\n<path fill=\"none\" stroke=\"black\" d=\"M1434.05,-925.5C1443.06,-925.5 1451.79,-925.5 1459.7,-925.5\"/>\n<polygon fill=\"black\" stroke=\"black\" points=\"1459.95,-929 1469.95,-925.5 1459.95,-922 1459.95,-929\"/>\n</g>\n<!-- 140671680921040+&#45;&gt;140671680921040 -->\n<g id=\"edge64\" class=\"edge\">\n<title>140671680921040+&#45;&gt;140671680921040</title>\n<path fill=\"none\" stroke=\"black\" d=\"M1211.21,-925.5C1218.73,-925.5 1227.43,-925.5 1236.67,-925.5\"/>\n<polygon fill=\"black\" stroke=\"black\" points=\"1236.89,-929 1246.89,-925.5 1236.89,-922 1236.89,-929\"/>\n</g>\n<!-- 140671681289680 -->\n<g id=\"node174\" class=\"node\">\n<title>140671681289680</title>\n<polygon fill=\"none\" stroke=\"black\" points=\"2812,-579.5 2812,-615.5 2999,-615.5 2999,-579.5 2812,-579.5\"/>\n<text text-anchor=\"middle\" x=\"2822\" y=\"-593.8\" font-family=\"Times,serif\" font-size=\"14.00\"> </text>\n<polyline fill=\"none\" stroke=\"black\" points=\"2832,-579.5 2832,-615.5 \"/>\n<text text-anchor=\"middle\" x=\"2874.5\" y=\"-593.8\" font-family=\"Times,serif\" font-size=\"14.00\">data &#45;0.2023</text>\n<polyline fill=\"none\" stroke=\"black\" points=\"2917,-579.5 2917,-615.5 \"/>\n<text text-anchor=\"middle\" x=\"2958\" y=\"-593.8\" font-family=\"Times,serif\" font-size=\"14.00\">grad 0.0000</text>\n</g>\n<!-- 140671681289680&#45;&gt;140671680157456+ -->\n<g id=\"edge106\" class=\"edge\">\n<title>140671681289680&#45;&gt;140671680157456+</title>\n<path fill=\"none\" stroke=\"black\" d=\"M2999.05,-580.73C3008.54,-579.01 3017.71,-577.35 3025.95,-575.85\"/>\n<polygon fill=\"black\" stroke=\"black\" points=\"3026.64,-579.28 3035.85,-574.06 3025.39,-572.4 3026.64,-579.28\"/>\n</g>\n<!-- 140671681289680+&#45;&gt;140671681289680 -->\n<g id=\"edge65\" class=\"edge\">\n<title>140671681289680+&#45;&gt;140671681289680</title>\n<path fill=\"none\" stroke=\"black\" d=\"M2776.21,-597.5C2783.73,-597.5 2792.43,-597.5 2801.67,-597.5\"/>\n<polygon fill=\"black\" stroke=\"black\" points=\"2801.89,-601 2811.89,-597.5 2801.89,-594 2801.89,-601\"/>\n</g>\n<!-- 140671681347088 -->\n<g id=\"node176\" class=\"node\">\n<title>140671681347088</title>\n<polygon fill=\"none\" stroke=\"black\" points=\"2499,-359.5 2499,-395.5 2686,-395.5 2686,-359.5 2499,-359.5\"/>\n<text text-anchor=\"middle\" x=\"2509\" y=\"-373.8\" font-family=\"Times,serif\" font-size=\"14.00\"> </text>\n<polyline fill=\"none\" stroke=\"black\" points=\"2519,-359.5 2519,-395.5 \"/>\n<text text-anchor=\"middle\" x=\"2561.5\" y=\"-373.8\" font-family=\"Times,serif\" font-size=\"14.00\">data &#45;0.7343</text>\n<polyline fill=\"none\" stroke=\"black\" points=\"2604,-359.5 2604,-395.5 \"/>\n<text text-anchor=\"middle\" x=\"2645\" y=\"-373.8\" font-family=\"Times,serif\" font-size=\"14.00\">grad 0.0000</text>\n</g>\n<!-- 140671681347088&#45;&gt;140671681291792* -->\n<g id=\"edge193\" class=\"edge\">\n<title>140671681347088&#45;&gt;140671681291792*</title>\n<path fill=\"none\" stroke=\"black\" d=\"M2686.05,-377.5C2695.06,-377.5 2703.79,-377.5 2711.7,-377.5\"/>\n<polygon fill=\"black\" stroke=\"black\" points=\"2711.95,-381 2721.95,-377.5 2711.95,-374 2711.95,-381\"/>\n</g>\n<!-- 140671680159248 -->\n<g id=\"node177\" class=\"node\">\n<title>140671680159248</title>\n<polygon fill=\"none\" stroke=\"black\" points=\"2812,-414.5 2812,-450.5 2999,-450.5 2999,-414.5 2812,-414.5\"/>\n<text text-anchor=\"middle\" x=\"2822\" y=\"-428.8\" font-family=\"Times,serif\" font-size=\"14.00\"> </text>\n<polyline fill=\"none\" stroke=\"black\" points=\"2832,-414.5 2832,-450.5 \"/>\n<text text-anchor=\"middle\" x=\"2874.5\" y=\"-428.8\" font-family=\"Times,serif\" font-size=\"14.00\">data &#45;0.3681</text>\n<polyline fill=\"none\" stroke=\"black\" points=\"2917,-414.5 2917,-450.5 \"/>\n<text text-anchor=\"middle\" x=\"2958\" y=\"-428.8\" font-family=\"Times,serif\" font-size=\"14.00\">grad 0.0000</text>\n</g>\n<!-- 140671680159248&#45;&gt;140671680153168+ -->\n<g id=\"edge130\" class=\"edge\">\n<title>140671680159248&#45;&gt;140671680153168+</title>\n<path fill=\"none\" stroke=\"black\" d=\"M2986.89,-450.7C2991.29,-453.51 2995.39,-456.76 2999,-460.5 3042.43,-505.48 3004.83,-541.74 3035,-596.5 3036.09,-598.48 3037.36,-600.43 3038.72,-602.33\"/>\n<polygon fill=\"black\" stroke=\"black\" points=\"3036.14,-604.69 3045.2,-610.18 3041.54,-600.24 3036.14,-604.69\"/>\n</g>\n<!-- 140671680159248*&#45;&gt;140671680159248 -->\n<g id=\"edge66\" class=\"edge\">\n<title>140671680159248*&#45;&gt;140671680159248</title>\n<path fill=\"none\" stroke=\"black\" d=\"M2776.21,-432.5C2783.73,-432.5 2792.43,-432.5 2801.67,-432.5\"/>\n<polygon fill=\"black\" stroke=\"black\" points=\"2801.89,-436 2811.89,-432.5 2801.89,-429 2801.89,-436\"/>\n</g>\n<!-- 140671681347152 -->\n<g id=\"node179\" class=\"node\">\n<title>140671681347152</title>\n<polygon fill=\"none\" stroke=\"black\" points=\"1873,-522.5 1873,-558.5 2060,-558.5 2060,-522.5 1873,-522.5\"/>\n<text text-anchor=\"middle\" x=\"1883\" y=\"-536.8\" font-family=\"Times,serif\" font-size=\"14.00\"> </text>\n<polyline fill=\"none\" stroke=\"black\" points=\"1893,-522.5 1893,-558.5 \"/>\n<text text-anchor=\"middle\" x=\"1935.5\" y=\"-536.8\" font-family=\"Times,serif\" font-size=\"14.00\">data &#45;0.6525</text>\n<polyline fill=\"none\" stroke=\"black\" points=\"1978,-522.5 1978,-558.5 \"/>\n<text text-anchor=\"middle\" x=\"2019\" y=\"-536.8\" font-family=\"Times,serif\" font-size=\"14.00\">grad 0.0000</text>\n</g>\n<!-- 140671681347152&#45;&gt;140671681288272+ -->\n<g id=\"edge202\" class=\"edge\">\n<title>140671681347152&#45;&gt;140671681288272+</title>\n<path fill=\"none\" stroke=\"black\" d=\"M2033.56,-522.45C2042.51,-519.64 2051.53,-516.63 2060,-513.5 2070.49,-509.62 2081.71,-504.78 2091.68,-500.22\"/>\n<polygon fill=\"black\" stroke=\"black\" points=\"2093.2,-503.37 2100.79,-495.97 2090.25,-497.02 2093.2,-503.37\"/>\n</g>\n<!-- 140671680159312 -->\n<g id=\"node180\" class=\"node\">\n<title>140671680159312</title>\n<polygon fill=\"none\" stroke=\"black\" points=\"2188.5,-166.5 2188.5,-202.5 2370.5,-202.5 2370.5,-166.5 2188.5,-166.5\"/>\n<text text-anchor=\"middle\" x=\"2198.5\" y=\"-180.8\" font-family=\"Times,serif\" font-size=\"14.00\"> </text>\n<polyline fill=\"none\" stroke=\"black\" points=\"2208.5,-166.5 2208.5,-202.5 \"/>\n<text text-anchor=\"middle\" x=\"2248.5\" y=\"-180.8\" font-family=\"Times,serif\" font-size=\"14.00\">data 1.8252</text>\n<polyline fill=\"none\" stroke=\"black\" points=\"2288.5,-166.5 2288.5,-202.5 \"/>\n<text text-anchor=\"middle\" x=\"2329.5\" y=\"-180.8\" font-family=\"Times,serif\" font-size=\"14.00\">grad 0.0000</text>\n</g>\n<!-- 140671680159312&#45;&gt;140671680162256+ -->\n<g id=\"edge167\" class=\"edge\">\n<title>140671680159312&#45;&gt;140671680162256+</title>\n<path fill=\"none\" stroke=\"black\" d=\"M2307.21,-202.62C2327.63,-217.66 2355.22,-240.7 2373,-266.5 2402.67,-309.54 2420.43,-368.64 2428.91,-402.88\"/>\n<polygon fill=\"black\" stroke=\"black\" points=\"2425.52,-403.75 2431.25,-412.66 2432.33,-402.12 2425.52,-403.75\"/>\n</g>\n<!-- 140671680159312+&#45;&gt;140671680159312 -->\n<g id=\"edge67\" class=\"edge\">\n<title>140671680159312+&#45;&gt;140671680159312</title>\n<path fill=\"none\" stroke=\"black\" d=\"M2149.86,-172.84C2158.13,-173.59 2167.83,-174.47 2178.14,-175.41\"/>\n<polygon fill=\"black\" stroke=\"black\" points=\"2177.91,-178.9 2188.18,-176.32 2178.54,-171.93 2177.91,-178.9\"/>\n</g>\n<!-- 140671680921232 -->\n<g id=\"node182\" class=\"node\">\n<title>140671680921232</title>\n<polygon fill=\"none\" stroke=\"black\" points=\"934,-632.5 934,-668.5 1121,-668.5 1121,-632.5 934,-632.5\"/>\n<text text-anchor=\"middle\" x=\"944\" y=\"-646.8\" font-family=\"Times,serif\" font-size=\"14.00\"> </text>\n<polyline fill=\"none\" stroke=\"black\" points=\"954,-632.5 954,-668.5 \"/>\n<text text-anchor=\"middle\" x=\"996.5\" y=\"-646.8\" font-family=\"Times,serif\" font-size=\"14.00\">data &#45;1.0000</text>\n<polyline fill=\"none\" stroke=\"black\" points=\"1039,-632.5 1039,-668.5 \"/>\n<text text-anchor=\"middle\" x=\"1080\" y=\"-646.8\" font-family=\"Times,serif\" font-size=\"14.00\">grad 0.0000</text>\n</g>\n<!-- 140671680921232&#45;&gt;140671680916688* -->\n<g id=\"edge77\" class=\"edge\">\n<title>140671680921232&#45;&gt;140671680916688*</title>\n<path fill=\"none\" stroke=\"black\" d=\"M1121.05,-650.5C1130.06,-650.5 1138.79,-650.5 1146.7,-650.5\"/>\n<polygon fill=\"black\" stroke=\"black\" points=\"1146.95,-654 1156.95,-650.5 1146.95,-647 1146.95,-654\"/>\n</g>\n<!-- 140671680913040 -->\n<g id=\"node183\" class=\"node\">\n<title>140671680913040</title>\n<polygon fill=\"none\" stroke=\"black\" points=\"2188.5,-962.5 2188.5,-998.5 2370.5,-998.5 2370.5,-962.5 2188.5,-962.5\"/>\n<text text-anchor=\"middle\" x=\"2198.5\" y=\"-976.8\" font-family=\"Times,serif\" font-size=\"14.00\"> </text>\n<polyline fill=\"none\" stroke=\"black\" points=\"2208.5,-962.5 2208.5,-998.5 \"/>\n<text text-anchor=\"middle\" x=\"2248.5\" y=\"-976.8\" font-family=\"Times,serif\" font-size=\"14.00\">data 0.2747</text>\n<polyline fill=\"none\" stroke=\"black\" points=\"2288.5,-962.5 2288.5,-998.5 \"/>\n<text text-anchor=\"middle\" x=\"2329.5\" y=\"-976.8\" font-family=\"Times,serif\" font-size=\"14.00\">grad 0.0000</text>\n</g>\n<!-- 140671680913040&#45;&gt;140671680164048* -->\n<g id=\"edge80\" class=\"edge\">\n<title>140671680913040&#45;&gt;140671680164048*</title>\n<path fill=\"none\" stroke=\"black\" d=\"M2347.14,-962.5C2355.91,-959.71 2364.73,-956.68 2373,-953.5 2383.74,-949.37 2395.17,-944.1 2405.25,-939.14\"/>\n<polygon fill=\"black\" stroke=\"black\" points=\"2407.07,-942.14 2414.43,-934.52 2403.93,-935.89 2407.07,-942.14\"/>\n</g>\n<!-- 140671681347280 -->\n<g id=\"node184\" class=\"node\">\n<title>140671681347280</title>\n<polygon fill=\"none\" stroke=\"black\" points=\"934,-577.5 934,-613.5 1121,-613.5 1121,-577.5 934,-577.5\"/>\n<text text-anchor=\"middle\" x=\"944\" y=\"-591.8\" font-family=\"Times,serif\" font-size=\"14.00\"> </text>\n<polyline fill=\"none\" stroke=\"black\" points=\"954,-577.5 954,-613.5 \"/>\n<text text-anchor=\"middle\" x=\"996.5\" y=\"-591.8\" font-family=\"Times,serif\" font-size=\"14.00\">data &#45;0.0214</text>\n<polyline fill=\"none\" stroke=\"black\" points=\"1039,-577.5 1039,-613.5 \"/>\n<text text-anchor=\"middle\" x=\"1080\" y=\"-591.8\" font-family=\"Times,serif\" font-size=\"14.00\">grad 0.0000</text>\n</g>\n<!-- 140671681347280&#45;&gt;140671680916688* -->\n<g id=\"edge163\" class=\"edge\">\n<title>140671681347280&#45;&gt;140671680916688*</title>\n<path fill=\"none\" stroke=\"black\" d=\"M1092.02,-613.65C1101.79,-616.76 1111.71,-620.08 1121,-623.5 1131.25,-627.27 1142.23,-631.86 1152.07,-636.18\"/>\n<polygon fill=\"black\" stroke=\"black\" points=\"1150.89,-639.49 1161.45,-640.37 1153.74,-633.1 1150.89,-639.49\"/>\n</g>\n<!-- 140671680913104 -->\n<g id=\"node185\" class=\"node\">\n<title>140671680913104</title>\n<polygon fill=\"none\" stroke=\"black\" points=\"310.5,-275.5 310.5,-311.5 492.5,-311.5 492.5,-275.5 310.5,-275.5\"/>\n<text text-anchor=\"middle\" x=\"320.5\" y=\"-289.8\" font-family=\"Times,serif\" font-size=\"14.00\"> </text>\n<polyline fill=\"none\" stroke=\"black\" points=\"330.5,-275.5 330.5,-311.5 \"/>\n<text text-anchor=\"middle\" x=\"370.5\" y=\"-289.8\" font-family=\"Times,serif\" font-size=\"14.00\">data 3.0000</text>\n<polyline fill=\"none\" stroke=\"black\" points=\"410.5,-275.5 410.5,-311.5 \"/>\n<text text-anchor=\"middle\" x=\"451.5\" y=\"-289.8\" font-family=\"Times,serif\" font-size=\"14.00\">grad 0.0000</text>\n</g>\n<!-- 140671680913104&#45;&gt;140671680916176* -->\n<g id=\"edge122\" class=\"edge\">\n<title>140671680913104&#45;&gt;140671680916176*</title>\n<path fill=\"none\" stroke=\"black\" d=\"M466.02,-311.65C475.79,-314.76 485.71,-318.08 495,-321.5 505.25,-325.27 516.23,-329.86 526.07,-334.18\"/>\n<polygon fill=\"black\" stroke=\"black\" points=\"524.89,-337.49 535.45,-338.37 527.74,-331.1 524.89,-337.49\"/>\n</g>\n<!-- 140671681298128 -->\n<g id=\"node186\" class=\"node\">\n<title>140671681298128</title>\n<polygon fill=\"none\" stroke=\"black\" points=\"1560,-962.5 1560,-998.5 1747,-998.5 1747,-962.5 1560,-962.5\"/>\n<text text-anchor=\"middle\" x=\"1570\" y=\"-976.8\" font-family=\"Times,serif\" font-size=\"14.00\"> </text>\n<polyline fill=\"none\" stroke=\"black\" points=\"1580,-962.5 1580,-998.5 \"/>\n<text text-anchor=\"middle\" x=\"1622.5\" y=\"-976.8\" font-family=\"Times,serif\" font-size=\"14.00\">data &#45;0.9830</text>\n<polyline fill=\"none\" stroke=\"black\" points=\"1665,-962.5 1665,-998.5 \"/>\n<text text-anchor=\"middle\" x=\"1706\" y=\"-976.8\" font-family=\"Times,serif\" font-size=\"14.00\">grad 0.0000</text>\n</g>\n<!-- 140671681298128&#45;&gt;140671681282960+ -->\n<g id=\"edge200\" class=\"edge\">\n<title>140671681298128&#45;&gt;140671681282960+</title>\n<path fill=\"none\" stroke=\"black\" d=\"M1720.56,-962.45C1729.51,-959.64 1738.53,-956.63 1747,-953.5 1757.49,-949.62 1768.71,-944.78 1778.68,-940.22\"/>\n<polygon fill=\"black\" stroke=\"black\" points=\"1780.2,-943.37 1787.79,-935.97 1777.25,-937.02 1780.2,-943.37\"/>\n</g>\n<!-- 140671681298128*&#45;&gt;140671681298128 -->\n<g id=\"edge68\" class=\"edge\">\n<title>140671681298128*&#45;&gt;140671681298128</title>\n<path fill=\"none\" stroke=\"black\" d=\"M1524.21,-980.5C1531.73,-980.5 1540.43,-980.5 1549.67,-980.5\"/>\n<polygon fill=\"black\" stroke=\"black\" points=\"1549.89,-984 1559.89,-980.5 1549.89,-977 1549.89,-984\"/>\n</g>\n<!-- 140671679995600 -->\n<g id=\"node188\" class=\"node\">\n<title>140671679995600</title>\n<polygon fill=\"none\" stroke=\"black\" points=\"3976.5,-372.5 3976.5,-408.5 4158.5,-408.5 4158.5,-372.5 3976.5,-372.5\"/>\n<text text-anchor=\"middle\" x=\"3986.5\" y=\"-386.8\" font-family=\"Times,serif\" font-size=\"14.00\"> </text>\n<polyline fill=\"none\" stroke=\"black\" points=\"3996.5,-372.5 3996.5,-408.5 \"/>\n<text text-anchor=\"middle\" x=\"4036.5\" y=\"-386.8\" font-family=\"Times,serif\" font-size=\"14.00\">data 0.5732</text>\n<polyline fill=\"none\" stroke=\"black\" points=\"4076.5,-372.5 4076.5,-408.5 \"/>\n<text text-anchor=\"middle\" x=\"4117.5\" y=\"-386.8\" font-family=\"Times,serif\" font-size=\"14.00\">grad 0.0000</text>\n</g>\n<!-- 140671679995600&#45;&gt;140671692338640+ -->\n<g id=\"edge100\" class=\"edge\">\n<title>140671679995600&#45;&gt;140671692338640+</title>\n<path fill=\"none\" stroke=\"black\" d=\"M4158.77,-399.84C4235.18,-406.95 4347.64,-415.5 4446,-415.5 4446,-415.5 4446,-415.5 4761,-415.5 4860.9,-415.5 4978.35,-427.45 5036.16,-434.12\"/>\n<polygon fill=\"black\" stroke=\"black\" points=\"5035.9,-437.62 5046.24,-435.3 5036.72,-430.66 5035.9,-437.62\"/>\n</g>\n<!-- 140671679995600*&#45;&gt;140671679995600 -->\n<g id=\"edge69\" class=\"edge\">\n<title>140671679995600*&#45;&gt;140671679995600</title>\n<path fill=\"none\" stroke=\"black\" d=\"M3714.95,-352.32C3765.85,-357.85 3881.22,-370.38 3965.97,-379.58\"/>\n<polygon fill=\"black\" stroke=\"black\" points=\"3965.83,-383.09 3976.15,-380.69 3966.58,-376.13 3965.83,-383.09\"/>\n</g>\n<!-- 140671681347344 -->\n<g id=\"node190\" class=\"node\">\n<title>140671681347344</title>\n<polygon fill=\"none\" stroke=\"black\" points=\"934,-0.5 934,-36.5 1121,-36.5 1121,-0.5 934,-0.5\"/>\n<text text-anchor=\"middle\" x=\"944\" y=\"-14.8\" font-family=\"Times,serif\" font-size=\"14.00\"> </text>\n<polyline fill=\"none\" stroke=\"black\" points=\"954,-0.5 954,-36.5 \"/>\n<text text-anchor=\"middle\" x=\"996.5\" y=\"-14.8\" font-family=\"Times,serif\" font-size=\"14.00\">data &#45;0.4893</text>\n<polyline fill=\"none\" stroke=\"black\" points=\"1039,-0.5 1039,-36.5 \"/>\n<text text-anchor=\"middle\" x=\"1080\" y=\"-14.8\" font-family=\"Times,serif\" font-size=\"14.00\">grad 0.0000</text>\n</g>\n<!-- 140671681347344&#45;&gt;140671681284688* -->\n<g id=\"edge206\" class=\"edge\">\n<title>140671681347344&#45;&gt;140671681284688*</title>\n<path fill=\"none\" stroke=\"black\" d=\"M1121.05,-34.67C1130.34,-36.3 1139.33,-37.87 1147.44,-39.29\"/>\n<polygon fill=\"black\" stroke=\"black\" points=\"1147.1,-42.78 1157.55,-41.05 1148.3,-35.88 1147.1,-42.78\"/>\n</g>\n<!-- 140671680913168 -->\n<g id=\"node191\" class=\"node\">\n<title>140671680913168</title>\n<polygon fill=\"none\" stroke=\"black\" points=\"936.5,-385.5 936.5,-421.5 1118.5,-421.5 1118.5,-385.5 936.5,-385.5\"/>\n<text text-anchor=\"middle\" x=\"946.5\" y=\"-399.8\" font-family=\"Times,serif\" font-size=\"14.00\"> </text>\n<polyline fill=\"none\" stroke=\"black\" points=\"956.5,-385.5 956.5,-421.5 \"/>\n<text text-anchor=\"middle\" x=\"996.5\" y=\"-399.8\" font-family=\"Times,serif\" font-size=\"14.00\">data 2.8955</text>\n<polyline fill=\"none\" stroke=\"black\" points=\"1036.5,-385.5 1036.5,-421.5 \"/>\n<text text-anchor=\"middle\" x=\"1077.5\" y=\"-399.8\" font-family=\"Times,serif\" font-size=\"14.00\">grad 0.0000</text>\n</g>\n<!-- 140671680913168&#45;&gt;140671680915984+ -->\n<g id=\"edge128\" class=\"edge\">\n<title>140671680913168&#45;&gt;140671680915984+</title>\n<path fill=\"none\" stroke=\"black\" d=\"M1118.82,-419.28C1129.07,-421.08 1139.01,-422.81 1147.88,-424.36\"/>\n<polygon fill=\"black\" stroke=\"black\" points=\"1147.3,-427.81 1157.75,-426.09 1148.5,-420.92 1147.3,-427.81\"/>\n</g>\n<!-- 140671680913168+&#45;&gt;140671680913168 -->\n<g id=\"edge70\" class=\"edge\">\n<title>140671680913168+&#45;&gt;140671680913168</title>\n<path fill=\"none\" stroke=\"black\" d=\"M898.21,-403.5C906.34,-403.5 915.85,-403.5 925.94,-403.5\"/>\n<polygon fill=\"black\" stroke=\"black\" points=\"926.19,-407 936.19,-403.5 926.19,-400 926.19,-407\"/>\n</g>\n<!-- 140671680159440 -->\n<g id=\"node193\" class=\"node\">\n<title>140671680159440</title>\n<polygon fill=\"none\" stroke=\"black\" points=\"2186,-412.5 2186,-448.5 2373,-448.5 2373,-412.5 2186,-412.5\"/>\n<text text-anchor=\"middle\" x=\"2196\" y=\"-426.8\" font-family=\"Times,serif\" font-size=\"14.00\"> </text>\n<polyline fill=\"none\" stroke=\"black\" points=\"2206,-412.5 2206,-448.5 \"/>\n<text text-anchor=\"middle\" x=\"2248.5\" y=\"-426.8\" font-family=\"Times,serif\" font-size=\"14.00\">data &#45;0.3466</text>\n<polyline fill=\"none\" stroke=\"black\" points=\"2291,-412.5 2291,-448.5 \"/>\n<text text-anchor=\"middle\" x=\"2332\" y=\"-426.8\" font-family=\"Times,serif\" font-size=\"14.00\">grad 0.0000</text>\n</g>\n<!-- 140671680159440&#45;&gt;140671680162256+ -->\n<g id=\"edge148\" class=\"edge\">\n<title>140671680159440&#45;&gt;140671680162256+</title>\n<path fill=\"none\" stroke=\"black\" d=\"M2373.05,-430.5C2382.06,-430.5 2390.79,-430.5 2398.7,-430.5\"/>\n<polygon fill=\"black\" stroke=\"black\" points=\"2398.95,-434 2408.95,-430.5 2398.95,-427 2398.95,-434\"/>\n</g>\n<!-- 140671680159440*&#45;&gt;140671680159440 -->\n<g id=\"edge71\" class=\"edge\">\n<title>140671680159440*&#45;&gt;140671680159440</title>\n<path fill=\"none\" stroke=\"black\" d=\"M2150.21,-430.5C2157.73,-430.5 2166.43,-430.5 2175.67,-430.5\"/>\n<polygon fill=\"black\" stroke=\"black\" points=\"2175.89,-434 2185.89,-430.5 2175.89,-427 2175.89,-434\"/>\n</g>\n<!-- 140671681249104 -->\n<g id=\"node195\" class=\"node\">\n<title>140671681249104</title>\n<polygon fill=\"none\" stroke=\"black\" points=\"2812,-249.5 2812,-285.5 2999,-285.5 2999,-249.5 2812,-249.5\"/>\n<text text-anchor=\"middle\" x=\"2822\" y=\"-263.8\" font-family=\"Times,serif\" font-size=\"14.00\"> </text>\n<polyline fill=\"none\" stroke=\"black\" points=\"2832,-249.5 2832,-285.5 \"/>\n<text text-anchor=\"middle\" x=\"2874.5\" y=\"-263.8\" font-family=\"Times,serif\" font-size=\"14.00\">data &#45;0.2453</text>\n<polyline fill=\"none\" stroke=\"black\" points=\"2917,-249.5 2917,-285.5 \"/>\n<text text-anchor=\"middle\" x=\"2958\" y=\"-263.8\" font-family=\"Times,serif\" font-size=\"14.00\">grad 0.0000</text>\n</g>\n<!-- 140671681249104&#45;&gt;140671681242256+ -->\n<g id=\"edge169\" class=\"edge\">\n<title>140671681249104&#45;&gt;140671681242256+</title>\n<path fill=\"none\" stroke=\"black\" d=\"M2999.05,-283.67C3008.34,-285.3 3017.33,-286.87 3025.44,-288.29\"/>\n<polygon fill=\"black\" stroke=\"black\" points=\"3025.1,-291.78 3035.55,-290.05 3026.3,-284.88 3025.1,-291.78\"/>\n</g>\n<!-- 140671681249104*&#45;&gt;140671681249104 -->\n<g id=\"edge72\" class=\"edge\">\n<title>140671681249104*&#45;&gt;140671681249104</title>\n<path fill=\"none\" stroke=\"black\" d=\"M2776.21,-267.5C2783.73,-267.5 2792.43,-267.5 2801.67,-267.5\"/>\n<polygon fill=\"black\" stroke=\"black\" points=\"2801.89,-271 2811.89,-267.5 2801.89,-264 2801.89,-271\"/>\n</g>\n<!-- 140671681347472 -->\n<g id=\"node197\" class=\"node\">\n<title>140671681347472</title>\n<polygon fill=\"none\" stroke=\"black\" points=\"1249.5,-192.5 1249.5,-228.5 1431.5,-228.5 1431.5,-192.5 1249.5,-192.5\"/>\n<text text-anchor=\"middle\" x=\"1259.5\" y=\"-206.8\" font-family=\"Times,serif\" font-size=\"14.00\"> </text>\n<polyline fill=\"none\" stroke=\"black\" points=\"1269.5,-192.5 1269.5,-228.5 \"/>\n<text text-anchor=\"middle\" x=\"1309.5\" y=\"-206.8\" font-family=\"Times,serif\" font-size=\"14.00\">data 0.0891</text>\n<polyline fill=\"none\" stroke=\"black\" points=\"1349.5,-192.5 1349.5,-228.5 \"/>\n<text text-anchor=\"middle\" x=\"1390.5\" y=\"-206.8\" font-family=\"Times,serif\" font-size=\"14.00\">grad 0.0000</text>\n</g>\n<!-- 140671681347472&#45;&gt;140671681284240* -->\n<g id=\"edge89\" class=\"edge\">\n<title>140671681347472&#45;&gt;140671681284240*</title>\n<path fill=\"none\" stroke=\"black\" d=\"M1405.02,-192.35C1414.79,-189.24 1424.71,-185.92 1434,-182.5 1444.25,-178.73 1455.23,-174.14 1465.07,-169.82\"/>\n<polygon fill=\"black\" stroke=\"black\" points=\"1466.74,-172.9 1474.45,-165.63 1463.89,-166.51 1466.74,-172.9\"/>\n</g>\n<!-- 140671681249232 -->\n<g id=\"node198\" class=\"node\">\n<title>140671681249232</title>\n<polygon fill=\"none\" stroke=\"black\" points=\"2814.5,-469.5 2814.5,-505.5 2996.5,-505.5 2996.5,-469.5 2814.5,-469.5\"/>\n<text text-anchor=\"middle\" x=\"2824.5\" y=\"-483.8\" font-family=\"Times,serif\" font-size=\"14.00\"> </text>\n<polyline fill=\"none\" stroke=\"black\" points=\"2834.5,-469.5 2834.5,-505.5 \"/>\n<text text-anchor=\"middle\" x=\"2874.5\" y=\"-483.8\" font-family=\"Times,serif\" font-size=\"14.00\">data 1.6657</text>\n<polyline fill=\"none\" stroke=\"black\" points=\"2914.5,-469.5 2914.5,-505.5 \"/>\n<text text-anchor=\"middle\" x=\"2955.5\" y=\"-483.8\" font-family=\"Times,serif\" font-size=\"14.00\">grad 0.0000</text>\n</g>\n<!-- 140671681249232&#45;&gt;140671681242256+ -->\n<g id=\"edge116\" class=\"edge\">\n<title>140671681249232&#45;&gt;140671681242256+</title>\n<path fill=\"none\" stroke=\"black\" d=\"M2987.32,-469.25C2991.51,-466.7 2995.45,-463.8 2999,-460.5 3009.56,-450.69 3037.88,-366.29 3052.31,-321.76\"/>\n<polygon fill=\"black\" stroke=\"black\" points=\"3055.67,-322.72 3055.41,-312.13 3049.01,-320.58 3055.67,-322.72\"/>\n</g>\n<!-- 140671681249232+&#45;&gt;140671681249232 -->\n<g id=\"edge73\" class=\"edge\">\n<title>140671681249232+&#45;&gt;140671681249232</title>\n<path fill=\"none\" stroke=\"black\" d=\"M2776.21,-487.5C2784.34,-487.5 2793.85,-487.5 2803.94,-487.5\"/>\n<polygon fill=\"black\" stroke=\"black\" points=\"2804.19,-491 2814.19,-487.5 2804.19,-484 2804.19,-491\"/>\n</g>\n</g>\n</svg>\n",
            "text/plain": [
              "<graphviz.graphs.Digraph at 0x7ff0ad922890>"
            ]
          },
          "metadata": {},
          "execution_count": 13
        }
      ],
      "source": [
        "# --- You can test your network here ---\n",
        "x = [2.0, 3.0, -1.0]\n",
        "n = MLP(3, [4, 4, 1])\n",
        "output = n(x)\n",
        "print(output)\n",
        "draw_dot(output)"
      ]
    },
    {
      "cell_type": "markdown",
      "id": "ce6f57f9",
      "metadata": {
        "id": "ce6f57f9"
      },
      "source": [
        "## Part 4: Training the Network\n",
        "\n",
        "Now for the exciting part! Let's train our network to fit some data. We'll use a simple dataset and the Mean Squared Error (MSE) loss function."
      ]
    },
    {
      "cell_type": "code",
      "execution_count": 14,
      "id": "5557cea4",
      "metadata": {
        "id": "5557cea4"
      },
      "outputs": [],
      "source": [
        "# Our dataset\n",
        "xs = [\n",
        "  [2.0, 3.0, -1.0],\n",
        "  [3.0, -1.0, 0.5],\n",
        "  [0.5, 1.0, 1.0],\n",
        "  [1.0, 1.0, -1.0],\n",
        "]\n",
        "ys = [1.0, -1.0, -1.0, 1.0] # desired targets\n",
        "\n",
        "# Initialize the network\n",
        "n = MLP(3, [4, 4, 1])\n",
        "\n",
        "#ALL OF THIS IS JUST AN ANITIALIZATION BUT I HAVEN'T FED IT TO THE MODEL YET"
      ]
    },
    {
      "cell_type": "code",
      "execution_count": 15,
      "id": "02f0cd74",
      "metadata": {
        "id": "02f0cd74"
      },
      "outputs": [],
      "source": [
        "# --- Complete Value Class (Provided) ---\n",
        "class Value:\n",
        "\n",
        "  def __init__(self, data, _children=(), _op='', label=''):\n",
        "    self.data = data\n",
        "    self.grad = 0.0\n",
        "    self._backward = lambda: None\n",
        "    self._prev = set(_children)\n",
        "    self._op = _op\n",
        "    self.label = label\n",
        "\n",
        "  def __repr__(self):\n",
        "    return f\"Value(data={self.data})\"\n",
        "\n",
        "  def __add__(self, other):\n",
        "    other = other if isinstance(other, Value) else Value(other)\n",
        "    out = Value(self.data + other.data, (self, other), '+')\n",
        "\n",
        "    def _backward():\n",
        "      self.grad += 1.0 * out.grad\n",
        "      other.grad += 1.0 * out.grad\n",
        "    out._backward = _backward\n",
        "\n",
        "    return out\n",
        "\n",
        "  def __mul__(self, other):\n",
        "    other = other if isinstance(other, Value) else Value(other)\n",
        "    out = Value(self.data * other.data, (self, other), '*')\n",
        "\n",
        "    def _backward():\n",
        "      self.grad += other.data * out.grad\n",
        "      other.grad += self.data * out.grad\n",
        "    out._backward = _backward\n",
        "\n",
        "    return out\n",
        "\n",
        "  def __pow__(self, other):\n",
        "    assert isinstance(other, (int, float)), \"only supporting int/float powers for now\"\n",
        "    out = Value(self.data**other, (self,), f'**{other}')\n",
        "\n",
        "    def _backward():\n",
        "        self.grad += other * (self.data ** (other - 1)) * out.grad\n",
        "    out._backward = _backward\n",
        "\n",
        "    return out\n",
        "\n",
        "  def __neg__(self): # -self\n",
        "        return self * -1\n",
        "\n",
        "  def __radd__(self, other): # other + self\n",
        "      return self + other\n",
        "\n",
        "  def __sub__(self, other): # self - other\n",
        "      return self + (-other)\n",
        "\n",
        "  def __rsub__(self, other): # other - self\n",
        "      return other + (-self)\n",
        "\n",
        "  def __rmul__(self, other): # other * self\n",
        "      return self * other\n",
        "\n",
        "  def __truediv__(self, other): # self / other\n",
        "      return self * other**-1\n",
        "\n",
        "  def __rtruediv__(self, other): # other / self\n",
        "      return other * self**-1\n",
        "\n",
        "  def tanh(self):\n",
        "    x = self.data\n",
        "    t = (math.exp(2*x) - 1)/(math.exp(2*x) + 1)\n",
        "    out = Value(t, (self, ), 'tanh')\n",
        "\n",
        "    def _backward():\n",
        "      self.grad += (1 - t**2) * out.grad\n",
        "    out._backward = _backward\n",
        "\n",
        "    return out\n",
        "\n",
        "  def sigmoid(self):\n",
        "    x = self.data\n",
        "    t = 1.0 / (1.0 + math.exp(-x))\n",
        "    out = Value(t, (self, ), 'sigmoid')\n",
        "\n",
        "    def _backward():\n",
        "      self.grad += t * (1-t) * out.grad\n",
        "    out._backward = _backward\n",
        "\n",
        "    return out\n",
        "\n",
        "  def exp(self):\n",
        "    x = self.data\n",
        "    out = Value(math.exp(x), (self, ), 'exp')\n",
        "\n",
        "    def _backward():\n",
        "      self.grad += out.data * out.grad\n",
        "    out._backward = _backward\n",
        "\n",
        "    return out\n",
        "\n",
        "\n",
        "  def backward(self):\n",
        "    topo = []\n",
        "    visited = set()\n",
        "    def build_topo(v):\n",
        "      if v not in visited:\n",
        "        visited.add(v)\n",
        "        for child in v._prev:\n",
        "          build_topo(child)\n",
        "        topo.append(v)\n",
        "    build_topo(self)\n",
        "\n",
        "    self.grad = 1.0\n",
        "    for node in reversed(topo):\n",
        "      node._backward()\n"
      ]
    },
    {
      "cell_type": "markdown",
      "id": "4b2af8e2",
      "metadata": {
        "id": "4b2af8e2"
      },
      "source": [
        "The training loop consists of four main steps:\n",
        "1.  **Forward Pass:** Get predictions from the network.\n",
        "2.  **Compute Loss:** See how wrong the predictions are.\n",
        "3.  **Backward Pass:** Compute gradients for all parameters.\n",
        "4.  **Update Parameters:** Nudge the parameters in the opposite direction of their gradient."
      ]
    },
    {
      "cell_type": "code",
      "execution_count": 16,
      "id": "bd7e7d36",
      "metadata": {
        "colab": {
          "base_uri": "https://localhost:8080/"
        },
        "id": "bd7e7d36",
        "outputId": "23c95ef6-4275-42b5-a7c5-246c92bbce1d"
      },
      "outputs": [
        {
          "output_type": "stream",
          "name": "stdout",
          "text": [
            "Epoch 1 Loss 4.6223\n",
            "Epoch 2 Loss 2.6115\n",
            "Epoch 3 Loss 2.2057\n",
            "Epoch 4 Loss 1.9224\n",
            "Epoch 5 Loss 1.5649\n",
            "Epoch 6 Loss 1.1758\n",
            "Epoch 7 Loss 0.8387\n",
            "Epoch 8 Loss 0.5991\n",
            "Epoch 9 Loss 0.4409\n",
            "Epoch 10 Loss 0.3370\n",
            "Epoch 11 Loss 0.2666\n",
            "Epoch 12 Loss 0.2171\n",
            "Epoch 13 Loss 0.1810\n",
            "Epoch 14 Loss 0.1540\n",
            "Epoch 15 Loss 0.1332\n",
            "Epoch 16 Loss 0.1169\n",
            "Epoch 17 Loss 0.1038\n",
            "Epoch 18 Loss 0.0932\n",
            "Epoch 19 Loss 0.0844\n",
            "Epoch 20 Loss 0.0770\n"
          ]
        }
      ],
      "source": [
        "# TASK 4.1: Complete the training loop.\n",
        "n_epochs = 20\n",
        "lr = 0.05  # learning rate\n",
        "\n",
        "for epoch in range(n_epochs):\n",
        "    # 1. Forward Pass\n",
        "    # TODO: Get predictions for each input in xs\n",
        "    ypred = [n(x) for x in xs] # This should be a list of the network's outputs\n",
        "    # by doing this it is guaranteed now that i fed the input to the model\n",
        "\n",
        "    # 2. Compute Loss (Mean Squared Error)\n",
        "    # The formula is: sum((yout - ygt)**2 for ygt, yout in zip(ys, ypred))\n",
        "    # We will use the full `Value` class from above for this, which supports more operations.\n",
        "    # For now, let's assume `loss` is a `Value` object representing the MSE.\n",
        "    loss = sum((yout - ygt)**2 for ygt, yout in zip(ys, ypred))\n",
        "\n",
        "    # 3. Backward Pass\n",
        "    # TODO: First, zero out the old gradients.\n",
        "    n.zero_grad() #intializing each grad for each neuron = 0\n",
        "    loss.backward() # calling the backward function\n",
        "\n",
        "    # TODO: Then, run the backward pass to compute new gradients.\n",
        "    # computing the gradients -> doing the learning algo = gradient descent\n",
        "\n",
        "    # 4. Update Parameters\n",
        "    # TODO: Loop through all parameters `p` in the network and update their data. -> updating parameters\n",
        "    for p in n.parameters():\n",
        "      p.data += -lr * p.grad\n",
        "\n",
        "    print(f'Epoch {epoch+1} Loss {loss.data:.4f}')"
      ]
    },
    {
      "cell_type": "markdown",
      "id": "6053f6e1",
      "metadata": {
        "id": "6053f6e1"
      },
      "source": [
        "## Part 5: Capstone Project - Handwritten Digit Recognition\n",
        "\n",
        "It's time to put everything together and tackle a real problem: recognizing handwritten digits from the famous MNIST dataset.\n",
        "\n",
        "\n",
        "### 5.1 Loading and Preparing the Data\n",
        "\n",
        "*(This code is provided for you)*"
      ]
    },
    {
      "cell_type": "code",
      "execution_count": 17,
      "id": "51d44b99",
      "metadata": {
        "colab": {
          "base_uri": "https://localhost:8080/"
        },
        "id": "51d44b99",
        "outputId": "28118261-c219-4340-8280-ca6175af47ee"
      },
      "outputs": [
        {
          "output_type": "stream",
          "name": "stdout",
          "text": [
            "Training data shape: (1437, 64)\n",
            "Test data shape: (360, 64)\n"
          ]
        }
      ],
      "source": [
        "from sklearn import datasets\n",
        "from sklearn.model_selection import train_test_split\n",
        "\n",
        "digits = datasets.load_digits()\n",
        "n_samples = len(digits.images)\n",
        "data = digits.images.reshape((n_samples, -1)) # Flatten images to 64-element vectors\n",
        "\n",
        "X_train, X_test, y_train, y_test = train_test_split(\n",
        "    data, digits.target, test_size=0.2, shuffle=True, random_state=42\n",
        ")\n",
        "\n",
        "# Normalize pixel values to be between 0 and 1\n",
        "X_train /= 16.0\n",
        "X_test /= 16.0\n",
        "\n",
        "# One-hot encode the labels\n",
        "def one_hot_encode(y, num_classes):\n",
        "    one_hot = np.zeros((len(y), num_classes))\n",
        "    one_hot[np.arange(len(y)), y] = 1\n",
        "    return one_hot\n",
        "\n",
        "num_classes = 10\n",
        "y_train_one_hot = one_hot_encode(y_train, num_classes)\n",
        "\n",
        "print(f\"Training data shape: {X_train.shape}\") # 1437 samples, 64 features each\n",
        "print(f\"Test data shape: {X_test.shape}\")   # 360 samples, 64 features each"
      ]
    },
    {
      "cell_type": "markdown",
      "id": "649a928a",
      "metadata": {
        "id": "649a928a"
      },
      "source": [
        "### 5.2 Building and Training the Digit Recognizer\n",
        "\n",
        "Our network will take a 64-pixel image as input and have 10 output neurons, one for each digit (0-9)."
      ]
    },
    {
      "cell_type": "code",
      "execution_count": 18,
      "id": "ea579d10",
      "metadata": {
        "colab": {
          "base_uri": "https://localhost:8080/"
        },
        "id": "ea579d10",
        "outputId": "1a23b847-1f53-475d-e5c7-1d5b9be65366"
      },
      "outputs": [
        {
          "output_type": "stream",
          "name": "stdout",
          "text": [
            "Number of parameters: 2410\n"
          ]
        }
      ],
      "source": [
        "# Network architecture: 64 inputs -> 32 neuron hidden layer -> 10 output neurons\n",
        "# You can try changing the architecture, but this is a good starting point.\n",
        "neural_network = MLP(64, [32, 10])\n",
        "print(f\"Number of parameters: {len(neural_network.parameters())}\")  # (64*32 +32 bias)+ (32*10 +10 bias) sometimes the bias is ignored but in large models like vgg16\n",
        "\n",
        "# Helper function for batching (provided)\n",
        "def create_batches(X, y, batch_size):\n",
        "    indices = np.arange(len(X))\n",
        "    np.random.shuffle(indices)\n",
        "    for start_idx in range(0, len(X), batch_size):\n",
        "        end_idx = min(start_idx + batch_size, len(X))\n",
        "        batch_indices = indices[start_idx:end_idx]\n",
        "        yield X[batch_indices], y[batch_indices]"
      ]
    },
    {
      "cell_type": "code",
      "execution_count": 19,
      "id": "2029685a",
      "metadata": {
        "colab": {
          "base_uri": "https://localhost:8080/"
        },
        "id": "2029685a",
        "outputId": "f84e5439-1911-4321-a356-68a73d966240"
      },
      "outputs": [
        {
          "output_type": "stream",
          "name": "stdout",
          "text": [
            "Epoch 1, Average Loss: 8.9425\n",
            "Epoch 2, Average Loss: 8.9429\n",
            "Epoch 3, Average Loss: 8.9412\n",
            "Epoch 4, Average Loss: 8.9419\n",
            "Epoch 5, Average Loss: 8.9425\n",
            "Epoch 6, Average Loss: 8.9424\n",
            "Epoch 7, Average Loss: 8.9414\n",
            "Epoch 8, Average Loss: 8.9408\n",
            "Epoch 9, Average Loss: 8.9421\n",
            "Epoch 10, Average Loss: 8.9411\n"
          ]
        }
      ],
      "source": [
        "# TASK 5.1: Complete the training loop for the digit recognizer.\n",
        "lr = 1.0\n",
        "batch_size = 32\n",
        "n_epochs = 10\n",
        "\n",
        "for epoch in range(n_epochs):\n",
        "    epoch_loss = 0\n",
        "\n",
        "    for X_batch, y_batch in create_batches(X_train, y_train_one_hot, batch_size):\n",
        "\n",
        "        # 1. Forward Pass\n",
        "        # TODO: Get predictions for each sample in the batch\n",
        "        # Note: The network expects inputs as lists of Value objects nottt a numerical value\n",
        "        inputs = [list(map(Value, xrow)) for xrow in X_batch]\n",
        "        ypred_batch = [neural_network(x) for x in inputs] # get the output form each neuron\n",
        "\n",
        "        # 2. Compute Loss for the batch\n",
        "        # TODO: Calculate the MSE loss for the batch\n",
        "        # The true labels `y_batch` also need to be converted to Value objects for the subtraction\n",
        "        loss = Value(0.0)\n",
        "        #for converting each y into a Value obj\n",
        "        for y_predrow , y_truerow in zip(ypred_batch , y_batch) :\n",
        "          ytrue_values = [Value(y) for y in y_truerow]\n",
        "          loss += sum ((y_pred - y_true)**2 for y_pred , y_true in zip(y_predrow , ytrue_values))\n",
        "\n",
        "        loss = loss / len(ypred_batch) # because it is a MSE so i have to summ and divide it on the total number of samples\n",
        "          #this means convert the y_batch into a y_batch value obj\n",
        "          #then get these encoded labels and compare it w the predicted encoded labels and make them squared to prevent negtivity\n",
        "          #actually i used to deal with the loss with avg from the beggining but now i discovered that putting it at the end wasmore cleaener and easier\n",
        "\n",
        "\n",
        "\n",
        "\n",
        "        # 3. Backward Pass\n",
        "        # TODO: Zero gradients and backpropagate\n",
        "        neural_network.zero_grad()\n",
        "        loss.backward()\n",
        "\n",
        "\n",
        "        # 4. Update Parameters\n",
        "        # TODO: Update weights and biases\n",
        "        for p in neural_network.parameters():\n",
        "          p += -lr + p.grad\n",
        "\n",
        "        epoch_loss += loss.data\n",
        "\n",
        "    print(f\"Epoch {epoch + 1}, Average Loss: {epoch_loss / (len(X_train)/batch_size):.4f}\")\n",
        "    # Decrease learning rate over time\n",
        "    lr *= 0.9"
      ]
    },
    {
      "cell_type": "markdown",
      "id": "8afe4a0a",
      "metadata": {
        "id": "8afe4a0a"
      },
      "source": [
        "### 5.3 Evaluating the Network\n",
        "\n",
        "Let's see how well our trained model performs on the test set!\n",
        "\n",
        "*(Evaluation code is provided for you)*"
      ]
    },
    {
      "cell_type": "code",
      "execution_count": 20,
      "id": "26c7d4da",
      "metadata": {
        "colab": {
          "base_uri": "https://localhost:8080/"
        },
        "id": "26c7d4da",
        "outputId": "867f35d6-6bb0-41c6-9441-e965461b297e"
      },
      "outputs": [
        {
          "output_type": "stream",
          "name": "stdout",
          "text": [
            "\n",
            "Test Accuracy: 8.06%\n"
          ]
        }
      ],
      "source": [
        "def evaluate_model(model, X_test, y_test):\n",
        "    correct = 0\n",
        "    total = len(X_test)\n",
        "\n",
        "    inputs = [list(map(Value, xrow)) for xrow in X_test]\n",
        "\n",
        "    for i in range(total):\n",
        "        # Get prediction from the network\n",
        "        outputs = model(inputs[i])\n",
        "        predicted_class = np.argmax([p.data for p in outputs])\n",
        "\n",
        "        if predicted_class == y_test[i]:\n",
        "            correct += 1\n",
        "\n",
        "    accuracy = correct / total\n",
        "    print(f\"\\nTest Accuracy: {accuracy * 100:.2f}%\")\n",
        "\n",
        "evaluate_model(neural_network, X_test, y_test)"
      ]
    },
    {
      "cell_type": "code",
      "execution_count": 21,
      "id": "a58b96bd",
      "metadata": {
        "colab": {
          "base_uri": "https://localhost:8080/",
          "height": 428
        },
        "id": "a58b96bd",
        "outputId": "c4ca6706-b480-4475-f441-0345854fdcea"
      },
      "outputs": [
        {
          "output_type": "display_data",
          "data": {
            "text/plain": [
              "<Figure size 640x480 with 1 Axes>"
            ],
            "image/png": "[encoded data removed]"
          },
          "metadata": {}
        }
      ],
      "source": [
        "def show_sample_with_output(model, X_test, y_test, sample_index):\n",
        "    sample = X_test[sample_index]\n",
        "    true_class = y_test[sample_index]\n",
        "\n",
        "    input_value = list(map(Value, sample))\n",
        "    outputs = model(input_value)\n",
        "    predicted_class = np.argmax([p.data for p in outputs])\n",
        "\n",
        "    plt.imshow(sample.reshape(8, 8), cmap=plt.cm.gray_r)\n",
        "    plt.title(f\"True: {true_class}, Predicted: {predicted_class}\")\n",
        "    plt.axis('off')\n",
        "    plt.show()\n",
        "\n",
        "# Show a random sample from the test set\n",
        "show_sample_with_output(neural_network, X_test, y_test, sample_index=random.randint(0, X_test.shape[0]-1))"
      ]
    },
    {
      "cell_type": "markdown",
      "id": "3cd754bc",
      "metadata": {
        "id": "3cd754bc"
      },
      "source": [
        "## Part 6: Putting It All Together with PyTorch\n",
        "\n",
        "You've done the hard work. You've built an entire automatic differentiation engine and neural network library from scratch. Now, let's see how modern deep learning frameworks like **PyTorch** allow us to do the same thing with much less code.\n",
        "\n",
        "This final task is to solve the same handwritten digit recognition problem, but this time using the tools provided by PyTorch. You will notice many parallels to the `Module`, `Layer`, and `Value` objects you created.\n",
        "\n",
        "First, you'll need to install PyTorch if you haven't already:"
      ]
    },
    {
      "cell_type": "code",
      "execution_count": 22,
      "id": "5f3d1175",
      "metadata": {
        "colab": {
          "base_uri": "https://localhost:8080/"
        },
        "id": "5f3d1175",
        "outputId": "fec0aad8-7c24-42cf-a749-eb42ffbdedc2"
      },
      "outputs": [
        {
          "output_type": "stream",
          "name": "stdout",
          "text": [
            "Requirement already satisfied: torch in /usr/local/lib/python3.11/dist-packages (2.6.0+cu124)\n",
            "Requirement already satisfied: torchvision in /usr/local/lib/python3.11/dist-packages (0.21.0+cu124)\n",
            "Requirement already satisfied: filelock in /usr/local/lib/python3.11/dist-packages (from torch) (3.18.0)\n",
            "Requirement already satisfied: typing-extensions>=4.10.0 in /usr/local/lib/python3.11/dist-packages (from torch) (4.14.1)\n",
            "Requirement already satisfied: networkx in /usr/local/lib/python3.11/dist-packages (from torch) (3.5)\n",
            "Requirement already satisfied: jinja2 in /usr/local/lib/python3.11/dist-packages (from torch) (3.1.6)\n",
            "Requirement already satisfied: fsspec in /usr/local/lib/python3.11/dist-packages (from torch) (2025.3.0)\n",
            "Collecting nvidia-cuda-nvrtc-cu12==12.4.127 (from torch)\n",
            "  Downloading nvidia_cuda_nvrtc_cu12-12.4.127-py3-none-manylinux2014_x86_64.whl.metadata (1.5 kB)\n",
            "Collecting nvidia-cuda-runtime-cu12==12.4.127 (from torch)\n",
            "  Downloading nvidia_cuda_runtime_cu12-12.4.127-py3-none-manylinux2014_x86_64.whl.metadata (1.5 kB)\n",
            "Collecting nvidia-cuda-cupti-cu12==12.4.127 (from torch)\n",
            "  Downloading nvidia_cuda_cupti_cu12-12.4.127-py3-none-manylinux2014_x86_64.whl.metadata (1.6 kB)\n",
            "Collecting nvidia-cudnn-cu12==9.1.0.70 (from torch)\n",
            "  Downloading nvidia_cudnn_cu12-9.1.0.70-py3-none-manylinux2014_x86_64.whl.metadata (1.6 kB)\n",
            "Collecting nvidia-cublas-cu12==12.4.5.8 (from torch)\n",
            "  Downloading nvidia_cublas_cu12-12.4.5.8-py3-none-manylinux2014_x86_64.whl.metadata (1.5 kB)\n",
            "Collecting nvidia-cufft-cu12==11.2.1.3 (from torch)\n",
            "  Downloading nvidia_cufft_cu12-11.2.1.3-py3-none-manylinux2014_x86_64.whl.metadata (1.5 kB)\n",
            "Collecting nvidia-curand-cu12==10.3.5.147 (from torch)\n",
            "  Downloading nvidia_curand_cu12-10.3.5.147-py3-none-manylinux2014_x86_64.whl.metadata (1.5 kB)\n",
            "Collecting nvidia-cusolver-cu12==11.6.1.9 (from torch)\n",
            "  Downloading nvidia_cusolver_cu12-11.6.1.9-py3-none-manylinux2014_x86_64.whl.metadata (1.6 kB)\n",
            "Collecting nvidia-cusparse-cu12==12.3.1.170 (from torch)\n",
            "  Downloading nvidia_cusparse_cu12-12.3.1.170-py3-none-manylinux2014_x86_64.whl.metadata (1.6 kB)\n",
            "Requirement already satisfied: nvidia-cusparselt-cu12==0.6.2 in /usr/local/lib/python3.11/dist-packages (from torch) (0.6.2)\n",
            "Collecting nvidia-nccl-cu12==2.21.5 (from torch)\n",
            "  Downloading nvidia_nccl_cu12-2.21.5-py3-none-manylinux2014_x86_64.whl.metadata (1.8 kB)\n",
            "Requirement already satisfied: nvidia-nvtx-cu12==12.4.127 in /usr/local/lib/python3.11/dist-packages (from torch) (12.4.127)\n",
            "Collecting nvidia-nvjitlink-cu12==12.4.127 (from torch)\n",
            "  Downloading nvidia_nvjitlink_cu12-12.4.127-py3-none-manylinux2014_x86_64.whl.metadata (1.5 kB)\n",
            "Requirement already satisfied: triton==3.2.0 in /usr/local/lib/python3.11/dist-packages (from torch) (3.2.0)\n",
            "Requirement already satisfied: sympy==1.13.1 in /usr/local/lib/python3.11/dist-packages (from torch) (1.13.1)\n",
            "Requirement already satisfied: mpmath<1.4,>=1.1.0 in /usr/local/lib/python3.11/dist-packages (from sympy==1.13.1->torch) (1.3.0)\n",
            "Requirement already satisfied: numpy in /usr/local/lib/python3.11/dist-packages (from torchvision) (2.0.2)\n",
            "Requirement already satisfied: pillow!=8.3.*,>=5.3.0 in /usr/local/lib/python3.11/dist-packages (from torchvision) (11.3.0)\n",
            "Requirement already satisfied: MarkupSafe>=2.0 in /usr/local/lib/python3.11/dist-packages (from jinja2->torch) (3.0.2)\n",
            "Downloading nvidia_cublas_cu12-12.4.5.8-py3-none-manylinux2014_x86_64.whl (363.4 MB)\n",
            "\u001b[2K   \u001b[90m━━━━━━━━━━━━━━━━━━━━━━━━━━━━━━━━━━━━━━━━\u001b[0m \u001b[32m363.4/363.4 MB\u001b[0m \u001b[31m4.7 MB/s\u001b[0m eta \u001b[36m0:00:00\u001b[0m\n",
            "\u001b[?25hDownloading nvidia_cuda_cupti_cu12-12.4.127-py3-none-manylinux2014_x86_64.whl (13.8 MB)\n",
            "\u001b[2K   \u001b[90m━━━━━━━━━━━━━━━━━━━━━━━━━━━━━━━━━━━━━━━━\u001b[0m \u001b[32m13.8/13.8 MB\u001b[0m \u001b[31m75.6 MB/s\u001b[0m eta \u001b[36m0:00:00\u001b[0m\n",
            "\u001b[?25hDownloading nvidia_cuda_nvrtc_cu12-12.4.127-py3-none-manylinux2014_x86_64.whl (24.6 MB)\n",
            "\u001b[2K   \u001b[90m━━━━━━━━━━━━━━━━━━━━━━━━━━━━━━━━━━━━━━━━\u001b[0m \u001b[32m24.6/24.6 MB\u001b[0m \u001b[31m70.2 MB/s\u001b[0m eta \u001b[36m0:00:00\u001b[0m\n",
            "\u001b[?25hDownloading nvidia_cuda_runtime_cu12-12.4.127-py3-none-manylinux2014_x86_64.whl (883 kB)\n",
            "\u001b[2K   \u001b[90m━━━━━━━━━━━━━━━━━━━━━━━━━━━━━━━━━━━━━━━━\u001b[0m \u001b[32m883.7/883.7 kB\u001b[0m \u001b[31m39.7 MB/s\u001b[0m eta \u001b[36m0:00:00\u001b[0m\n",
            "\u001b[?25hDownloading nvidia_cudnn_cu12-9.1.0.70-py3-none-manylinux2014_x86_64.whl (664.8 MB)\n",
            "\u001b[2K   \u001b[90m━━━━━━━━━━━━━━━━━━━━━━━━━━━━━━━━━━━━━━━━\u001b[0m \u001b[32m664.8/664.8 MB\u001b[0m \u001b[31m2.1 MB/s\u001b[0m eta \u001b[36m0:00:00\u001b[0m\n",
            "\u001b[?25hDownloading nvidia_cufft_cu12-11.2.1.3-py3-none-manylinux2014_x86_64.whl (211.5 MB)\n",
            "\u001b[2K   \u001b[90m━━━━━━━━━━━━━━━━━━━━━━━━━━━━━━━━━━━━━━━━\u001b[0m \u001b[32m211.5/211.5 MB\u001b[0m \u001b[31m6.6 MB/s\u001b[0m eta \u001b[36m0:00:00\u001b[0m\n",
            "\u001b[?25hDownloading nvidia_curand_cu12-10.3.5.147-py3-none-manylinux2014_x86_64.whl (56.3 MB)\n",
            "\u001b[2K   \u001b[90m━━━━━━━━━━━━━━━━━━━━━━━━━━━━━━━━━━━━━━━━\u001b[0m \u001b[32m56.3/56.3 MB\u001b[0m \u001b[31m14.4 MB/s\u001b[0m eta \u001b[36m0:00:00\u001b[0m\n",
            "\u001b[?25hDownloading nvidia_cusolver_cu12-11.6.1.9-py3-none-manylinux2014_x86_64.whl (127.9 MB)\n",
            "\u001b[2K   \u001b[90m━━━━━━━━━━━━━━━━━━━━━━━━━━━━━━━━━━━━━━━━\u001b[0m \u001b[32m127.9/127.9 MB\u001b[0m \u001b[31m7.7 MB/s\u001b[0m eta \u001b[36m0:00:00\u001b[0m\n",
            "\u001b[?25hDownloading nvidia_cusparse_cu12-12.3.1.170-py3-none-manylinux2014_x86_64.whl (207.5 MB)\n",
            "\u001b[2K   \u001b[90m━━━━━━━━━━━━━━━━━━━━━━━━━━━━━━━━━━━━━━━━\u001b[0m \u001b[32m207.5/207.5 MB\u001b[0m \u001b[31m6.1 MB/s\u001b[0m eta \u001b[36m0:00:00\u001b[0m\n",
            "\u001b[?25hDownloading nvidia_nccl_cu12-2.21.5-py3-none-manylinux2014_x86_64.whl (188.7 MB)\n",
            "\u001b[2K   \u001b[90m━━━━━━━━━━━━━━━━━━━━━━━━━━━━━━━━━━━━━━━━\u001b[0m \u001b[32m188.7/188.7 MB\u001b[0m \u001b[31m5.7 MB/s\u001b[0m eta \u001b[36m0:00:00\u001b[0m\n",
            "\u001b[?25hDownloading nvidia_nvjitlink_cu12-12.4.127-py3-none-manylinux2014_x86_64.whl (21.1 MB)\n",
            "\u001b[2K   \u001b[90m━━━━━━━━━━━━━━━━━━━━━━━━━━━━━━━━━━━━━━━━\u001b[0m \u001b[32m21.1/21.1 MB\u001b[0m \u001b[31m53.3 MB/s\u001b[0m eta \u001b[36m0:00:00\u001b[0m\n",
            "\u001b[?25hInstalling collected packages: nvidia-nvjitlink-cu12, nvidia-nccl-cu12, nvidia-curand-cu12, nvidia-cufft-cu12, nvidia-cuda-runtime-cu12, nvidia-cuda-nvrtc-cu12, nvidia-cuda-cupti-cu12, nvidia-cublas-cu12, nvidia-cusparse-cu12, nvidia-cudnn-cu12, nvidia-cusolver-cu12\n",
            "  Attempting uninstall: nvidia-nvjitlink-cu12\n",
            "    Found existing installation: nvidia-nvjitlink-cu12 12.5.82\n",
            "    Uninstalling nvidia-nvjitlink-cu12-12.5.82:\n",
            "      Successfully uninstalled nvidia-nvjitlink-cu12-12.5.82\n",
            "  Attempting uninstall: nvidia-nccl-cu12\n",
            "    Found existing installation: nvidia-nccl-cu12 2.23.4\n",
            "    Uninstalling nvidia-nccl-cu12-2.23.4:\n",
            "      Successfully uninstalled nvidia-nccl-cu12-2.23.4\n",
            "  Attempting uninstall: nvidia-curand-cu12\n",
            "    Found existing installation: nvidia-curand-cu12 10.3.6.82\n",
            "    Uninstalling nvidia-curand-cu12-10.3.6.82:\n",
            "      Successfully uninstalled nvidia-curand-cu12-10.3.6.82\n",
            "  Attempting uninstall: nvidia-cufft-cu12\n",
            "    Found existing installation: nvidia-cufft-cu12 11.2.3.61\n",
            "    Uninstalling nvidia-cufft-cu12-11.2.3.61:\n",
            "      Successfully uninstalled nvidia-cufft-cu12-11.2.3.61\n",
            "  Attempting uninstall: nvidia-cuda-runtime-cu12\n",
            "    Found existing installation: nvidia-cuda-runtime-cu12 12.5.82\n",
            "    Uninstalling nvidia-cuda-runtime-cu12-12.5.82:\n",
            "      Successfully uninstalled nvidia-cuda-runtime-cu12-12.5.82\n",
            "  Attempting uninstall: nvidia-cuda-nvrtc-cu12\n",
            "    Found existing installation: nvidia-cuda-nvrtc-cu12 12.5.82\n",
            "    Uninstalling nvidia-cuda-nvrtc-cu12-12.5.82:\n",
            "      Successfully uninstalled nvidia-cuda-nvrtc-cu12-12.5.82\n",
            "  Attempting uninstall: nvidia-cuda-cupti-cu12\n",
            "    Found existing installation: nvidia-cuda-cupti-cu12 12.5.82\n",
            "    Uninstalling nvidia-cuda-cupti-cu12-12.5.82:\n",
            "      Successfully uninstalled nvidia-cuda-cupti-cu12-12.5.82\n",
            "  Attempting uninstall: nvidia-cublas-cu12\n",
            "    Found existing installation: nvidia-cublas-cu12 12.5.3.2\n",
            "    Uninstalling nvidia-cublas-cu12-12.5.3.2:\n",
            "      Successfully uninstalled nvidia-cublas-cu12-12.5.3.2\n",
            "  Attempting uninstall: nvidia-cusparse-cu12\n",
            "    Found existing installation: nvidia-cusparse-cu12 12.5.1.3\n",
            "    Uninstalling nvidia-cusparse-cu12-12.5.1.3:\n",
            "      Successfully uninstalled nvidia-cusparse-cu12-12.5.1.3\n",
            "  Attempting uninstall: nvidia-cudnn-cu12\n",
            "    Found existing installation: nvidia-cudnn-cu12 9.3.0.75\n",
            "    Uninstalling nvidia-cudnn-cu12-9.3.0.75:\n",
            "      Successfully uninstalled nvidia-cudnn-cu12-9.3.0.75\n",
            "  Attempting uninstall: nvidia-cusolver-cu12\n",
            "    Found existing installation: nvidia-cusolver-cu12 11.6.3.83\n",
            "    Uninstalling nvidia-cusolver-cu12-11.6.3.83:\n",
            "      Successfully uninstalled nvidia-cusolver-cu12-11.6.3.83\n",
            "Successfully installed nvidia-cublas-cu12-12.4.5.8 nvidia-cuda-cupti-cu12-12.4.127 nvidia-cuda-nvrtc-cu12-12.4.127 nvidia-cuda-runtime-cu12-12.4.127 nvidia-cudnn-cu12-9.1.0.70 nvidia-cufft-cu12-11.2.1.3 nvidia-curand-cu12-10.3.5.147 nvidia-cusolver-cu12-11.6.1.9 nvidia-cusparse-cu12-12.3.1.170 nvidia-nccl-cu12-2.21.5 nvidia-nvjitlink-cu12-12.4.127\n"
          ]
        }
      ],
      "source": [
        "%pip install torch torchvision"
      ]
    },
    {
      "cell_type": "markdown",
      "id": "4eae9194",
      "metadata": {
        "id": "4eae9194"
      },
      "source": [
        "### 6.1 Data Preparation with PyTorch\n",
        "\n",
        "PyTorch has its own data structures for handling data and creating batches efficiently. The first step is to convert our NumPy arrays into PyTorch `Tensors`.\n"
      ]
    },
    {
      "cell_type": "code",
      "execution_count": 23,
      "id": "35abe225",
      "metadata": {
        "colab": {
          "base_uri": "https://localhost:8080/"
        },
        "id": "35abe225",
        "outputId": "ba235c52-597a-40e2-c25f-cb45f845a23d"
      },
      "outputs": [
        {
          "output_type": "stream",
          "name": "stdout",
          "text": [
            "Data batch shape: torch.Size([32, 64])\n",
            "Labels batch shape: torch.Size([32])\n"
          ]
        }
      ],
      "source": [
        "import torch\n",
        "import torch.nn as nn\n",
        "import torch.optim as optim\n",
        "from torch.utils.data import TensorDataset, DataLoader\n",
        "\n",
        "# TASK 6.1: Convert data to PyTorch Tensors and create DataLoaders.\n",
        "\n",
        "# --- Prepare the training data ---\n",
        "# 1. Convert training features and labels from NumPy arrays to PyTorch Tensors.\n",
        "#    Use torch.from_numpy(). Remember to convert them to the correct data type (.float() for features, .long() for labels).\n",
        "X_train_tensor = torch.from_numpy(X_train).float()\n",
        "y_train_tensor = torch.from_numpy(y_train).long() #labels became int64 for classification\n",
        "\n",
        "\n",
        "# 2. Create a TensorDataset to bundle features and labels together = (image(features) , label (encoded)) in one place\n",
        "train_dataset =  TensorDataset(X_train_tensor , y_train_tensor)\n",
        "\n",
        "# 3. Create a DataLoader to handle batching and shuffling automatically.\n",
        "batch_size = 32\n",
        "train_loader = DataLoader(\n",
        "    train_dataset ,\n",
        "    shuffle = True,\n",
        "    batch_size = batch_size ,\n",
        "    num_workers = 2 #means make then in parallel and i've seen before an arg makes th workers use all cpu resources\n",
        ")\n",
        "\n",
        "\n",
        "# --- Prepare the testing data ---\n",
        "# 4. Do the same for the test set.\n",
        "X_test_tensor = torch.from_numpy(X_test).float()\n",
        "y_test_tensor = torch.from_numpy(y_test).long()\n",
        "test_dataset = TensorDataset(X_test_tensor , y_test_tensor)\n",
        "test_loader = DataLoader(\n",
        "    test_dataset ,\n",
        "    shuffle = False , #as no need for shuffeling the test dataset\n",
        "    num_workers = 2 ,\n",
        "    batch_size=batch_size\n",
        ")\n",
        "\n",
        "\n",
        "# Let's check a batch to see what the DataLoader gives us\n",
        "data_batch, labels_batch = next(iter(train_loader))\n",
        "print(f\"Data batch shape: {data_batch.shape}\")\n",
        "print(f\"Labels batch shape: {labels_batch.shape}\")"
      ]
    },
    {
      "cell_type": "markdown",
      "id": "be86ddfa",
      "metadata": {
        "id": "be86ddfa"
      },
      "source": [
        "### 6.2 Building the Model in PyTorch\n",
        "\n",
        "In PyTorch, models are created by creating a class that inherits from `nn.Module`. This is the direct equivalent of the `Module` class you built. Layers like `nn.Linear` are PyTorch's version of your `Layer` class, with weights and biases built-in.\n"
      ]
    },
    {
      "cell_type": "code",
      "execution_count": 25,
      "id": "fdaa946f",
      "metadata": {
        "colab": {
          "base_uri": "https://localhost:8080/"
        },
        "id": "fdaa946f",
        "outputId": "29fb2dbd-412f-4731-ee06-fec419a71a08"
      },
      "outputs": [
        {
          "output_type": "stream",
          "name": "stdout",
          "text": [
            "MLP_PyTorch(\n",
            "  (layer1): Linear(in_features=64, out_features=32, bias=True)\n",
            "  (activation): ReLU()\n",
            "  (layer2): Linear(in_features=32, out_features=10, bias=True)\n",
            ")\n"
          ]
        }
      ],
      "source": [
        "# TASK 6.2: Define the neural network architecture using nn.Module.\n",
        "\n",
        "class MLP_PyTorch(nn.Module):\n",
        "    def __init__(self):\n",
        "        super().__init__()\n",
        "        # Define the layers of the network. Our network has:\n",
        "        # 1. A linear layer from 64 inputs to 32 outputs.\n",
        "        # 2. A ReLU activation function.\n",
        "        # 3. A final linear layer from 32 inputs to 10 outputs (for the 10 digits).\n",
        "        # You can try changing the architecture, but this is a good starting point.\n",
        "        # TODO: Define the layers as class attributes (e.g., self.layer1 = nn.Linear(...))\n",
        "        self.layer1 = nn.Linear(64 , 32)\n",
        "        self.activation = nn.ReLU()\n",
        "        self.layer2 = nn.Linear(32 , 10) #as i have only ten classes like mnist dataset 0-9 digits\n",
        "\n",
        "    def forward(self, x):\n",
        "        # This function defines the forward pass, just like your __call__ method.\n",
        "        # TODO: Pass the input 'x' through the layers you defined in __init__.\n",
        "        x = self.layer1(x)\n",
        "        x = self.activation(x)\n",
        "        x = self.layer2(x) # sequential order for the arch of the model takes an 8*8 -> 64 feature flattened then goes to the act then 32 neuron then 10 output neuron\n",
        "        #and the crossentopy contains the act function softmax so i don't have to put it here\n",
        "        return x\n",
        "\n",
        "# Instantiate the model\n",
        "model = MLP_PyTorch()\n",
        "print(model)"
      ]
    },
    {
      "cell_type": "markdown",
      "id": "5ff1a4f4",
      "metadata": {
        "id": "5ff1a4f4"
      },
      "source": [
        "### 6.3 Defining the Loss and Optimizer\n",
        "\n",
        "PyTorch provides standard loss functions and optimizers. For this multi-class classification problem, `CrossEntropyLoss` is the best choice (it conveniently includes the Softmax layer for you). We'll use the Adam optimizer, which is a popular and effective choice."
      ]
    },
    {
      "cell_type": "code",
      "execution_count": 26,
      "id": "7061e669",
      "metadata": {
        "id": "7061e669"
      },
      "outputs": [],
      "source": [
        "# TASK 6.3: Instantiate the loss function and optimizer.\n",
        "\n",
        "# 1. The loss function for multi-class classification.\n",
        "criterion = nn.CrossEntropyLoss() #it contains the softmax\n",
        "\n",
        "# 2. The optimizer that will update our model's parameters.\n",
        "#    It needs to know which parameters to optimize (model.parameters()).\n",
        "learning_rate = 0.001\n",
        "optimizer = optim.AdamW(model.parameters() , lr=learning_rate)# TODO: Use optim.AdamW() and pass it the model's parameters and the learning rate."
      ]
    },
    {
      "cell_type": "markdown",
      "id": "07b85cab",
      "metadata": {
        "id": "07b85cab"
      },
      "source": [
        "### 6.4 The Training Loop in PyTorch\n",
        "\n",
        "The training loop in PyTorch follows a standard, clean pattern. Compare this to the loop you wrote from scratch!"
      ]
    },
    {
      "cell_type": "code",
      "execution_count": 27,
      "id": "7eaeb4e4",
      "metadata": {
        "colab": {
          "base_uri": "https://localhost:8080/"
        },
        "id": "7eaeb4e4",
        "outputId": "6699a412-7db2-422f-9356-b5a260e6a39d"
      },
      "outputs": [
        {
          "output_type": "stream",
          "name": "stdout",
          "text": [
            "Epoch 1/10, Loss: 2.2340\n",
            "Epoch 2/10, Loss: 1.9917\n",
            "Epoch 3/10, Loss: 1.6409\n",
            "Epoch 4/10, Loss: 1.2616\n",
            "Epoch 5/10, Loss: 0.9582\n",
            "Epoch 6/10, Loss: 0.7457\n",
            "Epoch 7/10, Loss: 0.6001\n",
            "Epoch 8/10, Loss: 0.5019\n",
            "Epoch 9/10, Loss: 0.4317\n",
            "Epoch 10/10, Loss: 0.3771\n",
            "Training finished!\n"
          ]
        }
      ],
      "source": [
        "# TASK 6.4: Complete the PyTorch training loop.\n",
        "\n",
        "n_epochs = 10\n",
        "\n",
        "for epoch in range(n_epochs):\n",
        "    epoch_loss = 0.0\n",
        "    for X_batch, y_batch in train_loader:\n",
        "        # The standard 5-step PyTorch training process:\n",
        "\n",
        "        # 1. Zero the gradients from the previous iteration.\n",
        "        optimizer.zero_grad() #this prevernts gradient accumlations\n",
        "\n",
        "        # 2. Perform the forward pass to get model predictions.\n",
        "        outputs = model(X_batch)\n",
        "\n",
        "        # 3. Calculate the loss.\n",
        "        loss = criterion(outputs , y_batch) #already defined above\n",
        "\n",
        "        # 4. Perform the backward pass to compute gradients.\n",
        "        loss.backward()\n",
        "\n",
        "        # 5. Update the model's weights.\n",
        "        optimizer.step() # i was thinking that we will make a for loop like we did before but after searching i found out this function\n",
        "\n",
        "        epoch_loss += loss.item()\n",
        "\n",
        "    print(f\"Epoch {epoch + 1}/{n_epochs}, Loss: {epoch_loss/len(train_loader):.4f}\")\n",
        "\n",
        "print(\"Training finished!\")"
      ]
    },
    {
      "cell_type": "markdown",
      "id": "0f4b51b1",
      "metadata": {
        "id": "0f4b51b1"
      },
      "source": [
        "### 6.5 Evaluating the PyTorch Model\n",
        "\n",
        "Finally, let's see how our new model performs on the test set. The evaluation loop is similar, but we tell PyTorch not to calculate gradients to save time and memory.\n",
        "\n",
        "*(This code is provided for you)*"
      ]
    },
    {
      "cell_type": "code",
      "execution_count": 28,
      "id": "9c196aa1",
      "metadata": {
        "colab": {
          "base_uri": "https://localhost:8080/"
        },
        "id": "9c196aa1",
        "outputId": "a5ffec05-67da-469b-bc59-d9b52bce833d"
      },
      "outputs": [
        {
          "output_type": "stream",
          "name": "stdout",
          "text": [
            "\n",
            "Accuracy of the network on the test images: 91.67 %\n"
          ]
        }
      ],
      "source": [
        "# Set the model to evaluation mode\n",
        "model.eval()\n",
        "\n",
        "correct = 0\n",
        "total = 0\n",
        "\n",
        "# Tell PyTorch not to track gradients during evaluation\n",
        "with torch.no_grad():\n",
        "    for X_batch, y_batch in test_loader:\n",
        "        # Get predictions\n",
        "        outputs = model(X_batch)\n",
        "\n",
        "        # The class with the highest value is our prediction\n",
        "        _, predicted = torch.max(outputs.data, 1)\n",
        "\n",
        "        total += y_batch.size(0)\n",
        "        correct += (predicted == y_batch).sum().item()\n",
        "\n",
        "accuracy = 100 * correct / total\n",
        "print(f'\\nAccuracy of the network on the test images: {accuracy:.2f} %')"
      ]
    },
    {
      "cell_type": "markdown",
      "id": "a336ed9d",
      "metadata": {
        "id": "a336ed9d"
      },
      "source": [
        "## Bonus Challenges & Further Exploration\n",
        "\n",
        "Congratulations on building and training a neural network from scratch! If you're ready for more, here are some challenges to improve your model and deepen your understanding of deep learning concepts.\n",
        "\n",
        "For each of these, you will need to modify your existing classes (`Value`, `Neuron`, `MLP`) or the training loop.\n",
        "\n",
        "### 1. Implement a Better Loss Function: Cross-Entropy\n",
        "\n",
        "For classification tasks, Mean Squared Error (MSE) isn't ideal. The standard and more effective loss function is **Cross-Entropy Loss**.\n",
        "\n",
        "*   **Why?** It's designed to measure the difference between two probability distributions (your model's predictions and the one-hot encoded true labels). It generally leads to faster and more stable training for classifiers.\n",
        "*   **Your Task:**\n",
        "    1.  **Softmax Layer:** Before calculating the loss, the raw outputs of your network (called \"logits\") need to be converted into probabilities. You'll need to implement a **Softmax function** at the end of your network.\n",
        "        *   *Hint:* The formula is `softmax(z_i) = exp(z_i) / sum(exp(z_j) for all j)`. You already have `exp()` in your `Value` class!\n",
        "    2.  **Logarithm in `Value`:** The Cross-Entropy formula involves the natural logarithm. Add a `.log()` method to your `Value` class. Don't forget to implement its `_backward` function!\n",
        "    3.  **Cross-Entropy Formula:** Implement the loss function.\n",
        "        *   *Hint:* The formula is `Loss = -sum(y_true * log(y_pred))`, where `y_true` is the true label (e.g., 1) and `y_pred` is the predicted probability from the Softmax layer.\n",
        "    4.  Update your training loop to use the new loss. You should see a significant improvement in training stability and final accuracy!\n",
        "\n",
        "### 2. Use a Better Activation Function: ReLU\n",
        "\n",
        "`tanh` and `sigmoid` can suffer from the \"vanishing gradients\" problem in deeper networks. The most common activation function used today is the **Rectified Linear Unit (ReLU)**.\n",
        "\n",
        "*   **Why?** It's computationally very simple and helps mitigate vanishing gradients, often allowing networks to train faster.\n",
        "*   **Your Task:**\n",
        "    1.  Add a `.relu()` method to the `Value` class.\n",
        "        *   *Hint:* The formula is `relu(x) = max(0, x)`.\n",
        "        *   *Hint for the gradient:* The derivative is `0` if `x < 0` and `1` if `x > 0`. In your `_backward` function, you can simply check if the original data was positive to decide whether to propagate the gradient.\n",
        "    2.  Modify your `Neuron` class to use `relu()` for the hidden layers. It's common to still use an appropriate function like Softmax for the final output layer in a classifier.\n",
        "\n",
        "### 3. Implement Smarter Weight Initialization\n",
        "\n",
        "Initializing weights from `random.uniform(-1, 1)` can be problematic. If weights are too large or too small, training can become unstable. **Principled initialization** methods solve this.\n",
        "\n",
        "*   **Why?** Methods like Kaiming initialization set the scale of the initial weights based on the number of input and output neurons in a layer, helping gradients flow more smoothly.\n",
        "*   **Your Task:**\n",
        "    *   Modify the `__init__` method of your `Neuron` or `Layer` class.\n",
        "    *   Instead of a fixed range, calculate the initialization range dynamically.\n",
        "\n",
        "### 4. Improve the Optimizer: Add Momentum\n",
        "\n",
        "Standard gradient descent can be slow and get stuck. **Momentum** is a technique that helps the optimizer accelerate in the right direction and overcome small local minima.\n",
        "\n",
        "*   **Why?** It acts like a ball rolling down a hill, accumulating momentum and moving faster than an object that just considers the slope at its current position.\n",
        "*   **Your Task:**\n",
        "    1.  This change happens in your training loop's update step.\n",
        "    2.  For each parameter `p` in your network, you need to keep track of its \"velocity,\" which is a moving average of its past gradients.\n",
        "    3.  *Hint:* Before the training loop, create a \"velocity\" dictionary or list that corresponds to your model's parameters, initialized to all zeros.\n",
        "    4.  The update rule becomes a two-step process:\n",
        "        *   `velocity = beta * velocity + p.grad` (where `beta` is a hyperparameter, e.g., 0.9)\n",
        "        *   `p.data -= learning_rate * velocity`\n",
        "\n",
        "### 5. Add Regularization to Prevent Overfitting: Dropout\n",
        "\n",
        "If a network is too powerful, it can \"memorize\" the training data and fail to generalize to new, unseen data (overfitting). **Dropout** is a simple yet powerful technique to combat this.\n",
        "\n",
        "*   **Why?** It forces the network to learn more robust features by preventing neurons from co-adapting too much.\n",
        "*   **Your Task:**\n",
        "    1.  Modify the `__call__` method of your `Layer` class.\n",
        "    2.  During training, for each neuron's output in the layer, randomly set it to `0` with some probability `p` (e.g., `p=0.2`).\n",
        "    3.  **Crucial Step (Inverted Dropout):** To ensure the overall magnitude of the layer's output remains the same, you must scale the outputs of the neurons that were *not* dropped out by `1 / (1 - p)`.\n",
        "    4.  Add a mechanism to turn dropout **OFF** during evaluation/testing. The model should use all its neurons when making final predictions. You could pass a `training=True` flag to the `__call__` method.\n",
        "\n"
      ]
    }
  ],
  "metadata": {
    "kernelspec": {
      "display_name": "Python 3",
      "name": "python3"
    },
    "language_info": {
      "codemirror_mode": {
        "name": "ipython",
        "version": 3
      },
      "file_extension": ".py",
      "mimetype": "text/x-python",
      "name": "python",
      "nbconvert_exporter": "python",
      "pygments_lexer": "ipython3",
      "version": "3.12.6"
    },
    "colab": {
      "provenance": [],
      "gpuType": "T4",
      "include_colab_link": true
    },
    "accelerator": "GPU"
  },
  "nbformat": 4,
  "nbformat_minor": 5
}